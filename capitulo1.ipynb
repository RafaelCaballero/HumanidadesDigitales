{
  "nbformat": 4,
  "nbformat_minor": 0,
  "metadata": {
    "colab": {
      "provenance": []
    },
    "kernelspec": {
      "name": "python3",
      "display_name": "Python 3"
    },
    "language_info": {
      "name": "python"
    }
  },
  "cells": [
    {
      "cell_type": "markdown",
      "source": [
        "<table>\n",
        "    <tr>\n",
        "      <td>PYTHON PARA\n",
        "HUMANIDADES DIGITALES - \n",
        "Introducción al análisis y\n",
        "procesamiento de textos con Python\n",
        "      </td>\n",
        "      <td>Ediciones RC\n",
        "      </td>\n",
        "     </tr>\n",
        "     <tr>\n",
        "     <td>Rafael Caballero Roldán, Enrique Martín Martín y Adrián Riesco Rodríguez</td>\n",
        "     </tr>\n",
        "</table>\n",
        "\n",
        "# Capítulo 1: El lenguaje de programación Python\n",
        "\n",
        "## Índice\n",
        "[Tipos simples en Python](#Tipos)<br>\n",
        "&nbsp;&nbsp;&nbsp;&nbsp;  [Tipos numéricos](#Numéricos)<br>\n",
        "&nbsp;&nbsp;&nbsp;&nbsp;  [Tipo Lógico](#Lógico)<br>\n",
        "\n",
        "[Variables](#Variables)<br>\n",
        "[Secuencias](#Secuencias)<br>\n",
        "&nbsp;&nbsp;&nbsp;&nbsp;  [Concatenación](#Concatenación)<br>\n",
        "&nbsp;&nbsp;&nbsp;&nbsp;  [Acceso por posición](#Acceso)<br>\n",
        "&nbsp;&nbsp;&nbsp;&nbsp; [Otras operaciones para secuencias](#Otras)<br>\n",
        "&nbsp;&nbsp;&nbsp;&nbsp; [Operaciones específicas para strings](#Strings)<br>\n",
        "&nbsp;&nbsp;&nbsp;&nbsp; [Operaciones específicas para listas](#Listas)<br>\n",
        "\n",
        "[Instrucciones condicionales](#if)<br>\n",
        "\n",
        "[Iterando](#for)<br>\n",
        "\n",
        "[Listas Intensionales](#comprehensions)<br>\n",
        "\n",
        "[Diccionarios](#diccionarios)<br>\n",
        "\n",
        "[Funciones de usuario](#funciones)<br>\n",
        "\n",
        "[Bibliotecas](#bibliotecas)<br>"
      ],
      "metadata": {
        "id": "bLkRyW6XCcRH"
      }
    },
    {
      "cell_type": "markdown",
      "source": [
        "<a name=\"Tipos\"></a>\n",
        "### Tipos simples en Python\n",
        "\n",
        "<a name=\"Numéricos\"></a>\n",
        "#### &nbsp;&nbsp;&nbsp;&nbsp;  Tipos numéricos"
      ],
      "metadata": {
        "id": "umgSdQMHGC0O"
      }
    },
    {
      "cell_type": "code",
      "source": [
        "# Ejemplo 1.3.1\n",
        "print( 3+4, 5.1*2.3, 4/3, 5 % 3 )"
      ],
      "metadata": {
        "colab": {
          "base_uri": "https://localhost:8080/"
        },
        "id": "B8DutR8tFNsW",
        "outputId": "918d039a-6ff7-460a-8932-d0929c96eb9a"
      },
      "execution_count": 1,
      "outputs": [
        {
          "output_type": "stream",
          "name": "stdout",
          "text": [
            "7 11.729999999999999 1.3333333333333333 2\n"
          ]
        }
      ]
    },
    {
      "cell_type": "markdown",
      "source": [
        "<a name=\"Lógico\"></a>\n",
        "#### &nbsp;&nbsp;&nbsp;&nbsp;  Tipo Lógico"
      ],
      "metadata": {
        "id": "93-a7Q60GqHm"
      }
    },
    {
      "cell_type": "code",
      "source": [
        "# Ejemplo 1.3.2\n",
        "print( 3<4, 7!=7 )"
      ],
      "metadata": {
        "colab": {
          "base_uri": "https://localhost:8080/"
        },
        "id": "EaD280CjIesW",
        "outputId": "edd97df9-ca47-4d68-ac50-398df47e96f3"
      },
      "execution_count": 2,
      "outputs": [
        {
          "output_type": "stream",
          "name": "stdout",
          "text": [
            "True False\n"
          ]
        }
      ]
    },
    {
      "cell_type": "code",
      "source": [
        "# Ejemplo 1.3.3\n",
        "print( 3<4 and 4>4, 3<4 or 4>4, not (3>4) )"
      ],
      "metadata": {
        "colab": {
          "base_uri": "https://localhost:8080/"
        },
        "id": "VruIXtcHJeZe",
        "outputId": "8d959a03-7856-4d6b-a8f6-2eb7832b7dc3"
      },
      "execution_count": 3,
      "outputs": [
        {
          "output_type": "stream",
          "name": "stdout",
          "text": [
            "False True True\n"
          ]
        }
      ]
    },
    {
      "cell_type": "markdown",
      "source": [
        "<a name=\"Variables\"></a>\n",
        "### Variables"
      ],
      "metadata": {
        "id": "rsFd25AZLA3t"
      }
    },
    {
      "cell_type": "code",
      "source": [
        "# Ejemplo 1.4.1\n",
        "días=7\n",
        "print(días)"
      ],
      "metadata": {
        "colab": {
          "base_uri": "https://localhost:8080/"
        },
        "id": "qXh1yPUnLFNl",
        "outputId": "74edf3bf-0b82-4b6e-f362-0f42c089eb8b"
      },
      "execution_count": 4,
      "outputs": [
        {
          "output_type": "stream",
          "name": "stdout",
          "text": [
            "7\n"
          ]
        }
      ]
    },
    {
      "cell_type": "code",
      "source": [
        "# Ejemplo 1.4.2\n",
        "días=7\n",
        "print(días)\n",
        "horas = días *  24\n",
        "print(horas)\n"
      ],
      "metadata": {
        "colab": {
          "base_uri": "https://localhost:8080/"
        },
        "id": "BwGYQcd8Niuk",
        "outputId": "e0a5006b-8b7f-48d3-dc75-84496b4d2ca0"
      },
      "execution_count": 5,
      "outputs": [
        {
          "output_type": "stream",
          "name": "stdout",
          "text": [
            "7\n",
            "168\n"
          ]
        }
      ]
    },
    {
      "cell_type": "code",
      "source": [
        "# Ejemplo 1.4.3\n",
        "días=7\n",
        "print(días)\n",
        "días = días + 1\n",
        "print(días)"
      ],
      "metadata": {
        "colab": {
          "base_uri": "https://localhost:8080/"
        },
        "id": "liNL5sZlOCjd",
        "outputId": "0667b0ba-4e78-4e2b-c3cd-e9316d0f2119"
      },
      "execution_count": 6,
      "outputs": [
        {
          "output_type": "stream",
          "name": "stdout",
          "text": [
            "7\n",
            "8\n"
          ]
        }
      ]
    },
    {
      "cell_type": "markdown",
      "source": [
        "<a name=\"Secuencias\"></a>\n",
        "### Secuencias\n",
        "\n",
        "<a name=\"Concatenación\"></a>\n",
        "#### &nbsp;&nbsp;&nbsp;&nbsp;  Concatenación"
      ],
      "metadata": {
        "id": "d2Ky7_4HO1eU"
      }
    },
    {
      "cell_type": "code",
      "source": [
        "# Ejemplo 1.5.1\n",
        "print(\"Hola \" + \"Python\")\n",
        "print([30,40,50] + [10,20])\n"
      ],
      "metadata": {
        "colab": {
          "base_uri": "https://localhost:8080/"
        },
        "id": "GxYu3gn4OG6l",
        "outputId": "4f195421-8917-4465-cfe7-a2c5ff1ab0ec"
      },
      "execution_count": 7,
      "outputs": [
        {
          "output_type": "stream",
          "name": "stdout",
          "text": [
            "Hola Python\n",
            "[30, 40, 50, 10, 20]\n"
          ]
        }
      ]
    },
    {
      "cell_type": "code",
      "source": [
        "# Ejemplo 1.5.2\n",
        "print(\"-.\" * 5)"
      ],
      "metadata": {
        "colab": {
          "base_uri": "https://localhost:8080/"
        },
        "id": "Np869q9bR0ws",
        "outputId": "a5944a9b-987f-4a5c-b9c8-4efebf550755"
      },
      "execution_count": 8,
      "outputs": [
        {
          "output_type": "stream",
          "name": "stdout",
          "text": [
            "-.-.-.-.-.\n"
          ]
        }
      ]
    },
    {
      "cell_type": "markdown",
      "source": [
        "<a name=\"Acceso\"></a>\n",
        "#### &nbsp;&nbsp;&nbsp;&nbsp;  Acceso por posición"
      ],
      "metadata": {
        "id": "tAEkVyyFRdTu"
      }
    },
    {
      "cell_type": "code",
      "source": [
        "# Ejemplo 1.5.3\n",
        "\n",
        "#         0  1  2  3\n",
        "lista = [50,60,80,90]\n",
        "print(lista[2])"
      ],
      "metadata": {
        "colab": {
          "base_uri": "https://localhost:8080/"
        },
        "id": "9zcBMv9dRjGV",
        "outputId": "9077cc8e-ff6e-45af-9062-dad84ce7fc33"
      },
      "execution_count": 9,
      "outputs": [
        {
          "output_type": "stream",
          "name": "stdout",
          "text": [
            "80\n"
          ]
        }
      ]
    },
    {
      "cell_type": "code",
      "source": [
        "# Ejemplo 1.5.4\n",
        "\n",
        "tupla = (10,20,30,40,50,60,70,80)\n",
        "print(tupla[-1])  # el último\n",
        "print(tupla[2:5]) # elementos en pos. 2, 3 y 4\n",
        "print(tupla[1:])  # todos menos el primero\n",
        "print(tupla[:-1]) # todos salvo el último"
      ],
      "metadata": {
        "colab": {
          "base_uri": "https://localhost:8080/"
        },
        "id": "um2ox8fRT2Wc",
        "outputId": "b924a747-8767-4795-f29f-1d3001e5212a"
      },
      "execution_count": 10,
      "outputs": [
        {
          "output_type": "stream",
          "name": "stdout",
          "text": [
            "80\n",
            "(30, 40, 50)\n",
            "(20, 30, 40, 50, 60, 70, 80)\n",
            "(10, 20, 30, 40, 50, 60, 70)\n"
          ]
        }
      ]
    },
    {
      "cell_type": "markdown",
      "source": [
        "<a name=\"Otras\"></a>\n",
        "#### &nbsp;&nbsp;&nbsp;&nbsp;  Otras operaciones para secuencias"
      ],
      "metadata": {
        "id": "1AESQQ-9UBGM"
      }
    },
    {
      "cell_type": "code",
      "source": [
        "# Ejemplo 1.5.5.\n",
        "s = \"abracadabra\"\n",
        "print(min(s),max(s))\n",
        "print(\"z\" in s, \"raca\" in s)\n",
        "print(s.count(\"a\"), s.index(\"raca\"))"
      ],
      "metadata": {
        "colab": {
          "base_uri": "https://localhost:8080/"
        },
        "id": "ugSmQ_hWU0_c",
        "outputId": "03968dc4-5414-47ba-f222-6613ba2ebe7f"
      },
      "execution_count": 11,
      "outputs": [
        {
          "output_type": "stream",
          "name": "stdout",
          "text": [
            "a r\n",
            "False True\n",
            "5 2\n"
          ]
        }
      ]
    },
    {
      "cell_type": "markdown",
      "source": [
        "<a name=\"Strings\"></a>\n",
        "#### &nbsp;&nbsp;&nbsp;&nbsp; Operaciones específicas para strings"
      ],
      "metadata": {
        "id": "iNYrkMyAVhJk"
      }
    },
    {
      "cell_type": "code",
      "source": [
        "# Ejemplo 1.5.6\n",
        "print(\"Me dijo: 'a ver si nos vemos pronto'\")"
      ],
      "metadata": {
        "colab": {
          "base_uri": "https://localhost:8080/"
        },
        "id": "70DXRJ8pVqz7",
        "outputId": "472f95c6-b1e9-42fc-979a-46c3d241aaf5"
      },
      "execution_count": 12,
      "outputs": [
        {
          "output_type": "stream",
          "name": "stdout",
          "text": [
            "Me dijo: 'a ver si nos vemos pronto'\n"
          ]
        }
      ]
    },
    {
      "cell_type": "code",
      "source": [
        "# Ejemplo 1.5.7\n",
        "a = \"\"\"Mi infancia son recuerdos de un patio de Sevilla,\n",
        "y un huerto claro donde madura el limonero;\n",
        "mi juventud, veinte años en tierras de Castilla;\n",
        "mi historia, algunos casos que recordar no quiero.\"\"\"\n",
        "print(a)"
      ],
      "metadata": {
        "colab": {
          "base_uri": "https://localhost:8080/"
        },
        "id": "uAlXizyYeiDb",
        "outputId": "06a02e9c-bba0-40f1-f8d1-34015e74f051"
      },
      "execution_count": 13,
      "outputs": [
        {
          "output_type": "stream",
          "name": "stdout",
          "text": [
            "Mi infancia son recuerdos de un patio de Sevilla,\n",
            "y un huerto claro donde madura el limonero;\n",
            "mi juventud, veinte años en tierras de Castilla;\n",
            "mi historia, algunos casos que recordar no quiero.\n"
          ]
        }
      ]
    },
    {
      "cell_type": "code",
      "source": [
        "# Ejemplo 1.5.8\n",
        "s = \"el ser que puede ser comprendido es lenguaje (Gadamer)\"\n",
        "print(s.startswith(\"el\"),s.endswith(\"el\"))\n"
      ],
      "metadata": {
        "colab": {
          "base_uri": "https://localhost:8080/"
        },
        "id": "SqEw-UbDe6Wy",
        "outputId": "b8a6cc75-5a72-4815-9094-6abef907b8c0"
      },
      "execution_count": 14,
      "outputs": [
        {
          "output_type": "stream",
          "name": "stdout",
          "text": [
            "True False\n"
          ]
        }
      ]
    },
    {
      "cell_type": "code",
      "source": [
        "# Ejemplo 1.5.9\n",
        "p1 = s.find(\"ser\")\n",
        "p2 = s.find(\"ser\", p1+1)\n",
        "p3 = s.find(\"ser\", p2+1)\n",
        "pf = s.rfind(\"ser\")\n",
        "print(p1, p2, p3, pf)"
      ],
      "metadata": {
        "colab": {
          "base_uri": "https://localhost:8080/"
        },
        "id": "CTmcdhpRfQRC",
        "outputId": "ff5ee7e3-ab29-43ff-a1a0-df907f8e8553"
      },
      "execution_count": 15,
      "outputs": [
        {
          "output_type": "stream",
          "name": "stdout",
          "text": [
            "3 17 -1 17\n"
          ]
        }
      ]
    },
    {
      "cell_type": "code",
      "source": [
        "# Ejemplo 1.5.10\n",
        "s1 = \"Te lo había dicho\"\n",
        "s2 = \"te lo había dicho\"\n",
        "\n",
        "iguales1 = s1==s2\n",
        "iguales2 = s1.lower()==s2.lower()\n",
        "print(iguales1,iguales2)\n"
      ],
      "metadata": {
        "id": "YwvDzu_qiwka"
      },
      "execution_count": null,
      "outputs": []
    },
    {
      "cell_type": "code",
      "source": [
        "# Ejemplo 1.5.11\n",
        "s = \"¡¡¡bien!!!\"\n",
        "print(s.lstrip(\"¡\").rstrip(\"!\"))"
      ],
      "metadata": {
        "colab": {
          "base_uri": "https://localhost:8080/"
        },
        "id": "MeIeQliojSAC",
        "outputId": "0220eb8b-d2a7-4249-85e7-7398e57370bd"
      },
      "execution_count": 16,
      "outputs": [
        {
          "output_type": "stream",
          "name": "stdout",
          "text": [
            "bien\n"
          ]
        }
      ]
    },
    {
      "cell_type": "code",
      "source": [
        "# Ejemplo 1.5.12\n",
        "s1 = \"compra tomates, pepinos, calabacín, pimiento verde y ajo\"\n",
        "s2 = s1.replace(\",\", \" \")\n",
        "print(s2)"
      ],
      "metadata": {
        "colab": {
          "base_uri": "https://localhost:8080/"
        },
        "id": "htObtspJjkcK",
        "outputId": "e3d2e912-6c53-4c0d-c367-3fc637651b29"
      },
      "execution_count": 17,
      "outputs": [
        {
          "output_type": "stream",
          "name": "stdout",
          "text": [
            "compra tomates  pepinos  calabacín  pimiento verde y ajo\n"
          ]
        }
      ]
    },
    {
      "cell_type": "code",
      "source": [
        "# Ejemplo 1.5.13\n",
        "l = [\"era\",\"de\", \"noche\",\"pero\",\"llovía\"]\n",
        "print(\" \".join(l))\n"
      ],
      "metadata": {
        "colab": {
          "base_uri": "https://localhost:8080/"
        },
        "id": "a0oSCKi5j-mC",
        "outputId": "6ece570b-af58-4db1-8e55-8a662192e51d"
      },
      "execution_count": 18,
      "outputs": [
        {
          "output_type": "stream",
          "name": "stdout",
          "text": [
            "era de noche pero llovía\n"
          ]
        }
      ]
    },
    {
      "cell_type": "markdown",
      "source": [
        "<a name=\"Listas\"></a>\n",
        "#### &nbsp;&nbsp;&nbsp;&nbsp; Operaciones específicas para listas"
      ],
      "metadata": {
        "id": "82wNjXHNkIoq"
      }
    },
    {
      "cell_type": "code",
      "source": [
        "# Ejemplo 1.5.14\n",
        "lista = [50,60,80,90]\n",
        "lista[1] = 70\n",
        "print(lista)\n"
      ],
      "metadata": {
        "colab": {
          "base_uri": "https://localhost:8080/"
        },
        "id": "RzEYlwFekPaK",
        "outputId": "e659cad5-d897-4bce-9e9f-68299961f945"
      },
      "execution_count": 19,
      "outputs": [
        {
          "output_type": "stream",
          "name": "stdout",
          "text": [
            "[50, 70, 80, 90]\n"
          ]
        }
      ]
    },
    {
      "cell_type": "code",
      "source": [
        "# Ejemplo 1.5.15\n",
        "herramientas = ['tornillos','tuercas','arandelas']\n",
        "herramientas.append('clavos')\n",
        "print(herramientas)\n"
      ],
      "metadata": {
        "colab": {
          "base_uri": "https://localhost:8080/"
        },
        "id": "9Sd9CsZrk2Y6",
        "outputId": "2593d527-00f0-484f-8e6c-52134ae9c72a"
      },
      "execution_count": 20,
      "outputs": [
        {
          "output_type": "stream",
          "name": "stdout",
          "text": [
            "['tornillos', 'tuercas', 'arandelas', 'clavos']\n"
          ]
        }
      ]
    },
    {
      "cell_type": "code",
      "source": [
        "# Ejemplo 1.5.16\n",
        "caja  = [['tornillos','tuercas','arandelas'],['martillo','sierra']]\n",
        "caja[0].append('clavos')\n",
        "print(caja)"
      ],
      "metadata": {
        "colab": {
          "base_uri": "https://localhost:8080/"
        },
        "id": "eVbOacoVlKLa",
        "outputId": "59509c15-5e0b-41c0-bbba-9a3ff0a18ea6"
      },
      "execution_count": 21,
      "outputs": [
        {
          "output_type": "stream",
          "name": "stdout",
          "text": [
            "[['tornillos', 'tuercas', 'arandelas', 'clavos'], ['martillo', 'sierra']]\n"
          ]
        }
      ]
    },
    {
      "cell_type": "markdown",
      "source": [
        "<a name=\"if\"></a>\n",
        "### Instrucciones condicionales"
      ],
      "metadata": {
        "id": "9zkYYjGrkmpS"
      }
    },
    {
      "cell_type": "code",
      "source": [
        "# Ejemplo 1.6.1\n",
        "s = \"En un lugar de la Mancha\"\n",
        "print(\"Comprobemos sí la variable 's' comienza por 'en'\")\n",
        "if s.lower().startswith(\"en\"):\n",
        "    print(\"¡Comienza por 'en'!\")\n",
        "print(\"Y ya está\")\n"
      ],
      "metadata": {
        "colab": {
          "base_uri": "https://localhost:8080/"
        },
        "id": "E-lBznCXkq3a",
        "outputId": "f0f4a97e-4486-487e-8bc6-53a7bba0f3db"
      },
      "execution_count": 22,
      "outputs": [
        {
          "output_type": "stream",
          "name": "stdout",
          "text": [
            "Comprobemos sí la variable 's' comienza por 'en'\n",
            "¡Comienza por 'en'!\n",
            "Y ya está\n"
          ]
        }
      ]
    },
    {
      "cell_type": "code",
      "source": [
        "# Ejemplo 1.6.2\n",
        "s = \"Había una vez\"\n",
        "print(\"Comprobemos sí la variable 's' comienza por 'en'\")\n",
        "if s.lower().startswith(\"en\"):\n",
        "    print(f\"'{s}' comienza por 'en'\")\n",
        "else:\n",
        "    print(f\"'{s}' no comienza por 'en'\")\n",
        "print(\"Y ya está\")"
      ],
      "metadata": {
        "id": "D4vcHOyBm4nx"
      },
      "execution_count": null,
      "outputs": []
    },
    {
      "cell_type": "code",
      "source": [
        "# Ejemplo 1.6.3\n",
        "s = \"Había una vez\"\n",
        "print(\"Comprobemos sí la variable 's' comienza por 'en'\")\n",
        "m = f\"'{s}' comienza por 'en'\" if s.lower().startswith(\"en\") else f\"'{s}' no comienza por 'en'\"\n",
        "print(m)\n",
        "print(\"Y ya está\")\n"
      ],
      "metadata": {
        "colab": {
          "base_uri": "https://localhost:8080/"
        },
        "id": "RXbPbZVHoLvq",
        "outputId": "e6a2da06-5607-4875-99ab-f5ca2df4970f"
      },
      "execution_count": 23,
      "outputs": [
        {
          "output_type": "stream",
          "name": "stdout",
          "text": [
            "Comprobemos sí la variable 's' comienza por 'en'\n",
            "'Había una vez' no comienza por 'en'\n",
            "Y ya está\n"
          ]
        }
      ]
    },
    {
      "cell_type": "markdown",
      "source": [
        "<a name=\"for\"></a>\n",
        "### Iterando\n",
        "\n"
      ],
      "metadata": {
        "id": "vaDeqa7snHk6"
      }
    },
    {
      "cell_type": "code",
      "source": [
        "# Ejemplo 1.7.1\n",
        "for h in ['tornillos','tuercas','arandelas']:\n",
        "    print(h)\n"
      ],
      "metadata": {
        "colab": {
          "base_uri": "https://localhost:8080/"
        },
        "id": "r6LmJNVTnCk5",
        "outputId": "6a226ae9-c3a3-4de1-8f61-9d3968e027b2"
      },
      "execution_count": 24,
      "outputs": [
        {
          "output_type": "stream",
          "name": "stdout",
          "text": [
            "tornillos\n",
            "tuercas\n",
            "arandelas\n"
          ]
        }
      ]
    },
    {
      "cell_type": "code",
      "source": [
        "# Ejemplo 1.7.2\n",
        "for i in range(11):\n",
        "    if i % 2 == 0: # si el resto al dividir entre 2 es 0 es  par\n",
        "        print(i)"
      ],
      "metadata": {
        "colab": {
          "base_uri": "https://localhost:8080/"
        },
        "id": "KptW2bP-o2G5",
        "outputId": "affb30d0-fec6-4082-92e5-c757382c4017"
      },
      "execution_count": 25,
      "outputs": [
        {
          "output_type": "stream",
          "name": "stdout",
          "text": [
            "0\n",
            "2\n",
            "4\n",
            "6\n",
            "8\n",
            "10\n"
          ]
        }
      ]
    },
    {
      "cell_type": "code",
      "source": [
        "# Ejemplo 1.7.3\n",
        "pares = []\n",
        "for i in range(100):\n",
        "    if i % 2 == 0:\n",
        "        pares.append(i)\n",
        "print(pares)\n"
      ],
      "metadata": {
        "colab": {
          "base_uri": "https://localhost:8080/"
        },
        "id": "D5D5OCxYpcbi",
        "outputId": "a0b39dbf-fb35-4469-f1f6-75b18aa5b14d"
      },
      "execution_count": 26,
      "outputs": [
        {
          "output_type": "stream",
          "name": "stdout",
          "text": [
            "[0, 2, 4, 6, 8, 10, 12, 14, 16, 18, 20, 22, 24, 26, 28, 30, 32, 34, 36, 38, 40, 42, 44, 46, 48, 50, 52, 54, 56, 58, 60, 62, 64, 66, 68, 70, 72, 74, 76, 78, 80, 82, 84, 86, 88, 90, 92, 94, 96, 98]\n"
          ]
        }
      ]
    },
    {
      "cell_type": "code",
      "source": [
        "# Ejemplo 1.7.4\n",
        "for i in range(len(pares)):\n",
        "    if pares[i] % 3 == 0:\n",
        "        print(pares[i])\n"
      ],
      "metadata": {
        "colab": {
          "base_uri": "https://localhost:8080/"
        },
        "id": "L1oJGvJ-p8xh",
        "outputId": "86d82cad-373d-4206-ee14-d5052bb8d035"
      },
      "execution_count": 27,
      "outputs": [
        {
          "output_type": "stream",
          "name": "stdout",
          "text": [
            "0\n",
            "6\n",
            "12\n",
            "18\n",
            "24\n",
            "30\n",
            "36\n",
            "42\n",
            "48\n",
            "54\n",
            "60\n",
            "66\n",
            "72\n",
            "78\n",
            "84\n",
            "90\n",
            "96\n"
          ]
        }
      ]
    },
    {
      "cell_type": "markdown",
      "source": [
        "<a name=\"comprehensions\"></a>\n",
        "### Listas intensionales\n"
      ],
      "metadata": {
        "id": "jBx6nFpqnn96"
      }
    },
    {
      "cell_type": "code",
      "source": [
        "# Ejemplo 1.8.1\n",
        "pares = [ i for i in range(100)   if i % 2 == 0]\n",
        "print(pares)\n"
      ],
      "metadata": {
        "colab": {
          "base_uri": "https://localhost:8080/"
        },
        "id": "C7-3vhybnrt6",
        "outputId": "7a89cee5-7464-4c92-f334-3ae9ab94fbd7"
      },
      "execution_count": 29,
      "outputs": [
        {
          "output_type": "stream",
          "name": "stdout",
          "text": [
            "[0, 2, 4, 6, 8, 10, 12, 14, 16, 18, 20, 22, 24, 26, 28, 30, 32, 34, 36, 38, 40, 42, 44, 46, 48, 50, 52, 54, 56, 58, 60, 62, 64, 66, 68, 70, 72, 74, 76, 78, 80, 82, 84, 86, 88, 90, 92, 94, 96, 98]\n"
          ]
        }
      ]
    },
    {
      "cell_type": "code",
      "source": [
        "# Ejemplo 1.8.2\n",
        "palabra = [\"Había\", \"una\", \"vez\", \"una\", \"princesa\",\n",
        "                 \"que\", \"estaba\", \"triste\"]\n",
        "en_a = [p for p in palabra if p.endswith(\"a\")]\n",
        "print(en_a)\n"
      ],
      "metadata": {
        "colab": {
          "base_uri": "https://localhost:8080/"
        },
        "id": "uUzt1YZqqj6J",
        "outputId": "cc3af72c-3d4c-4d6f-fa85-0565276f02e7"
      },
      "execution_count": 28,
      "outputs": [
        {
          "output_type": "stream",
          "name": "stdout",
          "text": [
            "['Había', 'una', 'una', 'princesa', 'estaba']\n"
          ]
        }
      ]
    },
    {
      "cell_type": "code",
      "source": [
        "# Ejemplo 1.8.3\n",
        "long_a = [ len(p) for p in palabra if p.endswith(\"a\")]\n",
        "print(long_a)"
      ],
      "metadata": {
        "id": "0pevT0oVrDQB"
      },
      "execution_count": null,
      "outputs": []
    },
    {
      "cell_type": "code",
      "source": [
        "# Ejemplo 1.8.4\n",
        "letras = [ letra for letra in \"abracadabra\"]\n",
        "print(letras)\n"
      ],
      "metadata": {
        "id": "n9kwDMTSra75"
      },
      "execution_count": null,
      "outputs": []
    },
    {
      "cell_type": "markdown",
      "source": [
        "<a name=\"diccionarios\"></a>\n",
        "### Diccionarios\n"
      ],
      "metadata": {
        "id": "s3mN3sdKnr9i"
      }
    },
    {
      "cell_type": "code",
      "source": [
        "# Ejemplo 1.9.1\n",
        "d0 = {}\n",
        "d1 = dict()\n",
        "print(type(d0), type(d1))\n"
      ],
      "metadata": {
        "colab": {
          "base_uri": "https://localhost:8080/"
        },
        "id": "PuQzDtBgnwFj",
        "outputId": "b1b32105-b901-4424-8701-8eb71a7271b0"
      },
      "execution_count": 30,
      "outputs": [
        {
          "output_type": "stream",
          "name": "stdout",
          "text": [
            "<class 'dict'> <class 'dict'>\n"
          ]
        }
      ]
    },
    {
      "cell_type": "code",
      "source": [
        "# Ejemplo 1.9.2\n",
        "d0['nombre'] = 'bertoldo'\n",
        "d0['edad'] = 23\n",
        "print(d0)"
      ],
      "metadata": {
        "colab": {
          "base_uri": "https://localhost:8080/"
        },
        "id": "i9EixIh-rz55",
        "outputId": "6d326c1e-b4e9-48c6-c974-f5d50142aaaa"
      },
      "execution_count": 31,
      "outputs": [
        {
          "output_type": "stream",
          "name": "stdout",
          "text": [
            "{'nombre': 'bertoldo', 'edad': 23}\n"
          ]
        }
      ]
    },
    {
      "cell_type": "code",
      "source": [
        "# Ejemplo 1.9.3\n",
        "print('dirección' in d0)\n",
        "d0['dirección'] = 'calle Albricias s/n'\n",
        "print('dirección' in d0)\n"
      ],
      "metadata": {
        "id": "71tsUhGmtFAp"
      },
      "execution_count": null,
      "outputs": []
    },
    {
      "cell_type": "markdown",
      "source": [
        "<a name=\"funciones\"></a>\n",
        "### Funciones de usuario"
      ],
      "metadata": {
        "id": "BMhJ8FK8tK4r"
      }
    },
    {
      "cell_type": "code",
      "source": [],
      "metadata": {
        "id": "3Ep3VMzltLjy"
      },
      "execution_count": null,
      "outputs": []
    },
    {
      "cell_type": "markdown",
      "source": [
        "<a name=\"bibliotecas\"></a>\n",
        "### Bibliotecas\n"
      ],
      "metadata": {
        "id": "fgN9OKB8nwRC"
      }
    },
    {
      "cell_type": "code",
      "source": [],
      "metadata": {
        "id": "wiKII2UknzXS"
      },
      "execution_count": null,
      "outputs": []
    }
  ]
}