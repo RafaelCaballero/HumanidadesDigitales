{
 "cells": [
  {
   "cell_type": "markdown",
   "metadata": {},
   "source": [
    "<table>\n",
    "    <tr>\n",
    "      <td>PYTHON PARA\n",
    "HUMANIDADES DIGITALES - \n",
    "Introducción al análisis y\n",
    "procesamiento de textos con Python\n",
    "      </td>\n",
    "      <td>Ediciones RC\n",
    "      </td>\n",
    "     </tr>\n",
    "     <tr>\n",
    "     <td>Rafael Caballero Roldán, Enrique Martín Martín y Adrián Riesco Rodríguez</td>\n",
    "     </tr>\n",
    "</table>\n",
    "\n",
    "# Capítulo 2: Ficheros\n",
    "\n",
    "## Índice\n",
    "[Bibliotecas importadas](#bib_imp)<br>\n",
    "[Ficheros de texto](#fich_txt)<br>\n",
    "&nbsp;&nbsp;&nbsp;&nbsp;  [Definición de funciones](#txt_fun)<br>\n",
    "&nbsp;&nbsp;&nbsp;&nbsp;  [Ejecución](#txt_ejec)<br>\n",
    "[Hojas de cálculo](#fich_excel)<br>\n",
    "&nbsp;&nbsp;&nbsp;&nbsp;  [Definición de funciones](#excel_fun)<br>\n",
    "&nbsp;&nbsp;&nbsp;&nbsp;  [Ejecución](#excel_ejec)<br>\n",
    "&nbsp;&nbsp;&nbsp;&nbsp;  [Ejemplos para lectores interesados](#excel_extra)<br>\n",
    "[CSV](#fich_csv)<br>\n",
    "&nbsp;&nbsp;&nbsp;&nbsp;  [Definición de funciones](#csv_fun)<br>\n",
    "&nbsp;&nbsp;&nbsp;&nbsp;  [Ejecución](#csv_ejec)<br>\n",
    "[JSON](#fich_json)<br>\n",
    "&nbsp;&nbsp;&nbsp;&nbsp;  [Definición de funciones](#json_fun)<br>\n",
    "&nbsp;&nbsp;&nbsp;&nbsp;  [Ejecución](#json_ejec)<br>"
   ]
  },
  {
   "cell_type": "markdown",
   "metadata": {},
   "source": [
    "<a name=\"bib_imp\"></a>\n",
    "### Bibliotecas importadas"
   ]
  },
  {
   "cell_type": "code",
   "execution_count": null,
   "metadata": {
    "id": "ymeJKD09C48l"
   },
   "outputs": [],
   "source": [
    "import openpyxl\n",
    "import pandas\n",
    "import csv\n",
    "import json"
   ]
  },
  {
   "cell_type": "markdown",
   "metadata": {
    "id": "CoZd9Hg9f9BV"
   },
   "source": [
    "<a name=\"fich_txt\"></a>\n",
    "### Ficheros de texto"
   ]
  },
  {
   "cell_type": "markdown",
   "metadata": {
    "id": "RtRp23tT6_GR"
   },
   "source": [
    "<a name=\"txt_fun\"></a>\n",
    "#### &nbsp;&nbsp;&nbsp;&nbsp;  Definición de funciones"
   ]
  },
  {
   "cell_type": "code",
   "execution_count": null,
   "metadata": {
    "id": "Q7YXijomf8i8"
   },
   "outputs": [],
   "source": [
    "# Ejemplo 2.2.1\n",
    "def cargarString(ruta):\n",
    "  with open(ruta, 'r', encoding=\"UTF-8\") as fichero:\n",
    "    texto = fichero.read()\n",
    "  return texto"
   ]
  },
  {
   "cell_type": "code",
   "execution_count": null,
   "metadata": {
    "id": "TXRffU_wg3UH"
   },
   "outputs": [],
   "source": [
    "# Ejemplo 2.2.3\n",
    "def cargarLineas(ruta):\n",
    "  with open(ruta, 'r', encoding=\"UTF-8\") as fichero:\n",
    "    texto = fichero.readlines()\n",
    "  return texto"
   ]
  },
  {
   "cell_type": "code",
   "execution_count": null,
   "metadata": {
    "id": "ihvv8zyCnCyd"
   },
   "outputs": [],
   "source": [
    "# Ejemplo 2.2.5\n",
    "def agregarTexto(ruta, texto):\n",
    "  with open(ruta, 'a', encoding=\"UTF-8\") as fichero:\n",
    "    fichero.write(texto)"
   ]
  },
  {
   "cell_type": "code",
   "execution_count": null,
   "metadata": {
    "id": "0bWC36jEoP43"
   },
   "outputs": [],
   "source": [
    "# Ejemplo 2.2.7\n",
    "def agregarNumLinea(ruta_in, ruta_out):\n",
    "  lineas = cargarLineas(ruta_in)\n",
    "  num = 1\n",
    "  nuevo_texto = \"\"\n",
    "  for linea in lineas:\n",
    "    nueva_linea = str(num) + \" \" + linea\n",
    "    nuevo_texto = nuevo_texto + nueva_linea\n",
    "    num = num + 1\n",
    "  with open(ruta_out, 'w', encoding=\"UTF-8\") as fichero_out:\n",
    "    fichero_out.write(nuevo_texto)"
   ]
  },
  {
   "cell_type": "markdown",
   "metadata": {
    "id": "XA-ekQx47CU4"
   },
   "source": [
    "<a name=\"txt_ejec\"></a>\n",
    "#### &nbsp;&nbsp;&nbsp;&nbsp;  Ejecución"
   ]
  },
  {
   "cell_type": "code",
   "execution_count": null,
   "metadata": {
    "colab": {
     "base_uri": "https://localhost:8080/",
     "height": 322
    },
    "id": "k3w0YoFRDesT",
    "outputId": "d03009a6-9644-4999-f2ec-342b2098e1cf"
   },
   "outputs": [],
   "source": [
    "# Ejemplo 2.2.2\n",
    "mi_ruta = \"ficheros/rima.txt\"\n",
    "mi_texto = cargarString(mi_ruta)"
   ]
  },
  {
   "cell_type": "code",
   "execution_count": null,
   "metadata": {},
   "outputs": [],
   "source": [
    "# Ejemplo 2.2.4\n",
    "mis_lineas = cargarLineas(mi_ruta)"
   ]
  },
  {
   "cell_type": "code",
   "execution_count": null,
   "metadata": {
    "id": "MUw4iHG2gyfI"
   },
   "outputs": [],
   "source": [
    "# Imprime la variable mi_texto\n",
    "mi_texto"
   ]
  },
  {
   "cell_type": "code",
   "execution_count": null,
   "metadata": {
    "id": "HLONNWSNhAbd"
   },
   "outputs": [],
   "source": [
    "# Imprime la variable mis_lineas\n",
    "mis_lineas"
   ]
  },
  {
   "cell_type": "code",
   "execution_count": null,
   "metadata": {
    "id": "ZZfGTDiMnimC"
   },
   "outputs": [],
   "source": [
    "# Ejemplo 2.2.6 - Comentado porque cambia el fichero inicial\n",
    "# Descomentar para ejecutar\n",
    "# agregarTexto(mi_ruta, \"\\n Gustavo Adolfo Bécquer\")"
   ]
  },
  {
   "cell_type": "code",
   "execution_count": null,
   "metadata": {
    "id": "hiY1Y1wjpL16"
   },
   "outputs": [],
   "source": [
    "# Ejemplo 2.2.8\n",
    "ruta_out = \"ficheros/rima_num_linea.txt\"\n",
    "anhadirNumLinea(mi_ruta, ruta_out)"
   ]
  },
  {
   "cell_type": "markdown",
   "metadata": {
    "id": "DwQg7rdQblec"
   },
   "source": [
    "<a name=\"fich_excel\"></a>\n",
    "### Hojas de cálculo"
   ]
  },
  {
   "cell_type": "markdown",
   "metadata": {
    "id": "DlD3Tojx8FJg"
   },
   "source": [
    "<a name=\"excel_fun\"></a>\n",
    "#### &nbsp;&nbsp;&nbsp;&nbsp;  Definición de funciones"
   ]
  },
  {
   "cell_type": "code",
   "execution_count": null,
   "metadata": {
    "id": "VlA7eIq9db7r"
   },
   "outputs": [],
   "source": [
    "# Ejemplo 2.3.1\n",
    "def cargarHoja(ruta, hoja):\n",
    "  wb = openpyxl.load_workbook(ruta)\n",
    "  ws = wb[hoja]\n",
    "  return (wb, ws)"
   ]
  },
  {
   "cell_type": "code",
   "execution_count": null,
   "metadata": {
    "id": "fo1AVo5W-mgC"
   },
   "outputs": [],
   "source": [
    "# Ejemplo 2.3.17\n",
    "def crearEstadisticas(ruta_in, hoja_in, col, ruta_out, hoja_out):\n",
    "  estadisticas = crearDiccEst(ruta_in, hoja_in, col)\n",
    "  guardarEst(wb, estadisticas, ruta_out, hoja_out)"
   ]
  },
  {
   "cell_type": "code",
   "execution_count": null,
   "metadata": {},
   "outputs": [],
   "source": [
    "# Ejemplo 2.3.18\n",
    "def crearDiccEst(ruta_in, hoja_in, col):\n",
    "  (wb, ws_in) = cargarHoja(ruta_in, hoja_in)\n",
    "  estadisticas = {}\n",
    "  for fila in ws_in[2:ws_in.max_row]:\n",
    "    valor = fila[col].value\n",
    "    if valor in estadisticas:\n",
    "      estadisticas[valor] = estadisticas[valor] + 1\n",
    "    else:\n",
    "      estadisticas[valor] = 1\n",
    "  return estadisticas"
   ]
  },
  {
   "cell_type": "code",
   "execution_count": null,
   "metadata": {},
   "outputs": [],
   "source": [
    "# Ejemplo 2.3.19\n",
    "def guardarEst(wb, dicc, ruta_out, hoja_out):\n",
    "  ws_out = wb.create_sheet(hoja_out)\n",
    "  nombres = [\"Valor\", \"Apariciones\"]\n",
    "  ws_out.append(nombres)\n",
    "  for clave, valor in dicc.items():\n",
    "    fila = [str(clave), str(valor)]\n",
    "    ws_out.append(fila)\n",
    "  wb.save(ruta_out)"
   ]
  },
  {
   "cell_type": "code",
   "execution_count": null,
   "metadata": {},
   "outputs": [],
   "source": [
    "# Ejemplo 2.3.21\n",
    "def crearDiccEst_v2(ruta_in, hoja_in, col):\n",
    "  (wb, ws_in) = cargarHoja(ruta_in, hoja_in)\n",
    "  estadisticas = {}\n",
    "  for fila in ws_in.iter_rows(min_row=2,min_col=col,max_col=col,values_only=True):\n",
    "    valor = fila[0]\n",
    "    if valor in estadisticas:\n",
    "      estadisticas[valor] = estadisticas[valor] + 1\n",
    "    else:\n",
    "      estadisticas[valor] = 1\n",
    "  return estadisticas"
   ]
  },
  {
   "cell_type": "code",
   "execution_count": null,
   "metadata": {
    "id": "Qa-bCp-dikIF"
   },
   "outputs": [],
   "source": [
    "# Ejemplo 2.3.22\n",
    "def crearEstadisticas_v2(ruta_in, hoja_in, col, ruta_out, hoja_out):\n",
    "  estadisticas = crearDiccEst_v2(ruta_in, hoja_in, col)\n",
    "  guardarEst(wb, estadisticas, ruta_out, hoja_out)"
   ]
  },
  {
   "cell_type": "code",
   "execution_count": null,
   "metadata": {},
   "outputs": [],
   "source": [
    "# Ejemplo 2.3.24\n",
    "def crearDiccEst_v3(ruta_in, hoja_in, col):\n",
    "  (wb, ws_in) = cargarHoja(ruta_in, hoja_in)\n",
    "  estadisticas = {}\n",
    "  for columna in ws_in.iter_cols(min_row=2,min_col=col,max_col=col,values_only=True):\n",
    "    for valor in columna:\n",
    "      if valor in estadisticas:\n",
    "        estadisticas[valor] = estadisticas[valor] + 1\n",
    "      else:\n",
    "        estadisticas[valor] = 1\n",
    "  return estadisticas"
   ]
  },
  {
   "cell_type": "code",
   "execution_count": null,
   "metadata": {
    "id": "8UxYcScSlQ1W"
   },
   "outputs": [],
   "source": [
    "# Ejemplo 2.3.25\n",
    "def crearEstadisticas_v3(ruta_in, hoja_in, col, ruta_out, hoja_out):\n",
    "  estadisticas = crearDiccEst_v3(ruta_in, hoja_in, col)\n",
    "  guardarEst(wb, estadisticas, ruta_out, hoja_out)"
   ]
  },
  {
   "cell_type": "code",
   "execution_count": null,
   "metadata": {
    "id": "m68XWp87bpvm"
   },
   "outputs": [],
   "source": [
    "# Ejemplo 2.3.27\n",
    "def cargarHojaComoMatriz(ruta, hoja):\n",
    "  wb = openpyxl.load_workbook(ruta)\n",
    "  ws = wb[hoja]\n",
    "  hoja = []\n",
    "  for fila in ws.values:\n",
    "    hoja.append(list(fila))\n",
    "  return hoja"
   ]
  },
  {
   "cell_type": "code",
   "execution_count": null,
   "metadata": {
    "id": "GjlG2fgixMbf"
   },
   "outputs": [],
   "source": [
    "def obtenerValor(ruta, hoja, pos):\n",
    "  wb = openpyxl.load_workbook(ruta)\n",
    "  ws = wb[hoja]\n",
    "  valor = ws[pos].value\n",
    "  return valor"
   ]
  },
  {
   "cell_type": "markdown",
   "metadata": {
    "id": "g3imqBjJ7GOh"
   },
   "source": [
    "<a name=\"excel_ejec\"></a>\n",
    "#### &nbsp;&nbsp;&nbsp;&nbsp;  Ejecución"
   ]
  },
  {
   "cell_type": "code",
   "execution_count": null,
   "metadata": {
    "id": "kEdw1HP7xUZs"
   },
   "outputs": [],
   "source": [
    "# Ejemplo 2.3.2\n",
    "ruta_pelis = \"ficheros/pelis.xlsx\"\n",
    "hoja_pelis = \"pelis\"\n",
    "(wb, ws) = cargarHoja(ruta_pelis, hoja_pelis)"
   ]
  },
  {
   "cell_type": "code",
   "execution_count": null,
   "metadata": {
    "id": "KRXYar_zyEfM"
   },
   "outputs": [],
   "source": [
    "# Ejemplo 2.3.3\n",
    "print(ws[1][1].value)"
   ]
  },
  {
   "cell_type": "code",
   "execution_count": null,
   "metadata": {
    "id": "8coFCcnLS-yv"
   },
   "outputs": [],
   "source": [
    "# Ejemplo 2.3.4\n",
    "print(ws[\"B1\"].value)"
   ]
  },
  {
   "cell_type": "code",
   "execution_count": null,
   "metadata": {
    "id": "5rIRUSDl8NyT"
   },
   "outputs": [],
   "source": [
    "# Ejemplo 2.3.5\n",
    "print(ws.max_row)\n",
    "print(ws.max_column)"
   ]
  },
  {
   "cell_type": "code",
   "execution_count": null,
   "metadata": {
    "id": "XfJyEjSM8Qf_"
   },
   "outputs": [],
   "source": [
    "# Ejemplo 2.3.6\n",
    "len(ws[1])"
   ]
  },
  {
   "cell_type": "code",
   "execution_count": null,
   "metadata": {
    "id": "0oMjrhCnow2c"
   },
   "outputs": [],
   "source": [
    "# Ejemplo 2.3.7\n",
    "for fila in ws:\n",
    "  print(fila[0].value)"
   ]
  },
  {
   "cell_type": "code",
   "execution_count": null,
   "metadata": {
    "id": "zJXXx8xuo6KW"
   },
   "outputs": [],
   "source": [
    "# Ejemplo 2.3.8\n",
    "for fila in ws.values:\n",
    "  print(fila[0])"
   ]
  },
  {
   "cell_type": "code",
   "execution_count": null,
   "metadata": {
    "id": "-pvnDDzl8s1q"
   },
   "outputs": [],
   "source": [
    "# Ejemplo 2.3.9\n",
    "ws[1][1].value = \"Director\""
   ]
  },
  {
   "cell_type": "code",
   "execution_count": null,
   "metadata": {},
   "outputs": [],
   "source": [
    "# Ejemplo 2.3.10\n",
    "ws[\"B1\"] = \"Director\""
   ]
  },
  {
   "cell_type": "code",
   "execution_count": null,
   "metadata": {},
   "outputs": [],
   "source": [
    "# Ejemplo 2.3.11\n",
    "ws[\"D1\"] = \"Comentarios\""
   ]
  },
  {
   "cell_type": "code",
   "execution_count": null,
   "metadata": {},
   "outputs": [],
   "source": [
    "# Ejemplo 2.3.12\n",
    "ws[1][3].value = \"Comentarios\""
   ]
  },
  {
   "cell_type": "code",
   "execution_count": null,
   "metadata": {},
   "outputs": [],
   "source": [
    "# Ejemplo 2.3.13\n",
    "nueva_fila = [\"Torrente\", \"Santiago Segura\", 1998, \"Nueva\"]\n",
    "ws.append(nueva_fila)"
   ]
  },
  {
   "cell_type": "code",
   "execution_count": null,
   "metadata": {
    "id": "3hK0-EvRROyr"
   },
   "outputs": [],
   "source": [
    "# Ejemplo 2.3.14\n",
    "print(ws.max_row)\n",
    "print(ws.max_column)"
   ]
  },
  {
   "cell_type": "code",
   "execution_count": null,
   "metadata": {
    "id": "vlI-FVF39hmk"
   },
   "outputs": [],
   "source": [
    "# Ejemplo 2.3.15\n",
    "ruta_out1 = \"ficheros/pelis_out1.xlsx\"\n",
    "wb.save(ruta_out1)"
   ]
  },
  {
   "cell_type": "code",
   "execution_count": null,
   "metadata": {
    "id": "VB-LDzhMY7kR"
   },
   "outputs": [],
   "source": [
    "# Ejemplo 2.3.16\n",
    "ws.insert_rows(2,3)\n",
    "ws.insert_cols(2,3)"
   ]
  },
  {
   "cell_type": "code",
   "execution_count": null,
   "metadata": {
    "id": "Xy96JqSFaMdk"
   },
   "outputs": [],
   "source": [
    "#ws.delete_rows(2,3)"
   ]
  },
  {
   "cell_type": "code",
   "execution_count": null,
   "metadata": {
    "id": "KDA_SbnAaYtB"
   },
   "outputs": [],
   "source": [
    "#ws.delete_cols(2,3)"
   ]
  },
  {
   "cell_type": "code",
   "execution_count": null,
   "metadata": {
    "id": "sDkjQq-C_V4j"
   },
   "outputs": [],
   "source": [
    "# Ejemplo 2.3.20\n",
    "ruta_out2 = \"ficheros/pelis_out2.xlsx\"\n",
    "hoja_estad = \"estadísticas\"\n",
    "crearEstadisticas(ruta_out1, hoja_pelis, 2, ruta_out2, hoja_estad)"
   ]
  },
  {
   "cell_type": "code",
   "execution_count": null,
   "metadata": {
    "id": "Q_On8gQdjDC5"
   },
   "outputs": [],
   "source": [
    "# Ejemplo 2.3.23\n",
    "ruta_out3 = \"ficheros/pelis_out3.xlsx\"\n",
    "crearEstadisticas_v2(ruta_out1, hoja_pelis, 3, ruta_out3, hoja_estad)"
   ]
  },
  {
   "cell_type": "code",
   "execution_count": null,
   "metadata": {
    "id": "TYcqPU7Bljse"
   },
   "outputs": [],
   "source": [
    "# Ejemplo 2.3.26\n",
    "ruta_out4 = \"ficheros/pelis_out4.xlsx\"\n",
    "crearEstadisticas_v3(ruta_out1, hoja_pelis, 3, ruta_out4, hoja_estad)"
   ]
  },
  {
   "cell_type": "code",
   "execution_count": null,
   "metadata": {
    "id": "v8o6zP-CvKEZ"
   },
   "outputs": [],
   "source": [
    "# Ejemplo 2.3.28\n",
    "cargarHojaComoMatriz(ruta_pelis, hoja_pelis)"
   ]
  },
  {
   "cell_type": "markdown",
   "metadata": {},
   "source": [
    "<a name=\"excel_extra\"></a>\n",
    "#### &nbsp;&nbsp;&nbsp;&nbsp;  Ejemplos para lectores interesados"
   ]
  },
  {
   "cell_type": "code",
   "execution_count": null,
   "metadata": {},
   "outputs": [],
   "source": [
    "ruta_out5 = \"ficheros/pelis_out5.xlsx\""
   ]
  },
  {
   "cell_type": "code",
   "execution_count": null,
   "metadata": {
    "id": "LDK1rdo5ZGS4"
   },
   "outputs": [],
   "source": [
    "wb.save(ruta_out5)"
   ]
  },
  {
   "cell_type": "code",
   "execution_count": null,
   "metadata": {
    "id": "Vr0u80GLfWPG"
   },
   "outputs": [],
   "source": [
    "new_wb = openpyxl.Workbook()\n",
    "new_ws = new_wb.active\n",
    "print(new_ws.title)"
   ]
  },
  {
   "cell_type": "code",
   "execution_count": null,
   "metadata": {
    "id": "m1lnVW37gM0y"
   },
   "outputs": [],
   "source": [
    "new_ws.title = \"Nueva hoja\""
   ]
  },
  {
   "cell_type": "code",
   "execution_count": null,
   "metadata": {
    "id": "wbTSbHOigRWH"
   },
   "outputs": [],
   "source": [
    "new_wb.sheetnames"
   ]
  },
  {
   "cell_type": "code",
   "execution_count": null,
   "metadata": {
    "id": "cQUHQBRlhqFk"
   },
   "outputs": [],
   "source": [
    "for hoja in new_wb:\n",
    "  print(hoja.max_row)\n",
    "  print(hoja.max_column)"
   ]
  },
  {
   "cell_type": "code",
   "execution_count": null,
   "metadata": {
    "id": "b7Q_h-3sxX7b"
   },
   "outputs": [],
   "source": [
    "valorA1 = obtenerValor(ruta_pelis, hoja_pelis, \"A1\")\n",
    "valorA2 = obtenerValor(ruta_pelis, hoja_pelis, \"A2\")\n",
    "print(valorA1)\n",
    "print(valorA2)"
   ]
  },
  {
   "cell_type": "markdown",
   "metadata": {
    "id": "LC1HVU9p7kKf"
   },
   "source": [
    "<a name=\"txt_csv\"></a>\n",
    "#### &nbsp;&nbsp;&nbsp;&nbsp;  CSV"
   ]
  },
  {
   "cell_type": "markdown",
   "metadata": {
    "id": "P56MYe1EWU_M"
   },
   "source": [
    "<a name=\"csv_fun\"></a>\n",
    "#### &nbsp;&nbsp;&nbsp;&nbsp;  Definición de funciones"
   ]
  },
  {
   "cell_type": "code",
   "execution_count": null,
   "metadata": {
    "id": "-_8OpoIs7lSJ"
   },
   "outputs": [],
   "source": [
    "# Ejemplo 2.4.1\n",
    "def cargarListas(ruta, delim, agr):\n",
    "  with open(ruta, encoding=\"latin1\") as ficheroCSV:\n",
    "    lector = csv.reader(ficheroCSV, delimiter=delim, quotechar=agr)\n",
    "    lista = [fila for fila in lector]\n",
    "  return lista"
   ]
  },
  {
   "cell_type": "code",
   "execution_count": null,
   "metadata": {
    "id": "a2d2O1V-wRQU"
   },
   "outputs": [],
   "source": [
    "# Ejemplo 2.4.4\n",
    "def estadisticasLista(info, col, ruta, delim, agr):\n",
    "  dicc = {}\n",
    "  for fila in info[1:]:\n",
    "    valor = fila[col]\n",
    "    if valor in dicc:\n",
    "      dicc[valor] = dicc[valor] + 1\n",
    "    else:\n",
    "      dicc[valor] = 1\n",
    "  lista = [list(par) for par in dicc.items()]\n",
    "  lista = [[\"Valor\", \"Apariciones\"]] + lista\n",
    "  with open(ruta, \"w\", encoding=\"UTF-8\") as ficheroCSV:\n",
    "    escritor = csv.writer(ficheroCSV, delimiter=delim, quotechar=agr, quoting=csv.QUOTE_MINIMAL)\n",
    "    for fila in lista:\n",
    "      escritor.writerow(fila)"
   ]
  },
  {
   "cell_type": "code",
   "execution_count": null,
   "metadata": {
    "id": "pnyntlKVFusA"
   },
   "outputs": [],
   "source": [
    "# Ejemplo 2.4.6\n",
    "def cargarDicc(ruta, delim, agr):\n",
    "  with open(ruta, encoding=\"latin1\") as ficheroCSV:\n",
    "    lector = csv.DictReader(ficheroCSV, delimiter=delim, quotechar=agr)\n",
    "    lista = [elem for elem in lector]\n",
    "  return lista"
   ]
  },
  {
   "cell_type": "code",
   "execution_count": null,
   "metadata": {
    "id": "10w82h4IYTVX"
   },
   "outputs": [],
   "source": [
    "# Ejemplo 2.4.7\n",
    "def estadisticasDicc(info, campo, ruta, delim, agr, cab):\n",
    "  acumulado = {}\n",
    "  for dicc in info:\n",
    "    valor = dicc[campo]\n",
    "    if valor in acumulado:\n",
    "      acumulado[valor] = acumulado[valor] + 1\n",
    "    else:\n",
    "      acumulado[valor] = 1\n",
    "  with open(ruta, \"w\", encoding=\"UTF-8\") as ficheroCSV:\n",
    "    escritor = csv.DictWriter(ficheroCSV, delimiter=delim, quotechar=agr, fieldnames=cab)\n",
    "    escritor.writeheader()\n",
    "    for (k,v) in acumulado.items():\n",
    "      dicc_actual = {cab[0] : k, cab[1] : v}\n",
    "      escritor.writerow(dicc_actual)"
   ]
  },
  {
   "cell_type": "markdown",
   "metadata": {
    "id": "90qMXymVWO4g"
   },
   "source": [
    "<a name=\"csv_ejec\"></a>\n",
    "#### &nbsp;&nbsp;&nbsp;&nbsp;  Ejecución"
   ]
  },
  {
   "cell_type": "code",
   "execution_count": null,
   "metadata": {
    "id": "xzmTCjcGESV0"
   },
   "outputs": [],
   "source": [
    "# Ejemplo 2.4.2\n",
    "CSV_puntocoma = \"ficheros/pelis_punto_coma.csv\"\n",
    "contenidos_punto_coma = cargarListas(CSV_puntocoma, \";\", '\"')"
   ]
  },
  {
   "cell_type": "code",
   "execution_count": null,
   "metadata": {
    "id": "VuDNs_l60sEl"
   },
   "outputs": [],
   "source": [
    "print(contenidos_punto_coma)"
   ]
  },
  {
   "cell_type": "code",
   "execution_count": null,
   "metadata": {
    "id": "nv7FaKJnFniJ"
   },
   "outputs": [],
   "source": [
    "# Ejemplo 2.4.3\n",
    "CSV_comillas = \"ficheros/pelis_comillas.csv\"\n",
    "contenidos_comillas = cargarListas(CSV_comillas, \",\", '\"')"
   ]
  },
  {
   "cell_type": "code",
   "execution_count": null,
   "metadata": {
    "colab": {
     "base_uri": "https://localhost:8080/"
    },
    "id": "B_CQz6QgQiDw",
    "outputId": "b90e77d6-f535-42af-bc14-1fb2a85c874b"
   },
   "outputs": [],
   "source": [
    "print(contenidos_comillas)"
   ]
  },
  {
   "cell_type": "code",
   "execution_count": null,
   "metadata": {
    "id": "OWkaEy7sDXsX"
   },
   "outputs": [],
   "source": [
    "# Ejemplo 2.4.5\n",
    "CSV_estad_puntocoma = \"ficheros/pelis_punto_coma_est.csv\"\n",
    "estadisticasLista(contenidos_punto_coma, 2, CSV_estad_puntocoma, \";\", \"\\\"\")"
   ]
  },
  {
   "cell_type": "code",
   "execution_count": null,
   "metadata": {},
   "outputs": [],
   "source": [
    "# Ejemplo 2.4.6 (cont)\n",
    "contenidos_dicc = cargarDicc(CSV_puntocoma, \";\", '\"')"
   ]
  },
  {
   "cell_type": "code",
   "execution_count": null,
   "metadata": {
    "colab": {
     "base_uri": "https://localhost:8080/"
    },
    "id": "hL0nop0dKlmz",
    "outputId": "5e47abdc-34ed-4b0b-b959-c3c5cc1e55de"
   },
   "outputs": [],
   "source": [
    "print(contenidos_dicc)"
   ]
  },
  {
   "cell_type": "code",
   "execution_count": null,
   "metadata": {},
   "outputs": [],
   "source": [
    "# Ejemplo 2.4.8\n",
    "cabecera = [\"Valor\", \"Apariciones\"]\n",
    "CSV_estad_comillas = \"ficheros/pelis_comillas_est.csv\"\n",
    "estadisticasDicc(contenidos_dicc, \"Año\", CSV_estad_comillas, \",\", '\"', cabecera)"
   ]
  },
  {
   "cell_type": "markdown",
   "metadata": {
    "id": "Ff5h-frhWSQ9"
   },
   "source": [
    "<a name=\"txt_json\"></a>\n",
    "#### &nbsp;&nbsp;&nbsp;&nbsp;  JSON"
   ]
  },
  {
   "cell_type": "markdown",
   "metadata": {},
   "source": [
    "<a name=\"json_fun\"></a>\n",
    "#### &nbsp;&nbsp;&nbsp;&nbsp;  Definición de funciones"
   ]
  },
  {
   "cell_type": "code",
   "execution_count": null,
   "metadata": {
    "id": "eiupaZopWTZX"
   },
   "outputs": [],
   "source": [
    "# Ejemplo 2.5.1\n",
    "def loadJSON(ruta):\n",
    "  with open(ruta, 'r', encoding=\"latin1\") as fich_json:\n",
    "    dicc = json.load(fich_json)\n",
    "  return dicc"
   ]
  },
  {
   "cell_type": "code",
   "execution_count": null,
   "metadata": {
    "id": "4gI6MFHgz7G6"
   },
   "outputs": [],
   "source": [
    "# Ejemplo 2.5.3\n",
    "def crearDiccEstad(dicc, campo):\n",
    "  peliculas = dicc[\"peliculas\"]\n",
    "  resultado = {}\n",
    "  for peli in peliculas:\n",
    "    valor = peli[campo]\n",
    "    if valor in resultado:\n",
    "      resultado[valor] = resultado[valor] + 1\n",
    "    else:\n",
    "      resultado[valor] = 1\n",
    "  return resultado"
   ]
  },
  {
   "cell_type": "code",
   "execution_count": null,
   "metadata": {
    "id": "uYo9I8x8g_vv"
   },
   "outputs": [],
   "source": [
    "# Ejemplo 2.5.4\n",
    "def crearEstadisticasJSON_simple(dicc, campo, ruta_out):\n",
    "  resultado = crearDiccEstad(dicc, campo)\n",
    "  with open(ruta_out, 'w', encoding=\"UTF-8\") as fich_json:\n",
    "    json.dump(resultado, fich_json)"
   ]
  },
  {
   "cell_type": "code",
   "execution_count": null,
   "metadata": {
    "id": "LuoIRhN-0NVw"
   },
   "outputs": [],
   "source": [
    "# Ejemplo 2.5.6\n",
    "def crearEstadisticasJSON_estructurado(dicc, campo, campos, ruta_out):\n",
    "  estad = crearDiccEstad(dicc, campo)\n",
    "  lista = []\n",
    "  for (k,v) in estad.items():\n",
    "    dicc = {campos[0] : k, campos[1] : v}\n",
    "    lista.append(dicc)\n",
    "  resultado = {\"estadisticas\" : lista}\n",
    "  with open(ruta_out, 'w', encoding=\"UTF-8\") as fich_json:\n",
    "    json.dump(resultado, fich_json)\n",
    "  "
   ]
  },
  {
   "cell_type": "markdown",
   "metadata": {
    "id": "8BRFyeydXVB5"
   },
   "source": [
    "<a name=\"json_ejec\"></a>\n",
    "#### &nbsp;&nbsp;&nbsp;&nbsp;  Ejecución"
   ]
  },
  {
   "cell_type": "code",
   "execution_count": null,
   "metadata": {
    "colab": {
     "base_uri": "https://localhost:8080/",
     "height": 270
    },
    "id": "1twaCstRXY52",
    "outputId": "86ca40af-ff90-4f6d-e042-69dbc746f919"
   },
   "outputs": [],
   "source": [
    "# Ejemplo 2.5.2\n",
    "pelis_json = \"ficheros/pelis.json\"\n",
    "diccionarioPelis = loadJSON(pelis_json)"
   ]
  },
  {
   "cell_type": "code",
   "execution_count": null,
   "metadata": {
    "id": "F63UoihThOLm"
   },
   "outputs": [],
   "source": [
    "print(diccionarioPelis)"
   ]
  },
  {
   "cell_type": "code",
   "execution_count": null,
   "metadata": {
    "id": "-2IFk9iDitmq"
   },
   "outputs": [],
   "source": [
    "# Ejemplo 2.5.5\n",
    "pelis_json_estad1 = \"ficheros/pelis_estad.json\"\n",
    "crearEstadisticasJSON_simple(diccionarioPelis, \"año\", pelis_json_estad1)"
   ]
  },
  {
   "cell_type": "code",
   "execution_count": null,
   "metadata": {
    "id": "pqBrfzauXWch"
   },
   "outputs": [],
   "source": [
    "# Ejemplo 2.5.7\n",
    "pelis_json_estad2 = \"ficheros/pelis_estad_v2.json\"\n",
    "campos = [\"Valor\", \"Apariciones\"]\n",
    "crearEstadisticasJSON_estructurado(diccionarioPelis, \"año\", campos, pelis_json_estad2)"
   ]
  }
 ],
 "metadata": {
  "colab": {
   "provenance": []
  },
  "kernelspec": {
   "display_name": "Python 3",
   "language": "python",
   "name": "python3"
  },
  "language_info": {
   "codemirror_mode": {
    "name": "ipython",
    "version": 3
   },
   "file_extension": ".py",
   "mimetype": "text/x-python",
   "name": "python",
   "nbconvert_exporter": "python",
   "pygments_lexer": "ipython3",
   "version": "3.7.4"
  }
 },
 "nbformat": 4,
 "nbformat_minor": 1
}
