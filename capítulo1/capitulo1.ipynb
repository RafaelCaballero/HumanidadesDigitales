{
  "nbformat": 4,
  "nbformat_minor": 0,
  "metadata": {
    "colab": {
      "provenance": []
    },
    "kernelspec": {
      "name": "python3",
      "display_name": "Python 3"
    },
    "language_info": {
      "name": "python"
    }
  },
  "cells": [
    {
      "cell_type": "markdown",
      "source": [
        "<table>\n",
        "    <tr>\n",
        "      <td>PYTHON PARA\n",
        "HUMANIDADES DIGITALES - \n",
        "Introducción al análisis y\n",
        "procesamiento de textos con Python\n",
        "      </td>\n",
        "      <td>Ediciones RC\n",
        "      </td>\n",
        "     </tr>\n",
        "     <tr>\n",
        "     <td>Rafael Caballero Roldán, Enrique Martín Martín y Adrián Riesco Rodríguez</td>\n",
        "     </tr>\n",
        "</table>\n",
        "\n",
        "# Capítulo 1: El lenguaje de programación Python\n",
        "\n",
        "## Índice\n",
        "[Tipos simples en Python](#Tipos)<br>\n",
        "&nbsp;&nbsp;&nbsp;&nbsp;  [Tipos numéricos](#Numéricos)<br>\n",
        "&nbsp;&nbsp;&nbsp;&nbsp;  [Tipo Lógico](#Lógico)<br>\n",
        "<br>\n",
        "[Variables](#Variables)<br>\n",
        "<br>\n",
        "[Secuencias](#Secuencias)<br>\n",
        "&nbsp;&nbsp;&nbsp;&nbsp;  [Concatenación](#Concatenación)<br>\n",
        "&nbsp;&nbsp;&nbsp;&nbsp;  [Acceso por posición](#Acceso)<br>\n",
        "&nbsp;&nbsp;&nbsp;&nbsp; [Otras operaciones para secuencias](#Otras)<br>\n",
        "&nbsp;&nbsp;&nbsp;&nbsp; [Operaciones específicas para strings](#Strings)<br>\n",
        "&nbsp;&nbsp;&nbsp;&nbsp; [Operaciones específicas para listas](#Listas)<br>\n",
        "<br>\n",
        "\n",
        "[Instrucciones condicionales](#if)<br>\n",
        "<br>\n",
        "\n",
        "[Iterando](#for)<br>\n",
        "<br>\n",
        "\n",
        "[Listas Intensionales](#comprehensions)<br>\n",
        "<br>\n",
        "\n",
        "[Diccionarios](#diccionarios)<br>\n",
        "<br>\n",
        "\n",
        "[Funciones de usuario](#funciones)<br>\n",
        "<br>\n",
        "\n",
        "[Bibliotecas](#bibliotecas)<br>\n",
        "&nbsp;&nbsp;&nbsp;&nbsp; [Importar bibliotecas](#importar)<br>\n",
        "&nbsp;&nbsp;&nbsp;&nbsp; [Instalar bibliotecas](#instalar)<br>"
      ],
      "metadata": {
        "id": "bLkRyW6XCcRH"
      }
    },
    {
      "cell_type": "markdown",
      "source": [
        "<a name=\"Tipos\"></a>\n",
        "### Tipos simples en Python\n",
        "\n",
        "<a name=\"Numéricos\"></a>\n",
        "#### &nbsp;&nbsp;&nbsp;&nbsp;  Tipos numéricos"
      ],
      "metadata": {
        "id": "umgSdQMHGC0O"
      }
    },
    {
      "cell_type": "code",
      "source": [
        "# Ejemplo 1.3.1\n",
        "print( 3+4, 5.1*2.3, 4/3, 5 % 3 )"
      ],
      "metadata": {
        "colab": {
          "base_uri": "https://localhost:8080/"
        },
        "id": "B8DutR8tFNsW",
        "outputId": "91fbe349-c003-4372-c101-d24cbf4fe03a"
      },
      "execution_count": null,
      "outputs": [
        {
          "output_type": "stream",
          "name": "stdout",
          "text": [
            "7 11.729999999999999 1.3333333333333333 2\n"
          ]
        }
      ]
    },
    {
      "cell_type": "markdown",
      "source": [
        "<a name=\"Lógico\"></a>\n",
        "#### &nbsp;&nbsp;&nbsp;&nbsp;  Tipo Lógico"
      ],
      "metadata": {
        "id": "93-a7Q60GqHm"
      }
    },
    {
      "cell_type": "code",
      "source": [
        "# Ejemplo 1.3.2\n",
        "print( 3<4, 7!=7 )"
      ],
      "metadata": {
        "colab": {
          "base_uri": "https://localhost:8080/"
        },
        "id": "EaD280CjIesW",
        "outputId": "77d672c6-fa49-4295-cefa-2e84df7a7bd6"
      },
      "execution_count": null,
      "outputs": [
        {
          "output_type": "stream",
          "name": "stdout",
          "text": [
            "True False\n"
          ]
        }
      ]
    },
    {
      "cell_type": "code",
      "source": [
        "# Ejemplo 1.3.3\n",
        "print( 3<4 and 4>4, 3<4 or 4>4, not (3>4) )"
      ],
      "metadata": {
        "colab": {
          "base_uri": "https://localhost:8080/"
        },
        "id": "VruIXtcHJeZe",
        "outputId": "2d01226d-c70c-4074-97d8-5851a009431b"
      },
      "execution_count": null,
      "outputs": [
        {
          "output_type": "stream",
          "name": "stdout",
          "text": [
            "False True True\n"
          ]
        }
      ]
    },
    {
      "cell_type": "markdown",
      "source": [
        "<a name=\"Variables\"></a>\n",
        "### Variables"
      ],
      "metadata": {
        "id": "rsFd25AZLA3t"
      }
    },
    {
      "cell_type": "code",
      "source": [
        "# Ejemplo 1.4.1\n",
        "días=7\n",
        "print(días)"
      ],
      "metadata": {
        "colab": {
          "base_uri": "https://localhost:8080/"
        },
        "id": "qXh1yPUnLFNl",
        "outputId": "dcd454a7-05c6-4849-d602-0484c83f979e"
      },
      "execution_count": null,
      "outputs": [
        {
          "output_type": "stream",
          "name": "stdout",
          "text": [
            "7\n"
          ]
        }
      ]
    },
    {
      "cell_type": "code",
      "source": [
        "# Ejemplo 1.4.2\n",
        "días=7\n",
        "print(días)\n",
        "horas = días *  24\n",
        "print(horas)\n"
      ],
      "metadata": {
        "colab": {
          "base_uri": "https://localhost:8080/"
        },
        "id": "BwGYQcd8Niuk",
        "outputId": "679cca5b-349e-4518-d10e-d6683f66d536"
      },
      "execution_count": null,
      "outputs": [
        {
          "output_type": "stream",
          "name": "stdout",
          "text": [
            "7\n",
            "168\n"
          ]
        }
      ]
    },
    {
      "cell_type": "code",
      "source": [
        "# Ejemplo 1.4.3\n",
        "días=7\n",
        "print(días)\n",
        "días = días + 1\n",
        "print(días)"
      ],
      "metadata": {
        "colab": {
          "base_uri": "https://localhost:8080/"
        },
        "id": "liNL5sZlOCjd",
        "outputId": "5cd4f9bf-1ebd-4bed-fb24-7de66ad0299a"
      },
      "execution_count": null,
      "outputs": [
        {
          "output_type": "stream",
          "name": "stdout",
          "text": [
            "7\n",
            "8\n"
          ]
        }
      ]
    },
    {
      "cell_type": "markdown",
      "source": [
        "<a name=\"Secuencias\"></a>\n",
        "### Secuencias\n",
        "\n",
        "<a name=\"Concatenación\"></a>\n",
        "#### &nbsp;&nbsp;&nbsp;&nbsp;  Concatenación"
      ],
      "metadata": {
        "id": "d2Ky7_4HO1eU"
      }
    },
    {
      "cell_type": "code",
      "source": [
        "# Ejemplo 1.5.1\n",
        "print(\"Hola \" + \"Python\")\n",
        "print([30,40,50] + [10,20])\n"
      ],
      "metadata": {
        "colab": {
          "base_uri": "https://localhost:8080/"
        },
        "id": "GxYu3gn4OG6l",
        "outputId": "3310cd2f-fcb3-467b-fa3d-3b024dcb4ec9"
      },
      "execution_count": null,
      "outputs": [
        {
          "output_type": "stream",
          "name": "stdout",
          "text": [
            "Hola Python\n",
            "[30, 40, 50, 10, 20]\n"
          ]
        }
      ]
    },
    {
      "cell_type": "code",
      "source": [
        "# Ejemplo 1.5.2\n",
        "print(\"-.\" * 5)"
      ],
      "metadata": {
        "colab": {
          "base_uri": "https://localhost:8080/"
        },
        "id": "Np869q9bR0ws",
        "outputId": "6eaff72d-7748-4cbf-8747-37e103d51a2a"
      },
      "execution_count": null,
      "outputs": [
        {
          "output_type": "stream",
          "name": "stdout",
          "text": [
            "-.-.-.-.-.\n"
          ]
        }
      ]
    },
    {
      "cell_type": "markdown",
      "source": [
        "<a name=\"Acceso\"></a>\n",
        "#### &nbsp;&nbsp;&nbsp;&nbsp;  Acceso por posición"
      ],
      "metadata": {
        "id": "tAEkVyyFRdTu"
      }
    },
    {
      "cell_type": "code",
      "source": [
        "# Ejemplo 1.5.3\n",
        "\n",
        "#         0  1  2  3\n",
        "lista = [50,60,80,90]\n",
        "print(lista[2])"
      ],
      "metadata": {
        "colab": {
          "base_uri": "https://localhost:8080/"
        },
        "id": "9zcBMv9dRjGV",
        "outputId": "0b2de29e-d230-4da2-d1b1-b3cf6a26711b"
      },
      "execution_count": null,
      "outputs": [
        {
          "output_type": "stream",
          "name": "stdout",
          "text": [
            "80\n"
          ]
        }
      ]
    },
    {
      "cell_type": "code",
      "source": [
        "# Ejemplo 1.5.4\n",
        "\n",
        "tupla = (10,20,30,40,50,60,70,80)\n",
        "print(tupla[-1])  # el último\n",
        "print(tupla[2:5]) # elementos en pos. 2, 3 y 4\n",
        "print(tupla[1:])  # todos menos el primero\n",
        "print(tupla[:-1]) # todos salvo el último"
      ],
      "metadata": {
        "colab": {
          "base_uri": "https://localhost:8080/"
        },
        "id": "um2ox8fRT2Wc",
        "outputId": "ee8fef01-c6e6-4880-9a6f-be42fd17a50c"
      },
      "execution_count": null,
      "outputs": [
        {
          "output_type": "stream",
          "name": "stdout",
          "text": [
            "80\n",
            "(30, 40, 50)\n",
            "(20, 30, 40, 50, 60, 70, 80)\n",
            "(10, 20, 30, 40, 50, 60, 70)\n"
          ]
        }
      ]
    },
    {
      "cell_type": "markdown",
      "source": [
        "<a name=\"Otras\"></a>\n",
        "#### &nbsp;&nbsp;&nbsp;&nbsp;  Otras operaciones para secuencias"
      ],
      "metadata": {
        "id": "1AESQQ-9UBGM"
      }
    },
    {
      "cell_type": "code",
      "source": [
        "# Ejemplo 1.5.5.\n",
        "s = \"abracadabra\"\n",
        "print(min(s),max(s))\n",
        "print(\"z\" in s, \"raca\" in s)\n",
        "print(s.count(\"a\"), s.index(\"raca\"))"
      ],
      "metadata": {
        "colab": {
          "base_uri": "https://localhost:8080/"
        },
        "id": "ugSmQ_hWU0_c",
        "outputId": "9256cd6c-d5e7-497d-d38e-838724ca14c0"
      },
      "execution_count": null,
      "outputs": [
        {
          "output_type": "stream",
          "name": "stdout",
          "text": [
            "a r\n",
            "False True\n",
            "5 2\n"
          ]
        }
      ]
    },
    {
      "cell_type": "markdown",
      "source": [
        "<a name=\"Strings\"></a>\n",
        "#### &nbsp;&nbsp;&nbsp;&nbsp; Operaciones específicas para strings"
      ],
      "metadata": {
        "id": "iNYrkMyAVhJk"
      }
    },
    {
      "cell_type": "code",
      "source": [
        "# Ejemplo 1.5.6\n",
        "print(\"Me dijo: 'a ver si nos vemos pronto'\")"
      ],
      "metadata": {
        "colab": {
          "base_uri": "https://localhost:8080/"
        },
        "id": "70DXRJ8pVqz7",
        "outputId": "9a28da26-35fc-4371-aedc-51b9502e00b2"
      },
      "execution_count": null,
      "outputs": [
        {
          "output_type": "stream",
          "name": "stdout",
          "text": [
            "Me dijo: 'a ver si nos vemos pronto'\n"
          ]
        }
      ]
    },
    {
      "cell_type": "code",
      "source": [
        "# Ejemplo 1.5.7\n",
        "a = \"\"\"Mi infancia son recuerdos de un patio de Sevilla,\n",
        "y un huerto claro donde madura el limonero;\n",
        "mi juventud, veinte años en tierras de Castilla;\n",
        "mi historia, algunos casos que recordar no quiero.\"\"\"\n",
        "print(a)"
      ],
      "metadata": {
        "colab": {
          "base_uri": "https://localhost:8080/"
        },
        "id": "uAlXizyYeiDb",
        "outputId": "f5332db5-6f58-4ac5-ae73-f27316466a4c"
      },
      "execution_count": null,
      "outputs": [
        {
          "output_type": "stream",
          "name": "stdout",
          "text": [
            "Mi infancia son recuerdos de un patio de Sevilla,\n",
            "y un huerto claro donde madura el limonero;\n",
            "mi juventud, veinte años en tierras de Castilla;\n",
            "mi historia, algunos casos que recordar no quiero.\n"
          ]
        }
      ]
    },
    {
      "cell_type": "code",
      "source": [
        "# Ejemplo 1.5.8\n",
        "s = \"el ser que puede ser comprendido es lenguaje (Gadamer)\"\n",
        "print(s.startswith(\"el\"),s.endswith(\"el\"))\n"
      ],
      "metadata": {
        "colab": {
          "base_uri": "https://localhost:8080/"
        },
        "id": "SqEw-UbDe6Wy",
        "outputId": "9496e385-6aa5-4288-fc56-cc623e567b84"
      },
      "execution_count": null,
      "outputs": [
        {
          "output_type": "stream",
          "name": "stdout",
          "text": [
            "True False\n"
          ]
        }
      ]
    },
    {
      "cell_type": "code",
      "source": [
        "# Ejemplo 1.5.9\n",
        "p1 = s.find(\"ser\")\n",
        "p2 = s.find(\"ser\", p1+1)\n",
        "p3 = s.find(\"ser\", p2+1)\n",
        "pf = s.rfind(\"ser\")\n",
        "print(p1, p2, p3, pf)"
      ],
      "metadata": {
        "colab": {
          "base_uri": "https://localhost:8080/"
        },
        "id": "CTmcdhpRfQRC",
        "outputId": "87806d55-478e-40aa-dd48-10aa9b76660a"
      },
      "execution_count": null,
      "outputs": [
        {
          "output_type": "stream",
          "name": "stdout",
          "text": [
            "3 17 -1 17\n"
          ]
        }
      ]
    },
    {
      "cell_type": "code",
      "source": [
        "# Ejemplo 1.5.10\n",
        "s1 = \"Te lo había dicho\"\n",
        "s2 = \"te lo había dicho\"\n",
        "\n",
        "iguales1 = s1==s2\n",
        "iguales2 = s1.lower()==s2.lower()\n",
        "print(iguales1,iguales2)\n"
      ],
      "metadata": {
        "id": "YwvDzu_qiwka",
        "colab": {
          "base_uri": "https://localhost:8080/"
        },
        "outputId": "d65a38f7-e285-4c77-e916-bd3fd7d968f1"
      },
      "execution_count": null,
      "outputs": [
        {
          "output_type": "stream",
          "name": "stdout",
          "text": [
            "False True\n"
          ]
        }
      ]
    },
    {
      "cell_type": "code",
      "source": [
        "# Ejemplo 1.5.11\n",
        "s = \"¡¡¡bien!!!\"\n",
        "print(s.lstrip(\"¡\").rstrip(\"!\"))"
      ],
      "metadata": {
        "colab": {
          "base_uri": "https://localhost:8080/"
        },
        "id": "MeIeQliojSAC",
        "outputId": "160e9bbc-f792-46a3-d5d8-6fd4bd619299"
      },
      "execution_count": null,
      "outputs": [
        {
          "output_type": "stream",
          "name": "stdout",
          "text": [
            "bien\n"
          ]
        }
      ]
    },
    {
      "cell_type": "code",
      "source": [
        "# Ejemplo 1.5.12\n",
        "s1 = \"compra tomates, pepinos, calabacín, pimiento verde y ajo\"\n",
        "s2 = s1.replace(\",\", \" \")\n",
        "print(s2)"
      ],
      "metadata": {
        "colab": {
          "base_uri": "https://localhost:8080/"
        },
        "id": "htObtspJjkcK",
        "outputId": "f9a37e32-3eec-4b5e-cc53-2f9be827a081"
      },
      "execution_count": null,
      "outputs": [
        {
          "output_type": "stream",
          "name": "stdout",
          "text": [
            "compra tomates  pepinos  calabacín  pimiento verde y ajo\n"
          ]
        }
      ]
    },
    {
      "cell_type": "code",
      "source": [
        "# Ejemplo 1.5.13\n",
        "l = [\"era\",\"de\", \"noche\",\"pero\",\"llovía\"]\n",
        "print(\" \".join(l))\n"
      ],
      "metadata": {
        "colab": {
          "base_uri": "https://localhost:8080/"
        },
        "id": "a0oSCKi5j-mC",
        "outputId": "13feb738-cf3b-41b7-d969-70fc5edf929b"
      },
      "execution_count": null,
      "outputs": [
        {
          "output_type": "stream",
          "name": "stdout",
          "text": [
            "era de noche pero llovía\n"
          ]
        }
      ]
    },
    {
      "cell_type": "markdown",
      "source": [
        "<a name=\"Listas\"></a>\n",
        "#### &nbsp;&nbsp;&nbsp;&nbsp; Operaciones específicas para listas"
      ],
      "metadata": {
        "id": "82wNjXHNkIoq"
      }
    },
    {
      "cell_type": "code",
      "source": [
        "# Ejemplo 1.5.14\n",
        "lista = [50,60,80,90]\n",
        "lista[1] = 70\n",
        "print(lista)\n"
      ],
      "metadata": {
        "colab": {
          "base_uri": "https://localhost:8080/"
        },
        "id": "RzEYlwFekPaK",
        "outputId": "287a26e3-cc33-44be-ed93-0eef922ea720"
      },
      "execution_count": null,
      "outputs": [
        {
          "output_type": "stream",
          "name": "stdout",
          "text": [
            "[50, 70, 80, 90]\n"
          ]
        }
      ]
    },
    {
      "cell_type": "code",
      "source": [
        "# Ejemplo 1.5.15\n",
        "herramientas = ['tornillos','tuercas','arandelas']\n",
        "herramientas.append('clavos')\n",
        "print(herramientas)\n"
      ],
      "metadata": {
        "colab": {
          "base_uri": "https://localhost:8080/"
        },
        "id": "9Sd9CsZrk2Y6",
        "outputId": "c6945e6a-c17a-47b5-edff-54b61dd6dcf5"
      },
      "execution_count": null,
      "outputs": [
        {
          "output_type": "stream",
          "name": "stdout",
          "text": [
            "['tornillos', 'tuercas', 'arandelas', 'clavos']\n"
          ]
        }
      ]
    },
    {
      "cell_type": "code",
      "source": [
        "# Ejemplo 1.5.16\n",
        "caja  = [['tornillos','tuercas','arandelas'],['martillo','sierra']]\n",
        "caja[0].append('clavos')\n",
        "print(caja)"
      ],
      "metadata": {
        "colab": {
          "base_uri": "https://localhost:8080/"
        },
        "id": "eVbOacoVlKLa",
        "outputId": "1d593bb0-0d62-4f00-8f42-b83a52bf0a74"
      },
      "execution_count": null,
      "outputs": [
        {
          "output_type": "stream",
          "name": "stdout",
          "text": [
            "[['tornillos', 'tuercas', 'arandelas', 'clavos'], ['martillo', 'sierra']]\n"
          ]
        }
      ]
    },
    {
      "cell_type": "markdown",
      "source": [
        "<a name=\"if\"></a>\n",
        "### Instrucciones condicionales"
      ],
      "metadata": {
        "id": "9zkYYjGrkmpS"
      }
    },
    {
      "cell_type": "code",
      "source": [
        "# Ejemplo 1.6.1\n",
        "s = \"En un lugar de la Mancha\"\n",
        "print(\"Comprobemos sí la variable 's' comienza por 'en'\")\n",
        "if s.lower().startswith(\"en\"):\n",
        "    print(\"¡Comienza por 'en'!\")\n",
        "print(\"Y ya está\")\n"
      ],
      "metadata": {
        "colab": {
          "base_uri": "https://localhost:8080/"
        },
        "id": "E-lBznCXkq3a",
        "outputId": "af7a0e9c-870d-4694-833a-f7c72bf2b0c4"
      },
      "execution_count": null,
      "outputs": [
        {
          "output_type": "stream",
          "name": "stdout",
          "text": [
            "Comprobemos sí la variable 's' comienza por 'en'\n",
            "¡Comienza por 'en'!\n",
            "Y ya está\n"
          ]
        }
      ]
    },
    {
      "cell_type": "code",
      "source": [
        "# Ejemplo 1.6.2\n",
        "s = \"Había una vez\"\n",
        "print(\"Comprobemos sí la variable 's' comienza por 'en'\")\n",
        "if s.lower().startswith(\"en\"):\n",
        "    print(f\"'{s}' comienza por 'en'\")\n",
        "else:\n",
        "    print(f\"'{s}' no comienza por 'en'\")\n",
        "print(\"Y ya está\")"
      ],
      "metadata": {
        "id": "D4vcHOyBm4nx",
        "colab": {
          "base_uri": "https://localhost:8080/"
        },
        "outputId": "bae70a93-7b9d-4fd3-b960-47ce0d583c05"
      },
      "execution_count": null,
      "outputs": [
        {
          "output_type": "stream",
          "name": "stdout",
          "text": [
            "Comprobemos sí la variable 's' comienza por 'en'\n",
            "'Había una vez' no comienza por 'en'\n",
            "Y ya está\n"
          ]
        }
      ]
    },
    {
      "cell_type": "code",
      "source": [
        "# Ejemplo 1.6.3\n",
        "s = \"Había una vez\"\n",
        "print(\"Comprobemos sí la variable 's' comienza por 'en'\")\n",
        "m = f\"'{s}' comienza por 'en'\" if s.lower().startswith(\"en\") else f\"'{s}' no comienza por 'en'\"\n",
        "print(m)\n",
        "print(\"Y ya está\")\n"
      ],
      "metadata": {
        "colab": {
          "base_uri": "https://localhost:8080/"
        },
        "id": "RXbPbZVHoLvq",
        "outputId": "e5d070f0-7fee-4ef8-e2b3-a1863fc6a5dd"
      },
      "execution_count": null,
      "outputs": [
        {
          "output_type": "stream",
          "name": "stdout",
          "text": [
            "Comprobemos sí la variable 's' comienza por 'en'\n",
            "'Había una vez' no comienza por 'en'\n",
            "Y ya está\n"
          ]
        }
      ]
    },
    {
      "cell_type": "markdown",
      "source": [
        "<a name=\"for\"></a>\n",
        "### Iterando\n",
        "\n"
      ],
      "metadata": {
        "id": "vaDeqa7snHk6"
      }
    },
    {
      "cell_type": "code",
      "source": [
        "# Ejemplo 1.7.1\n",
        "for h in ['tornillos','tuercas','arandelas']:\n",
        "    print(h)\n"
      ],
      "metadata": {
        "colab": {
          "base_uri": "https://localhost:8080/"
        },
        "id": "r6LmJNVTnCk5",
        "outputId": "72572f91-16a7-420e-fc64-5be21d892ccf"
      },
      "execution_count": null,
      "outputs": [
        {
          "output_type": "stream",
          "name": "stdout",
          "text": [
            "tornillos\n",
            "tuercas\n",
            "arandelas\n"
          ]
        }
      ]
    },
    {
      "cell_type": "code",
      "source": [
        "# Ejemplo 1.7.2\n",
        "for i in range(11):\n",
        "    if i % 2 == 0: # si el resto al dividir entre 2 es 0 es  par\n",
        "        print(i)"
      ],
      "metadata": {
        "colab": {
          "base_uri": "https://localhost:8080/"
        },
        "id": "KptW2bP-o2G5",
        "outputId": "96b16695-8a05-487b-a86f-b4f60450d387"
      },
      "execution_count": null,
      "outputs": [
        {
          "output_type": "stream",
          "name": "stdout",
          "text": [
            "0\n",
            "2\n",
            "4\n",
            "6\n",
            "8\n",
            "10\n"
          ]
        }
      ]
    },
    {
      "cell_type": "code",
      "source": [
        "# Ejemplo 1.7.3\n",
        "pares = []\n",
        "for i in range(100):\n",
        "    if i % 2 == 0:\n",
        "        pares.append(i)\n",
        "print(pares)\n"
      ],
      "metadata": {
        "colab": {
          "base_uri": "https://localhost:8080/"
        },
        "id": "D5D5OCxYpcbi",
        "outputId": "877aa344-4456-49ce-917f-33d7ed1a0b0d"
      },
      "execution_count": 2,
      "outputs": [
        {
          "output_type": "stream",
          "name": "stdout",
          "text": [
            "[0, 2, 4, 6, 8, 10, 12, 14, 16, 18, 20, 22, 24, 26, 28, 30, 32, 34, 36, 38, 40, 42, 44, 46, 48, 50, 52, 54, 56, 58, 60, 62, 64, 66, 68, 70, 72, 74, 76, 78, 80, 82, 84, 86, 88, 90, 92, 94, 96, 98]\n"
          ]
        }
      ]
    },
    {
      "cell_type": "code",
      "source": [
        "# Ejemplo 1.7.4\n",
        "for i in range(len(pares)):\n",
        "    if pares[i] % 3 == 0:\n",
        "        print(pares[i])\n"
      ],
      "metadata": {
        "colab": {
          "base_uri": "https://localhost:8080/"
        },
        "id": "L1oJGvJ-p8xh",
        "outputId": "013eeb8b-d057-4628-b4d4-7023c81e9de4"
      },
      "execution_count": 3,
      "outputs": [
        {
          "output_type": "stream",
          "name": "stdout",
          "text": [
            "0\n",
            "6\n",
            "12\n",
            "18\n",
            "24\n",
            "30\n",
            "36\n",
            "42\n",
            "48\n",
            "54\n",
            "60\n",
            "66\n",
            "72\n",
            "78\n",
            "84\n",
            "90\n",
            "96\n"
          ]
        }
      ]
    },
    {
      "cell_type": "code",
      "source": [
        "# Ejemplo 1.7.5\n",
        "for elem in pares: # Bucle alternativo\n",
        "  if elem % 3 == 0:\n",
        "    print(elem)"
      ],
      "metadata": {
        "id": "T3jM95fLBO7t"
      },
      "execution_count": null,
      "outputs": []
    },
    {
      "cell_type": "code",
      "source": [
        "# Ejemplo 1.7.6\n",
        "for pos,elem in enumerate(pares): \n",
        "     print(f\"En la posición {pos} encontramos el elemento {elem}\")"
      ],
      "metadata": {
        "colab": {
          "base_uri": "https://localhost:8080/"
        },
        "id": "occJnr1U-KJV",
        "outputId": "8abec3f9-489a-414a-cd6f-e1661af61562"
      },
      "execution_count": 5,
      "outputs": [
        {
          "output_type": "stream",
          "name": "stdout",
          "text": [
            "En la posición 0 encontramos el elemento 0\n",
            "En la posición 1 encontramos el elemento 2\n",
            "En la posición 2 encontramos el elemento 4\n",
            "En la posición 3 encontramos el elemento 6\n",
            "En la posición 4 encontramos el elemento 8\n",
            "En la posición 5 encontramos el elemento 10\n",
            "En la posición 6 encontramos el elemento 12\n",
            "En la posición 7 encontramos el elemento 14\n",
            "En la posición 8 encontramos el elemento 16\n",
            "En la posición 9 encontramos el elemento 18\n",
            "En la posición 10 encontramos el elemento 20\n",
            "En la posición 11 encontramos el elemento 22\n",
            "En la posición 12 encontramos el elemento 24\n",
            "En la posición 13 encontramos el elemento 26\n",
            "En la posición 14 encontramos el elemento 28\n",
            "En la posición 15 encontramos el elemento 30\n",
            "En la posición 16 encontramos el elemento 32\n",
            "En la posición 17 encontramos el elemento 34\n",
            "En la posición 18 encontramos el elemento 36\n",
            "En la posición 19 encontramos el elemento 38\n",
            "En la posición 20 encontramos el elemento 40\n",
            "En la posición 21 encontramos el elemento 42\n",
            "En la posición 22 encontramos el elemento 44\n",
            "En la posición 23 encontramos el elemento 46\n",
            "En la posición 24 encontramos el elemento 48\n",
            "En la posición 25 encontramos el elemento 50\n",
            "En la posición 26 encontramos el elemento 52\n",
            "En la posición 27 encontramos el elemento 54\n",
            "En la posición 28 encontramos el elemento 56\n",
            "En la posición 29 encontramos el elemento 58\n",
            "En la posición 30 encontramos el elemento 60\n",
            "En la posición 31 encontramos el elemento 62\n",
            "En la posición 32 encontramos el elemento 64\n",
            "En la posición 33 encontramos el elemento 66\n",
            "En la posición 34 encontramos el elemento 68\n",
            "En la posición 35 encontramos el elemento 70\n",
            "En la posición 36 encontramos el elemento 72\n",
            "En la posición 37 encontramos el elemento 74\n",
            "En la posición 38 encontramos el elemento 76\n",
            "En la posición 39 encontramos el elemento 78\n",
            "En la posición 40 encontramos el elemento 80\n",
            "En la posición 41 encontramos el elemento 82\n",
            "En la posición 42 encontramos el elemento 84\n",
            "En la posición 43 encontramos el elemento 86\n",
            "En la posición 44 encontramos el elemento 88\n",
            "En la posición 45 encontramos el elemento 90\n",
            "En la posición 46 encontramos el elemento 92\n",
            "En la posición 47 encontramos el elemento 94\n",
            "En la posición 48 encontramos el elemento 96\n",
            "En la posición 49 encontramos el elemento 98\n"
          ]
        }
      ]
    },
    {
      "cell_type": "code",
      "source": [],
      "metadata": {
        "id": "4_o6j5xUAzVl"
      },
      "execution_count": null,
      "outputs": []
    },
    {
      "cell_type": "markdown",
      "source": [
        "<a name=\"comprehensions\"></a>\n",
        "### Listas intensionales\n"
      ],
      "metadata": {
        "id": "jBx6nFpqnn96"
      }
    },
    {
      "cell_type": "code",
      "source": [
        "# Ejemplo 1.8.1\n",
        "pares = [ i for i in range(100)   if i % 2 == 0]\n",
        "print(pares)\n"
      ],
      "metadata": {
        "colab": {
          "base_uri": "https://localhost:8080/"
        },
        "id": "C7-3vhybnrt6",
        "outputId": "eba3188f-4564-4d02-e2ac-9ec3a5b765c9"
      },
      "execution_count": null,
      "outputs": [
        {
          "output_type": "stream",
          "name": "stdout",
          "text": [
            "[0, 2, 4, 6, 8, 10, 12, 14, 16, 18, 20, 22, 24, 26, 28, 30, 32, 34, 36, 38, 40, 42, 44, 46, 48, 50, 52, 54, 56, 58, 60, 62, 64, 66, 68, 70, 72, 74, 76, 78, 80, 82, 84, 86, 88, 90, 92, 94, 96, 98]\n"
          ]
        }
      ]
    },
    {
      "cell_type": "code",
      "source": [
        "# Ejemplo 1.8.2\n",
        "palabras = [\"Había\", \"una\", \"vez\", \"una\", \"princesa\",\n",
        "                 \"que\", \"estaba\", \"triste\"]\n",
        "en_a = [p for p in palabras if p.endswith(\"a\")]\n",
        "print(en_a)\n"
      ],
      "metadata": {
        "colab": {
          "base_uri": "https://localhost:8080/"
        },
        "id": "uUzt1YZqqj6J",
        "outputId": "ade260a0-9a41-4892-f6d1-4df1db7d1520"
      },
      "execution_count": null,
      "outputs": [
        {
          "output_type": "stream",
          "name": "stdout",
          "text": [
            "['Había', 'una', 'una', 'princesa', 'estaba']\n"
          ]
        }
      ]
    },
    {
      "cell_type": "code",
      "source": [
        "# Ejemplo 1.8.3\n",
        "long_a = [ len(p) for p in palabras if p.endswith(\"a\")]\n",
        "print(long_a)"
      ],
      "metadata": {
        "id": "0pevT0oVrDQB",
        "colab": {
          "base_uri": "https://localhost:8080/"
        },
        "outputId": "f06f6fca-6919-4d1e-cb78-87bc5320ff90"
      },
      "execution_count": null,
      "outputs": [
        {
          "output_type": "stream",
          "name": "stdout",
          "text": [
            "[5, 3, 3, 8, 6]\n"
          ]
        }
      ]
    },
    {
      "cell_type": "code",
      "source": [
        "# Ejemplo 1.8.4\n",
        "letras = [ letra for letra in \"abracadabra\"]\n",
        "print(letras)\n"
      ],
      "metadata": {
        "id": "n9kwDMTSra75",
        "colab": {
          "base_uri": "https://localhost:8080/"
        },
        "outputId": "f26f002c-bf9c-41bf-a5d0-ae867517c19f"
      },
      "execution_count": null,
      "outputs": [
        {
          "output_type": "stream",
          "name": "stdout",
          "text": [
            "['a', 'b', 'r', 'a', 'c', 'a', 'd', 'a', 'b', 'r', 'a']\n"
          ]
        }
      ]
    },
    {
      "cell_type": "markdown",
      "source": [
        "<a name=\"diccionarios\"></a>\n",
        "### Diccionarios\n"
      ],
      "metadata": {
        "id": "s3mN3sdKnr9i"
      }
    },
    {
      "cell_type": "code",
      "source": [
        "# Ejemplo 1.9.1\n",
        "d0 = {}\n",
        "d1 = dict()\n",
        "print(type(d0), type(d1))\n"
      ],
      "metadata": {
        "colab": {
          "base_uri": "https://localhost:8080/"
        },
        "id": "PuQzDtBgnwFj",
        "outputId": "77f1c4af-2140-4838-87e8-f7246fc2b537"
      },
      "execution_count": null,
      "outputs": [
        {
          "output_type": "stream",
          "name": "stdout",
          "text": [
            "<class 'dict'> <class 'dict'>\n"
          ]
        }
      ]
    },
    {
      "cell_type": "code",
      "source": [
        "# Ejemplo 1.9.2\n",
        "d0['nombre'] = 'bertoldo'\n",
        "d0['edad'] = 23\n",
        "print(d0)"
      ],
      "metadata": {
        "colab": {
          "base_uri": "https://localhost:8080/"
        },
        "id": "i9EixIh-rz55",
        "outputId": "948f6c79-5821-4211-c69f-9bd706ed2fac"
      },
      "execution_count": null,
      "outputs": [
        {
          "output_type": "stream",
          "name": "stdout",
          "text": [
            "{'nombre': 'bertoldo', 'edad': 23}\n"
          ]
        }
      ]
    },
    {
      "cell_type": "code",
      "source": [
        "# Ejemplo 1.9.3\n",
        "print('dirección' in d0)\n",
        "d0['dirección'] = 'calle Albricias s/n'\n",
        "print('dirección' in d0)\n"
      ],
      "metadata": {
        "id": "71tsUhGmtFAp",
        "colab": {
          "base_uri": "https://localhost:8080/"
        },
        "outputId": "5e9c7db9-0e57-44ed-d537-1c608386c0ae"
      },
      "execution_count": null,
      "outputs": [
        {
          "output_type": "stream",
          "name": "stdout",
          "text": [
            "False\n",
            "True\n"
          ]
        }
      ]
    },
    {
      "cell_type": "code",
      "source": [
        "print(d0.keys(), d0.values(), d0.items())"
      ],
      "metadata": {
        "colab": {
          "base_uri": "https://localhost:8080/"
        },
        "id": "cwtdNkfyCxH3",
        "outputId": "deeaad1b-9d23-4938-c0a8-577076ff6fb4"
      },
      "execution_count": null,
      "outputs": [
        {
          "output_type": "stream",
          "name": "stdout",
          "text": [
            "dict_keys(['nombre', 'edad', 'dirección']) dict_values(['bertoldo', 23, 'calle Albricias s/n']) dict_items([('nombre', 'bertoldo'), ('edad', 23), ('dirección', 'calle Albricias s/n')])\n"
          ]
        }
      ]
    },
    {
      "cell_type": "code",
      "source": [
        "# Ejemplo 1.9.4\n",
        "datos_berto = {\"nombre\":\"Bertoldo\", \"edad\":23, \"Calle\":'calle Albricias s/n'}\n",
        "for k,w in datos_berto.items():\n",
        "  print(k,w)"
      ],
      "metadata": {
        "colab": {
          "base_uri": "https://localhost:8080/"
        },
        "id": "eQiL_wE3B7iS",
        "outputId": "9054adcc-4bf2-40bc-9be3-ef3e1ce605cb"
      },
      "execution_count": null,
      "outputs": [
        {
          "output_type": "stream",
          "name": "stdout",
          "text": [
            "nombre Bertoldo\n",
            "edad 23\n",
            "Calle calle Albricias s/n\n"
          ]
        }
      ]
    },
    {
      "cell_type": "markdown",
      "source": [
        "<a name=\"funciones\"></a>\n",
        "### Funciones de usuario"
      ],
      "metadata": {
        "id": "BMhJ8FK8tK4r"
      }
    },
    {
      "cell_type": "code",
      "source": [
        "# Ejemplo 1.10.1\n",
        "def os_as(palabra):\n",
        "  if palabra.endswith(\"os\"):\n",
        "    salida= palabra[:-2]+\"as\"\n",
        "  else:\n",
        "    salida= palabra\n",
        "  return salida"
      ],
      "metadata": {
        "id": "3Ep3VMzltLjy"
      },
      "execution_count": null,
      "outputs": []
    },
    {
      "cell_type": "code",
      "source": [
        "# Ejemplo 1.10.2\n",
        "print(os_as(\"poderosos\"))\n",
        "print(os_as(\"animosos\"))\n",
        "print(os_as(\"altas\"))"
      ],
      "metadata": {
        "colab": {
          "base_uri": "https://localhost:8080/"
        },
        "id": "PCfzcovB9hoV",
        "outputId": "1ce8d32a-56c2-4b54-ee76-193fd191a4e2"
      },
      "execution_count": null,
      "outputs": [
        {
          "output_type": "stream",
          "name": "stdout",
          "text": [
            "poderosas\n",
            "animosas\n",
            "altas\n"
          ]
        }
      ]
    },
    {
      "cell_type": "code",
      "source": [
        "# Ejemplo 1.10.3\n",
        "def sufijo(palabra,s=\"mente\"):\n",
        "  salida = palabra+s\n",
        "  return salida\n",
        "\n",
        "print(sufijo(\"fácil\",\"mente\"))\n",
        "print(sufijo(\"fácil\",\"es\"))\n",
        "print(sufijo(\"difícil\"))\n"
      ],
      "metadata": {
        "colab": {
          "base_uri": "https://localhost:8080/"
        },
        "id": "lv3YzFaV-BL3",
        "outputId": "1f015ac3-8151-4af4-99e9-1faf732700a9"
      },
      "execution_count": null,
      "outputs": [
        {
          "output_type": "stream",
          "name": "stdout",
          "text": [
            "fácilmente\n",
            "fáciles\n",
            "difícilmente\n"
          ]
        }
      ]
    },
    {
      "cell_type": "code",
      "source": [
        "# Ejemplo 1.10.4\n",
        "def prefijoSufijo(palabra,prefijo=\"\",sufijo=\"\"):\n",
        "  salida = prefijo+palabra+sufijo\n",
        "  return salida\n",
        "\n",
        "print(prefijoSufijo(\"mar\",\"sub\", \"ino\"))\n",
        "print(prefijoSufijo(\"fácil\",sufijo=\"mente\"))\n",
        "print(prefijoSufijo(\"diluviano\",prefijo=\"ante\"))\n"
      ],
      "metadata": {
        "colab": {
          "base_uri": "https://localhost:8080/"
        },
        "id": "08HPW6gM-sKu",
        "outputId": "631e53bf-5dd2-460b-bcf0-bba68786b1e5"
      },
      "execution_count": null,
      "outputs": [
        {
          "output_type": "stream",
          "name": "stdout",
          "text": [
            "submarino\n",
            "fácilmente\n",
            "antediluviano\n"
          ]
        }
      ]
    },
    {
      "cell_type": "markdown",
      "source": [
        "<a name=\"bibliotecas\"></a>\n",
        "### Bibliotecas\n",
        "\n",
        "<a name=\"importar\"></a>\n",
        "#### &nbsp;&nbsp;&nbsp;&nbsp; Importar bibliotecas"
      ],
      "metadata": {
        "id": "fgN9OKB8nwRC"
      }
    },
    {
      "cell_type": "code",
      "source": [
        "# Ejemplo 1.11.1\n",
        "import math\n",
        "print(math.pi)"
      ],
      "metadata": {
        "id": "wiKII2UknzXS"
      },
      "execution_count": null,
      "outputs": []
    },
    {
      "cell_type": "code",
      "source": [
        "# Ejemplo 1.11.2\n",
        "import random\n",
        "print(random.randint(1, 25))"
      ],
      "metadata": {
        "colab": {
          "base_uri": "https://localhost:8080/"
        },
        "id": "63C7r0UDCPPX",
        "outputId": "572f658d-5e2b-4181-e86e-a1cb28193a36"
      },
      "execution_count": null,
      "outputs": [
        {
          "output_type": "stream",
          "name": "stdout",
          "text": [
            "22\n"
          ]
        }
      ]
    },
    {
      "cell_type": "code",
      "source": [
        "# Ejemplo 1.11.3\n",
        "from math import pi\n",
        "from random import randint\n",
        "\n",
        "print(pi, randint(1,6))"
      ],
      "metadata": {
        "colab": {
          "base_uri": "https://localhost:8080/"
        },
        "id": "mkgxuaVpCkiu",
        "outputId": "5741fa10-424a-4f69-bc37-2620b8f7197b"
      },
      "execution_count": null,
      "outputs": [
        {
          "output_type": "stream",
          "name": "stdout",
          "text": [
            "3.141592653589793 6\n"
          ]
        }
      ]
    },
    {
      "cell_type": "code",
      "source": [
        "# Ejemplo 1.11.4\n",
        "import random as rd\n",
        "\n",
        "print(rd.randint(1,6), rd.random(), rd.choice([ \"cara\", \"cruz\"]) )\n"
      ],
      "metadata": {
        "id": "RS7zO4oYC9jG"
      },
      "execution_count": null,
      "outputs": []
    },
    {
      "cell_type": "markdown",
      "source": [
        "<a name=\"instalar\"></a>\n",
        "#### &nbsp;&nbsp;&nbsp;&nbsp; Instalar bibliotecas"
      ],
      "metadata": {
        "id": "ZDI31FuXDMZO"
      }
    },
    {
      "cell_type": "code",
      "source": [
        "# Ejemplo 1.11.5\n",
        "!pip install goose3\n"
      ],
      "metadata": {
        "colab": {
          "base_uri": "https://localhost:8080/"
        },
        "id": "kY68izy1DTPB",
        "outputId": "062f06e3-c6cc-4789-e7b9-7c40cedbb2fa"
      },
      "execution_count": null,
      "outputs": [
        {
          "output_type": "stream",
          "name": "stdout",
          "text": [
            "Looking in indexes: https://pypi.org/simple, https://us-python.pkg.dev/colab-wheels/public/simple/\n",
            "Collecting goose3\n",
            "  Downloading goose3-3.1.13-py3-none-any.whl (88 kB)\n",
            "\u001b[2K     \u001b[90m━━━━━━━━━━━━━━━━━━━━━━━━━━━━━━━━━━━━━━━━\u001b[0m \u001b[32m88.2/88.2 kB\u001b[0m \u001b[31m3.4 MB/s\u001b[0m eta \u001b[36m0:00:00\u001b[0m\n",
            "\u001b[?25hRequirement already satisfied: Pillow in /usr/local/lib/python3.9/dist-packages (from goose3) (8.4.0)\n",
            "Requirement already satisfied: python-dateutil in /usr/local/lib/python3.9/dist-packages (from goose3) (2.8.2)\n",
            "Collecting cssselect\n",
            "  Downloading cssselect-1.2.0-py2.py3-none-any.whl (18 kB)\n",
            "Requirement already satisfied: lxml in /usr/local/lib/python3.9/dist-packages (from goose3) (4.9.2)\n",
            "Requirement already satisfied: requests in /usr/local/lib/python3.9/dist-packages (from goose3) (2.27.1)\n",
            "Collecting langdetect\n",
            "  Downloading langdetect-1.0.9.tar.gz (981 kB)\n",
            "\u001b[2K     \u001b[90m━━━━━━━━━━━━━━━━━━━━━━━━━━━━━━━━━━━━━━\u001b[0m \u001b[32m981.5/981.5 kB\u001b[0m \u001b[31m19.0 MB/s\u001b[0m eta \u001b[36m0:00:00\u001b[0m\n",
            "\u001b[?25h  Preparing metadata (setup.py) ... \u001b[?25l\u001b[?25hdone\n",
            "Collecting pyahocorasick\n",
            "  Downloading pyahocorasick-2.0.0-cp39-cp39-manylinux_2_5_x86_64.manylinux1_x86_64.whl (103 kB)\n",
            "\u001b[2K     \u001b[90m━━━━━━━━━━━━━━━━━━━━━━━━━━━━━━━━━━━━━━\u001b[0m \u001b[32m103.2/103.2 kB\u001b[0m \u001b[31m11.4 MB/s\u001b[0m eta \u001b[36m0:00:00\u001b[0m\n",
            "\u001b[?25hRequirement already satisfied: beautifulsoup4 in /usr/local/lib/python3.9/dist-packages (from goose3) (4.11.2)\n",
            "Requirement already satisfied: soupsieve>1.2 in /usr/local/lib/python3.9/dist-packages (from beautifulsoup4->goose3) (2.4)\n",
            "Requirement already satisfied: six in /usr/local/lib/python3.9/dist-packages (from langdetect->goose3) (1.16.0)\n",
            "Requirement already satisfied: idna<4,>=2.5 in /usr/local/lib/python3.9/dist-packages (from requests->goose3) (3.4)\n",
            "Requirement already satisfied: charset-normalizer~=2.0.0 in /usr/local/lib/python3.9/dist-packages (from requests->goose3) (2.0.12)\n",
            "Requirement already satisfied: urllib3<1.27,>=1.21.1 in /usr/local/lib/python3.9/dist-packages (from requests->goose3) (1.26.15)\n",
            "Requirement already satisfied: certifi>=2017.4.17 in /usr/local/lib/python3.9/dist-packages (from requests->goose3) (2022.12.7)\n",
            "Building wheels for collected packages: langdetect\n",
            "  Building wheel for langdetect (setup.py) ... \u001b[?25l\u001b[?25hdone\n",
            "  Created wheel for langdetect: filename=langdetect-1.0.9-py3-none-any.whl size=993243 sha256=ff4f448d5b82c8a3943c7181b67f1938e92628c7051104f8bb4333fd137c0504\n",
            "  Stored in directory: /root/.cache/pip/wheels/d1/c1/d9/7e068de779d863bc8f8fc9467d85e25cfe47fa5051fff1a1bb\n",
            "Successfully built langdetect\n",
            "Installing collected packages: pyahocorasick, langdetect, cssselect, goose3\n",
            "Successfully installed cssselect-1.2.0 goose3-3.1.13 langdetect-1.0.9 pyahocorasick-2.0.0\n"
          ]
        }
      ]
    },
    {
      "cell_type": "code",
      "source": [
        "# Ejemplo 1.11.6\n",
        "!pip install --user goose3"
      ],
      "metadata": {
        "colab": {
          "base_uri": "https://localhost:8080/"
        },
        "id": "DubXmCjbDqXm",
        "outputId": "7d0dbec7-7961-4b2d-ccb2-4ad09d2b8b14"
      },
      "execution_count": null,
      "outputs": [
        {
          "output_type": "stream",
          "name": "stdout",
          "text": [
            "Looking in indexes: https://pypi.org/simple, https://us-python.pkg.dev/colab-wheels/public/simple/\n",
            "Requirement already satisfied: goose3 in /usr/local/lib/python3.9/dist-packages (3.1.13)\n",
            "Requirement already satisfied: pyahocorasick in /usr/local/lib/python3.9/dist-packages (from goose3) (2.0.0)\n",
            "Requirement already satisfied: cssselect in /usr/local/lib/python3.9/dist-packages (from goose3) (1.2.0)\n",
            "Requirement already satisfied: langdetect in /usr/local/lib/python3.9/dist-packages (from goose3) (1.0.9)\n",
            "Requirement already satisfied: requests in /usr/local/lib/python3.9/dist-packages (from goose3) (2.27.1)\n",
            "Requirement already satisfied: beautifulsoup4 in /usr/local/lib/python3.9/dist-packages (from goose3) (4.11.2)\n",
            "Requirement already satisfied: python-dateutil in /usr/local/lib/python3.9/dist-packages (from goose3) (2.8.2)\n",
            "Requirement already satisfied: Pillow in /usr/local/lib/python3.9/dist-packages (from goose3) (8.4.0)\n",
            "Requirement already satisfied: lxml in /usr/local/lib/python3.9/dist-packages (from goose3) (4.9.2)\n",
            "Requirement already satisfied: soupsieve>1.2 in /usr/local/lib/python3.9/dist-packages (from beautifulsoup4->goose3) (2.4)\n",
            "Requirement already satisfied: six in /usr/local/lib/python3.9/dist-packages (from langdetect->goose3) (1.16.0)\n",
            "Requirement already satisfied: idna<4,>=2.5 in /usr/local/lib/python3.9/dist-packages (from requests->goose3) (3.4)\n",
            "Requirement already satisfied: charset-normalizer~=2.0.0 in /usr/local/lib/python3.9/dist-packages (from requests->goose3) (2.0.12)\n",
            "Requirement already satisfied: urllib3<1.27,>=1.21.1 in /usr/local/lib/python3.9/dist-packages (from requests->goose3) (1.26.15)\n",
            "Requirement already satisfied: certifi>=2017.4.17 in /usr/local/lib/python3.9/dist-packages (from requests->goose3) (2022.12.7)\n"
          ]
        }
      ]
    },
    {
      "cell_type": "code",
      "source": [
        "# Ejemplo 1.11.7\n",
        "!pip install --user --upgrade goose3"
      ],
      "metadata": {
        "colab": {
          "base_uri": "https://localhost:8080/"
        },
        "id": "BgIgLKxYD6ol",
        "outputId": "e6b44731-25f2-44a5-942f-8127219e63df"
      },
      "execution_count": null,
      "outputs": [
        {
          "output_type": "stream",
          "name": "stdout",
          "text": [
            "Looking in indexes: https://pypi.org/simple, https://us-python.pkg.dev/colab-wheels/public/simple/\n",
            "Requirement already satisfied: goose3 in /usr/local/lib/python3.9/dist-packages (3.1.13)\n",
            "Requirement already satisfied: langdetect in /usr/local/lib/python3.9/dist-packages (from goose3) (1.0.9)\n",
            "Requirement already satisfied: lxml in /usr/local/lib/python3.9/dist-packages (from goose3) (4.9.2)\n",
            "Requirement already satisfied: cssselect in /usr/local/lib/python3.9/dist-packages (from goose3) (1.2.0)\n",
            "Requirement already satisfied: pyahocorasick in /usr/local/lib/python3.9/dist-packages (from goose3) (2.0.0)\n",
            "Requirement already satisfied: beautifulsoup4 in /usr/local/lib/python3.9/dist-packages (from goose3) (4.11.2)\n",
            "Requirement already satisfied: python-dateutil in /usr/local/lib/python3.9/dist-packages (from goose3) (2.8.2)\n",
            "Requirement already satisfied: Pillow in /usr/local/lib/python3.9/dist-packages (from goose3) (8.4.0)\n",
            "Requirement already satisfied: requests in /usr/local/lib/python3.9/dist-packages (from goose3) (2.27.1)\n",
            "Requirement already satisfied: soupsieve>1.2 in /usr/local/lib/python3.9/dist-packages (from beautifulsoup4->goose3) (2.4)\n",
            "Requirement already satisfied: six in /usr/local/lib/python3.9/dist-packages (from langdetect->goose3) (1.16.0)\n",
            "Requirement already satisfied: certifi>=2017.4.17 in /usr/local/lib/python3.9/dist-packages (from requests->goose3) (2022.12.7)\n",
            "Requirement already satisfied: urllib3<1.27,>=1.21.1 in /usr/local/lib/python3.9/dist-packages (from requests->goose3) (1.26.15)\n",
            "Requirement already satisfied: idna<4,>=2.5 in /usr/local/lib/python3.9/dist-packages (from requests->goose3) (3.4)\n",
            "Requirement already satisfied: charset-normalizer~=2.0.0 in /usr/local/lib/python3.9/dist-packages (from requests->goose3) (2.0.12)\n"
          ]
        }
      ]
    },
    {
      "cell_type": "code",
      "source": [
        "# Ejemplo 1.11.8\n",
        "!pip list"
      ],
      "metadata": {
        "colab": {
          "base_uri": "https://localhost:8080/"
        },
        "id": "lHuKL5cID80e",
        "outputId": "73c018a1-6437-417f-edb7-a27ca7072c03"
      },
      "execution_count": null,
      "outputs": [
        {
          "output_type": "stream",
          "name": "stdout",
          "text": [
            "Package                       Version\n",
            "----------------------------- --------------------\n",
            "absl-py                       1.4.0\n",
            "alabaster                     0.7.13\n",
            "albumentations                1.2.1\n",
            "altair                        4.2.2\n",
            "anyio                         3.6.2\n",
            "appdirs                       1.4.4\n",
            "argon2-cffi                   21.3.0\n",
            "argon2-cffi-bindings          21.2.0\n",
            "arviz                         0.15.1\n",
            "astropy                       5.2.2\n",
            "astunparse                    1.6.3\n",
            "attrs                         22.2.0\n",
            "audioread                     3.0.0\n",
            "autograd                      1.5\n",
            "Babel                         2.12.1\n",
            "backcall                      0.2.0\n",
            "beautifulsoup4                4.11.2\n",
            "bleach                        6.0.0\n",
            "blis                          0.7.9\n",
            "blosc2                        2.0.0\n",
            "bokeh                         2.4.3\n",
            "branca                        0.6.0\n",
            "CacheControl                  0.12.11\n",
            "cached-property               1.5.2\n",
            "cachetools                    5.3.0\n",
            "catalogue                     2.0.8\n",
            "certifi                       2022.12.7\n",
            "cffi                          1.15.1\n",
            "chardet                       4.0.0\n",
            "charset-normalizer            2.0.12\n",
            "chex                          0.1.7\n",
            "click                         8.1.3\n",
            "cloudpickle                   2.2.1\n",
            "cmake                         3.25.2\n",
            "cmdstanpy                     1.1.0\n",
            "colorcet                      3.0.1\n",
            "colorlover                    0.3.0\n",
            "community                     1.0.0b1\n",
            "confection                    0.0.4\n",
            "cons                          0.4.5\n",
            "contextlib2                   0.6.0.post1\n",
            "contourpy                     1.0.7\n",
            "convertdate                   2.4.0\n",
            "cryptography                  40.0.1\n",
            "cssselect                     1.2.0\n",
            "cufflinks                     0.17.3\n",
            "cvxopt                        1.3.0\n",
            "cvxpy                         1.3.1\n",
            "cycler                        0.11.0\n",
            "cymem                         2.0.7\n",
            "Cython                        0.29.34\n",
            "dask                          2022.12.1\n",
            "datascience                   0.17.6\n",
            "db-dtypes                     1.1.1\n",
            "dbus-python                   1.2.16\n",
            "debugpy                       1.6.6\n",
            "decorator                     4.4.2\n",
            "defusedxml                    0.7.1\n",
            "distributed                   2022.12.1\n",
            "dlib                          19.24.1\n",
            "dm-tree                       0.1.8\n",
            "docutils                      0.16\n",
            "dopamine-rl                   4.0.6\n",
            "earthengine-api               0.1.348\n",
            "easydict                      1.10\n",
            "ecos                          2.0.12\n",
            "editdistance                  0.6.2\n",
            "en-core-web-sm                3.5.0\n",
            "entrypoints                   0.4\n",
            "ephem                         4.1.4\n",
            "et-xmlfile                    1.1.0\n",
            "etils                         1.2.0\n",
            "etuples                       0.3.8\n",
            "exceptiongroup                1.1.1\n",
            "fastai                        2.7.12\n",
            "fastcore                      1.5.29\n",
            "fastdownload                  0.0.7\n",
            "fastjsonschema                2.16.3\n",
            "fastprogress                  1.0.3\n",
            "fastrlock                     0.8.1\n",
            "filelock                      3.11.0\n",
            "firebase-admin                5.3.0\n",
            "Flask                         2.2.3\n",
            "flatbuffers                   23.3.3\n",
            "flax                          0.6.8\n",
            "folium                        0.14.0\n",
            "fonttools                     4.39.3\n",
            "frozendict                    2.3.7\n",
            "fsspec                        2023.4.0\n",
            "future                        0.18.3\n",
            "gast                          0.4.0\n",
            "GDAL                          3.3.2\n",
            "gdown                         4.6.6\n",
            "gensim                        4.3.1\n",
            "geographiclib                 2.0\n",
            "geopy                         2.3.0\n",
            "gin-config                    0.5.0\n",
            "glob2                         0.7\n",
            "google                        2.0.3\n",
            "google-api-core               2.11.0\n",
            "google-api-python-client      2.84.0\n",
            "google-auth                   2.17.2\n",
            "google-auth-httplib2          0.1.0\n",
            "google-auth-oauthlib          1.0.0\n",
            "google-cloud-bigquery         3.9.0\n",
            "google-cloud-bigquery-storage 2.19.1\n",
            "google-cloud-core             2.3.2\n",
            "google-cloud-datastore        2.15.1\n",
            "google-cloud-firestore        2.11.0\n",
            "google-cloud-language         2.9.1\n",
            "google-cloud-storage          2.8.0\n",
            "google-cloud-translate        3.11.1\n",
            "google-colab                  1.0.0\n",
            "google-crc32c                 1.5.0\n",
            "google-pasta                  0.2.0\n",
            "google-resumable-media        2.4.1\n",
            "googleapis-common-protos      1.59.0\n",
            "googledrivedownloader         0.4\n",
            "goose3                        3.1.13\n",
            "graphviz                      0.20.1\n",
            "greenlet                      2.0.2\n",
            "grpcio                        1.53.0\n",
            "grpcio-status                 1.48.2\n",
            "gspread                       3.4.2\n",
            "gspread-dataframe             3.0.8\n",
            "gym                           0.25.2\n",
            "gym-notices                   0.0.8\n",
            "h5netcdf                      1.1.0\n",
            "h5py                          3.8.0\n",
            "HeapDict                      1.0.1\n",
            "hijri-converter               2.2.4\n",
            "holidays                      0.22\n",
            "holoviews                     1.15.4\n",
            "html5lib                      1.1\n",
            "httpimport                    1.3.0\n",
            "httplib2                      0.21.0\n",
            "humanize                      4.6.0\n",
            "hyperopt                      0.2.7\n",
            "idna                          3.4\n",
            "imageio                       2.25.1\n",
            "imageio-ffmpeg                0.4.8\n",
            "imagesize                     1.4.1\n",
            "imbalanced-learn              0.10.1\n",
            "imgaug                        0.4.0\n",
            "importlib-metadata            6.3.0\n",
            "importlib-resources           5.12.0\n",
            "imutils                       0.5.4\n",
            "inflect                       6.0.4\n",
            "iniconfig                     2.0.0\n",
            "intel-openmp                  2023.1.0\n",
            "ipykernel                     5.5.6\n",
            "ipython                       7.34.0\n",
            "ipython-genutils              0.2.0\n",
            "ipython-sql                   0.4.1\n",
            "ipywidgets                    7.7.1\n",
            "itsdangerous                  2.1.2\n",
            "jax                           0.4.8\n",
            "jaxlib                        0.4.7+cuda11.cudnn86\n",
            "jieba                         0.42.1\n",
            "Jinja2                        3.1.2\n",
            "joblib                        1.2.0\n",
            "jsonpickle                    3.0.1\n",
            "jsonschema                    4.3.3\n",
            "jupyter-client                6.1.12\n",
            "jupyter-console               6.1.0\n",
            "jupyter_core                  5.3.0\n",
            "jupyter-server                1.23.6\n",
            "jupyterlab-pygments           0.2.2\n",
            "jupyterlab-widgets            3.0.7\n",
            "kaggle                        1.5.13\n",
            "keras                         2.12.0\n",
            "keras-vis                     0.4.1\n",
            "kiwisolver                    1.4.4\n",
            "korean-lunar-calendar         0.3.1\n",
            "langcodes                     3.3.0\n",
            "langdetect                    1.0.9\n",
            "lazy_loader                   0.2\n",
            "libclang                      16.0.0\n",
            "librosa                       0.10.0.post2\n",
            "lightgbm                      3.3.5\n",
            "lit                           16.0.1\n",
            "llvmlite                      0.39.1\n",
            "locket                        1.0.0\n",
            "logical-unification           0.4.5\n",
            "LunarCalendar                 0.0.9\n",
            "lxml                          4.9.2\n",
            "Markdown                      3.4.3\n",
            "markdown-it-py                2.2.0\n",
            "MarkupSafe                    2.1.2\n",
            "matplotlib                    3.7.1\n",
            "matplotlib-inline             0.1.6\n",
            "matplotlib-venn               0.11.9\n",
            "mdurl                         0.1.2\n",
            "miniKanren                    1.0.3\n",
            "missingno                     0.5.2\n",
            "mistune                       0.8.4\n",
            "mizani                        0.8.1\n",
            "mkl                           2019.0\n",
            "ml-dtypes                     0.0.4\n",
            "mlxtend                       0.14.0\n",
            "more-itertools                9.1.0\n",
            "moviepy                       1.0.3\n",
            "mpmath                        1.3.0\n",
            "msgpack                       1.0.5\n",
            "multipledispatch              0.6.0\n",
            "multitasking                  0.0.11\n",
            "murmurhash                    1.0.9\n",
            "music21                       8.1.0\n",
            "natsort                       8.3.1\n",
            "nbclient                      0.7.3\n",
            "nbconvert                     6.5.4\n",
            "nbformat                      5.8.0\n",
            "nest-asyncio                  1.5.6\n",
            "networkx                      3.1\n",
            "nibabel                       3.0.2\n",
            "nltk                          3.8.1\n",
            "notebook                      6.4.8\n",
            "numba                         0.56.4\n",
            "numexpr                       2.8.4\n",
            "numpy                         1.22.4\n",
            "oauth2client                  4.1.3\n",
            "oauthlib                      3.2.2\n",
            "opencv-contrib-python         4.7.0.72\n",
            "opencv-python                 4.7.0.72\n",
            "opencv-python-headless        4.7.0.72\n",
            "openpyxl                      3.0.10\n",
            "opt-einsum                    3.3.0\n",
            "optax                         0.1.4\n",
            "orbax                         0.1.7\n",
            "osqp                          0.6.2.post0\n",
            "packaging                     23.0\n",
            "palettable                    3.3.1\n",
            "pandas                        1.5.3\n",
            "pandas-datareader             0.10.0\n",
            "pandas-gbq                    0.17.9\n",
            "pandocfilters                 1.5.0\n",
            "panel                         0.14.4\n",
            "param                         1.13.0\n",
            "parso                         0.8.3\n",
            "partd                         1.3.0\n",
            "pathlib                       1.0.1\n",
            "pathy                         0.10.1\n",
            "patsy                         0.5.3\n",
            "pep517                        0.13.0\n",
            "pexpect                       4.8.0\n",
            "pickleshare                   0.7.5\n",
            "Pillow                        8.4.0\n",
            "pip                           23.0.1\n",
            "pip-tools                     6.6.2\n",
            "platformdirs                  3.2.0\n",
            "plotly                        5.13.1\n",
            "plotnine                      0.10.1\n",
            "pluggy                        1.0.0\n",
            "pooch                         1.6.0\n",
            "portpicker                    1.3.9\n",
            "prefetch-generator            1.0.3\n",
            "preshed                       3.0.8\n",
            "prettytable                   0.7.2\n",
            "proglog                       0.1.10\n",
            "progressbar2                  4.2.0\n",
            "prometheus-client             0.16.0\n",
            "promise                       2.3\n",
            "prompt-toolkit                3.0.38\n",
            "prophet                       1.1.2\n",
            "proto-plus                    1.22.2\n",
            "protobuf                      3.20.3\n",
            "psutil                        5.9.4\n",
            "psycopg2                      2.9.6\n",
            "ptyprocess                    0.7.0\n",
            "py-cpuinfo                    9.0.0\n",
            "py4j                          0.10.9.7\n",
            "pyahocorasick                 2.0.0\n",
            "pyarrow                       9.0.0\n",
            "pyasn1                        0.4.8\n",
            "pyasn1-modules                0.2.8\n",
            "pycocotools                   2.0.6\n",
            "pycparser                     2.21\n",
            "pyct                          0.5.0\n",
            "pydantic                      1.10.7\n",
            "pydata-google-auth            1.7.0\n",
            "pydot                         1.4.2\n",
            "pydot-ng                      2.0.0\n",
            "pydotplus                     2.0.2\n",
            "PyDrive                       1.3.1\n",
            "pyerfa                        2.0.0.3\n",
            "pygame                        2.3.0\n",
            "Pygments                      2.14.0\n",
            "PyGObject                     3.36.0\n",
            "pymc                          5.1.2\n",
            "PyMeeus                       0.5.12\n",
            "pymystem3                     0.2.0\n",
            "PyOpenGL                      3.1.6\n",
            "pyparsing                     3.0.9\n",
            "pyrsistent                    0.19.3\n",
            "PySocks                       1.7.1\n",
            "pytensor                      2.10.1\n",
            "pytest                        7.2.2\n",
            "python-apt                    0.0.0\n",
            "python-dateutil               2.8.2\n",
            "python-louvain                0.16\n",
            "python-slugify                8.0.1\n",
            "python-utils                  3.5.2\n",
            "pytz                          2022.7.1\n",
            "pytz-deprecation-shim         0.1.0.post0\n",
            "pyviz-comms                   2.2.1\n",
            "PyWavelets                    1.4.1\n",
            "PyYAML                        6.0\n",
            "pyzmq                         23.2.1\n",
            "qdldl                         0.1.7\n",
            "qudida                        0.0.4\n",
            "regex                         2022.10.31\n",
            "requests                      2.27.1\n",
            "requests-oauthlib             1.3.1\n",
            "requests-unixsocket           0.2.0\n",
            "rich                          13.3.3\n",
            "rpy2                          3.5.5\n",
            "rsa                           4.9\n",
            "scikit-image                  0.19.3\n",
            "scikit-learn                  1.2.2\n",
            "scipy                         1.10.1\n",
            "scs                           3.2.3\n",
            "seaborn                       0.12.2\n",
            "Send2Trash                    1.8.0\n",
            "setuptools                    67.6.1\n",
            "shapely                       2.0.1\n",
            "six                           1.16.0\n",
            "sklearn-pandas                2.2.0\n",
            "smart-open                    6.3.0\n",
            "sniffio                       1.3.0\n",
            "snowballstemmer               2.2.0\n",
            "sortedcontainers              2.4.0\n",
            "soundfile                     0.12.1\n",
            "soupsieve                     2.4\n",
            "soxr                          0.3.5\n",
            "spacy                         3.5.1\n",
            "spacy-legacy                  3.0.12\n",
            "spacy-loggers                 1.0.4\n",
            "Sphinx                        3.5.4\n",
            "sphinxcontrib-applehelp       1.0.4\n",
            "sphinxcontrib-devhelp         1.0.2\n",
            "sphinxcontrib-htmlhelp        2.0.1\n",
            "sphinxcontrib-jsmath          1.0.1\n",
            "sphinxcontrib-qthelp          1.0.3\n",
            "sphinxcontrib-serializinghtml 1.1.5\n",
            "SQLAlchemy                    2.0.9\n",
            "sqlparse                      0.4.3\n",
            "srsly                         2.4.6\n",
            "statsmodels                   0.13.5\n",
            "sympy                         1.11.1\n",
            "tables                        3.8.0\n",
            "tabulate                      0.8.10\n",
            "tblib                         1.7.0\n",
            "tenacity                      8.2.2\n",
            "tensorboard                   2.12.1\n",
            "tensorboard-data-server       0.7.0\n",
            "tensorboard-plugin-wit        1.8.1\n",
            "tensorflow                    2.12.0\n",
            "tensorflow-datasets           4.8.3\n",
            "tensorflow-estimator          2.12.0\n",
            "tensorflow-gcs-config         2.12.0\n",
            "tensorflow-hub                0.13.0\n",
            "tensorflow-io-gcs-filesystem  0.32.0\n",
            "tensorflow-metadata           1.13.0\n",
            "tensorflow-probability        0.19.0\n",
            "tensorstore                   0.1.35\n",
            "termcolor                     2.2.0\n",
            "terminado                     0.17.1\n",
            "text-unidecode                1.3\n",
            "textblob                      0.17.1\n",
            "tf-slim                       1.1.0\n",
            "thinc                         8.1.9\n",
            "threadpoolctl                 3.1.0\n",
            "tifffile                      2023.3.21\n",
            "tinycss2                      1.2.1\n",
            "toml                          0.10.2\n",
            "tomli                         2.0.1\n",
            "toolz                         0.12.0\n",
            "torch                         2.0.0+cu118\n",
            "torchaudio                    2.0.1+cu118\n",
            "torchdata                     0.6.0\n",
            "torchsummary                  1.5.1\n",
            "torchtext                     0.15.1\n",
            "torchvision                   0.15.1+cu118\n",
            "tornado                       6.2\n",
            "tqdm                          4.65.0\n",
            "traitlets                     5.7.1\n",
            "triton                        2.0.0\n",
            "tweepy                        4.13.0\n",
            "typer                         0.7.0\n",
            "typing_extensions             4.5.0\n",
            "tzdata                        2023.3\n",
            "tzlocal                       4.3\n",
            "uritemplate                   4.1.1\n",
            "urllib3                       1.26.15\n",
            "vega-datasets                 0.9.0\n",
            "wasabi                        1.1.1\n",
            "wcwidth                       0.2.6\n",
            "webcolors                     1.13\n",
            "webencodings                  0.5.1\n",
            "websocket-client              1.5.1\n",
            "Werkzeug                      2.2.3\n",
            "wheel                         0.40.0\n",
            "widgetsnbextension            3.6.4\n",
            "wordcloud                     1.8.2.2\n",
            "wrapt                         1.14.1\n",
            "xarray                        2022.12.0\n",
            "xarray-einstats               0.5.1\n",
            "xgboost                       1.7.5\n",
            "xlrd                          2.0.1\n",
            "yellowbrick                   1.5\n",
            "yfinance                      0.2.17\n",
            "zict                          2.2.0\n",
            "zipp                          3.15.0\n"
          ]
        }
      ]
    },
    {
      "cell_type": "code",
      "source": [
        "# Ejemplo 1.11.9\n",
        "!pip install --upgrade spacy==3.4.1"
      ],
      "metadata": {
        "colab": {
          "base_uri": "https://localhost:8080/"
        },
        "id": "g2s0I6ndEJc-",
        "outputId": "e5861a05-e77e-4686-e858-20e072d6a4e4"
      },
      "execution_count": null,
      "outputs": [
        {
          "output_type": "stream",
          "name": "stdout",
          "text": [
            "Looking in indexes: https://pypi.org/simple, https://us-python.pkg.dev/colab-wheels/public/simple/\n",
            "Collecting spacy==3.4.1\n",
            "  Downloading spacy-3.4.1-cp39-cp39-manylinux_2_17_x86_64.manylinux2014_x86_64.whl (6.4 MB)\n",
            "\u001b[2K     \u001b[90m━━━━━━━━━━━━━━━━━━━━━━━━━━━━━━━━━━━━━━━━\u001b[0m \u001b[32m6.4/6.4 MB\u001b[0m \u001b[31m11.6 MB/s\u001b[0m eta \u001b[36m0:00:00\u001b[0m\n",
            "\u001b[?25hCollecting typer<0.5.0,>=0.3.0\n",
            "  Downloading typer-0.4.2-py3-none-any.whl (27 kB)\n",
            "Requirement already satisfied: requests<3.0.0,>=2.13.0 in /usr/local/lib/python3.9/dist-packages (from spacy==3.4.1) (2.27.1)\n",
            "Requirement already satisfied: jinja2 in /usr/local/lib/python3.9/dist-packages (from spacy==3.4.1) (3.1.2)\n",
            "Requirement already satisfied: spacy-legacy<3.1.0,>=3.0.9 in /usr/local/lib/python3.9/dist-packages (from spacy==3.4.1) (3.0.12)\n",
            "Requirement already satisfied: tqdm<5.0.0,>=4.38.0 in /usr/local/lib/python3.9/dist-packages (from spacy==3.4.1) (4.65.0)\n",
            "Requirement already satisfied: thinc<8.2.0,>=8.1.0 in /usr/local/lib/python3.9/dist-packages (from spacy==3.4.1) (8.1.9)\n",
            "Requirement already satisfied: setuptools in /usr/local/lib/python3.9/dist-packages (from spacy==3.4.1) (67.6.1)\n",
            "Requirement already satisfied: packaging>=20.0 in /usr/local/lib/python3.9/dist-packages (from spacy==3.4.1) (23.0)\n",
            "Requirement already satisfied: pathy>=0.3.5 in /usr/local/lib/python3.9/dist-packages (from spacy==3.4.1) (0.10.1)\n",
            "Requirement already satisfied: murmurhash<1.1.0,>=0.28.0 in /usr/local/lib/python3.9/dist-packages (from spacy==3.4.1) (1.0.9)\n",
            "Requirement already satisfied: srsly<3.0.0,>=2.4.3 in /usr/local/lib/python3.9/dist-packages (from spacy==3.4.1) (2.4.6)\n",
            "Requirement already satisfied: langcodes<4.0.0,>=3.2.0 in /usr/local/lib/python3.9/dist-packages (from spacy==3.4.1) (3.3.0)\n",
            "Requirement already satisfied: numpy>=1.15.0 in /usr/local/lib/python3.9/dist-packages (from spacy==3.4.1) (1.22.4)\n",
            "Requirement already satisfied: catalogue<2.1.0,>=2.0.6 in /usr/local/lib/python3.9/dist-packages (from spacy==3.4.1) (2.0.8)\n",
            "Requirement already satisfied: spacy-loggers<2.0.0,>=1.0.0 in /usr/local/lib/python3.9/dist-packages (from spacy==3.4.1) (1.0.4)\n",
            "Collecting wasabi<1.1.0,>=0.9.1\n",
            "  Downloading wasabi-0.10.1-py3-none-any.whl (26 kB)\n",
            "Collecting pydantic!=1.8,!=1.8.1,<1.10.0,>=1.7.4\n",
            "  Downloading pydantic-1.9.2-cp39-cp39-manylinux_2_17_x86_64.manylinux2014_x86_64.whl (12.4 MB)\n",
            "\u001b[2K     \u001b[90m━━━━━━━━━━━━━━━━━━━━━━━━━━━━━━━━━━━━━━━━\u001b[0m \u001b[32m12.4/12.4 MB\u001b[0m \u001b[31m61.2 MB/s\u001b[0m eta \u001b[36m0:00:00\u001b[0m\n",
            "\u001b[?25hRequirement already satisfied: cymem<2.1.0,>=2.0.2 in /usr/local/lib/python3.9/dist-packages (from spacy==3.4.1) (2.0.7)\n",
            "Requirement already satisfied: preshed<3.1.0,>=3.0.2 in /usr/local/lib/python3.9/dist-packages (from spacy==3.4.1) (3.0.8)\n",
            "Requirement already satisfied: smart-open<7.0.0,>=5.2.1 in /usr/local/lib/python3.9/dist-packages (from pathy>=0.3.5->spacy==3.4.1) (6.3.0)\n",
            "Requirement already satisfied: typing-extensions>=3.7.4.3 in /usr/local/lib/python3.9/dist-packages (from pydantic!=1.8,!=1.8.1,<1.10.0,>=1.7.4->spacy==3.4.1) (4.5.0)\n",
            "Requirement already satisfied: charset-normalizer~=2.0.0 in /usr/local/lib/python3.9/dist-packages (from requests<3.0.0,>=2.13.0->spacy==3.4.1) (2.0.12)\n",
            "Requirement already satisfied: certifi>=2017.4.17 in /usr/local/lib/python3.9/dist-packages (from requests<3.0.0,>=2.13.0->spacy==3.4.1) (2022.12.7)\n",
            "Requirement already satisfied: urllib3<1.27,>=1.21.1 in /usr/local/lib/python3.9/dist-packages (from requests<3.0.0,>=2.13.0->spacy==3.4.1) (1.26.15)\n",
            "Requirement already satisfied: idna<4,>=2.5 in /usr/local/lib/python3.9/dist-packages (from requests<3.0.0,>=2.13.0->spacy==3.4.1) (3.4)\n",
            "Requirement already satisfied: blis<0.8.0,>=0.7.8 in /usr/local/lib/python3.9/dist-packages (from thinc<8.2.0,>=8.1.0->spacy==3.4.1) (0.7.9)\n",
            "Requirement already satisfied: confection<1.0.0,>=0.0.1 in /usr/local/lib/python3.9/dist-packages (from thinc<8.2.0,>=8.1.0->spacy==3.4.1) (0.0.4)\n",
            "Requirement already satisfied: click<9.0.0,>=7.1.1 in /usr/local/lib/python3.9/dist-packages (from typer<0.5.0,>=0.3.0->spacy==3.4.1) (8.1.3)\n",
            "Requirement already satisfied: MarkupSafe>=2.0 in /usr/local/lib/python3.9/dist-packages (from jinja2->spacy==3.4.1) (2.1.2)\n",
            "Installing collected packages: wasabi, typer, pydantic, spacy\n",
            "  Attempting uninstall: wasabi\n",
            "    Found existing installation: wasabi 1.1.1\n",
            "    Uninstalling wasabi-1.1.1:\n",
            "      Successfully uninstalled wasabi-1.1.1\n",
            "  Attempting uninstall: typer\n",
            "    Found existing installation: typer 0.7.0\n",
            "    Uninstalling typer-0.7.0:\n",
            "      Successfully uninstalled typer-0.7.0\n",
            "  Attempting uninstall: pydantic\n",
            "    Found existing installation: pydantic 1.10.7\n",
            "    Uninstalling pydantic-1.10.7:\n",
            "      Successfully uninstalled pydantic-1.10.7\n",
            "  Attempting uninstall: spacy\n",
            "    Found existing installation: spacy 3.5.1\n",
            "    Uninstalling spacy-3.5.1:\n",
            "      Successfully uninstalled spacy-3.5.1\n",
            "\u001b[31mERROR: pip's dependency resolver does not currently take into account all the packages that are installed. This behaviour is the source of the following dependency conflicts.\n",
            "en-core-web-sm 3.5.0 requires spacy<3.6.0,>=3.5.0, but you have spacy 3.4.1 which is incompatible.\u001b[0m\u001b[31m\n",
            "\u001b[0mSuccessfully installed pydantic-1.9.2 spacy-3.4.1 typer-0.4.2 wasabi-0.10.1\n"
          ]
        }
      ]
    }
  ]
}