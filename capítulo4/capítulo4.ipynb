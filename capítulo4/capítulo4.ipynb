{
 "cells": [
  {
   "cell_type": "markdown",
   "metadata": {
    "id": "-Eq-2T3_9g7M"
   },
   "source": [
    "# Los elementos de la oración"
   ]
  },
  {
   "cell_type": "markdown",
   "metadata": {
    "id": "wT8st4YlU859"
   },
   "source": [
    "## Instalación de dependencias"
   ]
  },
  {
   "cell_type": "code",
   "execution_count": 1,
   "metadata": {
    "colab": {
     "base_uri": "https://localhost:8080/"
    },
    "id": "t19kxpqhBznh",
    "outputId": "3174c5f0-d361-45eb-e085-eddc5c697fd0"
   },
   "outputs": [
    {
     "name": "stdout",
     "output_type": "stream",
     "text": [
      "Requirement already satisfied: spacy==3.4.2 in ./venv/lib/python3.11/site-packages (3.4.2)\n",
      "Requirement already satisfied: spacy-legacy<3.1.0,>=3.0.10 in ./venv/lib/python3.11/site-packages (from spacy==3.4.2) (3.0.12)\n",
      "Requirement already satisfied: spacy-loggers<2.0.0,>=1.0.0 in ./venv/lib/python3.11/site-packages (from spacy==3.4.2) (1.0.4)\n",
      "Requirement already satisfied: murmurhash<1.1.0,>=0.28.0 in ./venv/lib/python3.11/site-packages (from spacy==3.4.2) (1.0.9)\n",
      "Requirement already satisfied: cymem<2.1.0,>=2.0.2 in ./venv/lib/python3.11/site-packages (from spacy==3.4.2) (2.0.7)\n",
      "Requirement already satisfied: preshed<3.1.0,>=3.0.2 in ./venv/lib/python3.11/site-packages (from spacy==3.4.2) (3.0.8)\n",
      "Requirement already satisfied: thinc<8.2.0,>=8.1.0 in ./venv/lib/python3.11/site-packages (from spacy==3.4.2) (8.1.9)\n",
      "Requirement already satisfied: wasabi<1.1.0,>=0.9.1 in ./venv/lib/python3.11/site-packages (from spacy==3.4.2) (0.10.1)\n",
      "Requirement already satisfied: srsly<3.0.0,>=2.4.3 in ./venv/lib/python3.11/site-packages (from spacy==3.4.2) (2.4.6)\n",
      "Requirement already satisfied: catalogue<2.1.0,>=2.0.6 in ./venv/lib/python3.11/site-packages (from spacy==3.4.2) (2.0.8)\n",
      "Requirement already satisfied: typer<0.5.0,>=0.3.0 in ./venv/lib/python3.11/site-packages (from spacy==3.4.2) (0.4.2)\n",
      "Requirement already satisfied: pathy>=0.3.5 in ./venv/lib/python3.11/site-packages (from spacy==3.4.2) (0.10.1)\n",
      "Requirement already satisfied: tqdm<5.0.0,>=4.38.0 in ./venv/lib/python3.11/site-packages (from spacy==3.4.2) (4.65.0)\n",
      "Requirement already satisfied: numpy>=1.15.0 in ./venv/lib/python3.11/site-packages (from spacy==3.4.2) (1.24.2)\n",
      "Requirement already satisfied: requests<3.0.0,>=2.13.0 in ./venv/lib/python3.11/site-packages (from spacy==3.4.2) (2.28.2)\n",
      "Requirement already satisfied: pydantic!=1.8,!=1.8.1,<1.11.0,>=1.7.4 in ./venv/lib/python3.11/site-packages (from spacy==3.4.2) (1.10.7)\n",
      "Requirement already satisfied: jinja2 in ./venv/lib/python3.11/site-packages (from spacy==3.4.2) (3.1.2)\n",
      "Requirement already satisfied: setuptools in ./venv/lib/python3.11/site-packages (from spacy==3.4.2) (65.5.0)\n",
      "Requirement already satisfied: packaging>=20.0 in ./venv/lib/python3.11/site-packages (from spacy==3.4.2) (23.1)\n",
      "Requirement already satisfied: langcodes<4.0.0,>=3.2.0 in ./venv/lib/python3.11/site-packages (from spacy==3.4.2) (3.3.0)\n",
      "Requirement already satisfied: smart-open<7.0.0,>=5.2.1 in ./venv/lib/python3.11/site-packages (from pathy>=0.3.5->spacy==3.4.2) (6.3.0)\n",
      "Requirement already satisfied: typing-extensions>=4.2.0 in ./venv/lib/python3.11/site-packages (from pydantic!=1.8,!=1.8.1,<1.11.0,>=1.7.4->spacy==3.4.2) (4.5.0)\n",
      "Requirement already satisfied: charset-normalizer<4,>=2 in ./venv/lib/python3.11/site-packages (from requests<3.0.0,>=2.13.0->spacy==3.4.2) (3.1.0)\n",
      "Requirement already satisfied: idna<4,>=2.5 in ./venv/lib/python3.11/site-packages (from requests<3.0.0,>=2.13.0->spacy==3.4.2) (3.4)\n",
      "Requirement already satisfied: urllib3<1.27,>=1.21.1 in ./venv/lib/python3.11/site-packages (from requests<3.0.0,>=2.13.0->spacy==3.4.2) (1.26.15)\n",
      "Requirement already satisfied: certifi>=2017.4.17 in ./venv/lib/python3.11/site-packages (from requests<3.0.0,>=2.13.0->spacy==3.4.2) (2022.12.7)\n",
      "Requirement already satisfied: blis<0.8.0,>=0.7.8 in ./venv/lib/python3.11/site-packages (from thinc<8.2.0,>=8.1.0->spacy==3.4.2) (0.7.9)\n",
      "Requirement already satisfied: confection<1.0.0,>=0.0.1 in ./venv/lib/python3.11/site-packages (from thinc<8.2.0,>=8.1.0->spacy==3.4.2) (0.0.4)\n",
      "Requirement already satisfied: click<9.0.0,>=7.1.1 in ./venv/lib/python3.11/site-packages (from typer<0.5.0,>=0.3.0->spacy==3.4.2) (8.1.3)\n",
      "Requirement already satisfied: MarkupSafe>=2.0 in ./venv/lib/python3.11/site-packages (from jinja2->spacy==3.4.2) (2.1.2)\n",
      "Requirement already satisfied: flair==0.12.2 in ./venv/lib/python3.11/site-packages (0.12.2)\n",
      "Requirement already satisfied: python-dateutil>=2.6.1 in ./venv/lib/python3.11/site-packages (from flair==0.12.2) (2.8.2)\n",
      "Requirement already satisfied: torch!=1.8,>=1.5.0 in ./venv/lib/python3.11/site-packages (from flair==0.12.2) (2.0.0)\n",
      "Requirement already satisfied: gensim>=3.8.0 in ./venv/lib/python3.11/site-packages (from flair==0.12.2) (4.3.1)\n",
      "Requirement already satisfied: tqdm>=4.26.0 in ./venv/lib/python3.11/site-packages (from flair==0.12.2) (4.65.0)\n",
      "Requirement already satisfied: segtok>=1.5.7 in ./venv/lib/python3.11/site-packages (from flair==0.12.2) (1.5.11)\n",
      "Requirement already satisfied: matplotlib>=2.2.3 in ./venv/lib/python3.11/site-packages (from flair==0.12.2) (3.7.1)\n",
      "Requirement already satisfied: mpld3==0.3 in ./venv/lib/python3.11/site-packages (from flair==0.12.2) (0.3)\n",
      "Requirement already satisfied: scikit-learn>=0.21.3 in ./venv/lib/python3.11/site-packages (from flair==0.12.2) (1.2.2)\n",
      "Requirement already satisfied: sqlitedict>=1.6.0 in ./venv/lib/python3.11/site-packages (from flair==0.12.2) (2.1.0)\n",
      "Requirement already satisfied: deprecated>=1.2.4 in ./venv/lib/python3.11/site-packages (from flair==0.12.2) (1.2.13)\n",
      "Requirement already satisfied: hyperopt>=0.2.7 in ./venv/lib/python3.11/site-packages (from flair==0.12.2) (0.2.7)\n",
      "Requirement already satisfied: boto3 in ./venv/lib/python3.11/site-packages (from flair==0.12.2) (1.26.115)\n",
      "Requirement already satisfied: transformers[sentencepiece]>=4.18.0 in ./venv/lib/python3.11/site-packages (from flair==0.12.2) (4.28.1)\n",
      "Requirement already satisfied: bpemb>=0.3.2 in ./venv/lib/python3.11/site-packages (from flair==0.12.2) (0.3.4)\n",
      "Requirement already satisfied: regex in ./venv/lib/python3.11/site-packages (from flair==0.12.2) (2023.3.23)\n",
      "Requirement already satisfied: tabulate in ./venv/lib/python3.11/site-packages (from flair==0.12.2) (0.9.0)\n",
      "Requirement already satisfied: langdetect in ./venv/lib/python3.11/site-packages (from flair==0.12.2) (1.0.9)\n",
      "Requirement already satisfied: lxml in ./venv/lib/python3.11/site-packages (from flair==0.12.2) (4.9.2)\n",
      "Requirement already satisfied: ftfy in ./venv/lib/python3.11/site-packages (from flair==0.12.2) (6.1.1)\n",
      "Requirement already satisfied: janome in ./venv/lib/python3.11/site-packages (from flair==0.12.2) (0.4.2)\n",
      "Requirement already satisfied: gdown==4.4.0 in ./venv/lib/python3.11/site-packages (from flair==0.12.2) (4.4.0)\n",
      "Requirement already satisfied: huggingface-hub>=0.10.0 in ./venv/lib/python3.11/site-packages (from flair==0.12.2) (0.13.4)\n",
      "Requirement already satisfied: conllu>=4.0 in ./venv/lib/python3.11/site-packages (from flair==0.12.2) (4.5.2)\n",
      "Requirement already satisfied: more-itertools in ./venv/lib/python3.11/site-packages (from flair==0.12.2) (9.1.0)\n",
      "Requirement already satisfied: wikipedia-api in ./venv/lib/python3.11/site-packages (from flair==0.12.2) (0.5.8)\n",
      "Requirement already satisfied: pptree in ./venv/lib/python3.11/site-packages (from flair==0.12.2) (3.1)\n",
      "Requirement already satisfied: pytorch-revgrad in ./venv/lib/python3.11/site-packages (from flair==0.12.2) (0.2.0)\n",
      "Requirement already satisfied: transformer-smaller-training-vocab>=0.2.1 in ./venv/lib/python3.11/site-packages (from flair==0.12.2) (0.2.3)\n",
      "Requirement already satisfied: filelock in ./venv/lib/python3.11/site-packages (from gdown==4.4.0->flair==0.12.2) (3.12.0)\n",
      "Requirement already satisfied: requests[socks] in ./venv/lib/python3.11/site-packages (from gdown==4.4.0->flair==0.12.2) (2.28.2)\n",
      "Requirement already satisfied: six in ./venv/lib/python3.11/site-packages (from gdown==4.4.0->flair==0.12.2) (1.16.0)\n",
      "Requirement already satisfied: beautifulsoup4 in ./venv/lib/python3.11/site-packages (from gdown==4.4.0->flair==0.12.2) (4.12.2)\n",
      "Requirement already satisfied: numpy in ./venv/lib/python3.11/site-packages (from bpemb>=0.3.2->flair==0.12.2) (1.24.2)\n",
      "Requirement already satisfied: sentencepiece in ./venv/lib/python3.11/site-packages (from bpemb>=0.3.2->flair==0.12.2) (0.1.98)\n",
      "Requirement already satisfied: wrapt<2,>=1.10 in ./venv/lib/python3.11/site-packages (from deprecated>=1.2.4->flair==0.12.2) (1.15.0)\n",
      "Requirement already satisfied: scipy>=1.7.0 in ./venv/lib/python3.11/site-packages (from gensim>=3.8.0->flair==0.12.2) (1.10.1)\n",
      "Requirement already satisfied: smart-open>=1.8.1 in ./venv/lib/python3.11/site-packages (from gensim>=3.8.0->flair==0.12.2) (6.3.0)\n",
      "Requirement already satisfied: pyyaml>=5.1 in ./venv/lib/python3.11/site-packages (from huggingface-hub>=0.10.0->flair==0.12.2) (6.0)\n",
      "Requirement already satisfied: typing-extensions>=3.7.4.3 in ./venv/lib/python3.11/site-packages (from huggingface-hub>=0.10.0->flair==0.12.2) (4.5.0)\n",
      "Requirement already satisfied: packaging>=20.9 in ./venv/lib/python3.11/site-packages (from huggingface-hub>=0.10.0->flair==0.12.2) (23.1)\n"
     ]
    },
    {
     "name": "stdout",
     "output_type": "stream",
     "text": [
      "Requirement already satisfied: networkx>=2.2 in ./venv/lib/python3.11/site-packages (from hyperopt>=0.2.7->flair==0.12.2) (3.1)\n",
      "Requirement already satisfied: future in ./venv/lib/python3.11/site-packages (from hyperopt>=0.2.7->flair==0.12.2) (0.18.3)\n",
      "Requirement already satisfied: cloudpickle in ./venv/lib/python3.11/site-packages (from hyperopt>=0.2.7->flair==0.12.2) (2.2.1)\n",
      "Requirement already satisfied: py4j in ./venv/lib/python3.11/site-packages (from hyperopt>=0.2.7->flair==0.12.2) (0.10.9.7)\n",
      "Requirement already satisfied: contourpy>=1.0.1 in ./venv/lib/python3.11/site-packages (from matplotlib>=2.2.3->flair==0.12.2) (1.0.7)\n",
      "Requirement already satisfied: cycler>=0.10 in ./venv/lib/python3.11/site-packages (from matplotlib>=2.2.3->flair==0.12.2) (0.11.0)\n",
      "Requirement already satisfied: fonttools>=4.22.0 in ./venv/lib/python3.11/site-packages (from matplotlib>=2.2.3->flair==0.12.2) (4.39.3)\n",
      "Requirement already satisfied: kiwisolver>=1.0.1 in ./venv/lib/python3.11/site-packages (from matplotlib>=2.2.3->flair==0.12.2) (1.4.4)\n",
      "Requirement already satisfied: pillow>=6.2.0 in ./venv/lib/python3.11/site-packages (from matplotlib>=2.2.3->flair==0.12.2) (9.5.0)\n",
      "Requirement already satisfied: pyparsing>=2.3.1 in ./venv/lib/python3.11/site-packages (from matplotlib>=2.2.3->flair==0.12.2) (3.0.9)\n",
      "Requirement already satisfied: joblib>=1.1.1 in ./venv/lib/python3.11/site-packages (from scikit-learn>=0.21.3->flair==0.12.2) (1.2.0)\n",
      "Requirement already satisfied: threadpoolctl>=2.0.0 in ./venv/lib/python3.11/site-packages (from scikit-learn>=0.21.3->flair==0.12.2) (3.1.0)\n",
      "Requirement already satisfied: sympy in ./venv/lib/python3.11/site-packages (from torch!=1.8,>=1.5.0->flair==0.12.2) (1.11.1)\n",
      "Requirement already satisfied: jinja2 in ./venv/lib/python3.11/site-packages (from torch!=1.8,>=1.5.0->flair==0.12.2) (3.1.2)\n",
      "Requirement already satisfied: nvidia-cuda-nvrtc-cu11==11.7.99 in ./venv/lib/python3.11/site-packages (from torch!=1.8,>=1.5.0->flair==0.12.2) (11.7.99)\n",
      "Requirement already satisfied: nvidia-cuda-runtime-cu11==11.7.99 in ./venv/lib/python3.11/site-packages (from torch!=1.8,>=1.5.0->flair==0.12.2) (11.7.99)\n",
      "Requirement already satisfied: nvidia-cuda-cupti-cu11==11.7.101 in ./venv/lib/python3.11/site-packages (from torch!=1.8,>=1.5.0->flair==0.12.2) (11.7.101)\n",
      "Requirement already satisfied: nvidia-cudnn-cu11==8.5.0.96 in ./venv/lib/python3.11/site-packages (from torch!=1.8,>=1.5.0->flair==0.12.2) (8.5.0.96)\n",
      "Requirement already satisfied: nvidia-cublas-cu11==11.10.3.66 in ./venv/lib/python3.11/site-packages (from torch!=1.8,>=1.5.0->flair==0.12.2) (11.10.3.66)\n",
      "Requirement already satisfied: nvidia-cufft-cu11==10.9.0.58 in ./venv/lib/python3.11/site-packages (from torch!=1.8,>=1.5.0->flair==0.12.2) (10.9.0.58)\n",
      "Requirement already satisfied: nvidia-curand-cu11==10.2.10.91 in ./venv/lib/python3.11/site-packages (from torch!=1.8,>=1.5.0->flair==0.12.2) (10.2.10.91)\n",
      "Requirement already satisfied: nvidia-cusolver-cu11==11.4.0.1 in ./venv/lib/python3.11/site-packages (from torch!=1.8,>=1.5.0->flair==0.12.2) (11.4.0.1)\n",
      "Requirement already satisfied: nvidia-cusparse-cu11==11.7.4.91 in ./venv/lib/python3.11/site-packages (from torch!=1.8,>=1.5.0->flair==0.12.2) (11.7.4.91)\n",
      "Requirement already satisfied: nvidia-nccl-cu11==2.14.3 in ./venv/lib/python3.11/site-packages (from torch!=1.8,>=1.5.0->flair==0.12.2) (2.14.3)\n",
      "Requirement already satisfied: nvidia-nvtx-cu11==11.7.91 in ./venv/lib/python3.11/site-packages (from torch!=1.8,>=1.5.0->flair==0.12.2) (11.7.91)\n",
      "Requirement already satisfied: triton==2.0.0 in ./venv/lib/python3.11/site-packages (from torch!=1.8,>=1.5.0->flair==0.12.2) (2.0.0)\n",
      "Requirement already satisfied: setuptools in ./venv/lib/python3.11/site-packages (from nvidia-cublas-cu11==11.10.3.66->torch!=1.8,>=1.5.0->flair==0.12.2) (65.5.0)\n",
      "Requirement already satisfied: wheel in ./venv/lib/python3.11/site-packages (from nvidia-cublas-cu11==11.10.3.66->torch!=1.8,>=1.5.0->flair==0.12.2) (0.40.0)\n",
      "Requirement already satisfied: cmake in ./venv/lib/python3.11/site-packages (from triton==2.0.0->torch!=1.8,>=1.5.0->flair==0.12.2) (3.26.3)\n",
      "Requirement already satisfied: lit in ./venv/lib/python3.11/site-packages (from triton==2.0.0->torch!=1.8,>=1.5.0->flair==0.12.2) (16.0.1)\n",
      "Requirement already satisfied: datasets<3.0.0,>=2.0.0 in ./venv/lib/python3.11/site-packages (from transformer-smaller-training-vocab>=0.2.1->flair==0.12.2) (2.11.0)\n",
      "Requirement already satisfied: tokenizers!=0.11.3,<0.14,>=0.11.1 in ./venv/lib/python3.11/site-packages (from transformers[sentencepiece]>=4.18.0->flair==0.12.2) (0.13.3)\n",
      "Requirement already satisfied: protobuf<=3.20.2 in ./venv/lib/python3.11/site-packages (from transformers[sentencepiece]>=4.18.0->flair==0.12.2) (3.20.2)\n",
      "Requirement already satisfied: botocore<1.30.0,>=1.29.115 in ./venv/lib/python3.11/site-packages (from boto3->flair==0.12.2) (1.29.115)\n",
      "Requirement already satisfied: jmespath<2.0.0,>=0.7.1 in ./venv/lib/python3.11/site-packages (from boto3->flair==0.12.2) (1.0.1)\n",
      "Requirement already satisfied: s3transfer<0.7.0,>=0.6.0 in ./venv/lib/python3.11/site-packages (from boto3->flair==0.12.2) (0.6.0)\n",
      "Requirement already satisfied: wcwidth>=0.2.5 in ./venv/lib/python3.11/site-packages (from ftfy->flair==0.12.2) (0.2.6)\n",
      "Requirement already satisfied: urllib3<1.27,>=1.25.4 in ./venv/lib/python3.11/site-packages (from botocore<1.30.0,>=1.29.115->boto3->flair==0.12.2) (1.26.15)\n",
      "Requirement already satisfied: pyarrow>=8.0.0 in ./venv/lib/python3.11/site-packages (from datasets<3.0.0,>=2.0.0->transformer-smaller-training-vocab>=0.2.1->flair==0.12.2) (11.0.0)\n",
      "Requirement already satisfied: dill<0.3.7,>=0.3.0 in ./venv/lib/python3.11/site-packages (from datasets<3.0.0,>=2.0.0->transformer-smaller-training-vocab>=0.2.1->flair==0.12.2) (0.3.6)\n",
      "Requirement already satisfied: pandas in ./venv/lib/python3.11/site-packages (from datasets<3.0.0,>=2.0.0->transformer-smaller-training-vocab>=0.2.1->flair==0.12.2) (2.0.0)\n",
      "Requirement already satisfied: xxhash in ./venv/lib/python3.11/site-packages (from datasets<3.0.0,>=2.0.0->transformer-smaller-training-vocab>=0.2.1->flair==0.12.2) (3.2.0)\n",
      "Requirement already satisfied: multiprocess in ./venv/lib/python3.11/site-packages (from datasets<3.0.0,>=2.0.0->transformer-smaller-training-vocab>=0.2.1->flair==0.12.2) (0.70.14)\n",
      "Requirement already satisfied: fsspec[http]>=2021.11.1 in ./venv/lib/python3.11/site-packages (from datasets<3.0.0,>=2.0.0->transformer-smaller-training-vocab>=0.2.1->flair==0.12.2) (2023.4.0)\n",
      "Requirement already satisfied: aiohttp in ./venv/lib/python3.11/site-packages (from datasets<3.0.0,>=2.0.0->transformer-smaller-training-vocab>=0.2.1->flair==0.12.2) (3.8.4)\n",
      "Requirement already satisfied: responses<0.19 in ./venv/lib/python3.11/site-packages (from datasets<3.0.0,>=2.0.0->transformer-smaller-training-vocab>=0.2.1->flair==0.12.2) (0.18.0)\n",
      "Requirement already satisfied: charset-normalizer<4,>=2 in ./venv/lib/python3.11/site-packages (from requests[socks]->gdown==4.4.0->flair==0.12.2) (3.1.0)\n",
      "Requirement already satisfied: idna<4,>=2.5 in ./venv/lib/python3.11/site-packages (from requests[socks]->gdown==4.4.0->flair==0.12.2) (3.4)\n",
      "Requirement already satisfied: certifi>=2017.4.17 in ./venv/lib/python3.11/site-packages (from requests[socks]->gdown==4.4.0->flair==0.12.2) (2022.12.7)\n",
      "Requirement already satisfied: soupsieve>1.2 in ./venv/lib/python3.11/site-packages (from beautifulsoup4->gdown==4.4.0->flair==0.12.2) (2.4.1)\n",
      "Requirement already satisfied: MarkupSafe>=2.0 in ./venv/lib/python3.11/site-packages (from jinja2->torch!=1.8,>=1.5.0->flair==0.12.2) (2.1.2)\n",
      "Requirement already satisfied: PySocks!=1.5.7,>=1.5.6 in ./venv/lib/python3.11/site-packages (from requests[socks]->gdown==4.4.0->flair==0.12.2) (1.7.1)\n",
      "Requirement already satisfied: mpmath>=0.19 in ./venv/lib/python3.11/site-packages (from sympy->torch!=1.8,>=1.5.0->flair==0.12.2) (1.3.0)\n",
      "Requirement already satisfied: attrs>=17.3.0 in ./venv/lib/python3.11/site-packages (from aiohttp->datasets<3.0.0,>=2.0.0->transformer-smaller-training-vocab>=0.2.1->flair==0.12.2) (23.1.0)\n",
      "Requirement already satisfied: multidict<7.0,>=4.5 in ./venv/lib/python3.11/site-packages (from aiohttp->datasets<3.0.0,>=2.0.0->transformer-smaller-training-vocab>=0.2.1->flair==0.12.2) (6.0.4)\n",
      "Requirement already satisfied: async-timeout<5.0,>=4.0.0a3 in ./venv/lib/python3.11/site-packages (from aiohttp->datasets<3.0.0,>=2.0.0->transformer-smaller-training-vocab>=0.2.1->flair==0.12.2) (4.0.2)\n",
      "Requirement already satisfied: yarl<2.0,>=1.0 in ./venv/lib/python3.11/site-packages (from aiohttp->datasets<3.0.0,>=2.0.0->transformer-smaller-training-vocab>=0.2.1->flair==0.12.2) (1.8.2)\n",
      "Requirement already satisfied: frozenlist>=1.1.1 in ./venv/lib/python3.11/site-packages (from aiohttp->datasets<3.0.0,>=2.0.0->transformer-smaller-training-vocab>=0.2.1->flair==0.12.2) (1.3.3)\n",
      "Requirement already satisfied: aiosignal>=1.1.2 in ./venv/lib/python3.11/site-packages (from aiohttp->datasets<3.0.0,>=2.0.0->transformer-smaller-training-vocab>=0.2.1->flair==0.12.2) (1.3.1)\n"
     ]
    },
    {
     "name": "stdout",
     "output_type": "stream",
     "text": [
      "Requirement already satisfied: pytz>=2020.1 in ./venv/lib/python3.11/site-packages (from pandas->datasets<3.0.0,>=2.0.0->transformer-smaller-training-vocab>=0.2.1->flair==0.12.2) (2023.3)\n",
      "Requirement already satisfied: tzdata>=2022.1 in ./venv/lib/python3.11/site-packages (from pandas->datasets<3.0.0,>=2.0.0->transformer-smaller-training-vocab>=0.2.1->flair==0.12.2) (2023.3)\n",
      "Collecting es-core-news-lg==3.4.0\n",
      "  Downloading https://github.com/explosion/spacy-models/releases/download/es_core_news_lg-3.4.0/es_core_news_lg-3.4.0-py3-none-any.whl (568.0 MB)\n",
      "\u001b[2K     \u001b[38;2;114;156;31m━━━━━━━━━━━━━━━━━━━━━━━━━━━━━━━━━━━━━━━\u001b[0m \u001b[32m568.0/568.0 MB\u001b[0m \u001b[31m6.9 MB/s\u001b[0m eta \u001b[36m0:00:00\u001b[0mm eta \u001b[36m0:00:01\u001b[0m[36m0:00:01\u001b[0m\n",
      "\u001b[?25hRequirement already satisfied: spacy<3.5.0,>=3.4.0 in ./venv/lib/python3.11/site-packages (from es-core-news-lg==3.4.0) (3.4.2)\n",
      "Requirement already satisfied: spacy-legacy<3.1.0,>=3.0.10 in ./venv/lib/python3.11/site-packages (from spacy<3.5.0,>=3.4.0->es-core-news-lg==3.4.0) (3.0.12)\n",
      "Requirement already satisfied: spacy-loggers<2.0.0,>=1.0.0 in ./venv/lib/python3.11/site-packages (from spacy<3.5.0,>=3.4.0->es-core-news-lg==3.4.0) (1.0.4)\n",
      "Requirement already satisfied: murmurhash<1.1.0,>=0.28.0 in ./venv/lib/python3.11/site-packages (from spacy<3.5.0,>=3.4.0->es-core-news-lg==3.4.0) (1.0.9)\n",
      "Requirement already satisfied: cymem<2.1.0,>=2.0.2 in ./venv/lib/python3.11/site-packages (from spacy<3.5.0,>=3.4.0->es-core-news-lg==3.4.0) (2.0.7)\n",
      "Requirement already satisfied: preshed<3.1.0,>=3.0.2 in ./venv/lib/python3.11/site-packages (from spacy<3.5.0,>=3.4.0->es-core-news-lg==3.4.0) (3.0.8)\n",
      "Requirement already satisfied: thinc<8.2.0,>=8.1.0 in ./venv/lib/python3.11/site-packages (from spacy<3.5.0,>=3.4.0->es-core-news-lg==3.4.0) (8.1.9)\n",
      "Requirement already satisfied: wasabi<1.1.0,>=0.9.1 in ./venv/lib/python3.11/site-packages (from spacy<3.5.0,>=3.4.0->es-core-news-lg==3.4.0) (0.10.1)\n",
      "Requirement already satisfied: srsly<3.0.0,>=2.4.3 in ./venv/lib/python3.11/site-packages (from spacy<3.5.0,>=3.4.0->es-core-news-lg==3.4.0) (2.4.6)\n",
      "Requirement already satisfied: catalogue<2.1.0,>=2.0.6 in ./venv/lib/python3.11/site-packages (from spacy<3.5.0,>=3.4.0->es-core-news-lg==3.4.0) (2.0.8)\n",
      "Requirement already satisfied: typer<0.5.0,>=0.3.0 in ./venv/lib/python3.11/site-packages (from spacy<3.5.0,>=3.4.0->es-core-news-lg==3.4.0) (0.4.2)\n",
      "Requirement already satisfied: pathy>=0.3.5 in ./venv/lib/python3.11/site-packages (from spacy<3.5.0,>=3.4.0->es-core-news-lg==3.4.0) (0.10.1)\n",
      "Requirement already satisfied: tqdm<5.0.0,>=4.38.0 in ./venv/lib/python3.11/site-packages (from spacy<3.5.0,>=3.4.0->es-core-news-lg==3.4.0) (4.65.0)\n",
      "Requirement already satisfied: numpy>=1.15.0 in ./venv/lib/python3.11/site-packages (from spacy<3.5.0,>=3.4.0->es-core-news-lg==3.4.0) (1.24.2)\n",
      "Requirement already satisfied: requests<3.0.0,>=2.13.0 in ./venv/lib/python3.11/site-packages (from spacy<3.5.0,>=3.4.0->es-core-news-lg==3.4.0) (2.28.2)\n",
      "Requirement already satisfied: pydantic!=1.8,!=1.8.1,<1.11.0,>=1.7.4 in ./venv/lib/python3.11/site-packages (from spacy<3.5.0,>=3.4.0->es-core-news-lg==3.4.0) (1.10.7)\n",
      "Requirement already satisfied: jinja2 in ./venv/lib/python3.11/site-packages (from spacy<3.5.0,>=3.4.0->es-core-news-lg==3.4.0) (3.1.2)\n",
      "Requirement already satisfied: setuptools in ./venv/lib/python3.11/site-packages (from spacy<3.5.0,>=3.4.0->es-core-news-lg==3.4.0) (65.5.0)\n",
      "Requirement already satisfied: packaging>=20.0 in ./venv/lib/python3.11/site-packages (from spacy<3.5.0,>=3.4.0->es-core-news-lg==3.4.0) (23.1)\n",
      "Requirement already satisfied: langcodes<4.0.0,>=3.2.0 in ./venv/lib/python3.11/site-packages (from spacy<3.5.0,>=3.4.0->es-core-news-lg==3.4.0) (3.3.0)\n",
      "Requirement already satisfied: smart-open<7.0.0,>=5.2.1 in ./venv/lib/python3.11/site-packages (from pathy>=0.3.5->spacy<3.5.0,>=3.4.0->es-core-news-lg==3.4.0) (6.3.0)\n",
      "Requirement already satisfied: typing-extensions>=4.2.0 in ./venv/lib/python3.11/site-packages (from pydantic!=1.8,!=1.8.1,<1.11.0,>=1.7.4->spacy<3.5.0,>=3.4.0->es-core-news-lg==3.4.0) (4.5.0)\n",
      "Requirement already satisfied: charset-normalizer<4,>=2 in ./venv/lib/python3.11/site-packages (from requests<3.0.0,>=2.13.0->spacy<3.5.0,>=3.4.0->es-core-news-lg==3.4.0) (3.1.0)\n",
      "Requirement already satisfied: idna<4,>=2.5 in ./venv/lib/python3.11/site-packages (from requests<3.0.0,>=2.13.0->spacy<3.5.0,>=3.4.0->es-core-news-lg==3.4.0) (3.4)\n",
      "Requirement already satisfied: urllib3<1.27,>=1.21.1 in ./venv/lib/python3.11/site-packages (from requests<3.0.0,>=2.13.0->spacy<3.5.0,>=3.4.0->es-core-news-lg==3.4.0) (1.26.15)\n",
      "Requirement already satisfied: certifi>=2017.4.17 in ./venv/lib/python3.11/site-packages (from requests<3.0.0,>=2.13.0->spacy<3.5.0,>=3.4.0->es-core-news-lg==3.4.0) (2022.12.7)\n",
      "Requirement already satisfied: blis<0.8.0,>=0.7.8 in ./venv/lib/python3.11/site-packages (from thinc<8.2.0,>=8.1.0->spacy<3.5.0,>=3.4.0->es-core-news-lg==3.4.0) (0.7.9)\n",
      "Requirement already satisfied: confection<1.0.0,>=0.0.1 in ./venv/lib/python3.11/site-packages (from thinc<8.2.0,>=8.1.0->spacy<3.5.0,>=3.4.0->es-core-news-lg==3.4.0) (0.0.4)\n",
      "Requirement already satisfied: click<9.0.0,>=7.1.1 in ./venv/lib/python3.11/site-packages (from typer<0.5.0,>=0.3.0->spacy<3.5.0,>=3.4.0->es-core-news-lg==3.4.0) (8.1.3)\n",
      "Requirement already satisfied: MarkupSafe>=2.0 in ./venv/lib/python3.11/site-packages (from jinja2->spacy<3.5.0,>=3.4.0->es-core-news-lg==3.4.0) (2.1.2)\n",
      "\u001b[38;5;2m✔ Download and installation successful\u001b[0m\n",
      "You can now load the package via spacy.load('es_core_news_lg')\n"
     ]
    }
   ],
   "source": [
    "# Instala paquetes\n",
    "!pip install spacy==3.4.2\n",
    "!pip install flair==0.12.2\n",
    "\n",
    "# Instala pipeline en español\n",
    "!python -m spacy download es_core_news_lg\n",
    "# !pip install es-core-news-lg==3.4.0"
   ]
  },
  {
   "cell_type": "markdown",
   "metadata": {},
   "source": [
    "## Introducción"
   ]
  },
  {
   "cell_type": "code",
   "execution_count": 2,
   "metadata": {
    "id": "UAx8nTenPnAN",
    "tags": []
   },
   "outputs": [],
   "source": [
    "import spacy\n",
    "nlp = spacy.load(\"es_core_news_lg\")\n",
    "\n",
    "# Inspirado en https://twitter.com/i/events/1580914939908218881\n",
    "tuit = '''Dos activistas del grupo ecologista Just Stop Oil han lanzado sopa de tomate sobre el cuadro de Los girasoles de Van Gogh en la National Gallery de Londres. Persiguen que el gobierno de Liz Truss paralice todos los nuevos proyectos de petróleo y gas. La acción ha recordado al 'tartazo' que recibió La Gioconda en mayo de 2022.'''\n",
    "doc = nlp(tuit)"
   ]
  },
  {
   "cell_type": "markdown",
   "metadata": {
    "id": "yd9N-JbCVCTD"
   },
   "source": [
    "## Análisis morfológico de palabras"
   ]
  },
  {
   "cell_type": "code",
   "execution_count": 3,
   "metadata": {
    "colab": {
     "base_uri": "https://localhost:8080/"
    },
    "id": "eN9lSDt_COba",
    "outputId": "ef5d5869-a0af-4729-d8ca-5a0120ddf33a",
    "tags": []
   },
   "outputs": [
    {
     "name": "stdout",
     "output_type": "stream",
     "text": [
      "Dos  --> NumType=Card|Number=Plur\n",
      "activistas  --> Number=Plur\n",
      "del  --> Definite=Def|Gender=Masc|Number=Sing|PronType=Art\n",
      "grupo  --> Gender=Masc|Number=Sing\n",
      "ecologista  --> Number=Sing\n",
      "Just  --> \n",
      "Stop  --> \n",
      "Oil  --> \n",
      "han  --> Mood=Ind|Number=Plur|Person=3|Tense=Pres|VerbForm=Fin\n",
      "lanzado  --> Gender=Masc|Number=Sing|Tense=Past|VerbForm=Part\n",
      "sopa  --> Gender=Fem|Number=Sing\n",
      "de  --> \n",
      "tomate  --> Gender=Masc|Number=Sing\n",
      "sobre  --> \n",
      "el  --> Definite=Def|Gender=Masc|Number=Sing|PronType=Art\n",
      "cuadro  --> Gender=Masc|Number=Sing\n",
      "de  --> \n",
      "Los  --> Definite=Def|Gender=Masc|Number=Plur|PronType=Art\n",
      "girasoles  --> Gender=Masc|Number=Plur\n",
      "de  --> \n",
      "Van  --> \n",
      "Gogh  --> \n",
      "en  --> \n",
      "la  --> Definite=Def|Gender=Fem|Number=Sing|PronType=Art\n",
      "National  --> \n",
      "Gallery  --> \n",
      "de  --> \n",
      "Londres  --> \n",
      ".  --> PunctType=Peri\n",
      "Persiguen  --> Mood=Ind|Number=Plur|Person=3|Tense=Pres|VerbForm=Fin\n",
      "que  --> \n",
      "el  --> Definite=Def|Gender=Masc|Number=Sing|PronType=Art\n",
      "gobierno  --> Gender=Masc|Number=Sing\n",
      "de  --> \n",
      "Liz  --> \n",
      "Truss  --> \n",
      "paralice  --> Mood=Sub|Number=Sing|Person=3|Tense=Pres|VerbForm=Fin\n",
      "todos  --> Gender=Masc|Number=Plur|PronType=Tot\n",
      "los  --> Definite=Def|Gender=Masc|Number=Plur|PronType=Art\n",
      "nuevos  --> Gender=Masc|Number=Plur\n",
      "proyectos  --> Gender=Masc|Number=Plur\n",
      "de  --> \n",
      "petróleo  --> Gender=Masc|Number=Sing\n",
      "y  --> \n",
      "gas  --> Gender=Masc|Number=Sing\n",
      ".  --> PunctType=Peri\n",
      "La  --> Definite=Def|Gender=Fem|Number=Sing|PronType=Art\n",
      "acción  --> Gender=Fem|Number=Sing\n",
      "ha  --> Mood=Ind|Number=Sing|Person=3|Tense=Pres|VerbForm=Fin\n",
      "recordado  --> Gender=Masc|Number=Sing|Tense=Past|VerbForm=Part\n",
      "al  --> Definite=Def|Gender=Masc|Number=Sing|PronType=Art\n",
      "'  --> \n",
      "tartazo  --> Gender=Masc|Number=Sing\n",
      "'  --> \n",
      "que  --> PronType=Int,Rel\n",
      "recibió  --> Mood=Ind|Number=Sing|Person=3|Tense=Past|VerbForm=Fin\n",
      "La  --> Definite=Def|Gender=Fem|Number=Sing|PronType=Art\n",
      "Gioconda  --> \n",
      "en  --> \n",
      "mayo  --> \n",
      "de  --> \n",
      "2022  --> NumForm=Digit|NumType=Card\n",
      ".  --> PunctType=Peri\n"
     ]
    }
   ],
   "source": [
    "# Ejemplo 4.2.1\n",
    "# Morfologia de cada palabra\n",
    "for token in doc:\n",
    "  print(token, ' -->', token.morph)\n",
    "\n",
    "# Explicación de cada campo y valor en https://universaldependencies.org/u/feat/index.html"
   ]
  },
  {
   "cell_type": "code",
   "execution_count": 4,
   "metadata": {
    "colab": {
     "base_uri": "https://localhost:8080/"
    },
    "id": "_VEKt4fHVSWc",
    "outputId": "e9ac195b-50ac-447c-a7c7-31ab4ca814d8"
   },
   "outputs": [
    {
     "name": "stdout",
     "output_type": "stream",
     "text": [
      "Dos  --> {'NumType': 'Card', 'Number': 'Plur'}\n",
      "activistas  --> {'Number': 'Plur'}\n",
      "del  --> {'Definite': 'Def', 'Gender': 'Masc', 'Number': 'Sing', 'PronType': 'Art'}\n",
      "grupo  --> {'Gender': 'Masc', 'Number': 'Sing'}\n",
      "ecologista  --> {'Number': 'Sing'}\n",
      "Just  --> {}\n",
      "Stop  --> {}\n",
      "Oil  --> {}\n",
      "han  --> {'Mood': 'Ind', 'Number': 'Plur', 'Person': '3', 'Tense': 'Pres', 'VerbForm': 'Fin'}\n",
      "lanzado  --> {'Gender': 'Masc', 'Number': 'Sing', 'Tense': 'Past', 'VerbForm': 'Part'}\n",
      "sopa  --> {'Gender': 'Fem', 'Number': 'Sing'}\n",
      "de  --> {}\n",
      "tomate  --> {'Gender': 'Masc', 'Number': 'Sing'}\n",
      "sobre  --> {}\n",
      "el  --> {'Definite': 'Def', 'Gender': 'Masc', 'Number': 'Sing', 'PronType': 'Art'}\n",
      "cuadro  --> {'Gender': 'Masc', 'Number': 'Sing'}\n",
      "de  --> {}\n",
      "Los  --> {'Definite': 'Def', 'Gender': 'Masc', 'Number': 'Plur', 'PronType': 'Art'}\n",
      "girasoles  --> {'Gender': 'Masc', 'Number': 'Plur'}\n",
      "de  --> {}\n",
      "Van  --> {}\n",
      "Gogh  --> {}\n",
      "en  --> {}\n",
      "la  --> {'Definite': 'Def', 'Gender': 'Fem', 'Number': 'Sing', 'PronType': 'Art'}\n",
      "National  --> {}\n",
      "Gallery  --> {}\n",
      "de  --> {}\n",
      "Londres  --> {}\n",
      ".  --> {'PunctType': 'Peri'}\n",
      "Persiguen  --> {'Mood': 'Ind', 'Number': 'Plur', 'Person': '3', 'Tense': 'Pres', 'VerbForm': 'Fin'}\n",
      "que  --> {}\n",
      "el  --> {'Definite': 'Def', 'Gender': 'Masc', 'Number': 'Sing', 'PronType': 'Art'}\n",
      "gobierno  --> {'Gender': 'Masc', 'Number': 'Sing'}\n",
      "de  --> {}\n",
      "Liz  --> {}\n",
      "Truss  --> {}\n",
      "paralice  --> {'Mood': 'Sub', 'Number': 'Sing', 'Person': '3', 'Tense': 'Pres', 'VerbForm': 'Fin'}\n",
      "todos  --> {'Gender': 'Masc', 'Number': 'Plur', 'PronType': 'Tot'}\n",
      "los  --> {'Definite': 'Def', 'Gender': 'Masc', 'Number': 'Plur', 'PronType': 'Art'}\n",
      "nuevos  --> {'Gender': 'Masc', 'Number': 'Plur'}\n",
      "proyectos  --> {'Gender': 'Masc', 'Number': 'Plur'}\n",
      "de  --> {}\n",
      "petróleo  --> {'Gender': 'Masc', 'Number': 'Sing'}\n",
      "y  --> {}\n",
      "gas  --> {'Gender': 'Masc', 'Number': 'Sing'}\n",
      ".  --> {'PunctType': 'Peri'}\n",
      "La  --> {'Definite': 'Def', 'Gender': 'Fem', 'Number': 'Sing', 'PronType': 'Art'}\n",
      "acción  --> {'Gender': 'Fem', 'Number': 'Sing'}\n",
      "ha  --> {'Mood': 'Ind', 'Number': 'Sing', 'Person': '3', 'Tense': 'Pres', 'VerbForm': 'Fin'}\n",
      "recordado  --> {'Gender': 'Masc', 'Number': 'Sing', 'Tense': 'Past', 'VerbForm': 'Part'}\n",
      "al  --> {'Definite': 'Def', 'Gender': 'Masc', 'Number': 'Sing', 'PronType': 'Art'}\n",
      "'  --> {}\n",
      "tartazo  --> {'Gender': 'Masc', 'Number': 'Sing'}\n",
      "'  --> {}\n",
      "que  --> {'PronType': 'Int,Rel'}\n",
      "recibió  --> {'Mood': 'Ind', 'Number': 'Sing', 'Person': '3', 'Tense': 'Past', 'VerbForm': 'Fin'}\n",
      "La  --> {'Definite': 'Def', 'Gender': 'Fem', 'Number': 'Sing', 'PronType': 'Art'}\n",
      "Gioconda  --> {}\n",
      "en  --> {}\n",
      "mayo  --> {}\n",
      "de  --> {}\n",
      "2022  --> {'NumForm': 'Digit', 'NumType': 'Card'}\n",
      ".  --> {'PunctType': 'Peri'}\n"
     ]
    }
   ],
   "source": [
    "# Ejemplo 4.2.2\n",
    "# Morfologia de cada palabra como diccionario\n",
    "for token in doc:\n",
    "  morph_dict = token.morph.to_dict()\n",
    "  print(token, ' -->', morph_dict)"
   ]
  },
  {
   "cell_type": "code",
   "execution_count": 5,
   "metadata": {
    "colab": {
     "base_uri": "https://localhost:8080/"
    },
    "id": "zlF6rLpEWDQt",
    "outputId": "8b0ffdef-5bae-4f86-c8a3-fcfb541c11e7"
   },
   "outputs": [
    {
     "name": "stdout",
     "output_type": "stream",
     "text": [
      "del  --> Masc\n",
      "grupo  --> Masc\n",
      "lanzado  --> Masc\n",
      "sopa  --> Fem\n",
      "tomate  --> Masc\n",
      "el  --> Masc\n",
      "cuadro  --> Masc\n",
      "Los  --> Masc\n",
      "girasoles  --> Masc\n",
      "la  --> Fem\n",
      "el  --> Masc\n",
      "gobierno  --> Masc\n",
      "todos  --> Masc\n",
      "los  --> Masc\n",
      "nuevos  --> Masc\n",
      "proyectos  --> Masc\n",
      "petróleo  --> Masc\n",
      "gas  --> Masc\n",
      "La  --> Fem\n",
      "acción  --> Fem\n",
      "recordado  --> Masc\n",
      "al  --> Masc\n",
      "tartazo  --> Masc\n",
      "La  --> Fem\n"
     ]
    }
   ],
   "source": [
    "# Ejemplo 4.2.3\n",
    "# Únicamene información del género de la palabra, si existe\n",
    "for token in doc:\n",
    "  morph_dict = token.morph.to_dict()\n",
    "  if 'Gender' in morph_dict:\n",
    "    print(token, ' -->', morph_dict['Gender'])"
   ]
  },
  {
   "cell_type": "code",
   "execution_count": 6,
   "metadata": {
    "colab": {
     "base_uri": "https://localhost:8080/"
    },
    "id": "fw2mU7_9kXH3",
    "outputId": "73828341-7209-476e-e6a1-6ee590ba649a"
   },
   "outputs": [
    {
     "name": "stdout",
     "output_type": "stream",
     "text": [
      "Número de palabras femeninas: 5\n",
      "Número de palabras masculinas: 19\n"
     ]
    }
   ],
   "source": [
    "# Ejemplo 4.2.4\n",
    "# Conteo de palabras femeninas y masculinas\n",
    "pal_fem = [token for token in doc \n",
    "             if 'Gender' in token.morph.to_dict() and \n",
    "                token.morph.to_dict()['Gender'] == 'Fem']\n",
    "pal_masc = [token for token in doc \n",
    "              if 'Gender' in token.morph.to_dict() and \n",
    "                 token.morph.to_dict()['Gender'] == 'Masc']\n",
    "\n",
    "print('Número de palabras femeninas:', len(pal_fem))\n",
    "print('Número de palabras masculinas:', len(pal_masc))"
   ]
  },
  {
   "cell_type": "code",
   "execution_count": 7,
   "metadata": {
    "colab": {
     "base_uri": "https://localhost:8080/"
    },
    "id": "pzo1xhmGk90M",
    "outputId": "30906e99-9db6-423d-82bc-793da0db4793"
   },
   "outputs": [
    {
     "name": "stdout",
     "output_type": "stream",
     "text": [
      "[han, Persiguen, paralice, ha]\n"
     ]
    }
   ],
   "source": [
    "# Ejemplo 4.2.5\n",
    "# Detección de verbos en presente\n",
    "def es_verbo_presente(token):\n",
    "  ''' Función que detecta si un token es un verbo en presente '''\n",
    "  morph_dict = token.morph.to_dict()\n",
    "  return 'Tense' in morph_dict and morph_dict['Tense'] == 'Pres'\n",
    "\n",
    "verbos_presente = [token for token in doc if es_verbo_presente(token)]\n",
    "print(verbos_presente)"
   ]
  },
  {
   "cell_type": "markdown",
   "metadata": {
    "id": "QSMJBJA9ZML_"
   },
   "source": [
    "## Análisis sintáctico de oraciones"
   ]
  },
  {
   "cell_type": "code",
   "execution_count": 8,
   "metadata": {
    "id": "VYFvvcYqCVpi"
   },
   "outputs": [],
   "source": [
    "#  Part of speech, análisis sintáctico y qué grupos forman (token.pos_, token.dep)\n",
    "\n",
    "# https://universaldependencies.org/es/\n",
    "# https://universaldependencies.org/es/pos/\n",
    "# https://universaldependencies.org/u/dep/\n",
    "# https://universaldependencies.org/docs/es/dep/"
   ]
  },
  {
   "cell_type": "code",
   "execution_count": 9,
   "metadata": {
    "id": "G3j1sG-3VKrq"
   },
   "outputs": [],
   "source": [
    "import spacy\n",
    "nlp = spacy.load(\"es_core_news_lg\")"
   ]
  },
  {
   "cell_type": "code",
   "execution_count": 10,
   "metadata": {
    "colab": {
     "base_uri": "https://localhost:8080/",
     "height": 258
    },
    "id": "V7gFJrc_mtAo",
    "outputId": "094d2d96-ba80-4a8c-b01f-74e3cf3bd320"
   },
   "outputs": [
    {
     "data": {
      "text/html": [
       "<span class=\"tex2jax_ignore\"><svg xmlns=\"http://www.w3.org/2000/svg\" xmlns:xlink=\"http://www.w3.org/1999/xlink\" xml:lang=\"es\" id=\"3f5ec9389a1e4be4943860867a80cbc6-0\" class=\"displacy\" width=\"450\" height=\"237.0\" direction=\"ltr\" style=\"max-width: none; height: 237.0px; color: #000000; background: #ffffff; font-family: Arial; direction: ltr\">\n",
       "<text class=\"displacy-token\" fill=\"currentColor\" text-anchor=\"middle\" y=\"147.0\">\n",
       "    <tspan class=\"displacy-word\" fill=\"currentColor\" x=\"50\">Yo</tspan>\n",
       "    <tspan class=\"displacy-tag\" dy=\"2em\" fill=\"currentColor\" x=\"50\">PRON</tspan>\n",
       "</text>\n",
       "\n",
       "<text class=\"displacy-token\" fill=\"currentColor\" text-anchor=\"middle\" y=\"147.0\">\n",
       "    <tspan class=\"displacy-word\" fill=\"currentColor\" x=\"150\">lanzo</tspan>\n",
       "    <tspan class=\"displacy-tag\" dy=\"2em\" fill=\"currentColor\" x=\"150\">VERB</tspan>\n",
       "</text>\n",
       "\n",
       "<text class=\"displacy-token\" fill=\"currentColor\" text-anchor=\"middle\" y=\"147.0\">\n",
       "    <tspan class=\"displacy-word\" fill=\"currentColor\" x=\"250\">el</tspan>\n",
       "    <tspan class=\"displacy-tag\" dy=\"2em\" fill=\"currentColor\" x=\"250\">DET</tspan>\n",
       "</text>\n",
       "\n",
       "<text class=\"displacy-token\" fill=\"currentColor\" text-anchor=\"middle\" y=\"147.0\">\n",
       "    <tspan class=\"displacy-word\" fill=\"currentColor\" x=\"350\">balón</tspan>\n",
       "    <tspan class=\"displacy-tag\" dy=\"2em\" fill=\"currentColor\" x=\"350\">NOUN</tspan>\n",
       "</text>\n",
       "\n",
       "<g class=\"displacy-arrow\">\n",
       "    <path class=\"displacy-arc\" id=\"arrow-3f5ec9389a1e4be4943860867a80cbc6-0-0\" stroke-width=\"2px\" d=\"M70,102.0 C70,52.0 145.0,52.0 145.0,102.0\" fill=\"none\" stroke=\"currentColor\"/>\n",
       "    <text dy=\"1.25em\" style=\"font-size: 0.8em; letter-spacing: 1px\">\n",
       "        <textPath xlink:href=\"#arrow-3f5ec9389a1e4be4943860867a80cbc6-0-0\" class=\"displacy-label\" startOffset=\"50%\" side=\"left\" fill=\"currentColor\" text-anchor=\"middle\">nsubj</textPath>\n",
       "    </text>\n",
       "    <path class=\"displacy-arrowhead\" d=\"M70,104.0 L62,92.0 78,92.0\" fill=\"currentColor\"/>\n",
       "</g>\n",
       "\n",
       "<g class=\"displacy-arrow\">\n",
       "    <path class=\"displacy-arc\" id=\"arrow-3f5ec9389a1e4be4943860867a80cbc6-0-1\" stroke-width=\"2px\" d=\"M270,102.0 C270,52.0 345.0,52.0 345.0,102.0\" fill=\"none\" stroke=\"currentColor\"/>\n",
       "    <text dy=\"1.25em\" style=\"font-size: 0.8em; letter-spacing: 1px\">\n",
       "        <textPath xlink:href=\"#arrow-3f5ec9389a1e4be4943860867a80cbc6-0-1\" class=\"displacy-label\" startOffset=\"50%\" side=\"left\" fill=\"currentColor\" text-anchor=\"middle\">det</textPath>\n",
       "    </text>\n",
       "    <path class=\"displacy-arrowhead\" d=\"M270,104.0 L262,92.0 278,92.0\" fill=\"currentColor\"/>\n",
       "</g>\n",
       "\n",
       "<g class=\"displacy-arrow\">\n",
       "    <path class=\"displacy-arc\" id=\"arrow-3f5ec9389a1e4be4943860867a80cbc6-0-2\" stroke-width=\"2px\" d=\"M170,102.0 C170,2.0 350.0,2.0 350.0,102.0\" fill=\"none\" stroke=\"currentColor\"/>\n",
       "    <text dy=\"1.25em\" style=\"font-size: 0.8em; letter-spacing: 1px\">\n",
       "        <textPath xlink:href=\"#arrow-3f5ec9389a1e4be4943860867a80cbc6-0-2\" class=\"displacy-label\" startOffset=\"50%\" side=\"left\" fill=\"currentColor\" text-anchor=\"middle\">obj</textPath>\n",
       "    </text>\n",
       "    <path class=\"displacy-arrowhead\" d=\"M350.0,104.0 L358.0,92.0 342.0,92.0\" fill=\"currentColor\"/>\n",
       "</g>\n",
       "</svg></span>"
      ],
      "text/plain": [
       "<IPython.core.display.HTML object>"
      ]
     },
     "metadata": {},
     "output_type": "display_data"
    }
   ],
   "source": [
    "# Ejemplo 4.3.1\n",
    "doc = nlp('Yo lanzo el balón')\n",
    "spacy.displacy.render(doc, style='dep', jupyter=True, options={'compact':False, 'distance':100})"
   ]
  },
  {
   "cell_type": "code",
   "execution_count": 11,
   "metadata": {
    "colab": {
     "base_uri": "https://localhost:8080/",
     "height": 308
    },
    "id": "V2MDaJREm17R",
    "outputId": "98ac8711-d821-49f6-ea26-4710626ee1b7"
   },
   "outputs": [
    {
     "data": {
      "text/html": [
       "<span class=\"tex2jax_ignore\"><svg xmlns=\"http://www.w3.org/2000/svg\" xmlns:xlink=\"http://www.w3.org/1999/xlink\" xml:lang=\"es\" id=\"a227cbad34f84676953591d8d3e656a7-0\" class=\"displacy\" width=\"750\" height=\"287.0\" direction=\"ltr\" style=\"max-width: none; height: 287.0px; color: #000000; background: #ffffff; font-family: Arial; direction: ltr\">\n",
       "<text class=\"displacy-token\" fill=\"currentColor\" text-anchor=\"middle\" y=\"197.0\">\n",
       "    <tspan class=\"displacy-word\" fill=\"currentColor\" x=\"50\">Un</tspan>\n",
       "    <tspan class=\"displacy-tag\" dy=\"2em\" fill=\"currentColor\" x=\"50\">DET</tspan>\n",
       "</text>\n",
       "\n",
       "<text class=\"displacy-token\" fill=\"currentColor\" text-anchor=\"middle\" y=\"197.0\">\n",
       "    <tspan class=\"displacy-word\" fill=\"currentColor\" x=\"150\">jugador</tspan>\n",
       "    <tspan class=\"displacy-tag\" dy=\"2em\" fill=\"currentColor\" x=\"150\">NOUN</tspan>\n",
       "</text>\n",
       "\n",
       "<text class=\"displacy-token\" fill=\"currentColor\" text-anchor=\"middle\" y=\"197.0\">\n",
       "    <tspan class=\"displacy-word\" fill=\"currentColor\" x=\"250\">malo</tspan>\n",
       "    <tspan class=\"displacy-tag\" dy=\"2em\" fill=\"currentColor\" x=\"250\">ADJ</tspan>\n",
       "</text>\n",
       "\n",
       "<text class=\"displacy-token\" fill=\"currentColor\" text-anchor=\"middle\" y=\"197.0\">\n",
       "    <tspan class=\"displacy-word\" fill=\"currentColor\" x=\"350\">lanza</tspan>\n",
       "    <tspan class=\"displacy-tag\" dy=\"2em\" fill=\"currentColor\" x=\"350\">VERB</tspan>\n",
       "</text>\n",
       "\n",
       "<text class=\"displacy-token\" fill=\"currentColor\" text-anchor=\"middle\" y=\"197.0\">\n",
       "    <tspan class=\"displacy-word\" fill=\"currentColor\" x=\"450\">el</tspan>\n",
       "    <tspan class=\"displacy-tag\" dy=\"2em\" fill=\"currentColor\" x=\"450\">DET</tspan>\n",
       "</text>\n",
       "\n",
       "<text class=\"displacy-token\" fill=\"currentColor\" text-anchor=\"middle\" y=\"197.0\">\n",
       "    <tspan class=\"displacy-word\" fill=\"currentColor\" x=\"550\">balón</tspan>\n",
       "    <tspan class=\"displacy-tag\" dy=\"2em\" fill=\"currentColor\" x=\"550\">NOUN</tspan>\n",
       "</text>\n",
       "\n",
       "<text class=\"displacy-token\" fill=\"currentColor\" text-anchor=\"middle\" y=\"197.0\">\n",
       "    <tspan class=\"displacy-word\" fill=\"currentColor\" x=\"650\">rápidamente</tspan>\n",
       "    <tspan class=\"displacy-tag\" dy=\"2em\" fill=\"currentColor\" x=\"650\">ADV</tspan>\n",
       "</text>\n",
       "\n",
       "<g class=\"displacy-arrow\">\n",
       "    <path class=\"displacy-arc\" id=\"arrow-a227cbad34f84676953591d8d3e656a7-0-0\" stroke-width=\"2px\" d=\"M70,152.0 C70,102.0 140.0,102.0 140.0,152.0\" fill=\"none\" stroke=\"currentColor\"/>\n",
       "    <text dy=\"1.25em\" style=\"font-size: 0.8em; letter-spacing: 1px\">\n",
       "        <textPath xlink:href=\"#arrow-a227cbad34f84676953591d8d3e656a7-0-0\" class=\"displacy-label\" startOffset=\"50%\" side=\"left\" fill=\"currentColor\" text-anchor=\"middle\">det</textPath>\n",
       "    </text>\n",
       "    <path class=\"displacy-arrowhead\" d=\"M70,154.0 L62,142.0 78,142.0\" fill=\"currentColor\"/>\n",
       "</g>\n",
       "\n",
       "<g class=\"displacy-arrow\">\n",
       "    <path class=\"displacy-arc\" id=\"arrow-a227cbad34f84676953591d8d3e656a7-0-1\" stroke-width=\"2px\" d=\"M170,152.0 C170,52.0 345.0,52.0 345.0,152.0\" fill=\"none\" stroke=\"currentColor\"/>\n",
       "    <text dy=\"1.25em\" style=\"font-size: 0.8em; letter-spacing: 1px\">\n",
       "        <textPath xlink:href=\"#arrow-a227cbad34f84676953591d8d3e656a7-0-1\" class=\"displacy-label\" startOffset=\"50%\" side=\"left\" fill=\"currentColor\" text-anchor=\"middle\">nsubj</textPath>\n",
       "    </text>\n",
       "    <path class=\"displacy-arrowhead\" d=\"M170,154.0 L162,142.0 178,142.0\" fill=\"currentColor\"/>\n",
       "</g>\n",
       "\n",
       "<g class=\"displacy-arrow\">\n",
       "    <path class=\"displacy-arc\" id=\"arrow-a227cbad34f84676953591d8d3e656a7-0-2\" stroke-width=\"2px\" d=\"M170,152.0 C170,102.0 240.0,102.0 240.0,152.0\" fill=\"none\" stroke=\"currentColor\"/>\n",
       "    <text dy=\"1.25em\" style=\"font-size: 0.8em; letter-spacing: 1px\">\n",
       "        <textPath xlink:href=\"#arrow-a227cbad34f84676953591d8d3e656a7-0-2\" class=\"displacy-label\" startOffset=\"50%\" side=\"left\" fill=\"currentColor\" text-anchor=\"middle\">amod</textPath>\n",
       "    </text>\n",
       "    <path class=\"displacy-arrowhead\" d=\"M240.0,154.0 L248.0,142.0 232.0,142.0\" fill=\"currentColor\"/>\n",
       "</g>\n",
       "\n",
       "<g class=\"displacy-arrow\">\n",
       "    <path class=\"displacy-arc\" id=\"arrow-a227cbad34f84676953591d8d3e656a7-0-3\" stroke-width=\"2px\" d=\"M470,152.0 C470,102.0 540.0,102.0 540.0,152.0\" fill=\"none\" stroke=\"currentColor\"/>\n",
       "    <text dy=\"1.25em\" style=\"font-size: 0.8em; letter-spacing: 1px\">\n",
       "        <textPath xlink:href=\"#arrow-a227cbad34f84676953591d8d3e656a7-0-3\" class=\"displacy-label\" startOffset=\"50%\" side=\"left\" fill=\"currentColor\" text-anchor=\"middle\">det</textPath>\n",
       "    </text>\n",
       "    <path class=\"displacy-arrowhead\" d=\"M470,154.0 L462,142.0 478,142.0\" fill=\"currentColor\"/>\n",
       "</g>\n",
       "\n",
       "<g class=\"displacy-arrow\">\n",
       "    <path class=\"displacy-arc\" id=\"arrow-a227cbad34f84676953591d8d3e656a7-0-4\" stroke-width=\"2px\" d=\"M370,152.0 C370,52.0 545.0,52.0 545.0,152.0\" fill=\"none\" stroke=\"currentColor\"/>\n",
       "    <text dy=\"1.25em\" style=\"font-size: 0.8em; letter-spacing: 1px\">\n",
       "        <textPath xlink:href=\"#arrow-a227cbad34f84676953591d8d3e656a7-0-4\" class=\"displacy-label\" startOffset=\"50%\" side=\"left\" fill=\"currentColor\" text-anchor=\"middle\">obj</textPath>\n",
       "    </text>\n",
       "    <path class=\"displacy-arrowhead\" d=\"M545.0,154.0 L553.0,142.0 537.0,142.0\" fill=\"currentColor\"/>\n",
       "</g>\n",
       "\n",
       "<g class=\"displacy-arrow\">\n",
       "    <path class=\"displacy-arc\" id=\"arrow-a227cbad34f84676953591d8d3e656a7-0-5\" stroke-width=\"2px\" d=\"M370,152.0 C370,2.0 650.0,2.0 650.0,152.0\" fill=\"none\" stroke=\"currentColor\"/>\n",
       "    <text dy=\"1.25em\" style=\"font-size: 0.8em; letter-spacing: 1px\">\n",
       "        <textPath xlink:href=\"#arrow-a227cbad34f84676953591d8d3e656a7-0-5\" class=\"displacy-label\" startOffset=\"50%\" side=\"left\" fill=\"currentColor\" text-anchor=\"middle\">advmod</textPath>\n",
       "    </text>\n",
       "    <path class=\"displacy-arrowhead\" d=\"M650.0,154.0 L658.0,142.0 642.0,142.0\" fill=\"currentColor\"/>\n",
       "</g>\n",
       "</svg></span>"
      ],
      "text/plain": [
       "<IPython.core.display.HTML object>"
      ]
     },
     "metadata": {},
     "output_type": "display_data"
    }
   ],
   "source": [
    "# Ejemplo 4.3.2\n",
    "doc = nlp('Un jugador malo lanza el balón rápidamente')\n",
    "spacy.displacy.render(doc, style='dep', jupyter=True, options={'compact':False, 'distance':100})"
   ]
  },
  {
   "cell_type": "code",
   "execution_count": 12,
   "metadata": {
    "colab": {
     "base_uri": "https://localhost:8080/",
     "height": 258
    },
    "id": "pn3aDK3grlLU",
    "outputId": "bf22d101-d801-4b42-828a-3400a95b0d5e"
   },
   "outputs": [
    {
     "data": {
      "text/html": [
       "<span class=\"tex2jax_ignore\"><svg xmlns=\"http://www.w3.org/2000/svg\" xmlns:xlink=\"http://www.w3.org/1999/xlink\" xml:lang=\"es\" id=\"3fda38aadf474a92a43f43c17988f079-0\" class=\"displacy\" width=\"850\" height=\"237.0\" direction=\"ltr\" style=\"max-width: none; height: 237.0px; color: #000000; background: #ffffff; font-family: Arial; direction: ltr\">\n",
       "<text class=\"displacy-token\" fill=\"currentColor\" text-anchor=\"middle\" y=\"147.0\">\n",
       "    <tspan class=\"displacy-word\" fill=\"currentColor\" x=\"50\">Eva</tspan>\n",
       "    <tspan class=\"displacy-tag\" dy=\"2em\" fill=\"currentColor\" x=\"50\">PROPN</tspan>\n",
       "</text>\n",
       "\n",
       "<text class=\"displacy-token\" fill=\"currentColor\" text-anchor=\"middle\" y=\"147.0\">\n",
       "    <tspan class=\"displacy-word\" fill=\"currentColor\" x=\"150\">te</tspan>\n",
       "    <tspan class=\"displacy-tag\" dy=\"2em\" fill=\"currentColor\" x=\"150\">PRON</tspan>\n",
       "</text>\n",
       "\n",
       "<text class=\"displacy-token\" fill=\"currentColor\" text-anchor=\"middle\" y=\"147.0\">\n",
       "    <tspan class=\"displacy-word\" fill=\"currentColor\" x=\"250\">prestó</tspan>\n",
       "    <tspan class=\"displacy-tag\" dy=\"2em\" fill=\"currentColor\" x=\"250\">VERB</tspan>\n",
       "</text>\n",
       "\n",
       "<text class=\"displacy-token\" fill=\"currentColor\" text-anchor=\"middle\" y=\"147.0\">\n",
       "    <tspan class=\"displacy-word\" fill=\"currentColor\" x=\"350\">la</tspan>\n",
       "    <tspan class=\"displacy-tag\" dy=\"2em\" fill=\"currentColor\" x=\"350\">DET</tspan>\n",
       "</text>\n",
       "\n",
       "<text class=\"displacy-token\" fill=\"currentColor\" text-anchor=\"middle\" y=\"147.0\">\n",
       "    <tspan class=\"displacy-word\" fill=\"currentColor\" x=\"450\">gorra</tspan>\n",
       "    <tspan class=\"displacy-tag\" dy=\"2em\" fill=\"currentColor\" x=\"450\">NOUN</tspan>\n",
       "</text>\n",
       "\n",
       "<text class=\"displacy-token\" fill=\"currentColor\" text-anchor=\"middle\" y=\"147.0\">\n",
       "    <tspan class=\"displacy-word\" fill=\"currentColor\" x=\"550\">que</tspan>\n",
       "    <tspan class=\"displacy-tag\" dy=\"2em\" fill=\"currentColor\" x=\"550\">PRON</tspan>\n",
       "</text>\n",
       "\n",
       "<text class=\"displacy-token\" fill=\"currentColor\" text-anchor=\"middle\" y=\"147.0\">\n",
       "    <tspan class=\"displacy-word\" fill=\"currentColor\" x=\"650\">compró</tspan>\n",
       "    <tspan class=\"displacy-tag\" dy=\"2em\" fill=\"currentColor\" x=\"650\">VERB</tspan>\n",
       "</text>\n",
       "\n",
       "<text class=\"displacy-token\" fill=\"currentColor\" text-anchor=\"middle\" y=\"147.0\">\n",
       "    <tspan class=\"displacy-word\" fill=\"currentColor\" x=\"750\">ayer</tspan>\n",
       "    <tspan class=\"displacy-tag\" dy=\"2em\" fill=\"currentColor\" x=\"750\">ADV</tspan>\n",
       "</text>\n",
       "\n",
       "<g class=\"displacy-arrow\">\n",
       "    <path class=\"displacy-arc\" id=\"arrow-3fda38aadf474a92a43f43c17988f079-0-0\" stroke-width=\"2px\" d=\"M70,102.0 C70,2.0 250.0,2.0 250.0,102.0\" fill=\"none\" stroke=\"currentColor\"/>\n",
       "    <text dy=\"1.25em\" style=\"font-size: 0.8em; letter-spacing: 1px\">\n",
       "        <textPath xlink:href=\"#arrow-3fda38aadf474a92a43f43c17988f079-0-0\" class=\"displacy-label\" startOffset=\"50%\" side=\"left\" fill=\"currentColor\" text-anchor=\"middle\">nsubj</textPath>\n",
       "    </text>\n",
       "    <path class=\"displacy-arrowhead\" d=\"M70,104.0 L62,92.0 78,92.0\" fill=\"currentColor\"/>\n",
       "</g>\n",
       "\n",
       "<g class=\"displacy-arrow\">\n",
       "    <path class=\"displacy-arc\" id=\"arrow-3fda38aadf474a92a43f43c17988f079-0-1\" stroke-width=\"2px\" d=\"M170,102.0 C170,52.0 245.0,52.0 245.0,102.0\" fill=\"none\" stroke=\"currentColor\"/>\n",
       "    <text dy=\"1.25em\" style=\"font-size: 0.8em; letter-spacing: 1px\">\n",
       "        <textPath xlink:href=\"#arrow-3fda38aadf474a92a43f43c17988f079-0-1\" class=\"displacy-label\" startOffset=\"50%\" side=\"left\" fill=\"currentColor\" text-anchor=\"middle\">iobj</textPath>\n",
       "    </text>\n",
       "    <path class=\"displacy-arrowhead\" d=\"M170,104.0 L162,92.0 178,92.0\" fill=\"currentColor\"/>\n",
       "</g>\n",
       "\n",
       "<g class=\"displacy-arrow\">\n",
       "    <path class=\"displacy-arc\" id=\"arrow-3fda38aadf474a92a43f43c17988f079-0-2\" stroke-width=\"2px\" d=\"M370,102.0 C370,52.0 445.0,52.0 445.0,102.0\" fill=\"none\" stroke=\"currentColor\"/>\n",
       "    <text dy=\"1.25em\" style=\"font-size: 0.8em; letter-spacing: 1px\">\n",
       "        <textPath xlink:href=\"#arrow-3fda38aadf474a92a43f43c17988f079-0-2\" class=\"displacy-label\" startOffset=\"50%\" side=\"left\" fill=\"currentColor\" text-anchor=\"middle\">det</textPath>\n",
       "    </text>\n",
       "    <path class=\"displacy-arrowhead\" d=\"M370,104.0 L362,92.0 378,92.0\" fill=\"currentColor\"/>\n",
       "</g>\n",
       "\n",
       "<g class=\"displacy-arrow\">\n",
       "    <path class=\"displacy-arc\" id=\"arrow-3fda38aadf474a92a43f43c17988f079-0-3\" stroke-width=\"2px\" d=\"M270,102.0 C270,2.0 450.0,2.0 450.0,102.0\" fill=\"none\" stroke=\"currentColor\"/>\n",
       "    <text dy=\"1.25em\" style=\"font-size: 0.8em; letter-spacing: 1px\">\n",
       "        <textPath xlink:href=\"#arrow-3fda38aadf474a92a43f43c17988f079-0-3\" class=\"displacy-label\" startOffset=\"50%\" side=\"left\" fill=\"currentColor\" text-anchor=\"middle\">obj</textPath>\n",
       "    </text>\n",
       "    <path class=\"displacy-arrowhead\" d=\"M450.0,104.0 L458.0,92.0 442.0,92.0\" fill=\"currentColor\"/>\n",
       "</g>\n",
       "\n",
       "<g class=\"displacy-arrow\">\n",
       "    <path class=\"displacy-arc\" id=\"arrow-3fda38aadf474a92a43f43c17988f079-0-4\" stroke-width=\"2px\" d=\"M570,102.0 C570,52.0 645.0,52.0 645.0,102.0\" fill=\"none\" stroke=\"currentColor\"/>\n",
       "    <text dy=\"1.25em\" style=\"font-size: 0.8em; letter-spacing: 1px\">\n",
       "        <textPath xlink:href=\"#arrow-3fda38aadf474a92a43f43c17988f079-0-4\" class=\"displacy-label\" startOffset=\"50%\" side=\"left\" fill=\"currentColor\" text-anchor=\"middle\">obj</textPath>\n",
       "    </text>\n",
       "    <path class=\"displacy-arrowhead\" d=\"M570,104.0 L562,92.0 578,92.0\" fill=\"currentColor\"/>\n",
       "</g>\n",
       "\n",
       "<g class=\"displacy-arrow\">\n",
       "    <path class=\"displacy-arc\" id=\"arrow-3fda38aadf474a92a43f43c17988f079-0-5\" stroke-width=\"2px\" d=\"M470,102.0 C470,2.0 650.0,2.0 650.0,102.0\" fill=\"none\" stroke=\"currentColor\"/>\n",
       "    <text dy=\"1.25em\" style=\"font-size: 0.8em; letter-spacing: 1px\">\n",
       "        <textPath xlink:href=\"#arrow-3fda38aadf474a92a43f43c17988f079-0-5\" class=\"displacy-label\" startOffset=\"50%\" side=\"left\" fill=\"currentColor\" text-anchor=\"middle\">acl</textPath>\n",
       "    </text>\n",
       "    <path class=\"displacy-arrowhead\" d=\"M650.0,104.0 L658.0,92.0 642.0,92.0\" fill=\"currentColor\"/>\n",
       "</g>\n",
       "\n",
       "<g class=\"displacy-arrow\">\n",
       "    <path class=\"displacy-arc\" id=\"arrow-3fda38aadf474a92a43f43c17988f079-0-6\" stroke-width=\"2px\" d=\"M670,102.0 C670,52.0 745.0,52.0 745.0,102.0\" fill=\"none\" stroke=\"currentColor\"/>\n",
       "    <text dy=\"1.25em\" style=\"font-size: 0.8em; letter-spacing: 1px\">\n",
       "        <textPath xlink:href=\"#arrow-3fda38aadf474a92a43f43c17988f079-0-6\" class=\"displacy-label\" startOffset=\"50%\" side=\"left\" fill=\"currentColor\" text-anchor=\"middle\">advmod</textPath>\n",
       "    </text>\n",
       "    <path class=\"displacy-arrowhead\" d=\"M745.0,104.0 L753.0,92.0 737.0,92.0\" fill=\"currentColor\"/>\n",
       "</g>\n",
       "</svg></span>"
      ],
      "text/plain": [
       "<IPython.core.display.HTML object>"
      ]
     },
     "metadata": {},
     "output_type": "display_data"
    }
   ],
   "source": [
    "# Ejemplo 4.3.3\n",
    "doc = nlp('Eva te prestó la gorra que compró ayer')\n",
    "spacy.displacy.render(doc, style='dep', jupyter=True, options={'compact':False, 'distance':100})"
   ]
  },
  {
   "cell_type": "code",
   "execution_count": 13,
   "metadata": {
    "colab": {
     "base_uri": "https://localhost:8080/"
    },
    "id": "AuZjoHgpmmfV",
    "outputId": "360e6d4f-234d-451c-a626-edae3cbc0901"
   },
   "outputs": [
    {
     "name": "stdout",
     "output_type": "stream",
     "text": [
      "Eva : PROPN\n",
      "te : PRON\n",
      "prestó : VERB\n",
      "la : DET\n",
      "gorra : NOUN\n",
      "que : PRON\n",
      "compró : VERB\n",
      "ayer : ADV\n"
     ]
    }
   ],
   "source": [
    "# Ejemplo 4.3.4\n",
    "doc = nlp('Eva te prestó la gorra que compró ayer')\n",
    "for token in doc:\n",
    "  print(token, ':', token.pos_)"
   ]
  },
  {
   "cell_type": "code",
   "execution_count": 14,
   "metadata": {
    "colab": {
     "base_uri": "https://localhost:8080/"
    },
    "id": "HM1Z1jPqxw4R",
    "outputId": "c7d50d81-45ba-4ffe-d56e-fdd3e92cc7fb"
   },
   "outputs": [
    {
     "name": "stdout",
     "output_type": "stream",
     "text": [
      "Eva : nsubj --> prestó\n",
      "te : iobj --> prestó\n",
      "prestó : ROOT --> prestó\n",
      "la : det --> gorra\n",
      "gorra : obj --> prestó\n",
      "que : obj --> compró\n",
      "compró : acl --> gorra\n",
      "ayer : advmod --> compró\n"
     ]
    }
   ],
   "source": [
    "# Ejemplo 4.3.5\n",
    "doc = nlp('Eva te prestó la gorra que compró ayer')\n",
    "for token in doc:\n",
    "  print(token, ':', token.dep_, '-->', token.head)"
   ]
  },
  {
   "cell_type": "code",
   "execution_count": 15,
   "metadata": {
    "colab": {
     "base_uri": "https://localhost:8080/"
    },
    "id": "yagz_YmJBYvd",
    "outputId": "af420d5a-6628-41c7-a8e9-97954f9dfa15"
   },
   "outputs": [
    {
     "name": "stdout",
     "output_type": "stream",
     "text": [
      "Juan : PROPN nsubj --> vendió\n",
      "vendió : VERB ROOT --> vendió\n",
      "su : DET det --> coche\n",
      "coche : NOUN obj --> vendió\n",
      "rápido : ADJ amod --> coche\n"
     ]
    }
   ],
   "source": [
    "# Ejemplo 4.3.6\n",
    "doc = nlp('Juan vendió su coche rápido')\n",
    "for token in doc:\n",
    "  print(token, ':', token.pos_, token.dep_, '-->', token.head)"
   ]
  },
  {
   "cell_type": "code",
   "execution_count": 16,
   "metadata": {
    "colab": {
     "base_uri": "https://localhost:8080/"
    },
    "id": "_u9pdxu6Jj_5",
    "outputId": "e3eb28f6-2282-414d-f240-ece08c237234"
   },
   "outputs": [
    {
     "name": "stdout",
     "output_type": "stream",
     "text": [
      "Juan : PROPN nsubj --> vendió\n",
      "vendió : VERB ROOT --> vendió\n",
      "rápido : ADV advmod --> vendió\n",
      "su : DET det --> coche\n",
      "coche : NOUN obj --> vendió\n"
     ]
    }
   ],
   "source": [
    "# Ejemplo 4.3.7\n",
    "doc = nlp('Juan vendió rápido su coche')\n",
    "for token in doc:\n",
    "  print(token, ':', token.pos_, token.dep_, '-->', token.head)"
   ]
  },
  {
   "cell_type": "code",
   "execution_count": 17,
   "metadata": {
    "colab": {
     "base_uri": "https://localhost:8080/"
    },
    "id": "DEXJzEg9K-f4",
    "outputId": "96f0d028-fcd0-4149-f124-46f285ae1d25"
   },
   "outputs": [
    {
     "name": "stdout",
     "output_type": "stream",
     "text": [
      "[lanzado, Persiguen, recordado]\n"
     ]
    }
   ],
   "source": [
    "# Ejemplo 4.3.8\n",
    "def es_verbo_principal(token):\n",
    "  ''' Detecta si es verbo principal de oración '''\n",
    "  return token.dep_ == 'ROOT'\n",
    "\n",
    "doc = nlp(tuit)\n",
    "verbos_principales = [token for token in doc if es_verbo_principal(token)]\n",
    "print(verbos_principales)"
   ]
  },
  {
   "cell_type": "code",
   "execution_count": 18,
   "metadata": {
    "colab": {
     "base_uri": "https://localhost:8080/"
    },
    "id": "GZbBFIa-bdve",
    "outputId": "5b739523-8e58-4748-d182-66d9e9428aab"
   },
   "outputs": [
    {
     "name": "stdout",
     "output_type": "stream",
     "text": [
      "[activistas, grupo, sopa, tomate, cuadro, girasoles, gobierno, proyectos, petróleo, gas, acción, tartazo, mayo]\n"
     ]
    }
   ],
   "source": [
    "# Ejemplo 4.3.9\n",
    "def es_nombre_comun(token):\n",
    "  ''' Detecta si es nombre común '''\n",
    "  return token.pos_ == 'NOUN'\n",
    "\n",
    "doc = nlp(tuit)\n",
    "nombres_comunes = [token for token in doc if es_nombre_comun(token)]\n",
    "print(nombres_comunes)"
   ]
  },
  {
   "cell_type": "code",
   "execution_count": 19,
   "metadata": {
    "colab": {
     "base_uri": "https://localhost:8080/"
    },
    "id": "w-0q1b4DeZwQ",
    "outputId": "7ac41e4e-78ec-4126-b604-226594b20c55"
   },
   "outputs": [
    {
     "name": "stdout",
     "output_type": "stream",
     "text": [
      "[activistas, grupo, sopa, tomate, cuadro, girasoles, gobierno, proyectos, petróleo, gas, acción, tartazo, mayo]\n"
     ]
    }
   ],
   "source": [
    "# Ejemplo 4.3.9\n",
    "doc = nlp(tuit)\n",
    "nombres_comunes = [token for token in doc if token.pos_ == 'NOUN']\n",
    "print(nombres_comunes)"
   ]
  },
  {
   "cell_type": "code",
   "execution_count": 20,
   "metadata": {
    "colab": {
     "base_uri": "https://localhost:8080/"
    },
    "id": "T14xQW1Ags4T",
    "outputId": "576e0af7-9af8-4e97-e929-ce08cb890a72"
   },
   "outputs": [
    {
     "name": "stdout",
     "output_type": "stream",
     "text": [
      "[sopa, acción]\n"
     ]
    }
   ],
   "source": [
    "# Ejemplo 4.3.10\n",
    "def es_nombre_comun_femenino(token):\n",
    "  ''' Detecta si es nombre común '''\n",
    "  morph_dict = token.morph.to_dict()\n",
    "  return (token.pos_ == 'NOUN' and  \n",
    "          'Gender' in morph_dict and \n",
    "          morph_dict['Gender'] == 'Fem')\n",
    "\n",
    "doc = nlp(tuit)\n",
    "nombres_comunes_fem = [token for token in doc if es_nombre_comun_femenino(token)]\n",
    "print(nombres_comunes_fem)"
   ]
  },
  {
   "cell_type": "code",
   "execution_count": 21,
   "metadata": {
    "colab": {
     "base_uri": "https://localhost:8080/"
    },
    "id": "U0-pLVZXlIhP",
    "outputId": "01e5792d-1241-456f-bdff-1a589ad577a7"
   },
   "outputs": [
    {
     "name": "stdout",
     "output_type": "stream",
     "text": [
      "[activistas, acción]\n"
     ]
    }
   ],
   "source": [
    "# Ejemplo 4.3.11 \n",
    "def es_principal_sujeto(token):\n",
    "  ''' Detecta si es la palabra principal del sujeto '''\n",
    "  return (token.dep_ == 'nsubj' and\n",
    "          es_verbo_principal(token.head))\n",
    "\n",
    "doc = nlp(tuit)\n",
    "sujetos_princ = [token for token in doc if es_principal_sujeto(token)]\n",
    "print(sujetos_princ)"
   ]
  },
  {
   "cell_type": "code",
   "execution_count": 22,
   "metadata": {
    "colab": {
     "base_uri": "https://localhost:8080/"
    },
    "id": "sc-0QAgSru92",
    "outputId": "8b5358e6-393c-49c8-cf7d-97979a32be12"
   },
   "outputs": [
    {
     "name": "stdout",
     "output_type": "stream",
     "text": [
      "[Dos, activistas, del, grupo, ecologista, Just, Stop, Oil]\n",
      "[]\n",
      "[La, acción]\n"
     ]
    }
   ],
   "source": [
    "###############################################\n",
    "# Ejemplo adicional: detectar sujeto completo #\n",
    "# Requiere bucles WHILE                       #\n",
    "###############################################\n",
    "def es_parte_del_sujeto_rec(token):\n",
    "  ''' Detecta si token forma parte del sujeto. versión recursiva '''\n",
    "  return (not es_verbo_principal(token) and \n",
    "         (es_principal_sujeto(token) or\n",
    "          es_parte_del_sujeto(token.head)))\n",
    "\n",
    "def es_parte_del_sujeto(token):\n",
    "  ''' Detecta si token forma parte del sujeto '''\n",
    "  while not es_verbo_principal(token):\n",
    "    if es_principal_sujeto(token):\n",
    "      return True\n",
    "    else:\n",
    "      token = token.head\n",
    "  return False\n",
    "\n",
    "def extrae_sujeto(frase):\n",
    "  ''' Extrae la lista de palabras del sujeto de la frase '''\n",
    "  return [token for token in frase if es_parte_del_sujeto(token)]\n",
    "  \n",
    "doc = nlp(tuit)\n",
    "primera_frase = list(doc.sents)[0]\n",
    "sujetos_princ = extrae_sujeto(primera_frase)\n",
    "print(sujetos_princ)\n",
    "\n",
    "segunda_frase = list(doc.sents)[1]\n",
    "sujetos_princ = extrae_sujeto(segunda_frase)\n",
    "print(sujetos_princ)\n",
    "\n",
    "tercera_frase = list(doc.sents)[2]\n",
    "sujetos_princ = extrae_sujeto(tercera_frase)\n",
    "print(sujetos_princ)"
   ]
  },
  {
   "cell_type": "markdown",
   "metadata": {
    "id": "KMsWJk8-ZRLm"
   },
   "source": [
    "## Detección de entidades con nombre"
   ]
  },
  {
   "cell_type": "code",
   "execution_count": 23,
   "metadata": {
    "colab": {
     "base_uri": "https://localhost:8080/",
     "height": 87
    },
    "id": "r1MWd0IRAB25",
    "outputId": "57d1ac81-6157-44a3-859d-6d6618e75342"
   },
   "outputs": [
    {
     "data": {
      "text/html": [
       "<span class=\"tex2jax_ignore\"><div class=\"entities\" style=\"line-height: 2.5; direction: ltr\">Dos activistas del grupo ecologista \n",
       "<mark class=\"entity\" style=\"background: #7aecec; padding: 0.45em 0.6em; margin: 0 0.25em; line-height: 1; border-radius: 0.35em;\">\n",
       "    Just Stop Oil\n",
       "    <span style=\"font-size: 0.8em; font-weight: bold; line-height: 1; border-radius: 0.35em; vertical-align: middle; margin-left: 0.5rem\">ORG</span>\n",
       "</mark>\n",
       " han lanzado sopa de tomate sobre el cuadro de \n",
       "<mark class=\"entity\" style=\"background: #ddd; padding: 0.45em 0.6em; margin: 0 0.25em; line-height: 1; border-radius: 0.35em;\">\n",
       "    Los girasoles\n",
       "    <span style=\"font-size: 0.8em; font-weight: bold; line-height: 1; border-radius: 0.35em; vertical-align: middle; margin-left: 0.5rem\">MISC</span>\n",
       "</mark>\n",
       " de \n",
       "<mark class=\"entity\" style=\"background: #ddd; padding: 0.45em 0.6em; margin: 0 0.25em; line-height: 1; border-radius: 0.35em;\">\n",
       "    Van Gogh\n",
       "    <span style=\"font-size: 0.8em; font-weight: bold; line-height: 1; border-radius: 0.35em; vertical-align: middle; margin-left: 0.5rem\">PER</span>\n",
       "</mark>\n",
       " en la \n",
       "<mark class=\"entity\" style=\"background: #ff9561; padding: 0.45em 0.6em; margin: 0 0.25em; line-height: 1; border-radius: 0.35em;\">\n",
       "    National Gallery de Londres\n",
       "    <span style=\"font-size: 0.8em; font-weight: bold; line-height: 1; border-radius: 0.35em; vertical-align: middle; margin-left: 0.5rem\">LOC</span>\n",
       "</mark>\n",
       ". Persiguen que el gobierno de \n",
       "<mark class=\"entity\" style=\"background: #ddd; padding: 0.45em 0.6em; margin: 0 0.25em; line-height: 1; border-radius: 0.35em;\">\n",
       "    Liz Truss\n",
       "    <span style=\"font-size: 0.8em; font-weight: bold; line-height: 1; border-radius: 0.35em; vertical-align: middle; margin-left: 0.5rem\">PER</span>\n",
       "</mark>\n",
       " paralice todos los nuevos proyectos de petróleo y gas. \n",
       "<mark class=\"entity\" style=\"background: #ddd; padding: 0.45em 0.6em; margin: 0 0.25em; line-height: 1; border-radius: 0.35em;\">\n",
       "    La acción\n",
       "    <span style=\"font-size: 0.8em; font-weight: bold; line-height: 1; border-radius: 0.35em; vertical-align: middle; margin-left: 0.5rem\">MISC</span>\n",
       "</mark>\n",
       " ha recordado al 'tartazo' que recibió \n",
       "<mark class=\"entity\" style=\"background: #ddd; padding: 0.45em 0.6em; margin: 0 0.25em; line-height: 1; border-radius: 0.35em;\">\n",
       "    La Gioconda\n",
       "    <span style=\"font-size: 0.8em; font-weight: bold; line-height: 1; border-radius: 0.35em; vertical-align: middle; margin-left: 0.5rem\">PER</span>\n",
       "</mark>\n",
       " en mayo de 2022.</div></span>"
      ],
      "text/plain": [
       "<IPython.core.display.HTML object>"
      ]
     },
     "metadata": {},
     "output_type": "display_data"
    }
   ],
   "source": [
    "# Ejemplo 4.4.1\n",
    "nlp = spacy.load(\"es_core_news_lg\")\n",
    "doc = nlp(tuit)\n",
    "spacy.displacy.render(doc, style='ent', jupyter=True)"
   ]
  },
  {
   "cell_type": "code",
   "execution_count": 24,
   "metadata": {
    "colab": {
     "base_uri": "https://localhost:8080/"
    },
    "id": "tYbfBdkHG6Hl",
    "outputId": "b6542000-7dfe-4311-bdd3-d2ff71214b52"
   },
   "outputs": [
    {
     "name": "stdout",
     "output_type": "stream",
     "text": [
      "ORG Just Stop Oil\n",
      "MISC Los girasoles\n",
      "PER Van Gogh\n",
      "LOC National Gallery de Londres\n",
      "PER Liz Truss\n",
      "MISC La acción\n",
      "PER La Gioconda\n"
     ]
    }
   ],
   "source": [
    "# Ejemplo 4.4.2\n",
    "doc = nlp(tuit)\n",
    "for ent in doc.ents:\n",
    "  print(ent.label_, ent)"
   ]
  },
  {
   "cell_type": "code",
   "execution_count": 25,
   "metadata": {
    "colab": {
     "base_uri": "https://localhost:8080/"
    },
    "id": "E5PU_2jwIoq5",
    "outputId": "02483b9c-f089-40fc-ee9d-9058a97b037c"
   },
   "outputs": [
    {
     "name": "stdout",
     "output_type": "stream",
     "text": [
      "Counter({'PER': 3, 'MISC': 2, 'ORG': 1, 'LOC': 1})\n"
     ]
    }
   ],
   "source": [
    "# Ejemplo 4.4.3\n",
    "from collections import Counter\n",
    "\n",
    "doc = nlp(tuit)\n",
    "cat_ent = [ent.label_ for ent in doc.ents]\n",
    "contador = Counter(cat_ent)\n",
    "print(contador)"
   ]
  },
  {
   "cell_type": "markdown",
   "metadata": {},
   "source": [
    "### Otras bibliotecas para la detección de entidades con nombre"
   ]
  },
  {
   "cell_type": "code",
   "execution_count": 26,
   "metadata": {
    "colab": {
     "base_uri": "https://localhost:8080/"
    },
    "id": "UjxMXAiUnYMu",
    "outputId": "49459817-b582-43b9-bf6a-7f020ac1f91e",
    "tags": []
   },
   "outputs": [
    {
     "name": "stderr",
     "output_type": "stream",
     "text": [
      "/home/kike/Personal/svn/kike/libros/Python_Humanidaes_Digitales/venv/lib/python3.11/site-packages/tqdm/auto.py:21: TqdmWarning: IProgress not found. Please update jupyter and ipywidgets. See https://ipywidgets.readthedocs.io/en/stable/user_install.html\n",
      "  from .autonotebook import tqdm as notebook_tqdm\n"
     ]
    },
    {
     "name": "stdout",
     "output_type": "stream",
     "text": [
      "2023-04-19 17:22:46,398 SequenceTagger predicts: Dictionary with 20 tags: <unk>, O, S-LOC, S-ORG, B-PER, I-PER, E-PER, S-MISC, B-ORG, E-ORG, S-PER, I-ORG, B-LOC, E-LOC, B-MISC, E-MISC, I-MISC, I-LOC, <START>, <STOP>\n",
      "Span[5:8]: \"Just Stop Oil\" → ORG (0.9999)\n",
      "Span[17:22]: \"Los girasoles de Van Gogh\" → MISC (0.8302)\n",
      "Span[24:28]: \"National Gallery de Londres\" → LOC (0.9056)\n",
      "Span[34:36]: \"Liz Truss\" → PER (0.9998)\n",
      "Span[56:58]: \"La Gioconda\" → MISC (0.9842)\n"
     ]
    }
   ],
   "source": [
    "import flair\n",
    "\n",
    "from flair.data import Sentence\n",
    "from flair.models import SequenceTagger\n",
    "\n",
    "sentence = Sentence(tuit)\n",
    "\n",
    "tagger = SequenceTagger.load(\"flair/ner-spanish-large\")\n",
    "\n",
    "tagger.predict(sentence)\n",
    "\n",
    "for entity in sentence.get_spans('ner'):\n",
    "    print(entity)"
   ]
  }
 ],
 "metadata": {
  "colab": {
   "provenance": []
  },
  "kernelspec": {
   "display_name": "Python 3 (ipykernel)",
   "language": "python",
   "name": "python3"
  },
  "language_info": {
   "codemirror_mode": {
    "name": "ipython",
    "version": 3
   },
   "file_extension": ".py",
   "mimetype": "text/x-python",
   "name": "python",
   "nbconvert_exporter": "python",
   "pygments_lexer": "ipython3",
   "version": "3.11.3"
  }
 },
 "nbformat": 4,
 "nbformat_minor": 4
}
