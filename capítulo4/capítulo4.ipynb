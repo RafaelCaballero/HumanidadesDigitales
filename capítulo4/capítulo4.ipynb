{
  "cells": [
    {
      "cell_type": "markdown",
      "metadata": {
        "id": "-Eq-2T3_9g7M"
      },
      "source": [
        "# Los elementos de la oración"
      ]
    },
    {
      "cell_type": "markdown",
      "metadata": {
        "id": "wT8st4YlU859"
      },
      "source": [
        "## Instalación de dependencias"
      ]
    },
    {
      "cell_type": "code",
      "execution_count": null,
      "metadata": {
        "id": "t19kxpqhBznh"
      },
      "outputs": [],
      "source": [
        "# Instala paquetes\n",
        "!pip install spacy==3.4.2\n",
        "!pip install flair==0.12.2\n",
        "\n",
        "# Instala pipeline en español\n",
        "!python -m spacy download es_core_news_lg\n",
        "# !pip install es-core-news-lg==3.4.0"
      ]
    },
    {
      "cell_type": "markdown",
      "metadata": {
        "id": "-7nx51nZOued"
      },
      "source": [
        "## Introducción"
      ]
    },
    {
      "cell_type": "code",
      "execution_count": 2,
      "metadata": {
        "id": "UAx8nTenPnAN",
        "tags": []
      },
      "outputs": [],
      "source": [
        "import spacy\n",
        "nlp = spacy.load(\"es_core_news_lg\")\n",
        "\n",
        "# Inspirado en https://twitter.com/i/events/1580914939908218881\n",
        "tuit = '''Dos activistas del grupo ecologista Just Stop Oil han lanzado sopa de tomate sobre el cuadro de Los girasoles de Van Gogh en la National Gallery de Londres. Persiguen que el gobierno de Liz Truss paralice todos los nuevos proyectos de petróleo y gas. La acción ha recordado al 'tartazo' que recibió La Gioconda en mayo de 2022.'''\n",
        "doc = nlp(tuit)"
      ]
    },
    {
      "cell_type": "markdown",
      "metadata": {
        "id": "yd9N-JbCVCTD"
      },
      "source": [
        "## Análisis morfológico de palabras"
      ]
    },
    {
      "cell_type": "code",
      "execution_count": 3,
      "metadata": {
        "colab": {
          "base_uri": "https://localhost:8080/"
        },
        "id": "eN9lSDt_COba",
        "outputId": "dfb32fc0-3ce5-480f-dac3-e3af933938a8",
        "tags": []
      },
      "outputs": [
        {
          "output_type": "stream",
          "name": "stdout",
          "text": [
            "Dos  --> NumType=Card|Number=Plur\n",
            "activistas  --> Number=Plur\n",
            "del  --> Definite=Def|Gender=Masc|Number=Sing|PronType=Art\n",
            "grupo  --> Gender=Masc|Number=Sing\n",
            "ecologista  --> Number=Sing\n",
            "Just  --> \n",
            "Stop  --> \n",
            "Oil  --> \n",
            "han  --> Mood=Ind|Number=Plur|Person=3|Tense=Pres|VerbForm=Fin\n",
            "lanzado  --> Gender=Masc|Number=Sing|Tense=Past|VerbForm=Part\n",
            "sopa  --> Gender=Fem|Number=Sing\n",
            "de  --> \n",
            "tomate  --> Gender=Masc|Number=Sing\n",
            "sobre  --> \n",
            "el  --> Definite=Def|Gender=Masc|Number=Sing|PronType=Art\n",
            "cuadro  --> Gender=Masc|Number=Sing\n",
            "de  --> \n",
            "Los  --> Definite=Def|Gender=Masc|Number=Plur|PronType=Art\n",
            "girasoles  --> Gender=Masc|Number=Plur\n",
            "de  --> \n",
            "Van  --> \n",
            "Gogh  --> \n",
            "en  --> \n",
            "la  --> Definite=Def|Gender=Fem|Number=Sing|PronType=Art\n",
            "National  --> \n",
            "Gallery  --> \n",
            "de  --> \n",
            "Londres  --> \n",
            ".  --> PunctType=Peri\n",
            "Persiguen  --> Mood=Ind|Number=Plur|Person=3|Tense=Pres|VerbForm=Fin\n",
            "que  --> \n",
            "el  --> Definite=Def|Gender=Masc|Number=Sing|PronType=Art\n",
            "gobierno  --> Gender=Masc|Number=Sing\n",
            "de  --> \n",
            "Liz  --> \n",
            "Truss  --> \n",
            "paralice  --> Mood=Sub|Number=Sing|Person=3|Tense=Pres|VerbForm=Fin\n",
            "todos  --> Gender=Masc|Number=Plur|PronType=Tot\n",
            "los  --> Definite=Def|Gender=Masc|Number=Plur|PronType=Art\n",
            "nuevos  --> Gender=Masc|Number=Plur\n",
            "proyectos  --> Gender=Masc|Number=Plur\n",
            "de  --> \n",
            "petróleo  --> Gender=Masc|Number=Sing\n",
            "y  --> \n",
            "gas  --> Gender=Masc|Number=Sing\n",
            ".  --> PunctType=Peri\n",
            "La  --> Definite=Def|Gender=Fem|Number=Sing|PronType=Art\n",
            "acción  --> Gender=Fem|Number=Sing\n",
            "ha  --> Mood=Ind|Number=Sing|Person=3|Tense=Pres|VerbForm=Fin\n",
            "recordado  --> Gender=Masc|Number=Sing|Tense=Past|VerbForm=Part\n",
            "al  --> Definite=Def|Gender=Masc|Number=Sing|PronType=Art\n",
            "'  --> \n",
            "tartazo  --> Gender=Masc|Number=Sing\n",
            "'  --> \n",
            "que  --> PronType=Int,Rel\n",
            "recibió  --> Mood=Ind|Number=Sing|Person=3|Tense=Past|VerbForm=Fin\n",
            "La  --> Definite=Def|Gender=Fem|Number=Sing|PronType=Art\n",
            "Gioconda  --> \n",
            "en  --> \n",
            "mayo  --> \n",
            "de  --> \n",
            "2022  --> NumForm=Digit|NumType=Card\n",
            ".  --> PunctType=Peri\n"
          ]
        }
      ],
      "source": [
        "# Ejemplo 4.2.1\n",
        "# Morfologia de cada palabra\n",
        "\n",
        "for token in doc:\n",
        "  print(token, ' -->', token.morph)\n",
        "\n",
        "# Explicación de cada campo y valor en https://universaldependencies.org/u/feat/index.html"
      ]
    },
    {
      "cell_type": "code",
      "execution_count": 4,
      "metadata": {
        "colab": {
          "base_uri": "https://localhost:8080/"
        },
        "id": "_VEKt4fHVSWc",
        "outputId": "565c037a-2008-4667-d516-d6c3edf5b64f"
      },
      "outputs": [
        {
          "output_type": "stream",
          "name": "stdout",
          "text": [
            "Dos  --> {'NumType': 'Card', 'Number': 'Plur'}\n",
            "activistas  --> {'Number': 'Plur'}\n",
            "del  --> {'Definite': 'Def', 'Gender': 'Masc', 'Number': 'Sing', 'PronType': 'Art'}\n",
            "grupo  --> {'Gender': 'Masc', 'Number': 'Sing'}\n",
            "ecologista  --> {'Number': 'Sing'}\n",
            "Just  --> {}\n",
            "Stop  --> {}\n",
            "Oil  --> {}\n",
            "han  --> {'Mood': 'Ind', 'Number': 'Plur', 'Person': '3', 'Tense': 'Pres', 'VerbForm': 'Fin'}\n",
            "lanzado  --> {'Gender': 'Masc', 'Number': 'Sing', 'Tense': 'Past', 'VerbForm': 'Part'}\n",
            "sopa  --> {'Gender': 'Fem', 'Number': 'Sing'}\n",
            "de  --> {}\n",
            "tomate  --> {'Gender': 'Masc', 'Number': 'Sing'}\n",
            "sobre  --> {}\n",
            "el  --> {'Definite': 'Def', 'Gender': 'Masc', 'Number': 'Sing', 'PronType': 'Art'}\n",
            "cuadro  --> {'Gender': 'Masc', 'Number': 'Sing'}\n",
            "de  --> {}\n",
            "Los  --> {'Definite': 'Def', 'Gender': 'Masc', 'Number': 'Plur', 'PronType': 'Art'}\n",
            "girasoles  --> {'Gender': 'Masc', 'Number': 'Plur'}\n",
            "de  --> {}\n",
            "Van  --> {}\n",
            "Gogh  --> {}\n",
            "en  --> {}\n",
            "la  --> {'Definite': 'Def', 'Gender': 'Fem', 'Number': 'Sing', 'PronType': 'Art'}\n",
            "National  --> {}\n",
            "Gallery  --> {}\n",
            "de  --> {}\n",
            "Londres  --> {}\n",
            ".  --> {'PunctType': 'Peri'}\n",
            "Persiguen  --> {'Mood': 'Ind', 'Number': 'Plur', 'Person': '3', 'Tense': 'Pres', 'VerbForm': 'Fin'}\n",
            "que  --> {}\n",
            "el  --> {'Definite': 'Def', 'Gender': 'Masc', 'Number': 'Sing', 'PronType': 'Art'}\n",
            "gobierno  --> {'Gender': 'Masc', 'Number': 'Sing'}\n",
            "de  --> {}\n",
            "Liz  --> {}\n",
            "Truss  --> {}\n",
            "paralice  --> {'Mood': 'Sub', 'Number': 'Sing', 'Person': '3', 'Tense': 'Pres', 'VerbForm': 'Fin'}\n",
            "todos  --> {'Gender': 'Masc', 'Number': 'Plur', 'PronType': 'Tot'}\n",
            "los  --> {'Definite': 'Def', 'Gender': 'Masc', 'Number': 'Plur', 'PronType': 'Art'}\n",
            "nuevos  --> {'Gender': 'Masc', 'Number': 'Plur'}\n",
            "proyectos  --> {'Gender': 'Masc', 'Number': 'Plur'}\n",
            "de  --> {}\n",
            "petróleo  --> {'Gender': 'Masc', 'Number': 'Sing'}\n",
            "y  --> {}\n",
            "gas  --> {'Gender': 'Masc', 'Number': 'Sing'}\n",
            ".  --> {'PunctType': 'Peri'}\n",
            "La  --> {'Definite': 'Def', 'Gender': 'Fem', 'Number': 'Sing', 'PronType': 'Art'}\n",
            "acción  --> {'Gender': 'Fem', 'Number': 'Sing'}\n",
            "ha  --> {'Mood': 'Ind', 'Number': 'Sing', 'Person': '3', 'Tense': 'Pres', 'VerbForm': 'Fin'}\n",
            "recordado  --> {'Gender': 'Masc', 'Number': 'Sing', 'Tense': 'Past', 'VerbForm': 'Part'}\n",
            "al  --> {'Definite': 'Def', 'Gender': 'Masc', 'Number': 'Sing', 'PronType': 'Art'}\n",
            "'  --> {}\n",
            "tartazo  --> {'Gender': 'Masc', 'Number': 'Sing'}\n",
            "'  --> {}\n",
            "que  --> {'PronType': 'Int,Rel'}\n",
            "recibió  --> {'Mood': 'Ind', 'Number': 'Sing', 'Person': '3', 'Tense': 'Past', 'VerbForm': 'Fin'}\n",
            "La  --> {'Definite': 'Def', 'Gender': 'Fem', 'Number': 'Sing', 'PronType': 'Art'}\n",
            "Gioconda  --> {}\n",
            "en  --> {}\n",
            "mayo  --> {}\n",
            "de  --> {}\n",
            "2022  --> {'NumForm': 'Digit', 'NumType': 'Card'}\n",
            ".  --> {'PunctType': 'Peri'}\n"
          ]
        }
      ],
      "source": [
        "# Ejemplo 4.2.2\n",
        "# Morfologia de cada palabra como diccionario\n",
        "\n",
        "for token in doc:\n",
        "  morph_dict = token.morph.to_dict()\n",
        "  print(token, ' -->', morph_dict)"
      ]
    },
    {
      "cell_type": "code",
      "execution_count": 5,
      "metadata": {
        "colab": {
          "base_uri": "https://localhost:8080/"
        },
        "id": "zlF6rLpEWDQt",
        "outputId": "fbd8dbe6-a41a-4ccc-b8cc-1baeb02bc2b1"
      },
      "outputs": [
        {
          "output_type": "stream",
          "name": "stdout",
          "text": [
            "del  --> Masc\n",
            "grupo  --> Masc\n",
            "lanzado  --> Masc\n",
            "sopa  --> Fem\n",
            "tomate  --> Masc\n",
            "el  --> Masc\n",
            "cuadro  --> Masc\n",
            "Los  --> Masc\n",
            "girasoles  --> Masc\n",
            "la  --> Fem\n",
            "el  --> Masc\n",
            "gobierno  --> Masc\n",
            "todos  --> Masc\n",
            "los  --> Masc\n",
            "nuevos  --> Masc\n",
            "proyectos  --> Masc\n",
            "petróleo  --> Masc\n",
            "gas  --> Masc\n",
            "La  --> Fem\n",
            "acción  --> Fem\n",
            "recordado  --> Masc\n",
            "al  --> Masc\n",
            "tartazo  --> Masc\n",
            "La  --> Fem\n"
          ]
        }
      ],
      "source": [
        "# Ejemplo 4.2.3\n",
        "# Únicamene información del género de la palabra, si existe\n",
        "\n",
        "for token in doc:\n",
        "  morph_dict = token.morph.to_dict()\n",
        "  if 'Gender' in morph_dict:\n",
        "    print(token, ' -->', morph_dict['Gender'])"
      ]
    },
    {
      "cell_type": "code",
      "execution_count": 6,
      "metadata": {
        "colab": {
          "base_uri": "https://localhost:8080/"
        },
        "id": "fw2mU7_9kXH3",
        "outputId": "38ceb27f-63d4-4571-cd86-e23f8caa7fc5"
      },
      "outputs": [
        {
          "output_type": "stream",
          "name": "stdout",
          "text": [
            "Número de palabras femeninas: 5\n",
            "Número de palabras masculinas: 19\n"
          ]
        }
      ],
      "source": [
        "# Ejemplo 4.2.4\n",
        "# Conteo de palabras femeninas y masculinas\n",
        "\n",
        "pal_fem = [token for token in doc \n",
        "             if 'Gender' in token.morph.to_dict() and \n",
        "                token.morph.to_dict()['Gender'] == 'Fem']\n",
        "pal_masc = [token for token in doc \n",
        "              if 'Gender' in token.morph.to_dict() and \n",
        "                 token.morph.to_dict()['Gender'] == 'Masc']\n",
        "\n",
        "print('Número de palabras femeninas:', len(pal_fem))\n",
        "print('Número de palabras masculinas:', len(pal_masc))"
      ]
    },
    {
      "cell_type": "code",
      "execution_count": 7,
      "metadata": {
        "colab": {
          "base_uri": "https://localhost:8080/"
        },
        "id": "pzo1xhmGk90M",
        "outputId": "d34d36e8-c319-4f89-ed62-6e3863ac346e"
      },
      "outputs": [
        {
          "output_type": "stream",
          "name": "stdout",
          "text": [
            "[han, Persiguen, paralice, ha]\n"
          ]
        }
      ],
      "source": [
        "# Ejemplo 4.2.5\n",
        "# Detección de verbos en presente\n",
        "\n",
        "def es_verbo_presente(token):\n",
        "  ''' Función que detecta si un token es un verbo en presente '''\n",
        "  morph_dict = token.morph.to_dict()\n",
        "  return 'Tense' in morph_dict and morph_dict['Tense'] == 'Pres'\n",
        "\n",
        "verbos_presente = [token for token in doc if es_verbo_presente(token)]\n",
        "print(verbos_presente)"
      ]
    },
    {
      "cell_type": "markdown",
      "metadata": {
        "id": "QSMJBJA9ZML_"
      },
      "source": [
        "## Análisis sintáctico de oraciones"
      ]
    },
    {
      "cell_type": "code",
      "execution_count": 8,
      "metadata": {
        "id": "VYFvvcYqCVpi"
      },
      "outputs": [],
      "source": [
        "#  Part of speech, análisis sintáctico y qué grupos forman (token.pos_, token.dep)\n",
        "\n",
        "# https://universaldependencies.org/es/\n",
        "# https://universaldependencies.org/es/pos/\n",
        "# https://universaldependencies.org/u/dep/\n",
        "# https://universaldependencies.org/docs/es/dep/"
      ]
    },
    {
      "cell_type": "code",
      "execution_count": 9,
      "metadata": {
        "id": "G3j1sG-3VKrq"
      },
      "outputs": [],
      "source": [
        "import spacy\n",
        "nlp = spacy.load(\"es_core_news_lg\")"
      ]
    },
    {
      "cell_type": "code",
      "execution_count": 10,
      "metadata": {
        "colab": {
          "base_uri": "https://localhost:8080/",
          "height": 258
        },
        "id": "V7gFJrc_mtAo",
        "outputId": "3d9c79ca-6fe1-4412-8ec9-bb31a0ab8ce9"
      },
      "outputs": [
        {
          "output_type": "display_data",
          "data": {
            "text/plain": [
              "<IPython.core.display.HTML object>"
            ],
            "text/html": [
              "<span class=\"tex2jax_ignore\"><svg xmlns=\"http://www.w3.org/2000/svg\" xmlns:xlink=\"http://www.w3.org/1999/xlink\" xml:lang=\"es\" id=\"d0cd21648dd4445a95bfe0d0013ad9ba-0\" class=\"displacy\" width=\"450\" height=\"237.0\" direction=\"ltr\" style=\"max-width: none; height: 237.0px; color: #000000; background: #ffffff; font-family: Arial; direction: ltr\">\n",
              "<text class=\"displacy-token\" fill=\"currentColor\" text-anchor=\"middle\" y=\"147.0\">\n",
              "    <tspan class=\"displacy-word\" fill=\"currentColor\" x=\"50\">Yo</tspan>\n",
              "    <tspan class=\"displacy-tag\" dy=\"2em\" fill=\"currentColor\" x=\"50\">PRON</tspan>\n",
              "</text>\n",
              "\n",
              "<text class=\"displacy-token\" fill=\"currentColor\" text-anchor=\"middle\" y=\"147.0\">\n",
              "    <tspan class=\"displacy-word\" fill=\"currentColor\" x=\"150\">lanzo</tspan>\n",
              "    <tspan class=\"displacy-tag\" dy=\"2em\" fill=\"currentColor\" x=\"150\">VERB</tspan>\n",
              "</text>\n",
              "\n",
              "<text class=\"displacy-token\" fill=\"currentColor\" text-anchor=\"middle\" y=\"147.0\">\n",
              "    <tspan class=\"displacy-word\" fill=\"currentColor\" x=\"250\">el</tspan>\n",
              "    <tspan class=\"displacy-tag\" dy=\"2em\" fill=\"currentColor\" x=\"250\">DET</tspan>\n",
              "</text>\n",
              "\n",
              "<text class=\"displacy-token\" fill=\"currentColor\" text-anchor=\"middle\" y=\"147.0\">\n",
              "    <tspan class=\"displacy-word\" fill=\"currentColor\" x=\"350\">balón</tspan>\n",
              "    <tspan class=\"displacy-tag\" dy=\"2em\" fill=\"currentColor\" x=\"350\">NOUN</tspan>\n",
              "</text>\n",
              "\n",
              "<g class=\"displacy-arrow\">\n",
              "    <path class=\"displacy-arc\" id=\"arrow-d0cd21648dd4445a95bfe0d0013ad9ba-0-0\" stroke-width=\"2px\" d=\"M70,102.0 C70,52.0 145.0,52.0 145.0,102.0\" fill=\"none\" stroke=\"currentColor\"/>\n",
              "    <text dy=\"1.25em\" style=\"font-size: 0.8em; letter-spacing: 1px\">\n",
              "        <textPath xlink:href=\"#arrow-d0cd21648dd4445a95bfe0d0013ad9ba-0-0\" class=\"displacy-label\" startOffset=\"50%\" side=\"left\" fill=\"currentColor\" text-anchor=\"middle\">nsubj</textPath>\n",
              "    </text>\n",
              "    <path class=\"displacy-arrowhead\" d=\"M70,104.0 L62,92.0 78,92.0\" fill=\"currentColor\"/>\n",
              "</g>\n",
              "\n",
              "<g class=\"displacy-arrow\">\n",
              "    <path class=\"displacy-arc\" id=\"arrow-d0cd21648dd4445a95bfe0d0013ad9ba-0-1\" stroke-width=\"2px\" d=\"M270,102.0 C270,52.0 345.0,52.0 345.0,102.0\" fill=\"none\" stroke=\"currentColor\"/>\n",
              "    <text dy=\"1.25em\" style=\"font-size: 0.8em; letter-spacing: 1px\">\n",
              "        <textPath xlink:href=\"#arrow-d0cd21648dd4445a95bfe0d0013ad9ba-0-1\" class=\"displacy-label\" startOffset=\"50%\" side=\"left\" fill=\"currentColor\" text-anchor=\"middle\">det</textPath>\n",
              "    </text>\n",
              "    <path class=\"displacy-arrowhead\" d=\"M270,104.0 L262,92.0 278,92.0\" fill=\"currentColor\"/>\n",
              "</g>\n",
              "\n",
              "<g class=\"displacy-arrow\">\n",
              "    <path class=\"displacy-arc\" id=\"arrow-d0cd21648dd4445a95bfe0d0013ad9ba-0-2\" stroke-width=\"2px\" d=\"M170,102.0 C170,2.0 350.0,2.0 350.0,102.0\" fill=\"none\" stroke=\"currentColor\"/>\n",
              "    <text dy=\"1.25em\" style=\"font-size: 0.8em; letter-spacing: 1px\">\n",
              "        <textPath xlink:href=\"#arrow-d0cd21648dd4445a95bfe0d0013ad9ba-0-2\" class=\"displacy-label\" startOffset=\"50%\" side=\"left\" fill=\"currentColor\" text-anchor=\"middle\">obj</textPath>\n",
              "    </text>\n",
              "    <path class=\"displacy-arrowhead\" d=\"M350.0,104.0 L358.0,92.0 342.0,92.0\" fill=\"currentColor\"/>\n",
              "</g>\n",
              "</svg></span>"
            ]
          },
          "metadata": {}
        }
      ],
      "source": [
        "# Ejemplo 4.3.1\n",
        "\n",
        "doc = nlp('Yo lanzo el balón')\n",
        "spacy.displacy.render(doc, style='dep', jupyter=True, options={'compact':False, 'distance':100})"
      ]
    },
    {
      "cell_type": "code",
      "execution_count": 11,
      "metadata": {
        "colab": {
          "base_uri": "https://localhost:8080/",
          "height": 308
        },
        "id": "V2MDaJREm17R",
        "outputId": "7967ebef-8c9a-46aa-95fd-c2d73a54467f"
      },
      "outputs": [
        {
          "output_type": "display_data",
          "data": {
            "text/plain": [
              "<IPython.core.display.HTML object>"
            ],
            "text/html": [
              "<span class=\"tex2jax_ignore\"><svg xmlns=\"http://www.w3.org/2000/svg\" xmlns:xlink=\"http://www.w3.org/1999/xlink\" xml:lang=\"es\" id=\"4b669b8e62534db7b0ed4a9e9f701e2a-0\" class=\"displacy\" width=\"750\" height=\"287.0\" direction=\"ltr\" style=\"max-width: none; height: 287.0px; color: #000000; background: #ffffff; font-family: Arial; direction: ltr\">\n",
              "<text class=\"displacy-token\" fill=\"currentColor\" text-anchor=\"middle\" y=\"197.0\">\n",
              "    <tspan class=\"displacy-word\" fill=\"currentColor\" x=\"50\">Un</tspan>\n",
              "    <tspan class=\"displacy-tag\" dy=\"2em\" fill=\"currentColor\" x=\"50\">DET</tspan>\n",
              "</text>\n",
              "\n",
              "<text class=\"displacy-token\" fill=\"currentColor\" text-anchor=\"middle\" y=\"197.0\">\n",
              "    <tspan class=\"displacy-word\" fill=\"currentColor\" x=\"150\">jugador</tspan>\n",
              "    <tspan class=\"displacy-tag\" dy=\"2em\" fill=\"currentColor\" x=\"150\">NOUN</tspan>\n",
              "</text>\n",
              "\n",
              "<text class=\"displacy-token\" fill=\"currentColor\" text-anchor=\"middle\" y=\"197.0\">\n",
              "    <tspan class=\"displacy-word\" fill=\"currentColor\" x=\"250\">malo</tspan>\n",
              "    <tspan class=\"displacy-tag\" dy=\"2em\" fill=\"currentColor\" x=\"250\">ADJ</tspan>\n",
              "</text>\n",
              "\n",
              "<text class=\"displacy-token\" fill=\"currentColor\" text-anchor=\"middle\" y=\"197.0\">\n",
              "    <tspan class=\"displacy-word\" fill=\"currentColor\" x=\"350\">lanza</tspan>\n",
              "    <tspan class=\"displacy-tag\" dy=\"2em\" fill=\"currentColor\" x=\"350\">VERB</tspan>\n",
              "</text>\n",
              "\n",
              "<text class=\"displacy-token\" fill=\"currentColor\" text-anchor=\"middle\" y=\"197.0\">\n",
              "    <tspan class=\"displacy-word\" fill=\"currentColor\" x=\"450\">el</tspan>\n",
              "    <tspan class=\"displacy-tag\" dy=\"2em\" fill=\"currentColor\" x=\"450\">DET</tspan>\n",
              "</text>\n",
              "\n",
              "<text class=\"displacy-token\" fill=\"currentColor\" text-anchor=\"middle\" y=\"197.0\">\n",
              "    <tspan class=\"displacy-word\" fill=\"currentColor\" x=\"550\">balón</tspan>\n",
              "    <tspan class=\"displacy-tag\" dy=\"2em\" fill=\"currentColor\" x=\"550\">NOUN</tspan>\n",
              "</text>\n",
              "\n",
              "<text class=\"displacy-token\" fill=\"currentColor\" text-anchor=\"middle\" y=\"197.0\">\n",
              "    <tspan class=\"displacy-word\" fill=\"currentColor\" x=\"650\">rápidamente</tspan>\n",
              "    <tspan class=\"displacy-tag\" dy=\"2em\" fill=\"currentColor\" x=\"650\">ADV</tspan>\n",
              "</text>\n",
              "\n",
              "<g class=\"displacy-arrow\">\n",
              "    <path class=\"displacy-arc\" id=\"arrow-4b669b8e62534db7b0ed4a9e9f701e2a-0-0\" stroke-width=\"2px\" d=\"M70,152.0 C70,102.0 140.0,102.0 140.0,152.0\" fill=\"none\" stroke=\"currentColor\"/>\n",
              "    <text dy=\"1.25em\" style=\"font-size: 0.8em; letter-spacing: 1px\">\n",
              "        <textPath xlink:href=\"#arrow-4b669b8e62534db7b0ed4a9e9f701e2a-0-0\" class=\"displacy-label\" startOffset=\"50%\" side=\"left\" fill=\"currentColor\" text-anchor=\"middle\">det</textPath>\n",
              "    </text>\n",
              "    <path class=\"displacy-arrowhead\" d=\"M70,154.0 L62,142.0 78,142.0\" fill=\"currentColor\"/>\n",
              "</g>\n",
              "\n",
              "<g class=\"displacy-arrow\">\n",
              "    <path class=\"displacy-arc\" id=\"arrow-4b669b8e62534db7b0ed4a9e9f701e2a-0-1\" stroke-width=\"2px\" d=\"M170,152.0 C170,52.0 345.0,52.0 345.0,152.0\" fill=\"none\" stroke=\"currentColor\"/>\n",
              "    <text dy=\"1.25em\" style=\"font-size: 0.8em; letter-spacing: 1px\">\n",
              "        <textPath xlink:href=\"#arrow-4b669b8e62534db7b0ed4a9e9f701e2a-0-1\" class=\"displacy-label\" startOffset=\"50%\" side=\"left\" fill=\"currentColor\" text-anchor=\"middle\">nsubj</textPath>\n",
              "    </text>\n",
              "    <path class=\"displacy-arrowhead\" d=\"M170,154.0 L162,142.0 178,142.0\" fill=\"currentColor\"/>\n",
              "</g>\n",
              "\n",
              "<g class=\"displacy-arrow\">\n",
              "    <path class=\"displacy-arc\" id=\"arrow-4b669b8e62534db7b0ed4a9e9f701e2a-0-2\" stroke-width=\"2px\" d=\"M170,152.0 C170,102.0 240.0,102.0 240.0,152.0\" fill=\"none\" stroke=\"currentColor\"/>\n",
              "    <text dy=\"1.25em\" style=\"font-size: 0.8em; letter-spacing: 1px\">\n",
              "        <textPath xlink:href=\"#arrow-4b669b8e62534db7b0ed4a9e9f701e2a-0-2\" class=\"displacy-label\" startOffset=\"50%\" side=\"left\" fill=\"currentColor\" text-anchor=\"middle\">amod</textPath>\n",
              "    </text>\n",
              "    <path class=\"displacy-arrowhead\" d=\"M240.0,154.0 L248.0,142.0 232.0,142.0\" fill=\"currentColor\"/>\n",
              "</g>\n",
              "\n",
              "<g class=\"displacy-arrow\">\n",
              "    <path class=\"displacy-arc\" id=\"arrow-4b669b8e62534db7b0ed4a9e9f701e2a-0-3\" stroke-width=\"2px\" d=\"M470,152.0 C470,102.0 540.0,102.0 540.0,152.0\" fill=\"none\" stroke=\"currentColor\"/>\n",
              "    <text dy=\"1.25em\" style=\"font-size: 0.8em; letter-spacing: 1px\">\n",
              "        <textPath xlink:href=\"#arrow-4b669b8e62534db7b0ed4a9e9f701e2a-0-3\" class=\"displacy-label\" startOffset=\"50%\" side=\"left\" fill=\"currentColor\" text-anchor=\"middle\">det</textPath>\n",
              "    </text>\n",
              "    <path class=\"displacy-arrowhead\" d=\"M470,154.0 L462,142.0 478,142.0\" fill=\"currentColor\"/>\n",
              "</g>\n",
              "\n",
              "<g class=\"displacy-arrow\">\n",
              "    <path class=\"displacy-arc\" id=\"arrow-4b669b8e62534db7b0ed4a9e9f701e2a-0-4\" stroke-width=\"2px\" d=\"M370,152.0 C370,52.0 545.0,52.0 545.0,152.0\" fill=\"none\" stroke=\"currentColor\"/>\n",
              "    <text dy=\"1.25em\" style=\"font-size: 0.8em; letter-spacing: 1px\">\n",
              "        <textPath xlink:href=\"#arrow-4b669b8e62534db7b0ed4a9e9f701e2a-0-4\" class=\"displacy-label\" startOffset=\"50%\" side=\"left\" fill=\"currentColor\" text-anchor=\"middle\">obj</textPath>\n",
              "    </text>\n",
              "    <path class=\"displacy-arrowhead\" d=\"M545.0,154.0 L553.0,142.0 537.0,142.0\" fill=\"currentColor\"/>\n",
              "</g>\n",
              "\n",
              "<g class=\"displacy-arrow\">\n",
              "    <path class=\"displacy-arc\" id=\"arrow-4b669b8e62534db7b0ed4a9e9f701e2a-0-5\" stroke-width=\"2px\" d=\"M370,152.0 C370,2.0 650.0,2.0 650.0,152.0\" fill=\"none\" stroke=\"currentColor\"/>\n",
              "    <text dy=\"1.25em\" style=\"font-size: 0.8em; letter-spacing: 1px\">\n",
              "        <textPath xlink:href=\"#arrow-4b669b8e62534db7b0ed4a9e9f701e2a-0-5\" class=\"displacy-label\" startOffset=\"50%\" side=\"left\" fill=\"currentColor\" text-anchor=\"middle\">advmod</textPath>\n",
              "    </text>\n",
              "    <path class=\"displacy-arrowhead\" d=\"M650.0,154.0 L658.0,142.0 642.0,142.0\" fill=\"currentColor\"/>\n",
              "</g>\n",
              "</svg></span>"
            ]
          },
          "metadata": {}
        }
      ],
      "source": [
        "# Ejemplo 4.3.2\n",
        "\n",
        "doc = nlp('Un jugador malo lanza el balón rápidamente')\n",
        "spacy.displacy.render(doc, style='dep', jupyter=True, options={'compact':False, 'distance':100})"
      ]
    },
    {
      "cell_type": "code",
      "execution_count": 12,
      "metadata": {
        "colab": {
          "base_uri": "https://localhost:8080/",
          "height": 258
        },
        "id": "pn3aDK3grlLU",
        "outputId": "3fa4e756-79c1-4225-9bd3-ac96ab5f0cd6"
      },
      "outputs": [
        {
          "output_type": "display_data",
          "data": {
            "text/plain": [
              "<IPython.core.display.HTML object>"
            ],
            "text/html": [
              "<span class=\"tex2jax_ignore\"><svg xmlns=\"http://www.w3.org/2000/svg\" xmlns:xlink=\"http://www.w3.org/1999/xlink\" xml:lang=\"es\" id=\"68395c1c8a144c45be50d23dbac0be36-0\" class=\"displacy\" width=\"850\" height=\"237.0\" direction=\"ltr\" style=\"max-width: none; height: 237.0px; color: #000000; background: #ffffff; font-family: Arial; direction: ltr\">\n",
              "<text class=\"displacy-token\" fill=\"currentColor\" text-anchor=\"middle\" y=\"147.0\">\n",
              "    <tspan class=\"displacy-word\" fill=\"currentColor\" x=\"50\">Eva</tspan>\n",
              "    <tspan class=\"displacy-tag\" dy=\"2em\" fill=\"currentColor\" x=\"50\">PROPN</tspan>\n",
              "</text>\n",
              "\n",
              "<text class=\"displacy-token\" fill=\"currentColor\" text-anchor=\"middle\" y=\"147.0\">\n",
              "    <tspan class=\"displacy-word\" fill=\"currentColor\" x=\"150\">te</tspan>\n",
              "    <tspan class=\"displacy-tag\" dy=\"2em\" fill=\"currentColor\" x=\"150\">PRON</tspan>\n",
              "</text>\n",
              "\n",
              "<text class=\"displacy-token\" fill=\"currentColor\" text-anchor=\"middle\" y=\"147.0\">\n",
              "    <tspan class=\"displacy-word\" fill=\"currentColor\" x=\"250\">prestó</tspan>\n",
              "    <tspan class=\"displacy-tag\" dy=\"2em\" fill=\"currentColor\" x=\"250\">VERB</tspan>\n",
              "</text>\n",
              "\n",
              "<text class=\"displacy-token\" fill=\"currentColor\" text-anchor=\"middle\" y=\"147.0\">\n",
              "    <tspan class=\"displacy-word\" fill=\"currentColor\" x=\"350\">la</tspan>\n",
              "    <tspan class=\"displacy-tag\" dy=\"2em\" fill=\"currentColor\" x=\"350\">DET</tspan>\n",
              "</text>\n",
              "\n",
              "<text class=\"displacy-token\" fill=\"currentColor\" text-anchor=\"middle\" y=\"147.0\">\n",
              "    <tspan class=\"displacy-word\" fill=\"currentColor\" x=\"450\">gorra</tspan>\n",
              "    <tspan class=\"displacy-tag\" dy=\"2em\" fill=\"currentColor\" x=\"450\">NOUN</tspan>\n",
              "</text>\n",
              "\n",
              "<text class=\"displacy-token\" fill=\"currentColor\" text-anchor=\"middle\" y=\"147.0\">\n",
              "    <tspan class=\"displacy-word\" fill=\"currentColor\" x=\"550\">que</tspan>\n",
              "    <tspan class=\"displacy-tag\" dy=\"2em\" fill=\"currentColor\" x=\"550\">PRON</tspan>\n",
              "</text>\n",
              "\n",
              "<text class=\"displacy-token\" fill=\"currentColor\" text-anchor=\"middle\" y=\"147.0\">\n",
              "    <tspan class=\"displacy-word\" fill=\"currentColor\" x=\"650\">compró</tspan>\n",
              "    <tspan class=\"displacy-tag\" dy=\"2em\" fill=\"currentColor\" x=\"650\">VERB</tspan>\n",
              "</text>\n",
              "\n",
              "<text class=\"displacy-token\" fill=\"currentColor\" text-anchor=\"middle\" y=\"147.0\">\n",
              "    <tspan class=\"displacy-word\" fill=\"currentColor\" x=\"750\">ayer</tspan>\n",
              "    <tspan class=\"displacy-tag\" dy=\"2em\" fill=\"currentColor\" x=\"750\">ADV</tspan>\n",
              "</text>\n",
              "\n",
              "<g class=\"displacy-arrow\">\n",
              "    <path class=\"displacy-arc\" id=\"arrow-68395c1c8a144c45be50d23dbac0be36-0-0\" stroke-width=\"2px\" d=\"M70,102.0 C70,2.0 250.0,2.0 250.0,102.0\" fill=\"none\" stroke=\"currentColor\"/>\n",
              "    <text dy=\"1.25em\" style=\"font-size: 0.8em; letter-spacing: 1px\">\n",
              "        <textPath xlink:href=\"#arrow-68395c1c8a144c45be50d23dbac0be36-0-0\" class=\"displacy-label\" startOffset=\"50%\" side=\"left\" fill=\"currentColor\" text-anchor=\"middle\">nsubj</textPath>\n",
              "    </text>\n",
              "    <path class=\"displacy-arrowhead\" d=\"M70,104.0 L62,92.0 78,92.0\" fill=\"currentColor\"/>\n",
              "</g>\n",
              "\n",
              "<g class=\"displacy-arrow\">\n",
              "    <path class=\"displacy-arc\" id=\"arrow-68395c1c8a144c45be50d23dbac0be36-0-1\" stroke-width=\"2px\" d=\"M170,102.0 C170,52.0 245.0,52.0 245.0,102.0\" fill=\"none\" stroke=\"currentColor\"/>\n",
              "    <text dy=\"1.25em\" style=\"font-size: 0.8em; letter-spacing: 1px\">\n",
              "        <textPath xlink:href=\"#arrow-68395c1c8a144c45be50d23dbac0be36-0-1\" class=\"displacy-label\" startOffset=\"50%\" side=\"left\" fill=\"currentColor\" text-anchor=\"middle\">iobj</textPath>\n",
              "    </text>\n",
              "    <path class=\"displacy-arrowhead\" d=\"M170,104.0 L162,92.0 178,92.0\" fill=\"currentColor\"/>\n",
              "</g>\n",
              "\n",
              "<g class=\"displacy-arrow\">\n",
              "    <path class=\"displacy-arc\" id=\"arrow-68395c1c8a144c45be50d23dbac0be36-0-2\" stroke-width=\"2px\" d=\"M370,102.0 C370,52.0 445.0,52.0 445.0,102.0\" fill=\"none\" stroke=\"currentColor\"/>\n",
              "    <text dy=\"1.25em\" style=\"font-size: 0.8em; letter-spacing: 1px\">\n",
              "        <textPath xlink:href=\"#arrow-68395c1c8a144c45be50d23dbac0be36-0-2\" class=\"displacy-label\" startOffset=\"50%\" side=\"left\" fill=\"currentColor\" text-anchor=\"middle\">det</textPath>\n",
              "    </text>\n",
              "    <path class=\"displacy-arrowhead\" d=\"M370,104.0 L362,92.0 378,92.0\" fill=\"currentColor\"/>\n",
              "</g>\n",
              "\n",
              "<g class=\"displacy-arrow\">\n",
              "    <path class=\"displacy-arc\" id=\"arrow-68395c1c8a144c45be50d23dbac0be36-0-3\" stroke-width=\"2px\" d=\"M270,102.0 C270,2.0 450.0,2.0 450.0,102.0\" fill=\"none\" stroke=\"currentColor\"/>\n",
              "    <text dy=\"1.25em\" style=\"font-size: 0.8em; letter-spacing: 1px\">\n",
              "        <textPath xlink:href=\"#arrow-68395c1c8a144c45be50d23dbac0be36-0-3\" class=\"displacy-label\" startOffset=\"50%\" side=\"left\" fill=\"currentColor\" text-anchor=\"middle\">obj</textPath>\n",
              "    </text>\n",
              "    <path class=\"displacy-arrowhead\" d=\"M450.0,104.0 L458.0,92.0 442.0,92.0\" fill=\"currentColor\"/>\n",
              "</g>\n",
              "\n",
              "<g class=\"displacy-arrow\">\n",
              "    <path class=\"displacy-arc\" id=\"arrow-68395c1c8a144c45be50d23dbac0be36-0-4\" stroke-width=\"2px\" d=\"M570,102.0 C570,52.0 645.0,52.0 645.0,102.0\" fill=\"none\" stroke=\"currentColor\"/>\n",
              "    <text dy=\"1.25em\" style=\"font-size: 0.8em; letter-spacing: 1px\">\n",
              "        <textPath xlink:href=\"#arrow-68395c1c8a144c45be50d23dbac0be36-0-4\" class=\"displacy-label\" startOffset=\"50%\" side=\"left\" fill=\"currentColor\" text-anchor=\"middle\">obj</textPath>\n",
              "    </text>\n",
              "    <path class=\"displacy-arrowhead\" d=\"M570,104.0 L562,92.0 578,92.0\" fill=\"currentColor\"/>\n",
              "</g>\n",
              "\n",
              "<g class=\"displacy-arrow\">\n",
              "    <path class=\"displacy-arc\" id=\"arrow-68395c1c8a144c45be50d23dbac0be36-0-5\" stroke-width=\"2px\" d=\"M470,102.0 C470,2.0 650.0,2.0 650.0,102.0\" fill=\"none\" stroke=\"currentColor\"/>\n",
              "    <text dy=\"1.25em\" style=\"font-size: 0.8em; letter-spacing: 1px\">\n",
              "        <textPath xlink:href=\"#arrow-68395c1c8a144c45be50d23dbac0be36-0-5\" class=\"displacy-label\" startOffset=\"50%\" side=\"left\" fill=\"currentColor\" text-anchor=\"middle\">acl</textPath>\n",
              "    </text>\n",
              "    <path class=\"displacy-arrowhead\" d=\"M650.0,104.0 L658.0,92.0 642.0,92.0\" fill=\"currentColor\"/>\n",
              "</g>\n",
              "\n",
              "<g class=\"displacy-arrow\">\n",
              "    <path class=\"displacy-arc\" id=\"arrow-68395c1c8a144c45be50d23dbac0be36-0-6\" stroke-width=\"2px\" d=\"M670,102.0 C670,52.0 745.0,52.0 745.0,102.0\" fill=\"none\" stroke=\"currentColor\"/>\n",
              "    <text dy=\"1.25em\" style=\"font-size: 0.8em; letter-spacing: 1px\">\n",
              "        <textPath xlink:href=\"#arrow-68395c1c8a144c45be50d23dbac0be36-0-6\" class=\"displacy-label\" startOffset=\"50%\" side=\"left\" fill=\"currentColor\" text-anchor=\"middle\">advmod</textPath>\n",
              "    </text>\n",
              "    <path class=\"displacy-arrowhead\" d=\"M745.0,104.0 L753.0,92.0 737.0,92.0\" fill=\"currentColor\"/>\n",
              "</g>\n",
              "</svg></span>"
            ]
          },
          "metadata": {}
        }
      ],
      "source": [
        "# Ejemplo 4.3.3\n",
        "\n",
        "doc = nlp('Eva te prestó la gorra que compró ayer')\n",
        "spacy.displacy.render(doc, style='dep', jupyter=True, options={'compact':False, 'distance':100})"
      ]
    },
    {
      "cell_type": "code",
      "execution_count": 13,
      "metadata": {
        "colab": {
          "base_uri": "https://localhost:8080/"
        },
        "id": "AuZjoHgpmmfV",
        "outputId": "d0e9993e-342c-418d-dab5-a37aae6eb2cd"
      },
      "outputs": [
        {
          "output_type": "stream",
          "name": "stdout",
          "text": [
            "Eva : PROPN\n",
            "te : PRON\n",
            "prestó : VERB\n",
            "la : DET\n",
            "gorra : NOUN\n",
            "que : PRON\n",
            "compró : VERB\n",
            "ayer : ADV\n"
          ]
        }
      ],
      "source": [
        "# Ejemplo 4.3.4\n",
        "\n",
        "doc = nlp('Eva te prestó la gorra que compró ayer')\n",
        "for token in doc:\n",
        "  print(token, ':', token.pos_)"
      ]
    },
    {
      "cell_type": "code",
      "execution_count": 14,
      "metadata": {
        "colab": {
          "base_uri": "https://localhost:8080/"
        },
        "id": "HM1Z1jPqxw4R",
        "outputId": "a4274ba4-4bab-4da8-e61d-401a915cf339"
      },
      "outputs": [
        {
          "output_type": "stream",
          "name": "stdout",
          "text": [
            "Eva : nsubj --> prestó\n",
            "te : iobj --> prestó\n",
            "prestó : ROOT --> prestó\n",
            "la : det --> gorra\n",
            "gorra : obj --> prestó\n",
            "que : obj --> compró\n",
            "compró : acl --> gorra\n",
            "ayer : advmod --> compró\n"
          ]
        }
      ],
      "source": [
        "# Ejemplo 4.3.5\n",
        "\n",
        "doc = nlp('Eva te prestó la gorra que compró ayer')\n",
        "for token in doc:\n",
        "  print(token, ':', token.dep_, '-->', token.head)"
      ]
    },
    {
      "cell_type": "code",
      "execution_count": 15,
      "metadata": {
        "colab": {
          "base_uri": "https://localhost:8080/"
        },
        "id": "yagz_YmJBYvd",
        "outputId": "4c7dfe28-86b3-44e5-869c-541c647e33e9"
      },
      "outputs": [
        {
          "output_type": "stream",
          "name": "stdout",
          "text": [
            "Juan : PROPN nsubj --> vendió\n",
            "vendió : VERB ROOT --> vendió\n",
            "su : DET det --> coche\n",
            "coche : NOUN obj --> vendió\n",
            "rápido : ADJ amod --> coche\n"
          ]
        }
      ],
      "source": [
        "# Ejemplo 4.3.6\n",
        "\n",
        "doc = nlp('Juan vendió su coche rápido')\n",
        "for token in doc:\n",
        "  print(token, ':', token.pos_, token.dep_, '-->', token.head)"
      ]
    },
    {
      "cell_type": "code",
      "execution_count": 16,
      "metadata": {
        "colab": {
          "base_uri": "https://localhost:8080/"
        },
        "id": "_u9pdxu6Jj_5",
        "outputId": "584375e7-1acc-42b2-81e5-515290725784"
      },
      "outputs": [
        {
          "output_type": "stream",
          "name": "stdout",
          "text": [
            "Juan : PROPN nsubj --> vendió\n",
            "vendió : VERB ROOT --> vendió\n",
            "rápido : ADV advmod --> vendió\n",
            "su : DET det --> coche\n",
            "coche : NOUN obj --> vendió\n"
          ]
        }
      ],
      "source": [
        "# Ejemplo 4.3.7\n",
        "\n",
        "doc = nlp('Juan vendió rápido su coche')\n",
        "for token in doc:\n",
        "  print(token, ':', token.pos_, token.dep_, '-->', token.head)"
      ]
    },
    {
      "cell_type": "code",
      "execution_count": 17,
      "metadata": {
        "colab": {
          "base_uri": "https://localhost:8080/"
        },
        "id": "DEXJzEg9K-f4",
        "outputId": "c0ff36cc-6982-4a5e-c398-599f25ac3218"
      },
      "outputs": [
        {
          "output_type": "stream",
          "name": "stdout",
          "text": [
            "[lanzado, Persiguen, recordado]\n"
          ]
        }
      ],
      "source": [
        "# Ejemplo 4.3.8\n",
        "\n",
        "def es_verbo_principal(token):\n",
        "  ''' Detecta si es verbo principal de oración '''\n",
        "  return token.dep_ == 'ROOT'\n",
        "\n",
        "doc = nlp(tuit)\n",
        "verbos_principales = [token for token in doc if es_verbo_principal(token)]\n",
        "print(verbos_principales)"
      ]
    },
    {
      "cell_type": "code",
      "execution_count": 18,
      "metadata": {
        "colab": {
          "base_uri": "https://localhost:8080/"
        },
        "id": "GZbBFIa-bdve",
        "outputId": "3adea327-61d7-4e2d-f9d9-1402ce60d44e"
      },
      "outputs": [
        {
          "output_type": "stream",
          "name": "stdout",
          "text": [
            "[activistas, grupo, sopa, tomate, cuadro, girasoles, gobierno, proyectos, petróleo, gas, acción, tartazo, mayo]\n"
          ]
        }
      ],
      "source": [
        "# Ejemplo 4.3.9\n",
        "\n",
        "def es_nombre_comun(token):\n",
        "  ''' Detecta si es nombre común '''\n",
        "  return token.pos_ == 'NOUN'\n",
        "\n",
        "doc = nlp(tuit)\n",
        "nombres_comunes = [token for token in doc if es_nombre_comun(token)]\n",
        "print(nombres_comunes)"
      ]
    },
    {
      "cell_type": "code",
      "execution_count": 19,
      "metadata": {
        "colab": {
          "base_uri": "https://localhost:8080/"
        },
        "id": "w-0q1b4DeZwQ",
        "outputId": "ff0d7ca7-dc14-409b-f249-338e8b4b42de"
      },
      "outputs": [
        {
          "output_type": "stream",
          "name": "stdout",
          "text": [
            "[activistas, grupo, sopa, tomate, cuadro, girasoles, gobierno, proyectos, petróleo, gas, acción, tartazo, mayo]\n"
          ]
        }
      ],
      "source": [
        "# Ejemplo 4.3.9\n",
        "\n",
        "doc = nlp(tuit)\n",
        "nombres_comunes = [token for token in doc if token.pos_ == 'NOUN']\n",
        "print(nombres_comunes)"
      ]
    },
    {
      "cell_type": "code",
      "execution_count": 20,
      "metadata": {
        "colab": {
          "base_uri": "https://localhost:8080/"
        },
        "id": "T14xQW1Ags4T",
        "outputId": "83f1e564-3b29-47a9-e8df-967d2ca5a8ac"
      },
      "outputs": [
        {
          "output_type": "stream",
          "name": "stdout",
          "text": [
            "[sopa, acción]\n"
          ]
        }
      ],
      "source": [
        "# Ejemplo 4.3.10\n",
        "\n",
        "def es_nombre_comun_femenino(token):\n",
        "  ''' Detecta si es nombre común '''\n",
        "  morph_dict = token.morph.to_dict()\n",
        "  return (token.pos_ == 'NOUN' and  \n",
        "          'Gender' in morph_dict and \n",
        "          morph_dict['Gender'] == 'Fem')\n",
        "\n",
        "doc = nlp(tuit)\n",
        "nombres_comunes_fem = [token for token in doc if es_nombre_comun_femenino(token)]\n",
        "print(nombres_comunes_fem)"
      ]
    },
    {
      "cell_type": "code",
      "execution_count": 21,
      "metadata": {
        "colab": {
          "base_uri": "https://localhost:8080/"
        },
        "id": "U0-pLVZXlIhP",
        "outputId": "633456e6-8a58-46e1-dd6c-99278724c171"
      },
      "outputs": [
        {
          "output_type": "stream",
          "name": "stdout",
          "text": [
            "[activistas, acción]\n"
          ]
        }
      ],
      "source": [
        "# Ejemplo 4.3.11 \n",
        "\n",
        "def es_principal_sujeto(token):\n",
        "  ''' Detecta si es la palabra principal del sujeto '''\n",
        "  return (token.dep_ == 'nsubj' and\n",
        "          es_verbo_principal(token.head))\n",
        "\n",
        "doc = nlp(tuit)\n",
        "sujetos_princ = [token for token in doc if es_principal_sujeto(token)]\n",
        "print(sujetos_princ)"
      ]
    },
    {
      "cell_type": "code",
      "execution_count": 22,
      "metadata": {
        "colab": {
          "base_uri": "https://localhost:8080/"
        },
        "id": "sc-0QAgSru92",
        "outputId": "f1db02d5-5659-4244-f129-81bf16b21c72"
      },
      "outputs": [
        {
          "output_type": "stream",
          "name": "stdout",
          "text": [
            "[Dos, activistas, del, grupo, ecologista, Just, Stop, Oil]\n",
            "[]\n",
            "[La, acción]\n"
          ]
        }
      ],
      "source": [
        "###############################################\n",
        "# Ejemplo adicional: detectar sujeto completo #\n",
        "# Requiere bucles WHILE                       #\n",
        "###############################################\n",
        "def es_parte_del_sujeto_rec(token):\n",
        "  ''' Detecta si token forma parte del sujeto. versión recursiva '''\n",
        "  return (not es_verbo_principal(token) and \n",
        "         (es_principal_sujeto(token) or\n",
        "          es_parte_del_sujeto(token.head)))\n",
        "\n",
        "def es_parte_del_sujeto(token):\n",
        "  ''' Detecta si token forma parte del sujeto '''\n",
        "  while not es_verbo_principal(token):\n",
        "    if es_principal_sujeto(token):\n",
        "      return True\n",
        "    else:\n",
        "      token = token.head\n",
        "  return False\n",
        "\n",
        "def extrae_sujeto(frase):\n",
        "  ''' Extrae la lista de palabras del sujeto de la frase '''\n",
        "  return [token for token in frase if es_parte_del_sujeto(token)]\n",
        "  \n",
        "doc = nlp(tuit)\n",
        "primera_frase = list(doc.sents)[0]\n",
        "sujetos_princ = extrae_sujeto(primera_frase)\n",
        "print(sujetos_princ)\n",
        "\n",
        "segunda_frase = list(doc.sents)[1]\n",
        "sujetos_princ = extrae_sujeto(segunda_frase)\n",
        "print(sujetos_princ)\n",
        "\n",
        "tercera_frase = list(doc.sents)[2]\n",
        "sujetos_princ = extrae_sujeto(tercera_frase)\n",
        "print(sujetos_princ)"
      ]
    },
    {
      "cell_type": "markdown",
      "metadata": {
        "id": "KMsWJk8-ZRLm"
      },
      "source": [
        "## Detección de entidades con nombre"
      ]
    },
    {
      "cell_type": "code",
      "execution_count": 23,
      "metadata": {
        "colab": {
          "base_uri": "https://localhost:8080/",
          "height": 87
        },
        "id": "r1MWd0IRAB25",
        "outputId": "180b1afe-b06b-4b32-f1ad-605defee156d"
      },
      "outputs": [
        {
          "output_type": "display_data",
          "data": {
            "text/plain": [
              "<IPython.core.display.HTML object>"
            ],
            "text/html": [
              "<span class=\"tex2jax_ignore\"><div class=\"entities\" style=\"line-height: 2.5; direction: ltr\">Dos activistas del grupo ecologista \n",
              "<mark class=\"entity\" style=\"background: #7aecec; padding: 0.45em 0.6em; margin: 0 0.25em; line-height: 1; border-radius: 0.35em;\">\n",
              "    Just Stop Oil\n",
              "    <span style=\"font-size: 0.8em; font-weight: bold; line-height: 1; border-radius: 0.35em; vertical-align: middle; margin-left: 0.5rem\">ORG</span>\n",
              "</mark>\n",
              " han lanzado sopa de tomate sobre el cuadro de \n",
              "<mark class=\"entity\" style=\"background: #ddd; padding: 0.45em 0.6em; margin: 0 0.25em; line-height: 1; border-radius: 0.35em;\">\n",
              "    Los girasoles\n",
              "    <span style=\"font-size: 0.8em; font-weight: bold; line-height: 1; border-radius: 0.35em; vertical-align: middle; margin-left: 0.5rem\">MISC</span>\n",
              "</mark>\n",
              " de \n",
              "<mark class=\"entity\" style=\"background: #ddd; padding: 0.45em 0.6em; margin: 0 0.25em; line-height: 1; border-radius: 0.35em;\">\n",
              "    Van Gogh\n",
              "    <span style=\"font-size: 0.8em; font-weight: bold; line-height: 1; border-radius: 0.35em; vertical-align: middle; margin-left: 0.5rem\">PER</span>\n",
              "</mark>\n",
              " en la \n",
              "<mark class=\"entity\" style=\"background: #ff9561; padding: 0.45em 0.6em; margin: 0 0.25em; line-height: 1; border-radius: 0.35em;\">\n",
              "    National Gallery de Londres\n",
              "    <span style=\"font-size: 0.8em; font-weight: bold; line-height: 1; border-radius: 0.35em; vertical-align: middle; margin-left: 0.5rem\">LOC</span>\n",
              "</mark>\n",
              ". Persiguen que el gobierno de \n",
              "<mark class=\"entity\" style=\"background: #ddd; padding: 0.45em 0.6em; margin: 0 0.25em; line-height: 1; border-radius: 0.35em;\">\n",
              "    Liz Truss\n",
              "    <span style=\"font-size: 0.8em; font-weight: bold; line-height: 1; border-radius: 0.35em; vertical-align: middle; margin-left: 0.5rem\">PER</span>\n",
              "</mark>\n",
              " paralice todos los nuevos proyectos de petróleo y gas. \n",
              "<mark class=\"entity\" style=\"background: #ddd; padding: 0.45em 0.6em; margin: 0 0.25em; line-height: 1; border-radius: 0.35em;\">\n",
              "    La acción\n",
              "    <span style=\"font-size: 0.8em; font-weight: bold; line-height: 1; border-radius: 0.35em; vertical-align: middle; margin-left: 0.5rem\">MISC</span>\n",
              "</mark>\n",
              " ha recordado al 'tartazo' que recibió \n",
              "<mark class=\"entity\" style=\"background: #ddd; padding: 0.45em 0.6em; margin: 0 0.25em; line-height: 1; border-radius: 0.35em;\">\n",
              "    La Gioconda\n",
              "    <span style=\"font-size: 0.8em; font-weight: bold; line-height: 1; border-radius: 0.35em; vertical-align: middle; margin-left: 0.5rem\">PER</span>\n",
              "</mark>\n",
              " en mayo de 2022.</div></span>"
            ]
          },
          "metadata": {}
        }
      ],
      "source": [
        "# Ejemplo 4.4.1\n",
        "\n",
        "nlp = spacy.load(\"es_core_news_lg\")\n",
        "doc = nlp(tuit)\n",
        "spacy.displacy.render(doc, style='ent', jupyter=True)"
      ]
    },
    {
      "cell_type": "code",
      "execution_count": 24,
      "metadata": {
        "colab": {
          "base_uri": "https://localhost:8080/"
        },
        "id": "tYbfBdkHG6Hl",
        "outputId": "1df76d7a-bc7e-46e9-fc9a-cb3ce916d766"
      },
      "outputs": [
        {
          "output_type": "stream",
          "name": "stdout",
          "text": [
            "ORG Just Stop Oil\n",
            "MISC Los girasoles\n",
            "PER Van Gogh\n",
            "LOC National Gallery de Londres\n",
            "PER Liz Truss\n",
            "MISC La acción\n",
            "PER La Gioconda\n"
          ]
        }
      ],
      "source": [
        "# Ejemplo 4.4.2\n",
        "\n",
        "doc = nlp(tuit)\n",
        "for ent in doc.ents:\n",
        "  print(ent.label_, ent)"
      ]
    },
    {
      "cell_type": "code",
      "execution_count": 25,
      "metadata": {
        "colab": {
          "base_uri": "https://localhost:8080/"
        },
        "id": "E5PU_2jwIoq5",
        "outputId": "654f48e8-20b6-4219-b6f9-032435d7edac"
      },
      "outputs": [
        {
          "output_type": "stream",
          "name": "stdout",
          "text": [
            "Counter({'PER': 3, 'MISC': 2, 'ORG': 1, 'LOC': 1})\n"
          ]
        }
      ],
      "source": [
        "# Ejemplo 4.4.3\n",
        "\n",
        "from collections import Counter\n",
        "\n",
        "doc = nlp(tuit)\n",
        "cat_ent = [ent.label_ for ent in doc.ents]\n",
        "contador = Counter(cat_ent)\n",
        "print(contador)"
      ]
    },
    {
      "cell_type": "markdown",
      "metadata": {
        "id": "yOdaJ-e9Ouex"
      },
      "source": [
        "### Otras bibliotecas para la detección de entidades con nombre"
      ]
    },
    {
      "cell_type": "code",
      "execution_count": 26,
      "metadata": {
        "colab": {
          "base_uri": "https://localhost:8080/",
          "height": 269,
          "referenced_widgets": [
            "82c88bb571ee47b2a796ef9fda813951",
            "3f49906b17d04dc2a5e01ea51158c4e2",
            "1830932f555f42a4b9471d543383e4de",
            "24106a0dee1e451cb18d6bd5802678f4",
            "489054434b014cef97994da58fadadba",
            "d3dba81679094e6e96aafec2dc326288",
            "eaf0e95d26344296adf4dcd86ae0c00b",
            "27027dc0c7654472869ccf2064c57ce9",
            "3341d5d41142485b8c0386fc6915fb8f",
            "96eb731bb00f4347b750e9b53510f7db",
            "1da68d6f795f4e1f8a88baf027dec8d8",
            "b0b35c3864064e7ba64c22821dca0b72",
            "4f7d7303349848fe85c73bc84bad52db",
            "8be9323a4e284e63a2134d12e6e5cebf",
            "22c41affec174ad99db582f000fd637d",
            "ba316aafa8b24b638c88ae3cdcd74934",
            "0bc951fdd43545e18eb3cc9f85315878",
            "8989204149694682a7a7d5e1f56fc5e7",
            "e3d398b7514043b592168fa8e413ea6b",
            "81a2ad5037ed4bceb1d2975cbcf5d79b",
            "31752af1832446fb825fbce50bf0fea4",
            "822352d1fef6487d89ad9d1b9003f09e",
            "7c3df974b8ec496285ffff46d990088d",
            "f74d357467bb4042a6e7f6eef1dab2b5",
            "e45cb81e320e490aaf6497e0b0ab7aa4",
            "98b37add5280409290d26ec50cc3a050",
            "0073cca2919046658b89fb01a02a78a7",
            "d5c19d67eb3146f392d79b21074dac94",
            "6fa00b24691543288b529c60c61b9795",
            "88bb08cf00db4fb79ba69b62f11e8916",
            "917108b2f549497286a8b4452c3cb4f2",
            "be5f0dad39714176a39021b2079d6b62",
            "601f6e6cc5f04ba1b1ec150a26debcc7",
            "006f1e1e6d724c01ac0e1447cc919eb0",
            "2072cdc483dd4a4a8cc82ca58587d621",
            "ebaf397c13c149d7b3cedfb071fdeba5",
            "34c4ff91b41f4376bc5a5d6699da5d81",
            "ae92bf63fd954fbc815d8a0cc0f33de5",
            "196f8009059347cc8db5a96653937ec3",
            "a81c70220d944fc3b918420003ee66c4",
            "ece781f33e82420190cbc87e26a09848",
            "b5733c75026540dcb372980ec0c04ef2",
            "3ca4249af6cd4cf0984df4775ea46154",
            "b7a0498203a2482f8441ff93b8dd3629"
          ]
        },
        "id": "UjxMXAiUnYMu",
        "outputId": "4f624452-97e6-424c-a3f8-adc124586af5",
        "tags": []
      },
      "outputs": [
        {
          "output_type": "display_data",
          "data": {
            "text/plain": [
              "Downloading pytorch_model.bin:   0%|          | 0.00/2.24G [00:00<?, ?B/s]"
            ],
            "application/vnd.jupyter.widget-view+json": {
              "version_major": 2,
              "version_minor": 0,
              "model_id": "82c88bb571ee47b2a796ef9fda813951"
            }
          },
          "metadata": {}
        },
        {
          "output_type": "display_data",
          "data": {
            "text/plain": [
              "Downloading (…)lve/main/config.json:   0%|          | 0.00/616 [00:00<?, ?B/s]"
            ],
            "application/vnd.jupyter.widget-view+json": {
              "version_major": 2,
              "version_minor": 0,
              "model_id": "b0b35c3864064e7ba64c22821dca0b72"
            }
          },
          "metadata": {}
        },
        {
          "output_type": "display_data",
          "data": {
            "text/plain": [
              "Downloading (…)tencepiece.bpe.model:   0%|          | 0.00/5.07M [00:00<?, ?B/s]"
            ],
            "application/vnd.jupyter.widget-view+json": {
              "version_major": 2,
              "version_minor": 0,
              "model_id": "7c3df974b8ec496285ffff46d990088d"
            }
          },
          "metadata": {}
        },
        {
          "output_type": "display_data",
          "data": {
            "text/plain": [
              "Downloading (…)/main/tokenizer.json:   0%|          | 0.00/9.10M [00:00<?, ?B/s]"
            ],
            "application/vnd.jupyter.widget-view+json": {
              "version_major": 2,
              "version_minor": 0,
              "model_id": "006f1e1e6d724c01ac0e1447cc919eb0"
            }
          },
          "metadata": {}
        },
        {
          "output_type": "stream",
          "name": "stdout",
          "text": [
            "2023-04-21 09:56:29,982 SequenceTagger predicts: Dictionary with 20 tags: <unk>, O, S-LOC, S-ORG, B-PER, I-PER, E-PER, S-MISC, B-ORG, E-ORG, S-PER, I-ORG, B-LOC, E-LOC, B-MISC, E-MISC, I-MISC, I-LOC, <START>, <STOP>\n",
            "Span[5:8]: \"Just Stop Oil\" → ORG (0.9999)\n",
            "Span[17:22]: \"Los girasoles de Van Gogh\" → MISC (0.8302)\n",
            "Span[24:28]: \"National Gallery de Londres\" → LOC (0.9056)\n",
            "Span[34:36]: \"Liz Truss\" → PER (0.9998)\n",
            "Span[56:58]: \"La Gioconda\" → MISC (0.9842)\n"
          ]
        }
      ],
      "source": [
        "import flair\n",
        "\n",
        "from flair.data import Sentence\n",
        "from flair.models import SequenceTagger\n",
        "\n",
        "sentence = Sentence(tuit)\n",
        "\n",
        "tagger = SequenceTagger.load(\"flair/ner-spanish-large\")\n",
        "\n",
        "tagger.predict(sentence)\n",
        "\n",
        "for entity in sentence.get_spans('ner'):\n",
        "    print(entity)"
      ]
    }
  ],
  "metadata": {
    "colab": {
      "provenance": []
    },
    "kernelspec": {
      "display_name": "Python 3 (ipykernel)",
      "language": "python",
      "name": "python3"
    },
    "language_info": {
      "codemirror_mode": {
        "name": "ipython",
        "version": 3
      },
      "file_extension": ".py",
      "mimetype": "text/x-python",
      "name": "python",
      "nbconvert_exporter": "python",
      "pygments_lexer": "ipython3",
      "version": "3.11.3"
    },
    "widgets": {
      "application/vnd.jupyter.widget-state+json": {
        "82c88bb571ee47b2a796ef9fda813951": {
          "model_module": "@jupyter-widgets/controls",
          "model_name": "HBoxModel",
          "model_module_version": "1.5.0",
          "state": {
            "_dom_classes": [],
            "_model_module": "@jupyter-widgets/controls",
            "_model_module_version": "1.5.0",
            "_model_name": "HBoxModel",
            "_view_count": null,
            "_view_module": "@jupyter-widgets/controls",
            "_view_module_version": "1.5.0",
            "_view_name": "HBoxView",
            "box_style": "",
            "children": [
              "IPY_MODEL_3f49906b17d04dc2a5e01ea51158c4e2",
              "IPY_MODEL_1830932f555f42a4b9471d543383e4de",
              "IPY_MODEL_24106a0dee1e451cb18d6bd5802678f4"
            ],
            "layout": "IPY_MODEL_489054434b014cef97994da58fadadba"
          }
        },
        "3f49906b17d04dc2a5e01ea51158c4e2": {
          "model_module": "@jupyter-widgets/controls",
          "model_name": "HTMLModel",
          "model_module_version": "1.5.0",
          "state": {
            "_dom_classes": [],
            "_model_module": "@jupyter-widgets/controls",
            "_model_module_version": "1.5.0",
            "_model_name": "HTMLModel",
            "_view_count": null,
            "_view_module": "@jupyter-widgets/controls",
            "_view_module_version": "1.5.0",
            "_view_name": "HTMLView",
            "description": "",
            "description_tooltip": null,
            "layout": "IPY_MODEL_d3dba81679094e6e96aafec2dc326288",
            "placeholder": "​",
            "style": "IPY_MODEL_eaf0e95d26344296adf4dcd86ae0c00b",
            "value": "Downloading pytorch_model.bin: 100%"
          }
        },
        "1830932f555f42a4b9471d543383e4de": {
          "model_module": "@jupyter-widgets/controls",
          "model_name": "FloatProgressModel",
          "model_module_version": "1.5.0",
          "state": {
            "_dom_classes": [],
            "_model_module": "@jupyter-widgets/controls",
            "_model_module_version": "1.5.0",
            "_model_name": "FloatProgressModel",
            "_view_count": null,
            "_view_module": "@jupyter-widgets/controls",
            "_view_module_version": "1.5.0",
            "_view_name": "ProgressView",
            "bar_style": "success",
            "description": "",
            "description_tooltip": null,
            "layout": "IPY_MODEL_27027dc0c7654472869ccf2064c57ce9",
            "max": 2239866697,
            "min": 0,
            "orientation": "horizontal",
            "style": "IPY_MODEL_3341d5d41142485b8c0386fc6915fb8f",
            "value": 2239866697
          }
        },
        "24106a0dee1e451cb18d6bd5802678f4": {
          "model_module": "@jupyter-widgets/controls",
          "model_name": "HTMLModel",
          "model_module_version": "1.5.0",
          "state": {
            "_dom_classes": [],
            "_model_module": "@jupyter-widgets/controls",
            "_model_module_version": "1.5.0",
            "_model_name": "HTMLModel",
            "_view_count": null,
            "_view_module": "@jupyter-widgets/controls",
            "_view_module_version": "1.5.0",
            "_view_name": "HTMLView",
            "description": "",
            "description_tooltip": null,
            "layout": "IPY_MODEL_96eb731bb00f4347b750e9b53510f7db",
            "placeholder": "​",
            "style": "IPY_MODEL_1da68d6f795f4e1f8a88baf027dec8d8",
            "value": " 2.24G/2.24G [00:41&lt;00:00, 73.1MB/s]"
          }
        },
        "489054434b014cef97994da58fadadba": {
          "model_module": "@jupyter-widgets/base",
          "model_name": "LayoutModel",
          "model_module_version": "1.2.0",
          "state": {
            "_model_module": "@jupyter-widgets/base",
            "_model_module_version": "1.2.0",
            "_model_name": "LayoutModel",
            "_view_count": null,
            "_view_module": "@jupyter-widgets/base",
            "_view_module_version": "1.2.0",
            "_view_name": "LayoutView",
            "align_content": null,
            "align_items": null,
            "align_self": null,
            "border": null,
            "bottom": null,
            "display": null,
            "flex": null,
            "flex_flow": null,
            "grid_area": null,
            "grid_auto_columns": null,
            "grid_auto_flow": null,
            "grid_auto_rows": null,
            "grid_column": null,
            "grid_gap": null,
            "grid_row": null,
            "grid_template_areas": null,
            "grid_template_columns": null,
            "grid_template_rows": null,
            "height": null,
            "justify_content": null,
            "justify_items": null,
            "left": null,
            "margin": null,
            "max_height": null,
            "max_width": null,
            "min_height": null,
            "min_width": null,
            "object_fit": null,
            "object_position": null,
            "order": null,
            "overflow": null,
            "overflow_x": null,
            "overflow_y": null,
            "padding": null,
            "right": null,
            "top": null,
            "visibility": null,
            "width": null
          }
        },
        "d3dba81679094e6e96aafec2dc326288": {
          "model_module": "@jupyter-widgets/base",
          "model_name": "LayoutModel",
          "model_module_version": "1.2.0",
          "state": {
            "_model_module": "@jupyter-widgets/base",
            "_model_module_version": "1.2.0",
            "_model_name": "LayoutModel",
            "_view_count": null,
            "_view_module": "@jupyter-widgets/base",
            "_view_module_version": "1.2.0",
            "_view_name": "LayoutView",
            "align_content": null,
            "align_items": null,
            "align_self": null,
            "border": null,
            "bottom": null,
            "display": null,
            "flex": null,
            "flex_flow": null,
            "grid_area": null,
            "grid_auto_columns": null,
            "grid_auto_flow": null,
            "grid_auto_rows": null,
            "grid_column": null,
            "grid_gap": null,
            "grid_row": null,
            "grid_template_areas": null,
            "grid_template_columns": null,
            "grid_template_rows": null,
            "height": null,
            "justify_content": null,
            "justify_items": null,
            "left": null,
            "margin": null,
            "max_height": null,
            "max_width": null,
            "min_height": null,
            "min_width": null,
            "object_fit": null,
            "object_position": null,
            "order": null,
            "overflow": null,
            "overflow_x": null,
            "overflow_y": null,
            "padding": null,
            "right": null,
            "top": null,
            "visibility": null,
            "width": null
          }
        },
        "eaf0e95d26344296adf4dcd86ae0c00b": {
          "model_module": "@jupyter-widgets/controls",
          "model_name": "DescriptionStyleModel",
          "model_module_version": "1.5.0",
          "state": {
            "_model_module": "@jupyter-widgets/controls",
            "_model_module_version": "1.5.0",
            "_model_name": "DescriptionStyleModel",
            "_view_count": null,
            "_view_module": "@jupyter-widgets/base",
            "_view_module_version": "1.2.0",
            "_view_name": "StyleView",
            "description_width": ""
          }
        },
        "27027dc0c7654472869ccf2064c57ce9": {
          "model_module": "@jupyter-widgets/base",
          "model_name": "LayoutModel",
          "model_module_version": "1.2.0",
          "state": {
            "_model_module": "@jupyter-widgets/base",
            "_model_module_version": "1.2.0",
            "_model_name": "LayoutModel",
            "_view_count": null,
            "_view_module": "@jupyter-widgets/base",
            "_view_module_version": "1.2.0",
            "_view_name": "LayoutView",
            "align_content": null,
            "align_items": null,
            "align_self": null,
            "border": null,
            "bottom": null,
            "display": null,
            "flex": null,
            "flex_flow": null,
            "grid_area": null,
            "grid_auto_columns": null,
            "grid_auto_flow": null,
            "grid_auto_rows": null,
            "grid_column": null,
            "grid_gap": null,
            "grid_row": null,
            "grid_template_areas": null,
            "grid_template_columns": null,
            "grid_template_rows": null,
            "height": null,
            "justify_content": null,
            "justify_items": null,
            "left": null,
            "margin": null,
            "max_height": null,
            "max_width": null,
            "min_height": null,
            "min_width": null,
            "object_fit": null,
            "object_position": null,
            "order": null,
            "overflow": null,
            "overflow_x": null,
            "overflow_y": null,
            "padding": null,
            "right": null,
            "top": null,
            "visibility": null,
            "width": null
          }
        },
        "3341d5d41142485b8c0386fc6915fb8f": {
          "model_module": "@jupyter-widgets/controls",
          "model_name": "ProgressStyleModel",
          "model_module_version": "1.5.0",
          "state": {
            "_model_module": "@jupyter-widgets/controls",
            "_model_module_version": "1.5.0",
            "_model_name": "ProgressStyleModel",
            "_view_count": null,
            "_view_module": "@jupyter-widgets/base",
            "_view_module_version": "1.2.0",
            "_view_name": "StyleView",
            "bar_color": null,
            "description_width": ""
          }
        },
        "96eb731bb00f4347b750e9b53510f7db": {
          "model_module": "@jupyter-widgets/base",
          "model_name": "LayoutModel",
          "model_module_version": "1.2.0",
          "state": {
            "_model_module": "@jupyter-widgets/base",
            "_model_module_version": "1.2.0",
            "_model_name": "LayoutModel",
            "_view_count": null,
            "_view_module": "@jupyter-widgets/base",
            "_view_module_version": "1.2.0",
            "_view_name": "LayoutView",
            "align_content": null,
            "align_items": null,
            "align_self": null,
            "border": null,
            "bottom": null,
            "display": null,
            "flex": null,
            "flex_flow": null,
            "grid_area": null,
            "grid_auto_columns": null,
            "grid_auto_flow": null,
            "grid_auto_rows": null,
            "grid_column": null,
            "grid_gap": null,
            "grid_row": null,
            "grid_template_areas": null,
            "grid_template_columns": null,
            "grid_template_rows": null,
            "height": null,
            "justify_content": null,
            "justify_items": null,
            "left": null,
            "margin": null,
            "max_height": null,
            "max_width": null,
            "min_height": null,
            "min_width": null,
            "object_fit": null,
            "object_position": null,
            "order": null,
            "overflow": null,
            "overflow_x": null,
            "overflow_y": null,
            "padding": null,
            "right": null,
            "top": null,
            "visibility": null,
            "width": null
          }
        },
        "1da68d6f795f4e1f8a88baf027dec8d8": {
          "model_module": "@jupyter-widgets/controls",
          "model_name": "DescriptionStyleModel",
          "model_module_version": "1.5.0",
          "state": {
            "_model_module": "@jupyter-widgets/controls",
            "_model_module_version": "1.5.0",
            "_model_name": "DescriptionStyleModel",
            "_view_count": null,
            "_view_module": "@jupyter-widgets/base",
            "_view_module_version": "1.2.0",
            "_view_name": "StyleView",
            "description_width": ""
          }
        },
        "b0b35c3864064e7ba64c22821dca0b72": {
          "model_module": "@jupyter-widgets/controls",
          "model_name": "HBoxModel",
          "model_module_version": "1.5.0",
          "state": {
            "_dom_classes": [],
            "_model_module": "@jupyter-widgets/controls",
            "_model_module_version": "1.5.0",
            "_model_name": "HBoxModel",
            "_view_count": null,
            "_view_module": "@jupyter-widgets/controls",
            "_view_module_version": "1.5.0",
            "_view_name": "HBoxView",
            "box_style": "",
            "children": [
              "IPY_MODEL_4f7d7303349848fe85c73bc84bad52db",
              "IPY_MODEL_8be9323a4e284e63a2134d12e6e5cebf",
              "IPY_MODEL_22c41affec174ad99db582f000fd637d"
            ],
            "layout": "IPY_MODEL_ba316aafa8b24b638c88ae3cdcd74934"
          }
        },
        "4f7d7303349848fe85c73bc84bad52db": {
          "model_module": "@jupyter-widgets/controls",
          "model_name": "HTMLModel",
          "model_module_version": "1.5.0",
          "state": {
            "_dom_classes": [],
            "_model_module": "@jupyter-widgets/controls",
            "_model_module_version": "1.5.0",
            "_model_name": "HTMLModel",
            "_view_count": null,
            "_view_module": "@jupyter-widgets/controls",
            "_view_module_version": "1.5.0",
            "_view_name": "HTMLView",
            "description": "",
            "description_tooltip": null,
            "layout": "IPY_MODEL_0bc951fdd43545e18eb3cc9f85315878",
            "placeholder": "​",
            "style": "IPY_MODEL_8989204149694682a7a7d5e1f56fc5e7",
            "value": "Downloading (…)lve/main/config.json: 100%"
          }
        },
        "8be9323a4e284e63a2134d12e6e5cebf": {
          "model_module": "@jupyter-widgets/controls",
          "model_name": "FloatProgressModel",
          "model_module_version": "1.5.0",
          "state": {
            "_dom_classes": [],
            "_model_module": "@jupyter-widgets/controls",
            "_model_module_version": "1.5.0",
            "_model_name": "FloatProgressModel",
            "_view_count": null,
            "_view_module": "@jupyter-widgets/controls",
            "_view_module_version": "1.5.0",
            "_view_name": "ProgressView",
            "bar_style": "success",
            "description": "",
            "description_tooltip": null,
            "layout": "IPY_MODEL_e3d398b7514043b592168fa8e413ea6b",
            "max": 616,
            "min": 0,
            "orientation": "horizontal",
            "style": "IPY_MODEL_81a2ad5037ed4bceb1d2975cbcf5d79b",
            "value": 616
          }
        },
        "22c41affec174ad99db582f000fd637d": {
          "model_module": "@jupyter-widgets/controls",
          "model_name": "HTMLModel",
          "model_module_version": "1.5.0",
          "state": {
            "_dom_classes": [],
            "_model_module": "@jupyter-widgets/controls",
            "_model_module_version": "1.5.0",
            "_model_name": "HTMLModel",
            "_view_count": null,
            "_view_module": "@jupyter-widgets/controls",
            "_view_module_version": "1.5.0",
            "_view_name": "HTMLView",
            "description": "",
            "description_tooltip": null,
            "layout": "IPY_MODEL_31752af1832446fb825fbce50bf0fea4",
            "placeholder": "​",
            "style": "IPY_MODEL_822352d1fef6487d89ad9d1b9003f09e",
            "value": " 616/616 [00:00&lt;00:00, 30.7kB/s]"
          }
        },
        "ba316aafa8b24b638c88ae3cdcd74934": {
          "model_module": "@jupyter-widgets/base",
          "model_name": "LayoutModel",
          "model_module_version": "1.2.0",
          "state": {
            "_model_module": "@jupyter-widgets/base",
            "_model_module_version": "1.2.0",
            "_model_name": "LayoutModel",
            "_view_count": null,
            "_view_module": "@jupyter-widgets/base",
            "_view_module_version": "1.2.0",
            "_view_name": "LayoutView",
            "align_content": null,
            "align_items": null,
            "align_self": null,
            "border": null,
            "bottom": null,
            "display": null,
            "flex": null,
            "flex_flow": null,
            "grid_area": null,
            "grid_auto_columns": null,
            "grid_auto_flow": null,
            "grid_auto_rows": null,
            "grid_column": null,
            "grid_gap": null,
            "grid_row": null,
            "grid_template_areas": null,
            "grid_template_columns": null,
            "grid_template_rows": null,
            "height": null,
            "justify_content": null,
            "justify_items": null,
            "left": null,
            "margin": null,
            "max_height": null,
            "max_width": null,
            "min_height": null,
            "min_width": null,
            "object_fit": null,
            "object_position": null,
            "order": null,
            "overflow": null,
            "overflow_x": null,
            "overflow_y": null,
            "padding": null,
            "right": null,
            "top": null,
            "visibility": null,
            "width": null
          }
        },
        "0bc951fdd43545e18eb3cc9f85315878": {
          "model_module": "@jupyter-widgets/base",
          "model_name": "LayoutModel",
          "model_module_version": "1.2.0",
          "state": {
            "_model_module": "@jupyter-widgets/base",
            "_model_module_version": "1.2.0",
            "_model_name": "LayoutModel",
            "_view_count": null,
            "_view_module": "@jupyter-widgets/base",
            "_view_module_version": "1.2.0",
            "_view_name": "LayoutView",
            "align_content": null,
            "align_items": null,
            "align_self": null,
            "border": null,
            "bottom": null,
            "display": null,
            "flex": null,
            "flex_flow": null,
            "grid_area": null,
            "grid_auto_columns": null,
            "grid_auto_flow": null,
            "grid_auto_rows": null,
            "grid_column": null,
            "grid_gap": null,
            "grid_row": null,
            "grid_template_areas": null,
            "grid_template_columns": null,
            "grid_template_rows": null,
            "height": null,
            "justify_content": null,
            "justify_items": null,
            "left": null,
            "margin": null,
            "max_height": null,
            "max_width": null,
            "min_height": null,
            "min_width": null,
            "object_fit": null,
            "object_position": null,
            "order": null,
            "overflow": null,
            "overflow_x": null,
            "overflow_y": null,
            "padding": null,
            "right": null,
            "top": null,
            "visibility": null,
            "width": null
          }
        },
        "8989204149694682a7a7d5e1f56fc5e7": {
          "model_module": "@jupyter-widgets/controls",
          "model_name": "DescriptionStyleModel",
          "model_module_version": "1.5.0",
          "state": {
            "_model_module": "@jupyter-widgets/controls",
            "_model_module_version": "1.5.0",
            "_model_name": "DescriptionStyleModel",
            "_view_count": null,
            "_view_module": "@jupyter-widgets/base",
            "_view_module_version": "1.2.0",
            "_view_name": "StyleView",
            "description_width": ""
          }
        },
        "e3d398b7514043b592168fa8e413ea6b": {
          "model_module": "@jupyter-widgets/base",
          "model_name": "LayoutModel",
          "model_module_version": "1.2.0",
          "state": {
            "_model_module": "@jupyter-widgets/base",
            "_model_module_version": "1.2.0",
            "_model_name": "LayoutModel",
            "_view_count": null,
            "_view_module": "@jupyter-widgets/base",
            "_view_module_version": "1.2.0",
            "_view_name": "LayoutView",
            "align_content": null,
            "align_items": null,
            "align_self": null,
            "border": null,
            "bottom": null,
            "display": null,
            "flex": null,
            "flex_flow": null,
            "grid_area": null,
            "grid_auto_columns": null,
            "grid_auto_flow": null,
            "grid_auto_rows": null,
            "grid_column": null,
            "grid_gap": null,
            "grid_row": null,
            "grid_template_areas": null,
            "grid_template_columns": null,
            "grid_template_rows": null,
            "height": null,
            "justify_content": null,
            "justify_items": null,
            "left": null,
            "margin": null,
            "max_height": null,
            "max_width": null,
            "min_height": null,
            "min_width": null,
            "object_fit": null,
            "object_position": null,
            "order": null,
            "overflow": null,
            "overflow_x": null,
            "overflow_y": null,
            "padding": null,
            "right": null,
            "top": null,
            "visibility": null,
            "width": null
          }
        },
        "81a2ad5037ed4bceb1d2975cbcf5d79b": {
          "model_module": "@jupyter-widgets/controls",
          "model_name": "ProgressStyleModel",
          "model_module_version": "1.5.0",
          "state": {
            "_model_module": "@jupyter-widgets/controls",
            "_model_module_version": "1.5.0",
            "_model_name": "ProgressStyleModel",
            "_view_count": null,
            "_view_module": "@jupyter-widgets/base",
            "_view_module_version": "1.2.0",
            "_view_name": "StyleView",
            "bar_color": null,
            "description_width": ""
          }
        },
        "31752af1832446fb825fbce50bf0fea4": {
          "model_module": "@jupyter-widgets/base",
          "model_name": "LayoutModel",
          "model_module_version": "1.2.0",
          "state": {
            "_model_module": "@jupyter-widgets/base",
            "_model_module_version": "1.2.0",
            "_model_name": "LayoutModel",
            "_view_count": null,
            "_view_module": "@jupyter-widgets/base",
            "_view_module_version": "1.2.0",
            "_view_name": "LayoutView",
            "align_content": null,
            "align_items": null,
            "align_self": null,
            "border": null,
            "bottom": null,
            "display": null,
            "flex": null,
            "flex_flow": null,
            "grid_area": null,
            "grid_auto_columns": null,
            "grid_auto_flow": null,
            "grid_auto_rows": null,
            "grid_column": null,
            "grid_gap": null,
            "grid_row": null,
            "grid_template_areas": null,
            "grid_template_columns": null,
            "grid_template_rows": null,
            "height": null,
            "justify_content": null,
            "justify_items": null,
            "left": null,
            "margin": null,
            "max_height": null,
            "max_width": null,
            "min_height": null,
            "min_width": null,
            "object_fit": null,
            "object_position": null,
            "order": null,
            "overflow": null,
            "overflow_x": null,
            "overflow_y": null,
            "padding": null,
            "right": null,
            "top": null,
            "visibility": null,
            "width": null
          }
        },
        "822352d1fef6487d89ad9d1b9003f09e": {
          "model_module": "@jupyter-widgets/controls",
          "model_name": "DescriptionStyleModel",
          "model_module_version": "1.5.0",
          "state": {
            "_model_module": "@jupyter-widgets/controls",
            "_model_module_version": "1.5.0",
            "_model_name": "DescriptionStyleModel",
            "_view_count": null,
            "_view_module": "@jupyter-widgets/base",
            "_view_module_version": "1.2.0",
            "_view_name": "StyleView",
            "description_width": ""
          }
        },
        "7c3df974b8ec496285ffff46d990088d": {
          "model_module": "@jupyter-widgets/controls",
          "model_name": "HBoxModel",
          "model_module_version": "1.5.0",
          "state": {
            "_dom_classes": [],
            "_model_module": "@jupyter-widgets/controls",
            "_model_module_version": "1.5.0",
            "_model_name": "HBoxModel",
            "_view_count": null,
            "_view_module": "@jupyter-widgets/controls",
            "_view_module_version": "1.5.0",
            "_view_name": "HBoxView",
            "box_style": "",
            "children": [
              "IPY_MODEL_f74d357467bb4042a6e7f6eef1dab2b5",
              "IPY_MODEL_e45cb81e320e490aaf6497e0b0ab7aa4",
              "IPY_MODEL_98b37add5280409290d26ec50cc3a050"
            ],
            "layout": "IPY_MODEL_0073cca2919046658b89fb01a02a78a7"
          }
        },
        "f74d357467bb4042a6e7f6eef1dab2b5": {
          "model_module": "@jupyter-widgets/controls",
          "model_name": "HTMLModel",
          "model_module_version": "1.5.0",
          "state": {
            "_dom_classes": [],
            "_model_module": "@jupyter-widgets/controls",
            "_model_module_version": "1.5.0",
            "_model_name": "HTMLModel",
            "_view_count": null,
            "_view_module": "@jupyter-widgets/controls",
            "_view_module_version": "1.5.0",
            "_view_name": "HTMLView",
            "description": "",
            "description_tooltip": null,
            "layout": "IPY_MODEL_d5c19d67eb3146f392d79b21074dac94",
            "placeholder": "​",
            "style": "IPY_MODEL_6fa00b24691543288b529c60c61b9795",
            "value": "Downloading (…)tencepiece.bpe.model: 100%"
          }
        },
        "e45cb81e320e490aaf6497e0b0ab7aa4": {
          "model_module": "@jupyter-widgets/controls",
          "model_name": "FloatProgressModel",
          "model_module_version": "1.5.0",
          "state": {
            "_dom_classes": [],
            "_model_module": "@jupyter-widgets/controls",
            "_model_module_version": "1.5.0",
            "_model_name": "FloatProgressModel",
            "_view_count": null,
            "_view_module": "@jupyter-widgets/controls",
            "_view_module_version": "1.5.0",
            "_view_name": "ProgressView",
            "bar_style": "success",
            "description": "",
            "description_tooltip": null,
            "layout": "IPY_MODEL_88bb08cf00db4fb79ba69b62f11e8916",
            "max": 5069051,
            "min": 0,
            "orientation": "horizontal",
            "style": "IPY_MODEL_917108b2f549497286a8b4452c3cb4f2",
            "value": 5069051
          }
        },
        "98b37add5280409290d26ec50cc3a050": {
          "model_module": "@jupyter-widgets/controls",
          "model_name": "HTMLModel",
          "model_module_version": "1.5.0",
          "state": {
            "_dom_classes": [],
            "_model_module": "@jupyter-widgets/controls",
            "_model_module_version": "1.5.0",
            "_model_name": "HTMLModel",
            "_view_count": null,
            "_view_module": "@jupyter-widgets/controls",
            "_view_module_version": "1.5.0",
            "_view_name": "HTMLView",
            "description": "",
            "description_tooltip": null,
            "layout": "IPY_MODEL_be5f0dad39714176a39021b2079d6b62",
            "placeholder": "​",
            "style": "IPY_MODEL_601f6e6cc5f04ba1b1ec150a26debcc7",
            "value": " 5.07M/5.07M [00:01&lt;00:00, 4.35MB/s]"
          }
        },
        "0073cca2919046658b89fb01a02a78a7": {
          "model_module": "@jupyter-widgets/base",
          "model_name": "LayoutModel",
          "model_module_version": "1.2.0",
          "state": {
            "_model_module": "@jupyter-widgets/base",
            "_model_module_version": "1.2.0",
            "_model_name": "LayoutModel",
            "_view_count": null,
            "_view_module": "@jupyter-widgets/base",
            "_view_module_version": "1.2.0",
            "_view_name": "LayoutView",
            "align_content": null,
            "align_items": null,
            "align_self": null,
            "border": null,
            "bottom": null,
            "display": null,
            "flex": null,
            "flex_flow": null,
            "grid_area": null,
            "grid_auto_columns": null,
            "grid_auto_flow": null,
            "grid_auto_rows": null,
            "grid_column": null,
            "grid_gap": null,
            "grid_row": null,
            "grid_template_areas": null,
            "grid_template_columns": null,
            "grid_template_rows": null,
            "height": null,
            "justify_content": null,
            "justify_items": null,
            "left": null,
            "margin": null,
            "max_height": null,
            "max_width": null,
            "min_height": null,
            "min_width": null,
            "object_fit": null,
            "object_position": null,
            "order": null,
            "overflow": null,
            "overflow_x": null,
            "overflow_y": null,
            "padding": null,
            "right": null,
            "top": null,
            "visibility": null,
            "width": null
          }
        },
        "d5c19d67eb3146f392d79b21074dac94": {
          "model_module": "@jupyter-widgets/base",
          "model_name": "LayoutModel",
          "model_module_version": "1.2.0",
          "state": {
            "_model_module": "@jupyter-widgets/base",
            "_model_module_version": "1.2.0",
            "_model_name": "LayoutModel",
            "_view_count": null,
            "_view_module": "@jupyter-widgets/base",
            "_view_module_version": "1.2.0",
            "_view_name": "LayoutView",
            "align_content": null,
            "align_items": null,
            "align_self": null,
            "border": null,
            "bottom": null,
            "display": null,
            "flex": null,
            "flex_flow": null,
            "grid_area": null,
            "grid_auto_columns": null,
            "grid_auto_flow": null,
            "grid_auto_rows": null,
            "grid_column": null,
            "grid_gap": null,
            "grid_row": null,
            "grid_template_areas": null,
            "grid_template_columns": null,
            "grid_template_rows": null,
            "height": null,
            "justify_content": null,
            "justify_items": null,
            "left": null,
            "margin": null,
            "max_height": null,
            "max_width": null,
            "min_height": null,
            "min_width": null,
            "object_fit": null,
            "object_position": null,
            "order": null,
            "overflow": null,
            "overflow_x": null,
            "overflow_y": null,
            "padding": null,
            "right": null,
            "top": null,
            "visibility": null,
            "width": null
          }
        },
        "6fa00b24691543288b529c60c61b9795": {
          "model_module": "@jupyter-widgets/controls",
          "model_name": "DescriptionStyleModel",
          "model_module_version": "1.5.0",
          "state": {
            "_model_module": "@jupyter-widgets/controls",
            "_model_module_version": "1.5.0",
            "_model_name": "DescriptionStyleModel",
            "_view_count": null,
            "_view_module": "@jupyter-widgets/base",
            "_view_module_version": "1.2.0",
            "_view_name": "StyleView",
            "description_width": ""
          }
        },
        "88bb08cf00db4fb79ba69b62f11e8916": {
          "model_module": "@jupyter-widgets/base",
          "model_name": "LayoutModel",
          "model_module_version": "1.2.0",
          "state": {
            "_model_module": "@jupyter-widgets/base",
            "_model_module_version": "1.2.0",
            "_model_name": "LayoutModel",
            "_view_count": null,
            "_view_module": "@jupyter-widgets/base",
            "_view_module_version": "1.2.0",
            "_view_name": "LayoutView",
            "align_content": null,
            "align_items": null,
            "align_self": null,
            "border": null,
            "bottom": null,
            "display": null,
            "flex": null,
            "flex_flow": null,
            "grid_area": null,
            "grid_auto_columns": null,
            "grid_auto_flow": null,
            "grid_auto_rows": null,
            "grid_column": null,
            "grid_gap": null,
            "grid_row": null,
            "grid_template_areas": null,
            "grid_template_columns": null,
            "grid_template_rows": null,
            "height": null,
            "justify_content": null,
            "justify_items": null,
            "left": null,
            "margin": null,
            "max_height": null,
            "max_width": null,
            "min_height": null,
            "min_width": null,
            "object_fit": null,
            "object_position": null,
            "order": null,
            "overflow": null,
            "overflow_x": null,
            "overflow_y": null,
            "padding": null,
            "right": null,
            "top": null,
            "visibility": null,
            "width": null
          }
        },
        "917108b2f549497286a8b4452c3cb4f2": {
          "model_module": "@jupyter-widgets/controls",
          "model_name": "ProgressStyleModel",
          "model_module_version": "1.5.0",
          "state": {
            "_model_module": "@jupyter-widgets/controls",
            "_model_module_version": "1.5.0",
            "_model_name": "ProgressStyleModel",
            "_view_count": null,
            "_view_module": "@jupyter-widgets/base",
            "_view_module_version": "1.2.0",
            "_view_name": "StyleView",
            "bar_color": null,
            "description_width": ""
          }
        },
        "be5f0dad39714176a39021b2079d6b62": {
          "model_module": "@jupyter-widgets/base",
          "model_name": "LayoutModel",
          "model_module_version": "1.2.0",
          "state": {
            "_model_module": "@jupyter-widgets/base",
            "_model_module_version": "1.2.0",
            "_model_name": "LayoutModel",
            "_view_count": null,
            "_view_module": "@jupyter-widgets/base",
            "_view_module_version": "1.2.0",
            "_view_name": "LayoutView",
            "align_content": null,
            "align_items": null,
            "align_self": null,
            "border": null,
            "bottom": null,
            "display": null,
            "flex": null,
            "flex_flow": null,
            "grid_area": null,
            "grid_auto_columns": null,
            "grid_auto_flow": null,
            "grid_auto_rows": null,
            "grid_column": null,
            "grid_gap": null,
            "grid_row": null,
            "grid_template_areas": null,
            "grid_template_columns": null,
            "grid_template_rows": null,
            "height": null,
            "justify_content": null,
            "justify_items": null,
            "left": null,
            "margin": null,
            "max_height": null,
            "max_width": null,
            "min_height": null,
            "min_width": null,
            "object_fit": null,
            "object_position": null,
            "order": null,
            "overflow": null,
            "overflow_x": null,
            "overflow_y": null,
            "padding": null,
            "right": null,
            "top": null,
            "visibility": null,
            "width": null
          }
        },
        "601f6e6cc5f04ba1b1ec150a26debcc7": {
          "model_module": "@jupyter-widgets/controls",
          "model_name": "DescriptionStyleModel",
          "model_module_version": "1.5.0",
          "state": {
            "_model_module": "@jupyter-widgets/controls",
            "_model_module_version": "1.5.0",
            "_model_name": "DescriptionStyleModel",
            "_view_count": null,
            "_view_module": "@jupyter-widgets/base",
            "_view_module_version": "1.2.0",
            "_view_name": "StyleView",
            "description_width": ""
          }
        },
        "006f1e1e6d724c01ac0e1447cc919eb0": {
          "model_module": "@jupyter-widgets/controls",
          "model_name": "HBoxModel",
          "model_module_version": "1.5.0",
          "state": {
            "_dom_classes": [],
            "_model_module": "@jupyter-widgets/controls",
            "_model_module_version": "1.5.0",
            "_model_name": "HBoxModel",
            "_view_count": null,
            "_view_module": "@jupyter-widgets/controls",
            "_view_module_version": "1.5.0",
            "_view_name": "HBoxView",
            "box_style": "",
            "children": [
              "IPY_MODEL_2072cdc483dd4a4a8cc82ca58587d621",
              "IPY_MODEL_ebaf397c13c149d7b3cedfb071fdeba5",
              "IPY_MODEL_34c4ff91b41f4376bc5a5d6699da5d81"
            ],
            "layout": "IPY_MODEL_ae92bf63fd954fbc815d8a0cc0f33de5"
          }
        },
        "2072cdc483dd4a4a8cc82ca58587d621": {
          "model_module": "@jupyter-widgets/controls",
          "model_name": "HTMLModel",
          "model_module_version": "1.5.0",
          "state": {
            "_dom_classes": [],
            "_model_module": "@jupyter-widgets/controls",
            "_model_module_version": "1.5.0",
            "_model_name": "HTMLModel",
            "_view_count": null,
            "_view_module": "@jupyter-widgets/controls",
            "_view_module_version": "1.5.0",
            "_view_name": "HTMLView",
            "description": "",
            "description_tooltip": null,
            "layout": "IPY_MODEL_196f8009059347cc8db5a96653937ec3",
            "placeholder": "​",
            "style": "IPY_MODEL_a81c70220d944fc3b918420003ee66c4",
            "value": "Downloading (…)/main/tokenizer.json: 100%"
          }
        },
        "ebaf397c13c149d7b3cedfb071fdeba5": {
          "model_module": "@jupyter-widgets/controls",
          "model_name": "FloatProgressModel",
          "model_module_version": "1.5.0",
          "state": {
            "_dom_classes": [],
            "_model_module": "@jupyter-widgets/controls",
            "_model_module_version": "1.5.0",
            "_model_name": "FloatProgressModel",
            "_view_count": null,
            "_view_module": "@jupyter-widgets/controls",
            "_view_module_version": "1.5.0",
            "_view_name": "ProgressView",
            "bar_style": "success",
            "description": "",
            "description_tooltip": null,
            "layout": "IPY_MODEL_ece781f33e82420190cbc87e26a09848",
            "max": 9096718,
            "min": 0,
            "orientation": "horizontal",
            "style": "IPY_MODEL_b5733c75026540dcb372980ec0c04ef2",
            "value": 9096718
          }
        },
        "34c4ff91b41f4376bc5a5d6699da5d81": {
          "model_module": "@jupyter-widgets/controls",
          "model_name": "HTMLModel",
          "model_module_version": "1.5.0",
          "state": {
            "_dom_classes": [],
            "_model_module": "@jupyter-widgets/controls",
            "_model_module_version": "1.5.0",
            "_model_name": "HTMLModel",
            "_view_count": null,
            "_view_module": "@jupyter-widgets/controls",
            "_view_module_version": "1.5.0",
            "_view_name": "HTMLView",
            "description": "",
            "description_tooltip": null,
            "layout": "IPY_MODEL_3ca4249af6cd4cf0984df4775ea46154",
            "placeholder": "​",
            "style": "IPY_MODEL_b7a0498203a2482f8441ff93b8dd3629",
            "value": " 9.10M/9.10M [00:00&lt;00:00, 65.8MB/s]"
          }
        },
        "ae92bf63fd954fbc815d8a0cc0f33de5": {
          "model_module": "@jupyter-widgets/base",
          "model_name": "LayoutModel",
          "model_module_version": "1.2.0",
          "state": {
            "_model_module": "@jupyter-widgets/base",
            "_model_module_version": "1.2.0",
            "_model_name": "LayoutModel",
            "_view_count": null,
            "_view_module": "@jupyter-widgets/base",
            "_view_module_version": "1.2.0",
            "_view_name": "LayoutView",
            "align_content": null,
            "align_items": null,
            "align_self": null,
            "border": null,
            "bottom": null,
            "display": null,
            "flex": null,
            "flex_flow": null,
            "grid_area": null,
            "grid_auto_columns": null,
            "grid_auto_flow": null,
            "grid_auto_rows": null,
            "grid_column": null,
            "grid_gap": null,
            "grid_row": null,
            "grid_template_areas": null,
            "grid_template_columns": null,
            "grid_template_rows": null,
            "height": null,
            "justify_content": null,
            "justify_items": null,
            "left": null,
            "margin": null,
            "max_height": null,
            "max_width": null,
            "min_height": null,
            "min_width": null,
            "object_fit": null,
            "object_position": null,
            "order": null,
            "overflow": null,
            "overflow_x": null,
            "overflow_y": null,
            "padding": null,
            "right": null,
            "top": null,
            "visibility": null,
            "width": null
          }
        },
        "196f8009059347cc8db5a96653937ec3": {
          "model_module": "@jupyter-widgets/base",
          "model_name": "LayoutModel",
          "model_module_version": "1.2.0",
          "state": {
            "_model_module": "@jupyter-widgets/base",
            "_model_module_version": "1.2.0",
            "_model_name": "LayoutModel",
            "_view_count": null,
            "_view_module": "@jupyter-widgets/base",
            "_view_module_version": "1.2.0",
            "_view_name": "LayoutView",
            "align_content": null,
            "align_items": null,
            "align_self": null,
            "border": null,
            "bottom": null,
            "display": null,
            "flex": null,
            "flex_flow": null,
            "grid_area": null,
            "grid_auto_columns": null,
            "grid_auto_flow": null,
            "grid_auto_rows": null,
            "grid_column": null,
            "grid_gap": null,
            "grid_row": null,
            "grid_template_areas": null,
            "grid_template_columns": null,
            "grid_template_rows": null,
            "height": null,
            "justify_content": null,
            "justify_items": null,
            "left": null,
            "margin": null,
            "max_height": null,
            "max_width": null,
            "min_height": null,
            "min_width": null,
            "object_fit": null,
            "object_position": null,
            "order": null,
            "overflow": null,
            "overflow_x": null,
            "overflow_y": null,
            "padding": null,
            "right": null,
            "top": null,
            "visibility": null,
            "width": null
          }
        },
        "a81c70220d944fc3b918420003ee66c4": {
          "model_module": "@jupyter-widgets/controls",
          "model_name": "DescriptionStyleModel",
          "model_module_version": "1.5.0",
          "state": {
            "_model_module": "@jupyter-widgets/controls",
            "_model_module_version": "1.5.0",
            "_model_name": "DescriptionStyleModel",
            "_view_count": null,
            "_view_module": "@jupyter-widgets/base",
            "_view_module_version": "1.2.0",
            "_view_name": "StyleView",
            "description_width": ""
          }
        },
        "ece781f33e82420190cbc87e26a09848": {
          "model_module": "@jupyter-widgets/base",
          "model_name": "LayoutModel",
          "model_module_version": "1.2.0",
          "state": {
            "_model_module": "@jupyter-widgets/base",
            "_model_module_version": "1.2.0",
            "_model_name": "LayoutModel",
            "_view_count": null,
            "_view_module": "@jupyter-widgets/base",
            "_view_module_version": "1.2.0",
            "_view_name": "LayoutView",
            "align_content": null,
            "align_items": null,
            "align_self": null,
            "border": null,
            "bottom": null,
            "display": null,
            "flex": null,
            "flex_flow": null,
            "grid_area": null,
            "grid_auto_columns": null,
            "grid_auto_flow": null,
            "grid_auto_rows": null,
            "grid_column": null,
            "grid_gap": null,
            "grid_row": null,
            "grid_template_areas": null,
            "grid_template_columns": null,
            "grid_template_rows": null,
            "height": null,
            "justify_content": null,
            "justify_items": null,
            "left": null,
            "margin": null,
            "max_height": null,
            "max_width": null,
            "min_height": null,
            "min_width": null,
            "object_fit": null,
            "object_position": null,
            "order": null,
            "overflow": null,
            "overflow_x": null,
            "overflow_y": null,
            "padding": null,
            "right": null,
            "top": null,
            "visibility": null,
            "width": null
          }
        },
        "b5733c75026540dcb372980ec0c04ef2": {
          "model_module": "@jupyter-widgets/controls",
          "model_name": "ProgressStyleModel",
          "model_module_version": "1.5.0",
          "state": {
            "_model_module": "@jupyter-widgets/controls",
            "_model_module_version": "1.5.0",
            "_model_name": "ProgressStyleModel",
            "_view_count": null,
            "_view_module": "@jupyter-widgets/base",
            "_view_module_version": "1.2.0",
            "_view_name": "StyleView",
            "bar_color": null,
            "description_width": ""
          }
        },
        "3ca4249af6cd4cf0984df4775ea46154": {
          "model_module": "@jupyter-widgets/base",
          "model_name": "LayoutModel",
          "model_module_version": "1.2.0",
          "state": {
            "_model_module": "@jupyter-widgets/base",
            "_model_module_version": "1.2.0",
            "_model_name": "LayoutModel",
            "_view_count": null,
            "_view_module": "@jupyter-widgets/base",
            "_view_module_version": "1.2.0",
            "_view_name": "LayoutView",
            "align_content": null,
            "align_items": null,
            "align_self": null,
            "border": null,
            "bottom": null,
            "display": null,
            "flex": null,
            "flex_flow": null,
            "grid_area": null,
            "grid_auto_columns": null,
            "grid_auto_flow": null,
            "grid_auto_rows": null,
            "grid_column": null,
            "grid_gap": null,
            "grid_row": null,
            "grid_template_areas": null,
            "grid_template_columns": null,
            "grid_template_rows": null,
            "height": null,
            "justify_content": null,
            "justify_items": null,
            "left": null,
            "margin": null,
            "max_height": null,
            "max_width": null,
            "min_height": null,
            "min_width": null,
            "object_fit": null,
            "object_position": null,
            "order": null,
            "overflow": null,
            "overflow_x": null,
            "overflow_y": null,
            "padding": null,
            "right": null,
            "top": null,
            "visibility": null,
            "width": null
          }
        },
        "b7a0498203a2482f8441ff93b8dd3629": {
          "model_module": "@jupyter-widgets/controls",
          "model_name": "DescriptionStyleModel",
          "model_module_version": "1.5.0",
          "state": {
            "_model_module": "@jupyter-widgets/controls",
            "_model_module_version": "1.5.0",
            "_model_name": "DescriptionStyleModel",
            "_view_count": null,
            "_view_module": "@jupyter-widgets/base",
            "_view_module_version": "1.2.0",
            "_view_name": "StyleView",
            "description_width": ""
          }
        }
      }
    }
  },
  "nbformat": 4,
  "nbformat_minor": 0
}