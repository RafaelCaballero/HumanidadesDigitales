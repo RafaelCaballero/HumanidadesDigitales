{
  "cells": [
    {
      "cell_type": "markdown",
      "id": "633c5cec-beb2-4993-ba99-3c57c5661359",
      "metadata": {
        "tags": [],
        "id": "633c5cec-beb2-4993-ba99-3c57c5661359"
      },
      "source": [
        "# Análisis de textos mediante métricas\n",
        "\n",
        "En este cuaderno usaremos 4 libros clásicos en español para los ejemplos. Los ficheros de texto han sido obtenidos de la web https://www.gutenberg.org/, concretamente:\n",
        "* __Niebla__ de Miguel de Unamuno (https://www.gutenberg.org/ebooks/49836)\n",
        "* __El anacronópete__ de Enrique Gaspar (https://www.gutenberg.org/ebooks/62359)\n",
        "* __El libro de las mil noches y una noche__, tomo 1, traducido por Vicente Blasco Ibáñez y J. C. Mardrus (https://www.gutenberg.org/ebooks/47287)\n",
        "* __El árbol de la ciencia__ de Pío Baroja (https://www.gutenberg.org/ebooks/60464)\n",
        "\n",
        "Los ficheros originales han sido editados para dejar únicamente el texto del libro, quitando prólogos, notas a pie de página, marcas de formato, índices, etc.\n",
        "\n",
        "\n",
        "---\n",
        "\n",
        "\n",
        "**IMPORTANTE:**\n",
        "Si vas a ejecutar este cuaderno Jupyter en Google Colab, debes subir los 4 ficheros al área de _Archivos_ del entorno de ejecución. Para ello debes abrir primero el área de _Archivos_ que está en el margen izquierdo del cuaderno en Google Colab (icono de la carpeta) y arrastrar allí los 4 ficheros de extension __txt__ descargados de https://github.com/RafaelCaballero/HumanidadesDigitales/tree/main/capítulo6. Como los entornos de ejecución de Google Colab se destruyen pasado un tiempo, deberás repetir el proceso de copia de ficheros cada vez que reinicies o generes un nuevo entorno de ejecución."
      ]
    },
    {
      "cell_type": "markdown",
      "source": [
        "## Introducción"
      ],
      "metadata": {
        "id": "jxtpyekqun9-"
      },
      "id": "jxtpyekqun9-"
    },
    {
      "cell_type": "code",
      "execution_count": null,
      "id": "9804b9e5",
      "metadata": {
        "tags": [],
        "id": "9804b9e5"
      },
      "outputs": [],
      "source": [
        "# Instala paquetes\n",
        "!pip install spacy==3.4.2\n",
        "!pip install textdescriptives==2.4.5\n",
        "\n",
        "!pip install seaborn==0.12.2"
      ]
    },
    {
      "cell_type": "code",
      "execution_count": 2,
      "id": "069179a6",
      "metadata": {
        "tags": [],
        "id": "069179a6",
        "colab": {
          "base_uri": "https://localhost:8080/"
        },
        "outputId": "3cb74508-0324-43ac-f270-fee9586e9694"
      },
      "outputs": [
        {
          "output_type": "stream",
          "name": "stdout",
          "text": [
            "2023-04-21 11:07:44.909012: I tensorflow/core/platform/cpu_feature_guard.cc:182] This TensorFlow binary is optimized to use available CPU instructions in performance-critical operations.\n",
            "To enable the following instructions: AVX2 FMA, in other operations, rebuild TensorFlow with the appropriate compiler flags.\n",
            "2023-04-21 11:07:48.833937: W tensorflow/compiler/tf2tensorrt/utils/py_utils.cc:38] TF-TRT Warning: Could not find TensorRT\n",
            "Looking in indexes: https://pypi.org/simple, https://us-python.pkg.dev/colab-wheels/public/simple/\n",
            "Collecting es-core-news-lg==3.4.0\n",
            "  Downloading https://github.com/explosion/spacy-models/releases/download/es_core_news_lg-3.4.0/es_core_news_lg-3.4.0-py3-none-any.whl (568.0 MB)\n",
            "\u001b[2K     \u001b[90m━━━━━━━━━━━━━━━━━━━━━━━━━━━━━━━━━━━━━━━\u001b[0m \u001b[32m568.0/568.0 MB\u001b[0m \u001b[31m2.6 MB/s\u001b[0m eta \u001b[36m0:00:00\u001b[0m\n",
            "\u001b[?25hRequirement already satisfied: spacy<3.5.0,>=3.4.0 in /usr/local/lib/python3.9/dist-packages (from es-core-news-lg==3.4.0) (3.4.2)\n",
            "Requirement already satisfied: tqdm<5.0.0,>=4.38.0 in /usr/local/lib/python3.9/dist-packages (from spacy<3.5.0,>=3.4.0->es-core-news-lg==3.4.0) (4.65.0)\n",
            "Requirement already satisfied: jinja2 in /usr/local/lib/python3.9/dist-packages (from spacy<3.5.0,>=3.4.0->es-core-news-lg==3.4.0) (3.1.2)\n",
            "Requirement already satisfied: srsly<3.0.0,>=2.4.3 in /usr/local/lib/python3.9/dist-packages (from spacy<3.5.0,>=3.4.0->es-core-news-lg==3.4.0) (2.4.6)\n",
            "Requirement already satisfied: catalogue<2.1.0,>=2.0.6 in /usr/local/lib/python3.9/dist-packages (from spacy<3.5.0,>=3.4.0->es-core-news-lg==3.4.0) (2.0.8)\n",
            "Requirement already satisfied: pydantic!=1.8,!=1.8.1,<1.11.0,>=1.7.4 in /usr/local/lib/python3.9/dist-packages (from spacy<3.5.0,>=3.4.0->es-core-news-lg==3.4.0) (1.10.7)\n",
            "Requirement already satisfied: typer<0.5.0,>=0.3.0 in /usr/local/lib/python3.9/dist-packages (from spacy<3.5.0,>=3.4.0->es-core-news-lg==3.4.0) (0.4.2)\n",
            "Requirement already satisfied: pathy>=0.3.5 in /usr/local/lib/python3.9/dist-packages (from spacy<3.5.0,>=3.4.0->es-core-news-lg==3.4.0) (0.10.1)\n",
            "Requirement already satisfied: cymem<2.1.0,>=2.0.2 in /usr/local/lib/python3.9/dist-packages (from spacy<3.5.0,>=3.4.0->es-core-news-lg==3.4.0) (2.0.7)\n",
            "Requirement already satisfied: numpy>=1.15.0 in /usr/local/lib/python3.9/dist-packages (from spacy<3.5.0,>=3.4.0->es-core-news-lg==3.4.0) (1.22.4)\n",
            "Requirement already satisfied: spacy-legacy<3.1.0,>=3.0.10 in /usr/local/lib/python3.9/dist-packages (from spacy<3.5.0,>=3.4.0->es-core-news-lg==3.4.0) (3.0.12)\n",
            "Requirement already satisfied: setuptools in /usr/local/lib/python3.9/dist-packages (from spacy<3.5.0,>=3.4.0->es-core-news-lg==3.4.0) (67.6.1)\n",
            "Requirement already satisfied: langcodes<4.0.0,>=3.2.0 in /usr/local/lib/python3.9/dist-packages (from spacy<3.5.0,>=3.4.0->es-core-news-lg==3.4.0) (3.3.0)\n",
            "Requirement already satisfied: preshed<3.1.0,>=3.0.2 in /usr/local/lib/python3.9/dist-packages (from spacy<3.5.0,>=3.4.0->es-core-news-lg==3.4.0) (3.0.8)\n",
            "Requirement already satisfied: packaging>=20.0 in /usr/local/lib/python3.9/dist-packages (from spacy<3.5.0,>=3.4.0->es-core-news-lg==3.4.0) (23.1)\n",
            "Requirement already satisfied: spacy-loggers<2.0.0,>=1.0.0 in /usr/local/lib/python3.9/dist-packages (from spacy<3.5.0,>=3.4.0->es-core-news-lg==3.4.0) (1.0.4)\n",
            "Requirement already satisfied: wasabi<1.1.0,>=0.9.1 in /usr/local/lib/python3.9/dist-packages (from spacy<3.5.0,>=3.4.0->es-core-news-lg==3.4.0) (0.10.1)\n",
            "Requirement already satisfied: murmurhash<1.1.0,>=0.28.0 in /usr/local/lib/python3.9/dist-packages (from spacy<3.5.0,>=3.4.0->es-core-news-lg==3.4.0) (1.0.9)\n",
            "Requirement already satisfied: requests<3.0.0,>=2.13.0 in /usr/local/lib/python3.9/dist-packages (from spacy<3.5.0,>=3.4.0->es-core-news-lg==3.4.0) (2.27.1)\n",
            "Requirement already satisfied: thinc<8.2.0,>=8.1.0 in /usr/local/lib/python3.9/dist-packages (from spacy<3.5.0,>=3.4.0->es-core-news-lg==3.4.0) (8.1.9)\n",
            "Requirement already satisfied: smart-open<7.0.0,>=5.2.1 in /usr/local/lib/python3.9/dist-packages (from pathy>=0.3.5->spacy<3.5.0,>=3.4.0->es-core-news-lg==3.4.0) (6.3.0)\n",
            "Requirement already satisfied: typing-extensions>=4.2.0 in /usr/local/lib/python3.9/dist-packages (from pydantic!=1.8,!=1.8.1,<1.11.0,>=1.7.4->spacy<3.5.0,>=3.4.0->es-core-news-lg==3.4.0) (4.5.0)\n",
            "Requirement already satisfied: certifi>=2017.4.17 in /usr/local/lib/python3.9/dist-packages (from requests<3.0.0,>=2.13.0->spacy<3.5.0,>=3.4.0->es-core-news-lg==3.4.0) (2022.12.7)\n",
            "Requirement already satisfied: idna<4,>=2.5 in /usr/local/lib/python3.9/dist-packages (from requests<3.0.0,>=2.13.0->spacy<3.5.0,>=3.4.0->es-core-news-lg==3.4.0) (3.4)\n",
            "Requirement already satisfied: charset-normalizer~=2.0.0 in /usr/local/lib/python3.9/dist-packages (from requests<3.0.0,>=2.13.0->spacy<3.5.0,>=3.4.0->es-core-news-lg==3.4.0) (2.0.12)\n",
            "Requirement already satisfied: urllib3<1.27,>=1.21.1 in /usr/local/lib/python3.9/dist-packages (from requests<3.0.0,>=2.13.0->spacy<3.5.0,>=3.4.0->es-core-news-lg==3.4.0) (1.26.15)\n",
            "Requirement already satisfied: confection<1.0.0,>=0.0.1 in /usr/local/lib/python3.9/dist-packages (from thinc<8.2.0,>=8.1.0->spacy<3.5.0,>=3.4.0->es-core-news-lg==3.4.0) (0.0.4)\n",
            "Requirement already satisfied: blis<0.8.0,>=0.7.8 in /usr/local/lib/python3.9/dist-packages (from thinc<8.2.0,>=8.1.0->spacy<3.5.0,>=3.4.0->es-core-news-lg==3.4.0) (0.7.9)\n",
            "Requirement already satisfied: click<9.0.0,>=7.1.1 in /usr/local/lib/python3.9/dist-packages (from typer<0.5.0,>=0.3.0->spacy<3.5.0,>=3.4.0->es-core-news-lg==3.4.0) (8.1.3)\n",
            "Requirement already satisfied: MarkupSafe>=2.0 in /usr/local/lib/python3.9/dist-packages (from jinja2->spacy<3.5.0,>=3.4.0->es-core-news-lg==3.4.0) (2.1.2)\n",
            "Installing collected packages: es-core-news-lg\n",
            "Successfully installed es-core-news-lg-3.4.0\n",
            "\u001b[38;5;2m✔ Download and installation successful\u001b[0m\n",
            "You can now load the package via spacy.load('es_core_news_lg')\n"
          ]
        }
      ],
      "source": [
        "# Instala la tubería de SpacCy para español. \n",
        "\n",
        "!python -m spacy download es_core_news_lg"
      ]
    },
    {
      "cell_type": "code",
      "execution_count": 3,
      "id": "e4624f0b-964b-4684-85f4-0a394924e89b",
      "metadata": {
        "tags": [],
        "colab": {
          "base_uri": "https://localhost:8080/"
        },
        "id": "e4624f0b-964b-4684-85f4-0a394924e89b",
        "outputId": "50970294-a5d9-4917-f515-4d044d7e20bb"
      },
      "outputs": [
        {
          "output_type": "execute_result",
          "data": {
            "text/plain": [
              "['ner']"
            ]
          },
          "metadata": {},
          "execution_count": 3
        }
      ],
      "source": [
        "# Carga spaCy activando todas las medidas de textdescriptives\n",
        "\n",
        "import spacy\n",
        "import textdescriptives\n",
        "\n",
        "nlp = spacy.load(\"es_core_news_lg\")\n",
        "nlp.add_pipe(\"textdescriptives/all\")\n",
        "\n",
        "# Como vamos a procesar libros completos, que son muy largos, desactivaremos\n",
        "# el análisis de entidades con nombre porque no lo vamos a usar y haría el\n",
        "# proceso más lento\n",
        "nlp.disable_pipes('ner')"
      ]
    },
    {
      "cell_type": "code",
      "execution_count": 4,
      "id": "f819362b-e621-40e6-a9d9-c1908f5f29fc",
      "metadata": {
        "tags": [],
        "colab": {
          "base_uri": "https://localhost:8080/"
        },
        "id": "f819362b-e621-40e6-a9d9-c1908f5f29fc",
        "outputId": "e6c34235-4b8f-41fd-b5f9-175240e2d135"
      },
      "outputs": [
        {
          "output_type": "stream",
          "name": "stderr",
          "text": [
            "/usr/local/lib/python3.9/dist-packages/textdescriptives/components/coherence.py:44: UserWarning: [W008] Evaluating Span.similarity based on empty vectors.\n",
            "  similarities.append(sent.similarity(sents[i + order]))\n",
            "/usr/local/lib/python3.9/dist-packages/textdescriptives/components/information_theory.py:37: RuntimeWarning: overflow encountered in exp\n",
            "  return np.exp(entropy)\n"
          ]
        }
      ],
      "source": [
        "# Carga ficheros como cadenas de texto y los procesa con SpaCy y texdescriptives\n",
        "# Puede tardar varios minutos porque está procesando 4 libros completos\n",
        "\n",
        "def carga_fichero(ruta):\n",
        "    ''' Función que carga un fichero de texto y lo procesa completo con SpaCy\n",
        "        Usa el objeto nlp construido en la celda anterior\n",
        "    '''\n",
        "    with open(ruta, 'r', encoding='UTF-8') as fichero:\n",
        "        cadena = fichero.read()\n",
        "        return nlp(cadena)\n",
        "    \n",
        "niebla = carga_fichero('niebla.txt')\n",
        "anacronopete = carga_fichero('anacronopete.txt')\n",
        "mil_noches = carga_fichero('mil_y_una_noches_t1.txt')\n",
        "arbol_ciencia = carga_fichero('arbol_ciencia.txt')"
      ]
    },
    {
      "cell_type": "markdown",
      "id": "c137ca31-a1c9-451a-a7cb-7399e3f5833e",
      "metadata": {
        "id": "c137ca31-a1c9-451a-a7cb-7399e3f5833e"
      },
      "source": [
        "## Estadística descriptiva"
      ]
    },
    {
      "cell_type": "code",
      "execution_count": 5,
      "id": "b22b421b-a7f5-49d7-be86-9efd0ce536cd",
      "metadata": {
        "tags": [],
        "colab": {
          "base_uri": "https://localhost:8080/"
        },
        "id": "b22b421b-a7f5-49d7-be86-9efd0ce536cd",
        "outputId": "2d77a1c7-9e65-48e5-ab38-1b17e62fd567"
      },
      "outputs": [
        {
          "output_type": "stream",
          "name": "stdout",
          "text": [
            "{'n_tokens': 59083, 'n_unique_tokens': 7385, 'proportion_unique_tokens': 0.12499365299663186, 'n_characters': 251508, 'n_sentences': 3512}\n",
            "{'sentence_length_mean': 16.823177676537586, 'sentence_length_median': 11.0, 'sentence_length_std': 17.873234284750712}\n",
            "{'syllables_per_token_mean': 1.6664015029703976, 'syllables_per_token_median': 1.0, 'syllables_per_token_std': 0.9557051148406688}\n",
            "{'token_length_mean': 3.9713453954606233, 'token_length_median': 3.0, 'token_length_std': 2.6067269582053623}\n"
          ]
        }
      ],
      "source": [
        "# Ejemplo 6.2.1\n",
        "# Obtención de las métricas de estadística descriptiva del libro «Niebla»\n",
        "\n",
        "# Diccionario de conteos\n",
        "print(niebla._.counts)\n",
        "\n",
        "# Diccionario de longitud de frases\n",
        "print(niebla._.sentence_length)\n",
        "\n",
        "# Diccionario de sílabas\n",
        "print(niebla._.syllables)\n",
        "\n",
        "# Diccionario de longitud de tokens\n",
        "print(niebla._.token_length)"
      ]
    },
    {
      "cell_type": "code",
      "execution_count": 6,
      "id": "7d2800a4-5cdd-4dd1-ba23-a8e64dfca2c3",
      "metadata": {
        "tags": [],
        "colab": {
          "base_uri": "https://localhost:8080/"
        },
        "id": "7d2800a4-5cdd-4dd1-ba23-a8e64dfca2c3",
        "outputId": "cb11eda2-a17b-4012-9667-eaa3049f70f9"
      },
      "outputs": [
        {
          "output_type": "stream",
          "name": "stdout",
          "text": [
            "16.823177676537586\n",
            "1.9005847953216375\n",
            "5626\n"
          ]
        }
      ],
      "source": [
        "# Ejemplo 6.2.2\n",
        "# Acceso a medidas concretas de estadística descriptiva\n",
        "\n",
        "# Longitud media de las frase en \"Niebla\"\n",
        "print(niebla._.sentence_length['sentence_length_mean'])\n",
        "\n",
        "# Número promedio de sílabas por token en \"El anacronópete\"\n",
        "print(anacronopete._.syllables['syllables_per_token_mean'])\n",
        "\n",
        "# Número de frases en \"El árbol de la ciencia\"\n",
        "print(arbol_ciencia._.counts['n_sentences'])"
      ]
    },
    {
      "cell_type": "markdown",
      "id": "7e1d1307-0726-4712-92df-7b426635a24c",
      "metadata": {
        "id": "7e1d1307-0726-4712-92df-7b426635a24c"
      },
      "source": [
        "## Facilidad de lectura"
      ]
    },
    {
      "cell_type": "code",
      "execution_count": 7,
      "id": "8be45352-9cf4-41c6-bff0-e8aaeac3f9be",
      "metadata": {
        "tags": [],
        "colab": {
          "base_uri": "https://localhost:8080/"
        },
        "id": "8be45352-9cf4-41c6-bff0-e8aaeac3f9be",
        "outputId": "2cf3a097-8064-408e-ceca-48fff0c07d7b"
      },
      "outputs": [
        {
          "output_type": "stream",
          "name": "stdout",
          "text": [
            "{'flesch_reading_ease': 48.78190750701873, 'flesch_kincaid_grade': 10.634577028900349, 'smog': 12.92523520746051, 'gunning_fog': 13.720791474115197, 'automated_readability_index': 5.686625650888331, 'coleman_liau_index': 5.792033579879153, 'lix': 34.16319087830459, 'rix': 2.9171412300683373}\n"
          ]
        }
      ],
      "source": [
        "# Ejemplo 6.3.1\n",
        "# Acceso a métricas de facilidad de lectura de «Niebla»\n",
        "\n",
        "# Los modelos flesch_reading_ease, flesch_kincaid_grade, smog, gunning_fog, automated_readability_index  y coleman_liau_index\n",
        "# están diseñados para el inglés, por lo que su aplicación directa al español no es lo más adecuado\n",
        "# lix y rix no se basan en el conteo de sílabas, lo que las hace más adecuadas para idiomas diferentes del inglés\n",
        "\n",
        "print(niebla._.readability)"
      ]
    },
    {
      "cell_type": "code",
      "execution_count": 8,
      "id": "b92044d3-14f6-4074-8766-e3db7b1678ae",
      "metadata": {
        "tags": [],
        "colab": {
          "base_uri": "https://localhost:8080/"
        },
        "id": "b92044d3-14f6-4074-8766-e3db7b1678ae",
        "outputId": "a096cf34-563f-434e-9ac7-0369b372edfd"
      },
      "outputs": [
        {
          "output_type": "stream",
          "name": "stdout",
          "text": [
            "Niebla: 89.69626859170782\n",
            "Anacronópete: 74.02898040409508\n",
            "1001 noches: 81.4429261082637\n",
            "El árbol de la ciencia: 84.74452518851975\n"
          ]
        }
      ],
      "source": [
        "# Ejemplo 6.3.2. \n",
        "# Índice de facilidad de lectura de Fernández Huerta\n",
        "\n",
        "# Coeficiente de facilidad lectora de José Fernández Huerta (1959)\n",
        "# Diseñado específicamente para el español\n",
        "#\n",
        "#                L = 206.84 -60*P -1.02*F\n",
        "#\n",
        "# L es la lecturabilidad\n",
        "# P es el promedio de sílabas por palabra \n",
        "# F es la media de palabras por frase\n",
        "# \n",
        "# Descripción del nivel estimado de grado de facilidad lectora\n",
        "# \n",
        "#  0-30   Muy difícil (graduado de universidad)\n",
        "# 30-50   Difícil \n",
        "# 50-60   Moderadamente difícil \n",
        "# 60-70   Normal \n",
        "# 70-80   Moderadamente fácil \n",
        "# 80-90   Fácil\n",
        "# 90-100  Muy fácil \n",
        "\n",
        "def coeficiente_facilidad_lectora(doc):\n",
        "    ''' Coeficiente de facilidad lectora de José Fernández Huerta (1959) '''\n",
        "    p = doc._.syllables['syllables_per_token_mean']\n",
        "    f = doc._.sentence_length['sentence_length_mean']\n",
        "    return 206.84 - 60*p - 1.02*f\n",
        "\n",
        "# Facilidad lectora de los 4 libros\n",
        "print('Niebla:', coeficiente_facilidad_lectora(niebla))\n",
        "print('Anacronópete:', coeficiente_facilidad_lectora(anacronopete))\n",
        "print('1001 noches:', coeficiente_facilidad_lectora(mil_noches))\n",
        "print('El árbol de la ciencia:', coeficiente_facilidad_lectora(arbol_ciencia))"
      ]
    },
    {
      "cell_type": "markdown",
      "id": "f5149530-aa62-47f0-bad1-72065c979e52",
      "metadata": {
        "tags": [],
        "id": "f5149530-aa62-47f0-bad1-72065c979e52"
      },
      "source": [
        "## Distancia de dependencia"
      ]
    },
    {
      "cell_type": "code",
      "execution_count": 9,
      "id": "6577af99-a019-4370-b52d-fb8f548155e5",
      "metadata": {
        "tags": [],
        "colab": {
          "base_uri": "https://localhost:8080/",
          "height": 370
        },
        "id": "6577af99-a019-4370-b52d-fb8f548155e5",
        "outputId": "e7247127-06a2-4fea-df4f-6811fc4449b7"
      },
      "outputs": [
        {
          "output_type": "display_data",
          "data": {
            "text/plain": [
              "<IPython.core.display.HTML object>"
            ],
            "text/html": [
              "<span class=\"tex2jax_ignore\"><svg xmlns=\"http://www.w3.org/2000/svg\" xmlns:xlink=\"http://www.w3.org/1999/xlink\" xml:lang=\"es\" id=\"7d0fd76132684b31a288e97e186e97a6-0\" class=\"displacy\" width=\"750\" height=\"312.0\" direction=\"ltr\" style=\"max-width: none; height: 312.0px; color: #000000; background: #ffffff; font-family: Arial; direction: ltr\">\n",
              "<text class=\"displacy-token\" fill=\"currentColor\" text-anchor=\"middle\" y=\"222.0\">\n",
              "    <tspan class=\"displacy-word\" fill=\"currentColor\" x=\"50\">Yo</tspan>\n",
              "    <tspan class=\"displacy-tag\" dy=\"2em\" fill=\"currentColor\" x=\"50\">PRON</tspan>\n",
              "</text>\n",
              "\n",
              "<text class=\"displacy-token\" fill=\"currentColor\" text-anchor=\"middle\" y=\"222.0\">\n",
              "    <tspan class=\"displacy-word\" fill=\"currentColor\" x=\"225\">lanzo</tspan>\n",
              "    <tspan class=\"displacy-tag\" dy=\"2em\" fill=\"currentColor\" x=\"225\">VERB</tspan>\n",
              "</text>\n",
              "\n",
              "<text class=\"displacy-token\" fill=\"currentColor\" text-anchor=\"middle\" y=\"222.0\">\n",
              "    <tspan class=\"displacy-word\" fill=\"currentColor\" x=\"400\">el</tspan>\n",
              "    <tspan class=\"displacy-tag\" dy=\"2em\" fill=\"currentColor\" x=\"400\">DET</tspan>\n",
              "</text>\n",
              "\n",
              "<text class=\"displacy-token\" fill=\"currentColor\" text-anchor=\"middle\" y=\"222.0\">\n",
              "    <tspan class=\"displacy-word\" fill=\"currentColor\" x=\"575\">balón</tspan>\n",
              "    <tspan class=\"displacy-tag\" dy=\"2em\" fill=\"currentColor\" x=\"575\">NOUN</tspan>\n",
              "</text>\n",
              "\n",
              "<g class=\"displacy-arrow\">\n",
              "    <path class=\"displacy-arc\" id=\"arrow-7d0fd76132684b31a288e97e186e97a6-0-0\" stroke-width=\"2px\" d=\"M70,177.0 C70,89.5 220.0,89.5 220.0,177.0\" fill=\"none\" stroke=\"currentColor\"/>\n",
              "    <text dy=\"1.25em\" style=\"font-size: 0.8em; letter-spacing: 1px\">\n",
              "        <textPath xlink:href=\"#arrow-7d0fd76132684b31a288e97e186e97a6-0-0\" class=\"displacy-label\" startOffset=\"50%\" side=\"left\" fill=\"currentColor\" text-anchor=\"middle\">nsubj</textPath>\n",
              "    </text>\n",
              "    <path class=\"displacy-arrowhead\" d=\"M70,179.0 L62,167.0 78,167.0\" fill=\"currentColor\"/>\n",
              "</g>\n",
              "\n",
              "<g class=\"displacy-arrow\">\n",
              "    <path class=\"displacy-arc\" id=\"arrow-7d0fd76132684b31a288e97e186e97a6-0-1\" stroke-width=\"2px\" d=\"M420,177.0 C420,89.5 570.0,89.5 570.0,177.0\" fill=\"none\" stroke=\"currentColor\"/>\n",
              "    <text dy=\"1.25em\" style=\"font-size: 0.8em; letter-spacing: 1px\">\n",
              "        <textPath xlink:href=\"#arrow-7d0fd76132684b31a288e97e186e97a6-0-1\" class=\"displacy-label\" startOffset=\"50%\" side=\"left\" fill=\"currentColor\" text-anchor=\"middle\">det</textPath>\n",
              "    </text>\n",
              "    <path class=\"displacy-arrowhead\" d=\"M420,179.0 L412,167.0 428,167.0\" fill=\"currentColor\"/>\n",
              "</g>\n",
              "\n",
              "<g class=\"displacy-arrow\">\n",
              "    <path class=\"displacy-arc\" id=\"arrow-7d0fd76132684b31a288e97e186e97a6-0-2\" stroke-width=\"2px\" d=\"M245,177.0 C245,2.0 575.0,2.0 575.0,177.0\" fill=\"none\" stroke=\"currentColor\"/>\n",
              "    <text dy=\"1.25em\" style=\"font-size: 0.8em; letter-spacing: 1px\">\n",
              "        <textPath xlink:href=\"#arrow-7d0fd76132684b31a288e97e186e97a6-0-2\" class=\"displacy-label\" startOffset=\"50%\" side=\"left\" fill=\"currentColor\" text-anchor=\"middle\">obj</textPath>\n",
              "    </text>\n",
              "    <path class=\"displacy-arrowhead\" d=\"M575.0,179.0 L583.0,167.0 567.0,167.0\" fill=\"currentColor\"/>\n",
              "</g>\n",
              "</svg></span>"
            ]
          },
          "metadata": {}
        },
        {
          "output_type": "stream",
          "name": "stdout",
          "text": [
            "{'dependency_distance_mean': 1.0, 'dependency_distance_std': 0.0, 'prop_adjacent_dependency_relation_mean': 0.5, 'prop_adjacent_dependency_relation_std': 0.0}\n"
          ]
        }
      ],
      "source": [
        "# Ejemplo 6.4.1\n",
        "# Distancia de dependencia de una frase\n",
        "\n",
        "doc = nlp('Yo lanzo el balón')\n",
        "spacy.displacy.render(doc, style='dep', jupyter=True)\n",
        "print(doc._.dependency_distance)"
      ]
    },
    {
      "cell_type": "code",
      "execution_count": 10,
      "id": "0004732c-8c5c-4347-ac58-e8eb54f33546",
      "metadata": {
        "tags": [],
        "colab": {
          "base_uri": "https://localhost:8080/"
        },
        "id": "0004732c-8c5c-4347-ac58-e8eb54f33546",
        "outputId": "97858473-6871-4553-a819-5473e32ce005"
      },
      "outputs": [
        {
          "output_type": "stream",
          "name": "stdout",
          "text": [
            "Yo {'dependency_distance': 1, 'adjacent_dependency': True}\n",
            "lanzo {'dependency_distance': 0, 'adjacent_dependency': False}\n",
            "el {'dependency_distance': 1, 'adjacent_dependency': True}\n",
            "balón {'dependency_distance': 2, 'adjacent_dependency': False}\n"
          ]
        }
      ],
      "source": [
        "# Ejemplo 6.4.1 (continuación)\n",
        "\n",
        "for token in doc:\n",
        "    print(token, token._.dependency_distance)"
      ]
    },
    {
      "cell_type": "code",
      "execution_count": 11,
      "id": "4b36be41-a4eb-4150-9283-b13fa64599f6",
      "metadata": {
        "tags": [],
        "colab": {
          "base_uri": "https://localhost:8080/"
        },
        "id": "4b36be41-a4eb-4150-9283-b13fa64599f6",
        "outputId": "9ee55d74-a53c-4edc-ddf9-f991b5a1ac94"
      },
      "outputs": [
        {
          "output_type": "stream",
          "name": "stdout",
          "text": [
            "Niebla\n",
            "{'dependency_distance_mean': 2.659600544389479, 'dependency_distance_std': 1.8402926441071663, 'prop_adjacent_dependency_relation_mean': 0.3143449516552605, 'prop_adjacent_dependency_relation_std': 0.16138607998465837}\n",
            "El anacronópete\n",
            "{'dependency_distance_mean': 2.0691764223874625, 'dependency_distance_std': 1.6718068666219252, 'prop_adjacent_dependency_relation_mean': 0.2909091751564863, 'prop_adjacent_dependency_relation_std': 0.19305042900655767}\n",
            "Las mil y una noches, tomo 1\n",
            "{'dependency_distance_mean': 3.097740338847526, 'dependency_distance_std': 1.4581408013623287, 'prop_adjacent_dependency_relation_mean': 0.3474156072029437, 'prop_adjacent_dependency_relation_std': 0.11437743248551019}\n",
            "El árbol de la ciencia\n",
            "{'dependency_distance_mean': 1.83378321948032, 'dependency_distance_std': 1.5382077972677806, 'prop_adjacent_dependency_relation_mean': 0.2766476838164316, 'prop_adjacent_dependency_relation_std': 0.19959856852608712}\n"
          ]
        }
      ],
      "source": [
        "# Ejemplo 6.4.2\n",
        "# Distancia de dependencia de los libros\n",
        "\n",
        "print('Niebla')\n",
        "print(niebla._.dependency_distance)\n",
        "\n",
        "print('El anacronópete')\n",
        "print(anacronopete._.dependency_distance)\n",
        "\n",
        "print('Las mil y una noches, tomo 1')\n",
        "print(mil_noches._.dependency_distance)\n",
        "\n",
        "print('El árbol de la ciencia')\n",
        "print(arbol_ciencia._.dependency_distance)"
      ]
    },
    {
      "cell_type": "markdown",
      "id": "7f1e85db-b8f0-4065-ac64-4a671e119961",
      "metadata": {
        "id": "7f1e85db-b8f0-4065-ac64-4a671e119961"
      },
      "source": [
        "## Proporción de categorías gramaticales"
      ]
    },
    {
      "cell_type": "code",
      "execution_count": 12,
      "id": "4f9aab81-eb79-4f92-be28-1fa1cdb58653",
      "metadata": {
        "tags": [],
        "colab": {
          "base_uri": "https://localhost:8080/"
        },
        "id": "4f9aab81-eb79-4f92-be28-1fa1cdb58653",
        "outputId": "19366bc7-9b48-47b3-c156-e74345ea219a"
      },
      "outputs": [
        {
          "output_type": "stream",
          "name": "stdout",
          "text": [
            "{'pos_prop_CCONJ': 0.03910847754359976, 'pos_prop_SPACE': 0.07549659955558548, 'pos_prop_ADP': 0.08857316005656185, 'pos_prop_VERB': 0.10776378695037371, 'pos_prop_PROPN': 0.031297555720153525, 'pos_prop_DET': 0.07889031041680696, 'pos_prop_NOUN': 0.10968958319305097, 'pos_prop_ADJ': 0.03672479967678944, 'pos_prop_PUNCT': 0.1995286512692748, 'pos_prop_ADV': 0.05304693286647364, 'pos_prop_AUX': 0.037680964244832, 'pos_prop_SCONJ': 0.03246919399367046, 'pos_prop_PRON': 0.10004713487307253, 'pos_prop_INTJ': 0.007043296747693758, 'pos_prop_NUM': 0.0024375462931789105, 'pos_prop_SYM': 6.733553296074339e-05, 'pos_prop_PART': 0.00013467106592148677}\n"
          ]
        }
      ],
      "source": [
        "# Ejemplo 6.5.1\n",
        "# Proporción de categorías gramaticales en «Niebla»\n",
        "\n",
        "print(niebla._.pos_proportions)"
      ]
    },
    {
      "cell_type": "code",
      "execution_count": 13,
      "id": "d059f56c-8fdb-4ff8-822a-839cb03ffd4a",
      "metadata": {
        "tags": [],
        "colab": {
          "base_uri": "https://localhost:8080/"
        },
        "id": "d059f56c-8fdb-4ff8-822a-839cb03ffd4a",
        "outputId": "01c76a6d-dc64-4c55-9307-39d6ca5f56db"
      },
      "outputs": [
        {
          "output_type": "execute_result",
          "data": {
            "text/plain": [
              "[('pos_prop_PUNCT', 0.1995286512692748),\n",
              " ('pos_prop_NOUN', 0.10968958319305097),\n",
              " ('pos_prop_VERB', 0.10776378695037371),\n",
              " ('pos_prop_PRON', 0.10004713487307253),\n",
              " ('pos_prop_ADP', 0.08857316005656185),\n",
              " ('pos_prop_DET', 0.07889031041680696),\n",
              " ('pos_prop_SPACE', 0.07549659955558548),\n",
              " ('pos_prop_ADV', 0.05304693286647364),\n",
              " ('pos_prop_CCONJ', 0.03910847754359976),\n",
              " ('pos_prop_AUX', 0.037680964244832),\n",
              " ('pos_prop_ADJ', 0.03672479967678944),\n",
              " ('pos_prop_SCONJ', 0.03246919399367046),\n",
              " ('pos_prop_PROPN', 0.031297555720153525),\n",
              " ('pos_prop_INTJ', 0.007043296747693758),\n",
              " ('pos_prop_NUM', 0.0024375462931789105),\n",
              " ('pos_prop_PART', 0.00013467106592148677),\n",
              " ('pos_prop_SYM', 6.733553296074339e-05)]"
            ]
          },
          "metadata": {},
          "execution_count": 13
        }
      ],
      "source": [
        "########################################################\n",
        "# Ejemplo adicional: ordenar categorías por porcentaje #\n",
        "########################################################\n",
        "sorted(niebla._.pos_proportions.items(), key=lambda item: item[1], reverse=True)"
      ]
    },
    {
      "cell_type": "markdown",
      "id": "66df445f-231a-4dad-ba6e-8ebe380a3f84",
      "metadata": {
        "id": "66df445f-231a-4dad-ba6e-8ebe380a3f84"
      },
      "source": [
        "## Coherencia"
      ]
    },
    {
      "cell_type": "code",
      "execution_count": 14,
      "id": "48a2eeec-9914-4d17-a485-c3885cb0cb6b",
      "metadata": {
        "tags": [],
        "colab": {
          "base_uri": "https://localhost:8080/"
        },
        "id": "48a2eeec-9914-4d17-a485-c3885cb0cb6b",
        "outputId": "d732f992-93c0-4f69-8075-496651aabfce"
      },
      "outputs": [
        {
          "output_type": "stream",
          "name": "stdout",
          "text": [
            "{'first_order_coherence': 0.2370069921016693, 'second_order_coherence': 0.3022197484970093}\n",
            "{'first_order_coherence': 0.8403817415237427, 'second_order_coherence': 0.6957200169563293}\n"
          ]
        }
      ],
      "source": [
        "# Ejemplo 6.6.1\n",
        "# Coherencia de dos textos\n",
        "\n",
        "doc1 = nlp('El balón es blanco. Juan pedirá pizza para cenar. Ayer fui al cine.')\n",
        "doc2 = nlp('Primero se lavan las patatas. Luego se pelan las patatas. Finalmente, se cocinan a fuego lento en una sartén.')\n",
        "\n",
        "print(doc1._.coherence)\n",
        "print(doc2._.coherence) # Es bastante más coherente que el primero"
      ]
    },
    {
      "cell_type": "code",
      "execution_count": 15,
      "id": "95947007-901d-465d-8b40-082350c9a921",
      "metadata": {
        "tags": [],
        "colab": {
          "base_uri": "https://localhost:8080/"
        },
        "id": "95947007-901d-465d-8b40-082350c9a921",
        "outputId": "b2f582ea-306f-4270-b64d-6b511845fae7"
      },
      "outputs": [
        {
          "output_type": "stream",
          "name": "stdout",
          "text": [
            "Niebla\n",
            "{'first_order_coherence': 0.35418888906293344, 'second_order_coherence': 0.4101849088690574}\n",
            "El anacronópete\n",
            "{'first_order_coherence': 0.23488745780653975, 'second_order_coherence': 0.34312385647348803}\n",
            "Las mil y una noches, tomo 1\n",
            "{'first_order_coherence': 0.502946326650489, 'second_order_coherence': 0.4916409922283844}\n",
            "El árbol de la ciencia\n",
            "{'first_order_coherence': 0.20012292442774504, 'second_order_coherence': 0.3851610925896244}\n"
          ]
        }
      ],
      "source": [
        "# Ejemplo 6.6.2\n",
        "# Coherencia de los libros\n",
        "\n",
        "print('Niebla')\n",
        "print(niebla._.coherence)\n",
        "\n",
        "print('El anacronópete')\n",
        "print(anacronopete._.coherence)\n",
        "\n",
        "print('Las mil y una noches, tomo 1')\n",
        "print(mil_noches._.coherence)\n",
        "\n",
        "print('El árbol de la ciencia')\n",
        "print(arbol_ciencia._.coherence)"
      ]
    },
    {
      "cell_type": "markdown",
      "id": "c6623280-12f1-4e35-a34c-99bc904df983",
      "metadata": {
        "id": "c6623280-12f1-4e35-a34c-99bc904df983"
      },
      "source": [
        "## Visualización de los análisis"
      ]
    },
    {
      "cell_type": "code",
      "execution_count": 16,
      "id": "05eac59d-189a-491b-a33e-829f9253e11a",
      "metadata": {
        "tags": [],
        "id": "05eac59d-189a-491b-a33e-829f9253e11a"
      },
      "outputs": [],
      "source": [
        "import seaborn as sns\n",
        "import pandas as pd\n",
        "\n",
        "# Establecemos el tema de colores de seaborn a su\n",
        "# valor por defecto: fuente sans-serif y paleta 'deep'\n",
        "sns.set_theme()"
      ]
    },
    {
      "cell_type": "markdown",
      "id": "7ab7a217-6e60-4e98-a97c-ecf180282a14",
      "metadata": {
        "id": "7ab7a217-6e60-4e98-a97c-ecf180282a14"
      },
      "source": [
        "### Creación de tablas en pandas"
      ]
    },
    {
      "cell_type": "code",
      "execution_count": 17,
      "id": "fa5c8d9a-0a1b-4e03-bd94-ee01b2c0c92f",
      "metadata": {
        "tags": [],
        "colab": {
          "base_uri": "https://localhost:8080/",
          "height": 237
        },
        "id": "fa5c8d9a-0a1b-4e03-bd94-ee01b2c0c92f",
        "outputId": "00971c1f-ab08-452a-e942-f06120fda1f5"
      },
      "outputs": [
        {
          "output_type": "execute_result",
          "data": {
            "text/plain": [
              "   Resultado\n",
              "0          5\n",
              "1          3\n",
              "2          5\n",
              "3          1\n",
              "4          4\n",
              "5          6"
            ],
            "text/html": [
              "\n",
              "  <div id=\"df-7e5f9aab-4546-43b0-8f9a-0b9d70af9082\">\n",
              "    <div class=\"colab-df-container\">\n",
              "      <div>\n",
              "<style scoped>\n",
              "    .dataframe tbody tr th:only-of-type {\n",
              "        vertical-align: middle;\n",
              "    }\n",
              "\n",
              "    .dataframe tbody tr th {\n",
              "        vertical-align: top;\n",
              "    }\n",
              "\n",
              "    .dataframe thead th {\n",
              "        text-align: right;\n",
              "    }\n",
              "</style>\n",
              "<table border=\"1\" class=\"dataframe\">\n",
              "  <thead>\n",
              "    <tr style=\"text-align: right;\">\n",
              "      <th></th>\n",
              "      <th>Resultado</th>\n",
              "    </tr>\n",
              "  </thead>\n",
              "  <tbody>\n",
              "    <tr>\n",
              "      <th>0</th>\n",
              "      <td>5</td>\n",
              "    </tr>\n",
              "    <tr>\n",
              "      <th>1</th>\n",
              "      <td>3</td>\n",
              "    </tr>\n",
              "    <tr>\n",
              "      <th>2</th>\n",
              "      <td>5</td>\n",
              "    </tr>\n",
              "    <tr>\n",
              "      <th>3</th>\n",
              "      <td>1</td>\n",
              "    </tr>\n",
              "    <tr>\n",
              "      <th>4</th>\n",
              "      <td>4</td>\n",
              "    </tr>\n",
              "    <tr>\n",
              "      <th>5</th>\n",
              "      <td>6</td>\n",
              "    </tr>\n",
              "  </tbody>\n",
              "</table>\n",
              "</div>\n",
              "      <button class=\"colab-df-convert\" onclick=\"convertToInteractive('df-7e5f9aab-4546-43b0-8f9a-0b9d70af9082')\"\n",
              "              title=\"Convert this dataframe to an interactive table.\"\n",
              "              style=\"display:none;\">\n",
              "        \n",
              "  <svg xmlns=\"http://www.w3.org/2000/svg\" height=\"24px\"viewBox=\"0 0 24 24\"\n",
              "       width=\"24px\">\n",
              "    <path d=\"M0 0h24v24H0V0z\" fill=\"none\"/>\n",
              "    <path d=\"M18.56 5.44l.94 2.06.94-2.06 2.06-.94-2.06-.94-.94-2.06-.94 2.06-2.06.94zm-11 1L8.5 8.5l.94-2.06 2.06-.94-2.06-.94L8.5 2.5l-.94 2.06-2.06.94zm10 10l.94 2.06.94-2.06 2.06-.94-2.06-.94-.94-2.06-.94 2.06-2.06.94z\"/><path d=\"M17.41 7.96l-1.37-1.37c-.4-.4-.92-.59-1.43-.59-.52 0-1.04.2-1.43.59L10.3 9.45l-7.72 7.72c-.78.78-.78 2.05 0 2.83L4 21.41c.39.39.9.59 1.41.59.51 0 1.02-.2 1.41-.59l7.78-7.78 2.81-2.81c.8-.78.8-2.07 0-2.86zM5.41 20L4 18.59l7.72-7.72 1.47 1.35L5.41 20z\"/>\n",
              "  </svg>\n",
              "      </button>\n",
              "      \n",
              "  <style>\n",
              "    .colab-df-container {\n",
              "      display:flex;\n",
              "      flex-wrap:wrap;\n",
              "      gap: 12px;\n",
              "    }\n",
              "\n",
              "    .colab-df-convert {\n",
              "      background-color: #E8F0FE;\n",
              "      border: none;\n",
              "      border-radius: 50%;\n",
              "      cursor: pointer;\n",
              "      display: none;\n",
              "      fill: #1967D2;\n",
              "      height: 32px;\n",
              "      padding: 0 0 0 0;\n",
              "      width: 32px;\n",
              "    }\n",
              "\n",
              "    .colab-df-convert:hover {\n",
              "      background-color: #E2EBFA;\n",
              "      box-shadow: 0px 1px 2px rgba(60, 64, 67, 0.3), 0px 1px 3px 1px rgba(60, 64, 67, 0.15);\n",
              "      fill: #174EA6;\n",
              "    }\n",
              "\n",
              "    [theme=dark] .colab-df-convert {\n",
              "      background-color: #3B4455;\n",
              "      fill: #D2E3FC;\n",
              "    }\n",
              "\n",
              "    [theme=dark] .colab-df-convert:hover {\n",
              "      background-color: #434B5C;\n",
              "      box-shadow: 0px 1px 3px 1px rgba(0, 0, 0, 0.15);\n",
              "      filter: drop-shadow(0px 1px 2px rgba(0, 0, 0, 0.3));\n",
              "      fill: #FFFFFF;\n",
              "    }\n",
              "  </style>\n",
              "\n",
              "      <script>\n",
              "        const buttonEl =\n",
              "          document.querySelector('#df-7e5f9aab-4546-43b0-8f9a-0b9d70af9082 button.colab-df-convert');\n",
              "        buttonEl.style.display =\n",
              "          google.colab.kernel.accessAllowed ? 'block' : 'none';\n",
              "\n",
              "        async function convertToInteractive(key) {\n",
              "          const element = document.querySelector('#df-7e5f9aab-4546-43b0-8f9a-0b9d70af9082');\n",
              "          const dataTable =\n",
              "            await google.colab.kernel.invokeFunction('convertToInteractive',\n",
              "                                                     [key], {});\n",
              "          if (!dataTable) return;\n",
              "\n",
              "          const docLinkHtml = 'Like what you see? Visit the ' +\n",
              "            '<a target=\"_blank\" href=https://colab.research.google.com/notebooks/data_table.ipynb>data table notebook</a>'\n",
              "            + ' to learn more about interactive tables.';\n",
              "          element.innerHTML = '';\n",
              "          dataTable['output_type'] = 'display_data';\n",
              "          await google.colab.output.renderOutput(dataTable, element);\n",
              "          const docLink = document.createElement('div');\n",
              "          docLink.innerHTML = docLinkHtml;\n",
              "          element.appendChild(docLink);\n",
              "        }\n",
              "      </script>\n",
              "    </div>\n",
              "  </div>\n",
              "  "
            ]
          },
          "metadata": {},
          "execution_count": 17
        }
      ],
      "source": [
        "# Ejemplo 6.7.1\n",
        "# Creación de una tabla con una columna\n",
        "\n",
        "# Creación de una tabla con varias filas y una única columna\n",
        "# Resultados de tirar un dado 5 veces\n",
        "\n",
        "datos = [5,3,5,1,4,6]\n",
        "df_dado = pd.DataFrame(datos, columns =['Resultado'])\n",
        "df_dado\n",
        "\n",
        "# Para almacenar tabla como PNG\n",
        "# dfi.export(df_dado, \"df_dado.png\", dpi=300)"
      ]
    },
    {
      "cell_type": "code",
      "execution_count": 18,
      "id": "afe092a7-8a3f-41d7-87e7-2967aff5a1bc",
      "metadata": {
        "tags": [],
        "colab": {
          "base_uri": "https://localhost:8080/",
          "height": 237
        },
        "id": "afe092a7-8a3f-41d7-87e7-2967aff5a1bc",
        "outputId": "4b18b86d-4fcf-40a7-df53-59f4e12a6629"
      },
      "outputs": [
        {
          "output_type": "execute_result",
          "data": {
            "text/plain": [
              "            País     Capital  Altura capital\n",
              "0         España      Madrid             657\n",
              "1         Canadá      Ottawa              70\n",
              "2      Venezuela     Caracas            1037\n",
              "3          Japón       Tokio               6\n",
              "4  Nueva Zelanda  Wellington               1\n",
              "5       Botsuana    Gaborone            1014"
            ],
            "text/html": [
              "\n",
              "  <div id=\"df-99f988cc-4ed1-4370-aa78-a01d6f074f88\">\n",
              "    <div class=\"colab-df-container\">\n",
              "      <div>\n",
              "<style scoped>\n",
              "    .dataframe tbody tr th:only-of-type {\n",
              "        vertical-align: middle;\n",
              "    }\n",
              "\n",
              "    .dataframe tbody tr th {\n",
              "        vertical-align: top;\n",
              "    }\n",
              "\n",
              "    .dataframe thead th {\n",
              "        text-align: right;\n",
              "    }\n",
              "</style>\n",
              "<table border=\"1\" class=\"dataframe\">\n",
              "  <thead>\n",
              "    <tr style=\"text-align: right;\">\n",
              "      <th></th>\n",
              "      <th>País</th>\n",
              "      <th>Capital</th>\n",
              "      <th>Altura capital</th>\n",
              "    </tr>\n",
              "  </thead>\n",
              "  <tbody>\n",
              "    <tr>\n",
              "      <th>0</th>\n",
              "      <td>España</td>\n",
              "      <td>Madrid</td>\n",
              "      <td>657</td>\n",
              "    </tr>\n",
              "    <tr>\n",
              "      <th>1</th>\n",
              "      <td>Canadá</td>\n",
              "      <td>Ottawa</td>\n",
              "      <td>70</td>\n",
              "    </tr>\n",
              "    <tr>\n",
              "      <th>2</th>\n",
              "      <td>Venezuela</td>\n",
              "      <td>Caracas</td>\n",
              "      <td>1037</td>\n",
              "    </tr>\n",
              "    <tr>\n",
              "      <th>3</th>\n",
              "      <td>Japón</td>\n",
              "      <td>Tokio</td>\n",
              "      <td>6</td>\n",
              "    </tr>\n",
              "    <tr>\n",
              "      <th>4</th>\n",
              "      <td>Nueva Zelanda</td>\n",
              "      <td>Wellington</td>\n",
              "      <td>1</td>\n",
              "    </tr>\n",
              "    <tr>\n",
              "      <th>5</th>\n",
              "      <td>Botsuana</td>\n",
              "      <td>Gaborone</td>\n",
              "      <td>1014</td>\n",
              "    </tr>\n",
              "  </tbody>\n",
              "</table>\n",
              "</div>\n",
              "      <button class=\"colab-df-convert\" onclick=\"convertToInteractive('df-99f988cc-4ed1-4370-aa78-a01d6f074f88')\"\n",
              "              title=\"Convert this dataframe to an interactive table.\"\n",
              "              style=\"display:none;\">\n",
              "        \n",
              "  <svg xmlns=\"http://www.w3.org/2000/svg\" height=\"24px\"viewBox=\"0 0 24 24\"\n",
              "       width=\"24px\">\n",
              "    <path d=\"M0 0h24v24H0V0z\" fill=\"none\"/>\n",
              "    <path d=\"M18.56 5.44l.94 2.06.94-2.06 2.06-.94-2.06-.94-.94-2.06-.94 2.06-2.06.94zm-11 1L8.5 8.5l.94-2.06 2.06-.94-2.06-.94L8.5 2.5l-.94 2.06-2.06.94zm10 10l.94 2.06.94-2.06 2.06-.94-2.06-.94-.94-2.06-.94 2.06-2.06.94z\"/><path d=\"M17.41 7.96l-1.37-1.37c-.4-.4-.92-.59-1.43-.59-.52 0-1.04.2-1.43.59L10.3 9.45l-7.72 7.72c-.78.78-.78 2.05 0 2.83L4 21.41c.39.39.9.59 1.41.59.51 0 1.02-.2 1.41-.59l7.78-7.78 2.81-2.81c.8-.78.8-2.07 0-2.86zM5.41 20L4 18.59l7.72-7.72 1.47 1.35L5.41 20z\"/>\n",
              "  </svg>\n",
              "      </button>\n",
              "      \n",
              "  <style>\n",
              "    .colab-df-container {\n",
              "      display:flex;\n",
              "      flex-wrap:wrap;\n",
              "      gap: 12px;\n",
              "    }\n",
              "\n",
              "    .colab-df-convert {\n",
              "      background-color: #E8F0FE;\n",
              "      border: none;\n",
              "      border-radius: 50%;\n",
              "      cursor: pointer;\n",
              "      display: none;\n",
              "      fill: #1967D2;\n",
              "      height: 32px;\n",
              "      padding: 0 0 0 0;\n",
              "      width: 32px;\n",
              "    }\n",
              "\n",
              "    .colab-df-convert:hover {\n",
              "      background-color: #E2EBFA;\n",
              "      box-shadow: 0px 1px 2px rgba(60, 64, 67, 0.3), 0px 1px 3px 1px rgba(60, 64, 67, 0.15);\n",
              "      fill: #174EA6;\n",
              "    }\n",
              "\n",
              "    [theme=dark] .colab-df-convert {\n",
              "      background-color: #3B4455;\n",
              "      fill: #D2E3FC;\n",
              "    }\n",
              "\n",
              "    [theme=dark] .colab-df-convert:hover {\n",
              "      background-color: #434B5C;\n",
              "      box-shadow: 0px 1px 3px 1px rgba(0, 0, 0, 0.15);\n",
              "      filter: drop-shadow(0px 1px 2px rgba(0, 0, 0, 0.3));\n",
              "      fill: #FFFFFF;\n",
              "    }\n",
              "  </style>\n",
              "\n",
              "      <script>\n",
              "        const buttonEl =\n",
              "          document.querySelector('#df-99f988cc-4ed1-4370-aa78-a01d6f074f88 button.colab-df-convert');\n",
              "        buttonEl.style.display =\n",
              "          google.colab.kernel.accessAllowed ? 'block' : 'none';\n",
              "\n",
              "        async function convertToInteractive(key) {\n",
              "          const element = document.querySelector('#df-99f988cc-4ed1-4370-aa78-a01d6f074f88');\n",
              "          const dataTable =\n",
              "            await google.colab.kernel.invokeFunction('convertToInteractive',\n",
              "                                                     [key], {});\n",
              "          if (!dataTable) return;\n",
              "\n",
              "          const docLinkHtml = 'Like what you see? Visit the ' +\n",
              "            '<a target=\"_blank\" href=https://colab.research.google.com/notebooks/data_table.ipynb>data table notebook</a>'\n",
              "            + ' to learn more about interactive tables.';\n",
              "          element.innerHTML = '';\n",
              "          dataTable['output_type'] = 'display_data';\n",
              "          await google.colab.output.renderOutput(dataTable, element);\n",
              "          const docLink = document.createElement('div');\n",
              "          docLink.innerHTML = docLinkHtml;\n",
              "          element.appendChild(docLink);\n",
              "        }\n",
              "      </script>\n",
              "    </div>\n",
              "  </div>\n",
              "  "
            ]
          },
          "metadata": {},
          "execution_count": 18
        }
      ],
      "source": [
        "# Ejemplo 6.7.2\n",
        "# Creación de una tabla con varias columnas\n",
        "\n",
        "\n",
        "# Capitales de países\n",
        "datos = [['España', 'Madrid', 657],\n",
        "         ['Canadá', 'Ottawa', 70],\n",
        "         ['Venezuela', 'Caracas', 1037],\n",
        "         ['Japón', 'Tokio', 6],\n",
        "         ['Nueva Zelanda','Wellington',1],\n",
        "         ['Botsuana', 'Gaborone', 1014]\n",
        "    ]\n",
        "    \n",
        "df_capitales = pd.DataFrame(datos, columns =['País', 'Capital', 'Altura capital'])\n",
        "df_capitales\n",
        "\n",
        "# Para almacenar tabla como PNG\n",
        "# dfi.export(df_capitales, \"df_capitales.png\", dpi=300)"
      ]
    },
    {
      "cell_type": "code",
      "execution_count": 19,
      "id": "da6516c3-2b0e-4111-86f1-13bb6d76a421",
      "metadata": {
        "tags": [],
        "colab": {
          "base_uri": "https://localhost:8080/",
          "height": 237
        },
        "id": "da6516c3-2b0e-4111-86f1-13bb6d76a421",
        "outputId": "f5f7a879-6cd7-4209-ae4f-f2eaafc141f8"
      },
      "outputs": [
        {
          "output_type": "execute_result",
          "data": {
            "text/plain": [
              "                  Capital  Altura capital\n",
              "España             Madrid             657\n",
              "Canadá             Ottawa              70\n",
              "Venezuela         Caracas            1037\n",
              "Japón               Tokio               6\n",
              "Nueva Zelanda  Wellington               1\n",
              "Botsuana         Gaborone            1014"
            ],
            "text/html": [
              "\n",
              "  <div id=\"df-fb587fd1-d322-41b6-816d-9e9eb9cd54d0\">\n",
              "    <div class=\"colab-df-container\">\n",
              "      <div>\n",
              "<style scoped>\n",
              "    .dataframe tbody tr th:only-of-type {\n",
              "        vertical-align: middle;\n",
              "    }\n",
              "\n",
              "    .dataframe tbody tr th {\n",
              "        vertical-align: top;\n",
              "    }\n",
              "\n",
              "    .dataframe thead th {\n",
              "        text-align: right;\n",
              "    }\n",
              "</style>\n",
              "<table border=\"1\" class=\"dataframe\">\n",
              "  <thead>\n",
              "    <tr style=\"text-align: right;\">\n",
              "      <th></th>\n",
              "      <th>Capital</th>\n",
              "      <th>Altura capital</th>\n",
              "    </tr>\n",
              "  </thead>\n",
              "  <tbody>\n",
              "    <tr>\n",
              "      <th>España</th>\n",
              "      <td>Madrid</td>\n",
              "      <td>657</td>\n",
              "    </tr>\n",
              "    <tr>\n",
              "      <th>Canadá</th>\n",
              "      <td>Ottawa</td>\n",
              "      <td>70</td>\n",
              "    </tr>\n",
              "    <tr>\n",
              "      <th>Venezuela</th>\n",
              "      <td>Caracas</td>\n",
              "      <td>1037</td>\n",
              "    </tr>\n",
              "    <tr>\n",
              "      <th>Japón</th>\n",
              "      <td>Tokio</td>\n",
              "      <td>6</td>\n",
              "    </tr>\n",
              "    <tr>\n",
              "      <th>Nueva Zelanda</th>\n",
              "      <td>Wellington</td>\n",
              "      <td>1</td>\n",
              "    </tr>\n",
              "    <tr>\n",
              "      <th>Botsuana</th>\n",
              "      <td>Gaborone</td>\n",
              "      <td>1014</td>\n",
              "    </tr>\n",
              "  </tbody>\n",
              "</table>\n",
              "</div>\n",
              "      <button class=\"colab-df-convert\" onclick=\"convertToInteractive('df-fb587fd1-d322-41b6-816d-9e9eb9cd54d0')\"\n",
              "              title=\"Convert this dataframe to an interactive table.\"\n",
              "              style=\"display:none;\">\n",
              "        \n",
              "  <svg xmlns=\"http://www.w3.org/2000/svg\" height=\"24px\"viewBox=\"0 0 24 24\"\n",
              "       width=\"24px\">\n",
              "    <path d=\"M0 0h24v24H0V0z\" fill=\"none\"/>\n",
              "    <path d=\"M18.56 5.44l.94 2.06.94-2.06 2.06-.94-2.06-.94-.94-2.06-.94 2.06-2.06.94zm-11 1L8.5 8.5l.94-2.06 2.06-.94-2.06-.94L8.5 2.5l-.94 2.06-2.06.94zm10 10l.94 2.06.94-2.06 2.06-.94-2.06-.94-.94-2.06-.94 2.06-2.06.94z\"/><path d=\"M17.41 7.96l-1.37-1.37c-.4-.4-.92-.59-1.43-.59-.52 0-1.04.2-1.43.59L10.3 9.45l-7.72 7.72c-.78.78-.78 2.05 0 2.83L4 21.41c.39.39.9.59 1.41.59.51 0 1.02-.2 1.41-.59l7.78-7.78 2.81-2.81c.8-.78.8-2.07 0-2.86zM5.41 20L4 18.59l7.72-7.72 1.47 1.35L5.41 20z\"/>\n",
              "  </svg>\n",
              "      </button>\n",
              "      \n",
              "  <style>\n",
              "    .colab-df-container {\n",
              "      display:flex;\n",
              "      flex-wrap:wrap;\n",
              "      gap: 12px;\n",
              "    }\n",
              "\n",
              "    .colab-df-convert {\n",
              "      background-color: #E8F0FE;\n",
              "      border: none;\n",
              "      border-radius: 50%;\n",
              "      cursor: pointer;\n",
              "      display: none;\n",
              "      fill: #1967D2;\n",
              "      height: 32px;\n",
              "      padding: 0 0 0 0;\n",
              "      width: 32px;\n",
              "    }\n",
              "\n",
              "    .colab-df-convert:hover {\n",
              "      background-color: #E2EBFA;\n",
              "      box-shadow: 0px 1px 2px rgba(60, 64, 67, 0.3), 0px 1px 3px 1px rgba(60, 64, 67, 0.15);\n",
              "      fill: #174EA6;\n",
              "    }\n",
              "\n",
              "    [theme=dark] .colab-df-convert {\n",
              "      background-color: #3B4455;\n",
              "      fill: #D2E3FC;\n",
              "    }\n",
              "\n",
              "    [theme=dark] .colab-df-convert:hover {\n",
              "      background-color: #434B5C;\n",
              "      box-shadow: 0px 1px 3px 1px rgba(0, 0, 0, 0.15);\n",
              "      filter: drop-shadow(0px 1px 2px rgba(0, 0, 0, 0.3));\n",
              "      fill: #FFFFFF;\n",
              "    }\n",
              "  </style>\n",
              "\n",
              "      <script>\n",
              "        const buttonEl =\n",
              "          document.querySelector('#df-fb587fd1-d322-41b6-816d-9e9eb9cd54d0 button.colab-df-convert');\n",
              "        buttonEl.style.display =\n",
              "          google.colab.kernel.accessAllowed ? 'block' : 'none';\n",
              "\n",
              "        async function convertToInteractive(key) {\n",
              "          const element = document.querySelector('#df-fb587fd1-d322-41b6-816d-9e9eb9cd54d0');\n",
              "          const dataTable =\n",
              "            await google.colab.kernel.invokeFunction('convertToInteractive',\n",
              "                                                     [key], {});\n",
              "          if (!dataTable) return;\n",
              "\n",
              "          const docLinkHtml = 'Like what you see? Visit the ' +\n",
              "            '<a target=\"_blank\" href=https://colab.research.google.com/notebooks/data_table.ipynb>data table notebook</a>'\n",
              "            + ' to learn more about interactive tables.';\n",
              "          element.innerHTML = '';\n",
              "          dataTable['output_type'] = 'display_data';\n",
              "          await google.colab.output.renderOutput(dataTable, element);\n",
              "          const docLink = document.createElement('div');\n",
              "          docLink.innerHTML = docLinkHtml;\n",
              "          element.appendChild(docLink);\n",
              "        }\n",
              "      </script>\n",
              "    </div>\n",
              "  </div>\n",
              "  "
            ]
          },
          "metadata": {},
          "execution_count": 19
        }
      ],
      "source": [
        "# Ejemplo 6.7.3\n",
        "# Creación de una tabla con varias columnas y con índices\n",
        "\n",
        "# Creación de una tabla con varias filas y varias columna\n",
        "# pero estableciendo etiquetas para los índices de filas\n",
        "\n",
        "# Capitales de países\n",
        "datos = [['Madrid', 657],\n",
        "         ['Ottawa', 70],\n",
        "         ['Caracas', 1037],\n",
        "         ['Tokio', 6],\n",
        "         ['Wellington',1],\n",
        "         ['Gaborone', 1014]\n",
        "        ]\n",
        "\n",
        "df_capitales2 = pd.DataFrame(datos, \n",
        "    columns =['Capital', 'Altura capital'],\n",
        "    index=['España', 'Canadá', 'Venezuela', 'Japón', 'Nueva Zelanda', 'Botsuana'])\n",
        "df_capitales2\n",
        "    \n",
        "# Para almacenar tabla como PNG\n",
        "# dfi.export(df_capitales2, \"df_capitales2.png\", dpi=300)"
      ]
    },
    {
      "cell_type": "code",
      "execution_count": 20,
      "id": "ea74a28e-eeee-4446-a0bb-6acd5cf2df4c",
      "metadata": {
        "tags": [],
        "id": "ea74a28e-eeee-4446-a0bb-6acd5cf2df4c"
      },
      "outputs": [],
      "source": [
        "# Importamos las bibliotecas necesarias\n",
        "import seaborn as sns\n",
        "import pandas as pd\n",
        "\n",
        "# !pip install dataframe_image\n",
        "# import dataframe_image as dfi  # Para salvar DataFrames como imágenes"
      ]
    },
    {
      "cell_type": "markdown",
      "id": "6e4dcf57-786d-4e46-9bb9-16a366d0f1c8",
      "metadata": {
        "id": "6e4dcf57-786d-4e46-9bb9-16a366d0f1c8"
      },
      "source": [
        "### Diagrama de barras de la longitud de las frases"
      ]
    },
    {
      "cell_type": "code",
      "execution_count": 21,
      "id": "36e5579f-6469-4a9f-9552-497cd893c057",
      "metadata": {
        "tags": [],
        "colab": {
          "base_uri": "https://localhost:8080/",
          "height": 175
        },
        "id": "36e5579f-6469-4a9f-9552-497cd893c057",
        "outputId": "bd1409b3-cc29-4e2f-8f5e-f073a0e61082"
      },
      "outputs": [
        {
          "output_type": "execute_result",
          "data": {
            "text/plain": [
              "                 Libro  Promedio de palabras por frase\n",
              "0               Niebla                       16.823178\n",
              "1         Anacronópete                       18.407776\n",
              "2          1001 noches                       23.493575\n",
              "3  Árbol de la ciencia                       12.268930"
            ],
            "text/html": [
              "\n",
              "  <div id=\"df-e6aacca8-35fe-42af-8e42-fc892dd086e6\">\n",
              "    <div class=\"colab-df-container\">\n",
              "      <div>\n",
              "<style scoped>\n",
              "    .dataframe tbody tr th:only-of-type {\n",
              "        vertical-align: middle;\n",
              "    }\n",
              "\n",
              "    .dataframe tbody tr th {\n",
              "        vertical-align: top;\n",
              "    }\n",
              "\n",
              "    .dataframe thead th {\n",
              "        text-align: right;\n",
              "    }\n",
              "</style>\n",
              "<table border=\"1\" class=\"dataframe\">\n",
              "  <thead>\n",
              "    <tr style=\"text-align: right;\">\n",
              "      <th></th>\n",
              "      <th>Libro</th>\n",
              "      <th>Promedio de palabras por frase</th>\n",
              "    </tr>\n",
              "  </thead>\n",
              "  <tbody>\n",
              "    <tr>\n",
              "      <th>0</th>\n",
              "      <td>Niebla</td>\n",
              "      <td>16.823178</td>\n",
              "    </tr>\n",
              "    <tr>\n",
              "      <th>1</th>\n",
              "      <td>Anacronópete</td>\n",
              "      <td>18.407776</td>\n",
              "    </tr>\n",
              "    <tr>\n",
              "      <th>2</th>\n",
              "      <td>1001 noches</td>\n",
              "      <td>23.493575</td>\n",
              "    </tr>\n",
              "    <tr>\n",
              "      <th>3</th>\n",
              "      <td>Árbol de la ciencia</td>\n",
              "      <td>12.268930</td>\n",
              "    </tr>\n",
              "  </tbody>\n",
              "</table>\n",
              "</div>\n",
              "      <button class=\"colab-df-convert\" onclick=\"convertToInteractive('df-e6aacca8-35fe-42af-8e42-fc892dd086e6')\"\n",
              "              title=\"Convert this dataframe to an interactive table.\"\n",
              "              style=\"display:none;\">\n",
              "        \n",
              "  <svg xmlns=\"http://www.w3.org/2000/svg\" height=\"24px\"viewBox=\"0 0 24 24\"\n",
              "       width=\"24px\">\n",
              "    <path d=\"M0 0h24v24H0V0z\" fill=\"none\"/>\n",
              "    <path d=\"M18.56 5.44l.94 2.06.94-2.06 2.06-.94-2.06-.94-.94-2.06-.94 2.06-2.06.94zm-11 1L8.5 8.5l.94-2.06 2.06-.94-2.06-.94L8.5 2.5l-.94 2.06-2.06.94zm10 10l.94 2.06.94-2.06 2.06-.94-2.06-.94-.94-2.06-.94 2.06-2.06.94z\"/><path d=\"M17.41 7.96l-1.37-1.37c-.4-.4-.92-.59-1.43-.59-.52 0-1.04.2-1.43.59L10.3 9.45l-7.72 7.72c-.78.78-.78 2.05 0 2.83L4 21.41c.39.39.9.59 1.41.59.51 0 1.02-.2 1.41-.59l7.78-7.78 2.81-2.81c.8-.78.8-2.07 0-2.86zM5.41 20L4 18.59l7.72-7.72 1.47 1.35L5.41 20z\"/>\n",
              "  </svg>\n",
              "      </button>\n",
              "      \n",
              "  <style>\n",
              "    .colab-df-container {\n",
              "      display:flex;\n",
              "      flex-wrap:wrap;\n",
              "      gap: 12px;\n",
              "    }\n",
              "\n",
              "    .colab-df-convert {\n",
              "      background-color: #E8F0FE;\n",
              "      border: none;\n",
              "      border-radius: 50%;\n",
              "      cursor: pointer;\n",
              "      display: none;\n",
              "      fill: #1967D2;\n",
              "      height: 32px;\n",
              "      padding: 0 0 0 0;\n",
              "      width: 32px;\n",
              "    }\n",
              "\n",
              "    .colab-df-convert:hover {\n",
              "      background-color: #E2EBFA;\n",
              "      box-shadow: 0px 1px 2px rgba(60, 64, 67, 0.3), 0px 1px 3px 1px rgba(60, 64, 67, 0.15);\n",
              "      fill: #174EA6;\n",
              "    }\n",
              "\n",
              "    [theme=dark] .colab-df-convert {\n",
              "      background-color: #3B4455;\n",
              "      fill: #D2E3FC;\n",
              "    }\n",
              "\n",
              "    [theme=dark] .colab-df-convert:hover {\n",
              "      background-color: #434B5C;\n",
              "      box-shadow: 0px 1px 3px 1px rgba(0, 0, 0, 0.15);\n",
              "      filter: drop-shadow(0px 1px 2px rgba(0, 0, 0, 0.3));\n",
              "      fill: #FFFFFF;\n",
              "    }\n",
              "  </style>\n",
              "\n",
              "      <script>\n",
              "        const buttonEl =\n",
              "          document.querySelector('#df-e6aacca8-35fe-42af-8e42-fc892dd086e6 button.colab-df-convert');\n",
              "        buttonEl.style.display =\n",
              "          google.colab.kernel.accessAllowed ? 'block' : 'none';\n",
              "\n",
              "        async function convertToInteractive(key) {\n",
              "          const element = document.querySelector('#df-e6aacca8-35fe-42af-8e42-fc892dd086e6');\n",
              "          const dataTable =\n",
              "            await google.colab.kernel.invokeFunction('convertToInteractive',\n",
              "                                                     [key], {});\n",
              "          if (!dataTable) return;\n",
              "\n",
              "          const docLinkHtml = 'Like what you see? Visit the ' +\n",
              "            '<a target=\"_blank\" href=https://colab.research.google.com/notebooks/data_table.ipynb>data table notebook</a>'\n",
              "            + ' to learn more about interactive tables.';\n",
              "          element.innerHTML = '';\n",
              "          dataTable['output_type'] = 'display_data';\n",
              "          await google.colab.output.renderOutput(dataTable, element);\n",
              "          const docLink = document.createElement('div');\n",
              "          docLink.innerHTML = docLinkHtml;\n",
              "          element.appendChild(docLink);\n",
              "        }\n",
              "      </script>\n",
              "    </div>\n",
              "  </div>\n",
              "  "
            ]
          },
          "metadata": {},
          "execution_count": 21
        }
      ],
      "source": [
        "# Ejemplo 6.7.4\n",
        "# Diagrama de barras verticales de la longitud de las frases de cada libro\n",
        "\n",
        "# Crear tabla (DataFrame) con los datos a mostrar\n",
        "datos = [['Niebla', niebla._.sentence_length['sentence_length_mean']],\n",
        "         ['Anacronópete', anacronopete._.sentence_length['sentence_length_mean']],\n",
        "         ['1001 noches', mil_noches._.sentence_length['sentence_length_mean']],\n",
        "         ['Árbol de la ciencia', arbol_ciencia._.sentence_length['sentence_length_mean']]\n",
        "        ]\n",
        "df_long_frases = pd.DataFrame(datos, columns =['Libro', 'Promedio de palabras por frase'])\n",
        "df_long_frases\n",
        "\n",
        "# Almacenar el DataFrame en una imagen\n",
        "# dfi.export(df_long_frases, \"df_long_frases.png\", dpi=300)"
      ]
    },
    {
      "cell_type": "code",
      "execution_count": 22,
      "id": "76f7a32b-4b55-413d-9fba-3b5d68bc5b85",
      "metadata": {
        "tags": [],
        "colab": {
          "base_uri": "https://localhost:8080/",
          "height": 498
        },
        "id": "76f7a32b-4b55-413d-9fba-3b5d68bc5b85",
        "outputId": "91a70e8d-66d2-4ed8-85dd-b288a2448458"
      },
      "outputs": [
        {
          "output_type": "execute_result",
          "data": {
            "text/plain": [
              "Text(0.5, 1.0, 'Palabras por frase en libros')"
            ]
          },
          "metadata": {},
          "execution_count": 22
        },
        {
          "output_type": "display_data",
          "data": {
            "text/plain": [
              "<Figure size 640x480 with 1 Axes>"
            ],
            "image/png": "[encoded data removed]"
          },
          "metadata": {}
        }
      ],
      "source": [
        "# Construir y mostrar el diagrama de barras \n",
        "plot = sns.barplot(data=df_long_frases, x=\"Libro\", y=\"Promedio de palabras por frase\")\n",
        "plot.set_title('Palabras por frase en libros')\n",
        "\n",
        "# Además lo guardamos en un fichero\n",
        "# plot.get_figure().savefig(\"palabras_frase.pdf\")"
      ]
    },
    {
      "cell_type": "code",
      "source": [
        "# Ejemplo 6.7.5\n",
        "# Diagrama de barras horizontales de la longitud de las frases de cada libro\n",
        "\n",
        "plot = sns.barplot(data=df_long_frases,\n",
        "         y=\"Libro\",\n",
        "         x=\"Promedio de palabras por frase\")\n",
        "plot.set_title('Palabras por frase en libros')"
      ],
      "metadata": {
        "colab": {
          "base_uri": "https://localhost:8080/",
          "height": 497
        },
        "id": "fudDTQ8qZ4jq",
        "outputId": "911db0c1-1e31-4b6b-fe3a-50ddb3acc3ad"
      },
      "id": "fudDTQ8qZ4jq",
      "execution_count": 23,
      "outputs": [
        {
          "output_type": "execute_result",
          "data": {
            "text/plain": [
              "Text(0.5, 1.0, 'Palabras por frase en libros')"
            ]
          },
          "metadata": {},
          "execution_count": 23
        },
        {
          "output_type": "display_data",
          "data": {
            "text/plain": [
              "<Figure size 640x480 with 1 Axes>"
            ],
            "image/png": "[encoded data removed]"
          },
          "metadata": {}
        }
      ]
    },
    {
      "cell_type": "markdown",
      "id": "fbf58bbf-ce8d-4479-a1ad-16052e3dd2e2",
      "metadata": {
        "id": "fbf58bbf-ce8d-4479-a1ad-16052e3dd2e2"
      },
      "source": [
        "### Diagrama de barras de varias medidas"
      ]
    },
    {
      "cell_type": "code",
      "execution_count": 24,
      "id": "811b94bb-a93a-4afb-8e78-8bf1073a3414",
      "metadata": {
        "tags": [],
        "colab": {
          "base_uri": "https://localhost:8080/",
          "height": 426
        },
        "id": "811b94bb-a93a-4afb-8e78-8bf1073a3414",
        "outputId": "c3e8c528-5ae6-44ab-e064-93ba4e17e66c"
      },
      "outputs": [
        {
          "output_type": "execute_result",
          "data": {
            "text/plain": [
              "                  Libro       Tipo medida  Valor promedio\n",
              "0                Niebla    Longitud frase       16.823178\n",
              "1                Niebla   Sílabas palabra        1.666402\n",
              "2                Niebla  Longitud palabra        3.971345\n",
              "3          Anacronópete    Longitud frase       18.407776\n",
              "4          Anacronópete   Sílabas palabra        1.900585\n",
              "5          Anacronópete  Longitud palabra        4.541887\n",
              "6           1001 noches    Longitud frase       23.493575\n",
              "7           1001 noches   Sílabas palabra        1.690560\n",
              "8           1001 noches  Longitud palabra        4.115694\n",
              "9   Árbol de la ciencia    Longitud frase       12.268930\n",
              "10  Árbol de la ciencia   Sílabas palabra        1.826353\n",
              "11  Árbol de la ciencia  Longitud palabra        4.380094"
            ],
            "text/html": [
              "\n",
              "  <div id=\"df-9933b292-be89-4ba9-b2da-28655fc17bd0\">\n",
              "    <div class=\"colab-df-container\">\n",
              "      <div>\n",
              "<style scoped>\n",
              "    .dataframe tbody tr th:only-of-type {\n",
              "        vertical-align: middle;\n",
              "    }\n",
              "\n",
              "    .dataframe tbody tr th {\n",
              "        vertical-align: top;\n",
              "    }\n",
              "\n",
              "    .dataframe thead th {\n",
              "        text-align: right;\n",
              "    }\n",
              "</style>\n",
              "<table border=\"1\" class=\"dataframe\">\n",
              "  <thead>\n",
              "    <tr style=\"text-align: right;\">\n",
              "      <th></th>\n",
              "      <th>Libro</th>\n",
              "      <th>Tipo medida</th>\n",
              "      <th>Valor promedio</th>\n",
              "    </tr>\n",
              "  </thead>\n",
              "  <tbody>\n",
              "    <tr>\n",
              "      <th>0</th>\n",
              "      <td>Niebla</td>\n",
              "      <td>Longitud frase</td>\n",
              "      <td>16.823178</td>\n",
              "    </tr>\n",
              "    <tr>\n",
              "      <th>1</th>\n",
              "      <td>Niebla</td>\n",
              "      <td>Sílabas palabra</td>\n",
              "      <td>1.666402</td>\n",
              "    </tr>\n",
              "    <tr>\n",
              "      <th>2</th>\n",
              "      <td>Niebla</td>\n",
              "      <td>Longitud palabra</td>\n",
              "      <td>3.971345</td>\n",
              "    </tr>\n",
              "    <tr>\n",
              "      <th>3</th>\n",
              "      <td>Anacronópete</td>\n",
              "      <td>Longitud frase</td>\n",
              "      <td>18.407776</td>\n",
              "    </tr>\n",
              "    <tr>\n",
              "      <th>4</th>\n",
              "      <td>Anacronópete</td>\n",
              "      <td>Sílabas palabra</td>\n",
              "      <td>1.900585</td>\n",
              "    </tr>\n",
              "    <tr>\n",
              "      <th>5</th>\n",
              "      <td>Anacronópete</td>\n",
              "      <td>Longitud palabra</td>\n",
              "      <td>4.541887</td>\n",
              "    </tr>\n",
              "    <tr>\n",
              "      <th>6</th>\n",
              "      <td>1001 noches</td>\n",
              "      <td>Longitud frase</td>\n",
              "      <td>23.493575</td>\n",
              "    </tr>\n",
              "    <tr>\n",
              "      <th>7</th>\n",
              "      <td>1001 noches</td>\n",
              "      <td>Sílabas palabra</td>\n",
              "      <td>1.690560</td>\n",
              "    </tr>\n",
              "    <tr>\n",
              "      <th>8</th>\n",
              "      <td>1001 noches</td>\n",
              "      <td>Longitud palabra</td>\n",
              "      <td>4.115694</td>\n",
              "    </tr>\n",
              "    <tr>\n",
              "      <th>9</th>\n",
              "      <td>Árbol de la ciencia</td>\n",
              "      <td>Longitud frase</td>\n",
              "      <td>12.268930</td>\n",
              "    </tr>\n",
              "    <tr>\n",
              "      <th>10</th>\n",
              "      <td>Árbol de la ciencia</td>\n",
              "      <td>Sílabas palabra</td>\n",
              "      <td>1.826353</td>\n",
              "    </tr>\n",
              "    <tr>\n",
              "      <th>11</th>\n",
              "      <td>Árbol de la ciencia</td>\n",
              "      <td>Longitud palabra</td>\n",
              "      <td>4.380094</td>\n",
              "    </tr>\n",
              "  </tbody>\n",
              "</table>\n",
              "</div>\n",
              "      <button class=\"colab-df-convert\" onclick=\"convertToInteractive('df-9933b292-be89-4ba9-b2da-28655fc17bd0')\"\n",
              "              title=\"Convert this dataframe to an interactive table.\"\n",
              "              style=\"display:none;\">\n",
              "        \n",
              "  <svg xmlns=\"http://www.w3.org/2000/svg\" height=\"24px\"viewBox=\"0 0 24 24\"\n",
              "       width=\"24px\">\n",
              "    <path d=\"M0 0h24v24H0V0z\" fill=\"none\"/>\n",
              "    <path d=\"M18.56 5.44l.94 2.06.94-2.06 2.06-.94-2.06-.94-.94-2.06-.94 2.06-2.06.94zm-11 1L8.5 8.5l.94-2.06 2.06-.94-2.06-.94L8.5 2.5l-.94 2.06-2.06.94zm10 10l.94 2.06.94-2.06 2.06-.94-2.06-.94-.94-2.06-.94 2.06-2.06.94z\"/><path d=\"M17.41 7.96l-1.37-1.37c-.4-.4-.92-.59-1.43-.59-.52 0-1.04.2-1.43.59L10.3 9.45l-7.72 7.72c-.78.78-.78 2.05 0 2.83L4 21.41c.39.39.9.59 1.41.59.51 0 1.02-.2 1.41-.59l7.78-7.78 2.81-2.81c.8-.78.8-2.07 0-2.86zM5.41 20L4 18.59l7.72-7.72 1.47 1.35L5.41 20z\"/>\n",
              "  </svg>\n",
              "      </button>\n",
              "      \n",
              "  <style>\n",
              "    .colab-df-container {\n",
              "      display:flex;\n",
              "      flex-wrap:wrap;\n",
              "      gap: 12px;\n",
              "    }\n",
              "\n",
              "    .colab-df-convert {\n",
              "      background-color: #E8F0FE;\n",
              "      border: none;\n",
              "      border-radius: 50%;\n",
              "      cursor: pointer;\n",
              "      display: none;\n",
              "      fill: #1967D2;\n",
              "      height: 32px;\n",
              "      padding: 0 0 0 0;\n",
              "      width: 32px;\n",
              "    }\n",
              "\n",
              "    .colab-df-convert:hover {\n",
              "      background-color: #E2EBFA;\n",
              "      box-shadow: 0px 1px 2px rgba(60, 64, 67, 0.3), 0px 1px 3px 1px rgba(60, 64, 67, 0.15);\n",
              "      fill: #174EA6;\n",
              "    }\n",
              "\n",
              "    [theme=dark] .colab-df-convert {\n",
              "      background-color: #3B4455;\n",
              "      fill: #D2E3FC;\n",
              "    }\n",
              "\n",
              "    [theme=dark] .colab-df-convert:hover {\n",
              "      background-color: #434B5C;\n",
              "      box-shadow: 0px 1px 3px 1px rgba(0, 0, 0, 0.15);\n",
              "      filter: drop-shadow(0px 1px 2px rgba(0, 0, 0, 0.3));\n",
              "      fill: #FFFFFF;\n",
              "    }\n",
              "  </style>\n",
              "\n",
              "      <script>\n",
              "        const buttonEl =\n",
              "          document.querySelector('#df-9933b292-be89-4ba9-b2da-28655fc17bd0 button.colab-df-convert');\n",
              "        buttonEl.style.display =\n",
              "          google.colab.kernel.accessAllowed ? 'block' : 'none';\n",
              "\n",
              "        async function convertToInteractive(key) {\n",
              "          const element = document.querySelector('#df-9933b292-be89-4ba9-b2da-28655fc17bd0');\n",
              "          const dataTable =\n",
              "            await google.colab.kernel.invokeFunction('convertToInteractive',\n",
              "                                                     [key], {});\n",
              "          if (!dataTable) return;\n",
              "\n",
              "          const docLinkHtml = 'Like what you see? Visit the ' +\n",
              "            '<a target=\"_blank\" href=https://colab.research.google.com/notebooks/data_table.ipynb>data table notebook</a>'\n",
              "            + ' to learn more about interactive tables.';\n",
              "          element.innerHTML = '';\n",
              "          dataTable['output_type'] = 'display_data';\n",
              "          await google.colab.output.renderOutput(dataTable, element);\n",
              "          const docLink = document.createElement('div');\n",
              "          docLink.innerHTML = docLinkHtml;\n",
              "          element.appendChild(docLink);\n",
              "        }\n",
              "      </script>\n",
              "    </div>\n",
              "  </div>\n",
              "  "
            ]
          },
          "metadata": {},
          "execution_count": 24
        }
      ],
      "source": [
        "# Ejemplo 6.7.6\n",
        "# Diagrama de barras verticales de la longitud de las frases de cada libro\n",
        "\n",
        "# Diagrama de barras con la longitud promedio de frases, candidad promedio de\n",
        "# sílabas por palabra y longitud promedio de las palabras.\n",
        "\n",
        "datos = [['Niebla', 'Longitud frase',\n",
        "           niebla._.sentence_length['sentence_length_mean']],\n",
        "         ['Niebla', 'Sílabas palabra',\n",
        "           niebla._.syllables['syllables_per_token_mean']],\n",
        "         ['Niebla', 'Longitud palabra',\n",
        "           niebla._.token_length['token_length_mean'],],\n",
        "\n",
        "         ['Anacronópete', 'Longitud frase',\n",
        "           anacronopete._.sentence_length['sentence_length_mean']],\n",
        "         ['Anacronópete', 'Sílabas palabra',\n",
        "           anacronopete._.syllables['syllables_per_token_mean']],\n",
        "         ['Anacronópete', 'Longitud palabra',\n",
        "           anacronopete._.token_length['token_length_mean']],\n",
        "\n",
        "         ['1001 noches', 'Longitud frase',\n",
        "           mil_noches._.sentence_length['sentence_length_mean']],\n",
        "         ['1001 noches', 'Sílabas palabra',\n",
        "           mil_noches._.syllables['syllables_per_token_mean']],\n",
        "         ['1001 noches', 'Longitud palabra',\n",
        "           mil_noches._.token_length['token_length_mean']],\n",
        "\n",
        "         ['Árbol de la ciencia', 'Longitud frase',\n",
        "           arbol_ciencia._.sentence_length['sentence_length_mean']],\n",
        "         ['Árbol de la ciencia', 'Sílabas palabra',\n",
        "           arbol_ciencia._.syllables['syllables_per_token_mean']],\n",
        "         ['Árbol de la ciencia', 'Longitud palabra',\n",
        "           arbol_ciencia._.token_length['token_length_mean']]\n",
        "]\n",
        "\n",
        "df_promedios = pd.DataFrame(datos, columns =['Libro', 'Tipo medida', 'Valor promedio'])\n",
        "df_promedios\n",
        "\n",
        "# Almacenar el DataFrame en una imagen\n",
        "# dfi.export(df_promedios, \"df_promedios.png\", dpi=300)"
      ]
    },
    {
      "cell_type": "code",
      "execution_count": 25,
      "id": "e20a7193-459b-4aac-a85a-a7461ddc4e13",
      "metadata": {
        "tags": [],
        "colab": {
          "base_uri": "https://localhost:8080/",
          "height": 498
        },
        "id": "e20a7193-459b-4aac-a85a-a7461ddc4e13",
        "outputId": "35fbb4ab-7ed5-4a54-dd3a-6dfaf4187477"
      },
      "outputs": [
        {
          "output_type": "execute_result",
          "data": {
            "text/plain": [
              "Text(0.5, 1.0, 'Valores promedios por libro')"
            ]
          },
          "metadata": {},
          "execution_count": 25
        },
        {
          "output_type": "display_data",
          "data": {
            "text/plain": [
              "<Figure size 640x480 with 1 Axes>"
            ],
            "image/png": "[encoded data removed]"
          },
          "metadata": {}
        }
      ],
      "source": [
        "plot = sns.barplot(x='Libro', y='Valor promedio', hue='Tipo medida', data=df_promedios) \n",
        "plot.set_title('Valores promedios por libro')\n",
        "\n",
        "# Además lo guardamos en un fichero\n",
        "# plot.get_figure().savefig(\"promedios_por_libro.pdf\")"
      ]
    },
    {
      "cell_type": "markdown",
      "id": "983bb1d8-9b8c-4d52-a2e4-7c93e68a768c",
      "metadata": {
        "tags": [],
        "id": "983bb1d8-9b8c-4d52-a2e4-7c93e68a768c"
      },
      "source": [
        "### Histograma de longitudes de frase"
      ]
    },
    {
      "cell_type": "code",
      "execution_count": 26,
      "id": "1c8a87d0-5570-4fa4-bb01-148a9abcd267",
      "metadata": {
        "tags": [],
        "colab": {
          "base_uri": "https://localhost:8080/",
          "height": 424
        },
        "id": "1c8a87d0-5570-4fa4-bb01-148a9abcd267",
        "outputId": "c03c73f6-57cb-49ba-c6a7-75610bda4aa4"
      },
      "outputs": [
        {
          "output_type": "execute_result",
          "data": {
            "text/plain": [
              "      Longitud frases\n",
              "0                  37\n",
              "1                  14\n",
              "2                  17\n",
              "3                  16\n",
              "4                  11\n",
              "...               ...\n",
              "2867                6\n",
              "2868               10\n",
              "2869               32\n",
              "2870               43\n",
              "2871               10\n",
              "\n",
              "[2872 rows x 1 columns]"
            ],
            "text/html": [
              "\n",
              "  <div id=\"df-2e59fa90-90b4-4819-9e09-4a969479d1b2\">\n",
              "    <div class=\"colab-df-container\">\n",
              "      <div>\n",
              "<style scoped>\n",
              "    .dataframe tbody tr th:only-of-type {\n",
              "        vertical-align: middle;\n",
              "    }\n",
              "\n",
              "    .dataframe tbody tr th {\n",
              "        vertical-align: top;\n",
              "    }\n",
              "\n",
              "    .dataframe thead th {\n",
              "        text-align: right;\n",
              "    }\n",
              "</style>\n",
              "<table border=\"1\" class=\"dataframe\">\n",
              "  <thead>\n",
              "    <tr style=\"text-align: right;\">\n",
              "      <th></th>\n",
              "      <th>Longitud frases</th>\n",
              "    </tr>\n",
              "  </thead>\n",
              "  <tbody>\n",
              "    <tr>\n",
              "      <th>0</th>\n",
              "      <td>37</td>\n",
              "    </tr>\n",
              "    <tr>\n",
              "      <th>1</th>\n",
              "      <td>14</td>\n",
              "    </tr>\n",
              "    <tr>\n",
              "      <th>2</th>\n",
              "      <td>17</td>\n",
              "    </tr>\n",
              "    <tr>\n",
              "      <th>3</th>\n",
              "      <td>16</td>\n",
              "    </tr>\n",
              "    <tr>\n",
              "      <th>4</th>\n",
              "      <td>11</td>\n",
              "    </tr>\n",
              "    <tr>\n",
              "      <th>...</th>\n",
              "      <td>...</td>\n",
              "    </tr>\n",
              "    <tr>\n",
              "      <th>2867</th>\n",
              "      <td>6</td>\n",
              "    </tr>\n",
              "    <tr>\n",
              "      <th>2868</th>\n",
              "      <td>10</td>\n",
              "    </tr>\n",
              "    <tr>\n",
              "      <th>2869</th>\n",
              "      <td>32</td>\n",
              "    </tr>\n",
              "    <tr>\n",
              "      <th>2870</th>\n",
              "      <td>43</td>\n",
              "    </tr>\n",
              "    <tr>\n",
              "      <th>2871</th>\n",
              "      <td>10</td>\n",
              "    </tr>\n",
              "  </tbody>\n",
              "</table>\n",
              "<p>2872 rows × 1 columns</p>\n",
              "</div>\n",
              "      <button class=\"colab-df-convert\" onclick=\"convertToInteractive('df-2e59fa90-90b4-4819-9e09-4a969479d1b2')\"\n",
              "              title=\"Convert this dataframe to an interactive table.\"\n",
              "              style=\"display:none;\">\n",
              "        \n",
              "  <svg xmlns=\"http://www.w3.org/2000/svg\" height=\"24px\"viewBox=\"0 0 24 24\"\n",
              "       width=\"24px\">\n",
              "    <path d=\"M0 0h24v24H0V0z\" fill=\"none\"/>\n",
              "    <path d=\"M18.56 5.44l.94 2.06.94-2.06 2.06-.94-2.06-.94-.94-2.06-.94 2.06-2.06.94zm-11 1L8.5 8.5l.94-2.06 2.06-.94-2.06-.94L8.5 2.5l-.94 2.06-2.06.94zm10 10l.94 2.06.94-2.06 2.06-.94-2.06-.94-.94-2.06-.94 2.06-2.06.94z\"/><path d=\"M17.41 7.96l-1.37-1.37c-.4-.4-.92-.59-1.43-.59-.52 0-1.04.2-1.43.59L10.3 9.45l-7.72 7.72c-.78.78-.78 2.05 0 2.83L4 21.41c.39.39.9.59 1.41.59.51 0 1.02-.2 1.41-.59l7.78-7.78 2.81-2.81c.8-.78.8-2.07 0-2.86zM5.41 20L4 18.59l7.72-7.72 1.47 1.35L5.41 20z\"/>\n",
              "  </svg>\n",
              "      </button>\n",
              "      \n",
              "  <style>\n",
              "    .colab-df-container {\n",
              "      display:flex;\n",
              "      flex-wrap:wrap;\n",
              "      gap: 12px;\n",
              "    }\n",
              "\n",
              "    .colab-df-convert {\n",
              "      background-color: #E8F0FE;\n",
              "      border: none;\n",
              "      border-radius: 50%;\n",
              "      cursor: pointer;\n",
              "      display: none;\n",
              "      fill: #1967D2;\n",
              "      height: 32px;\n",
              "      padding: 0 0 0 0;\n",
              "      width: 32px;\n",
              "    }\n",
              "\n",
              "    .colab-df-convert:hover {\n",
              "      background-color: #E2EBFA;\n",
              "      box-shadow: 0px 1px 2px rgba(60, 64, 67, 0.3), 0px 1px 3px 1px rgba(60, 64, 67, 0.15);\n",
              "      fill: #174EA6;\n",
              "    }\n",
              "\n",
              "    [theme=dark] .colab-df-convert {\n",
              "      background-color: #3B4455;\n",
              "      fill: #D2E3FC;\n",
              "    }\n",
              "\n",
              "    [theme=dark] .colab-df-convert:hover {\n",
              "      background-color: #434B5C;\n",
              "      box-shadow: 0px 1px 3px 1px rgba(0, 0, 0, 0.15);\n",
              "      filter: drop-shadow(0px 1px 2px rgba(0, 0, 0, 0.3));\n",
              "      fill: #FFFFFF;\n",
              "    }\n",
              "  </style>\n",
              "\n",
              "      <script>\n",
              "        const buttonEl =\n",
              "          document.querySelector('#df-2e59fa90-90b4-4819-9e09-4a969479d1b2 button.colab-df-convert');\n",
              "        buttonEl.style.display =\n",
              "          google.colab.kernel.accessAllowed ? 'block' : 'none';\n",
              "\n",
              "        async function convertToInteractive(key) {\n",
              "          const element = document.querySelector('#df-2e59fa90-90b4-4819-9e09-4a969479d1b2');\n",
              "          const dataTable =\n",
              "            await google.colab.kernel.invokeFunction('convertToInteractive',\n",
              "                                                     [key], {});\n",
              "          if (!dataTable) return;\n",
              "\n",
              "          const docLinkHtml = 'Like what you see? Visit the ' +\n",
              "            '<a target=\"_blank\" href=https://colab.research.google.com/notebooks/data_table.ipynb>data table notebook</a>'\n",
              "            + ' to learn more about interactive tables.';\n",
              "          element.innerHTML = '';\n",
              "          dataTable['output_type'] = 'display_data';\n",
              "          await google.colab.output.renderOutput(dataTable, element);\n",
              "          const docLink = document.createElement('div');\n",
              "          docLink.innerHTML = docLinkHtml;\n",
              "          element.appendChild(docLink);\n",
              "        }\n",
              "      </script>\n",
              "    </div>\n",
              "  </div>\n",
              "  "
            ]
          },
          "metadata": {},
          "execution_count": 26
        }
      ],
      "source": [
        "# Ejemplo 6.7.7\n",
        "# Histograma de longitudes de frase en «Niebla»\n",
        "\n",
        "def extraer_longitudes_frases(doc):\n",
        "    ''' Genera la lista de longitudes de las frases (número de palabras) de doc.\n",
        "        Elimina palabras detectadas por spaCy que no sean alfabéticas, como los \n",
        "        signos de puntuación. También elimina aquellas frases que al eliminar \n",
        "        las palabras no alféticas se quedan vacías'''\n",
        "    longitud = [len([palabra for palabra in frase if palabra.is_alpha ]) \n",
        "                for frase in doc.sents]\n",
        "    return [long for long in longitud if long > 0]\n",
        "\n",
        "# Generamos 4 tablas, una por cada libro. Cada tabla tendrá una única\n",
        "# columna una fila por cada palabra indicando su longitud\n",
        "columna = extraer_longitudes_frases(niebla)\n",
        "df_niebla = pd.DataFrame(columna, columns =['Longitud frases'])\n",
        "df_niebla\n",
        "\n",
        "# Almacenar el DataFrame en una imagen\n",
        "# dfi.export(df_niebla, \"df_niebla.png\", dpi=300, max_rows=11)"
      ]
    },
    {
      "cell_type": "code",
      "execution_count": 27,
      "id": "50b5ddc8-cb35-43cf-8f47-ea28e48a7a49",
      "metadata": {
        "tags": [],
        "colab": {
          "base_uri": "https://localhost:8080/",
          "height": 497
        },
        "id": "50b5ddc8-cb35-43cf-8f47-ea28e48a7a49",
        "outputId": "33814a2a-5ac7-4f69-ad53-70369a6386d9"
      },
      "outputs": [
        {
          "output_type": "execute_result",
          "data": {
            "text/plain": [
              "Text(0.5, 1.0, 'Histograma de longitud de frases en \"Niebla\"')"
            ]
          },
          "metadata": {},
          "execution_count": 27
        },
        {
          "output_type": "display_data",
          "data": {
            "text/plain": [
              "<Figure size 640x480 with 1 Axes>"
            ],
            "image/png": "[encoded data removed]"
          },
          "metadata": {}
        }
      ],
      "source": [
        "plot = sns.histplot(data=df_niebla, x=\"Longitud frases\")\n",
        "plot.set(ylabel = \"Repeticiones\")\n",
        "# Con 'set(ylabel = \"Repeticiones\")' cambiamos la etiqueta del eje vertical\n",
        "# de su valor por defecto \"Count\" a \"Repeticiones\"\n",
        "plot.set_title('Histograma de longitud de frases en \"Niebla\"')\n",
        "\n",
        "# Además lo guardamos en un fichero\n",
        "# plot.get_figure().savefig(\"histograma_niebla.pdf\")"
      ]
    },
    {
      "cell_type": "markdown",
      "id": "19525549-951a-4505-a012-f374a0172e76",
      "metadata": {
        "id": "19525549-951a-4505-a012-f374a0172e76"
      },
      "source": [
        "### __Ejemplo adicional__: Histograma de longitud de las frases de los 4 libros\n",
        "\n"
      ]
    },
    {
      "cell_type": "code",
      "execution_count": 28,
      "id": "ff97fdd0-eb85-4fd4-afe7-98ef22a62ec6",
      "metadata": {
        "tags": [],
        "id": "ff97fdd0-eb85-4fd4-afe7-98ef22a62ec6"
      },
      "outputs": [],
      "source": [
        "# Generamos 4 tablas, una por cada libro. Cada tabla tendrá una única\n",
        "# columna con filas por cada frase indicando su longitud\n",
        "columna = extraer_longitudes_frases(niebla)\n",
        "df_niebla = pd.DataFrame(columna, columns =['Longitud frases'])\n",
        "\n",
        "columna = extraer_longitudes_frases(anacronopete)\n",
        "df_anacronopete = pd.DataFrame(columna, columns =['Longitud frases'])\n",
        "\n",
        "columna = extraer_longitudes_frases(mil_noches)\n",
        "df_milnoches = pd.DataFrame(columna, columns =['Longitud frases'])\n",
        "\n",
        "columna = extraer_longitudes_frases(arbol_ciencia)\n",
        "df_arbolciencia = pd.DataFrame(columna, columns =['Longitud frases'])"
      ]
    },
    {
      "cell_type": "code",
      "execution_count": 29,
      "id": "8353353b-4337-448e-8ff2-61cecc60bbbd",
      "metadata": {
        "tags": [],
        "colab": {
          "base_uri": "https://localhost:8080/",
          "height": 540
        },
        "id": "8353353b-4337-448e-8ff2-61cecc60bbbd",
        "outputId": "97d13ba1-3de6-42d6-ed52-93c7ba43919d"
      },
      "outputs": [
        {
          "output_type": "execute_result",
          "data": {
            "text/plain": [
              "[Text(0, 0.5, 'Repeticiones')]"
            ]
          },
          "metadata": {},
          "execution_count": 29
        },
        {
          "output_type": "display_data",
          "data": {
            "text/plain": [
              "<Figure size 800x500 with 4 Axes>"
            ],
            "image/png": "[encoded data removed]"
          },
          "metadata": {}
        }
      ],
      "source": [
        "import matplotlib.pyplot as plt\n",
        "# Cargamos matplotlib\n",
        "\n",
        "# Generamos una figura con los 4 gráficos en una composición 2x2\n",
        "# El gráfico superior izquierdo está en la coordenada (0,0)\n",
        "# El gráfico superior derecho está en la coordenada (0,1)\n",
        "# El gráfico inferior izquierdo está en la coordenada (1,0)\n",
        "# El gráfico inferior derecho está en la coordenada (1,1)\n",
        "fig, axes = plt.subplots(2, 2, figsize=(8, 5), sharey=True)\n",
        "fig.suptitle('Histograma de longitud de frases')\n",
        "fig.subplots_adjust(wspace=0.05, hspace=0.75)\n",
        "\n",
        "\n",
        "# Establecemos el título de cada gráfico\n",
        "axes[0,0].set_title('Niebla')\n",
        "axes[0,1].set_title('El anacronópete')\n",
        "axes[1,0].set_title('1001 noches')\n",
        "axes[1,1].set_title('El árbol de la ciencia')\n",
        "\n",
        "\n",
        "# Generamos el gráfico de cada libro y lo situamos en una de las 4 posiciones\n",
        "plot1 = sns.histplot(data=df_niebla, x=\"Longitud frases\", ax=axes[0,0])\n",
        "plot1.set(ylabel = \"Repeticiones\")\n",
        "\n",
        "plot2 = sns.histplot(data=df_anacronopete, x=\"Longitud frases\", ax=axes[0,1])\n",
        "plot2.set(ylabel = \"Repeticiones\")\n",
        "\n",
        "plot3 = sns.histplot(data=df_milnoches, x=\"Longitud frases\", ax=axes[1,0])\n",
        "plot3.set(ylabel = \"Repeticiones\")\n",
        "\n",
        "plot4 = sns.histplot(data=df_arbolciencia, x=\"Longitud frases\", ax=axes[1,1])\n",
        "plot4.set(ylabel = \"Repeticiones\")\n",
        "\n",
        "\n",
        "# Además lo guardamos en un fichero\n",
        "# fig.get_figure().savefig(\"palabras_frase.pdf\")"
      ]
    },
    {
      "cell_type": "markdown",
      "id": "1840a330-92f1-410d-bf43-86c5acf3c021",
      "metadata": {
        "tags": [],
        "id": "1840a330-92f1-410d-bf43-86c5acf3c021"
      },
      "source": [
        "### Diagrama de franjas sobre la distribución longitudes de frase"
      ]
    },
    {
      "cell_type": "code",
      "execution_count": 30,
      "id": "67490010-70ab-488d-93e2-ed237b315f6f",
      "metadata": {
        "tags": [],
        "colab": {
          "base_uri": "https://localhost:8080/",
          "height": 446
        },
        "id": "67490010-70ab-488d-93e2-ed237b315f6f",
        "outputId": "f75a481b-c43e-4fff-f8cd-3f8b27f449c9"
      },
      "outputs": [
        {
          "output_type": "execute_result",
          "data": {
            "text/plain": [
              "Text(0.5, 1.0, 'Distribución de longitud de frases en \"Niebla\"')"
            ]
          },
          "metadata": {},
          "execution_count": 30
        },
        {
          "output_type": "display_data",
          "data": {
            "text/plain": [
              "<Figure size 640x480 with 1 Axes>"
            ],
            "image/png": "[encoded data removed]"
          },
          "metadata": {}
        }
      ],
      "source": [
        "# Ejemplo 6.7.8\n",
        "# Strip plot de longitudes de frase en Niebla\n",
        "\n",
        "plot = sns.stripplot(data=df_niebla, y=\"Longitud frases\", jitter=0.4)\n",
        "plot.set_title('Distribución de longitud de frases en \"Niebla\"')\n",
        "\n",
        "# Además lo guardamos en un fichero\n",
        "# plot.get_figure().savefig(\"stripplot_long_frases_niebla.pdf\")"
      ]
    },
    {
      "cell_type": "code",
      "execution_count": 31,
      "id": "61c05a30-de87-497f-8e9b-ae2d4a45b099",
      "metadata": {
        "tags": [],
        "colab": {
          "base_uri": "https://localhost:8080/",
          "height": 424
        },
        "id": "61c05a30-de87-497f-8e9b-ae2d4a45b099",
        "outputId": "7495420b-b9dd-45cd-8805-e9fc8bb89e77"
      },
      "outputs": [
        {
          "output_type": "execute_result",
          "data": {
            "text/plain": [
              "               Libro  Longitud frase\n",
              "0             Niebla              37\n",
              "1             Niebla              14\n",
              "2             Niebla              17\n",
              "3             Niebla              16\n",
              "4             Niebla              11\n",
              "...              ...             ...\n",
              "11857  Árbol ciencia               9\n",
              "11858  Árbol ciencia               2\n",
              "11859  Árbol ciencia               7\n",
              "11860  Árbol ciencia              10\n",
              "11861  Árbol ciencia               8\n",
              "\n",
              "[11862 rows x 2 columns]"
            ],
            "text/html": [
              "\n",
              "  <div id=\"df-cde7e679-051f-4b86-aa12-5b0d2ad52593\">\n",
              "    <div class=\"colab-df-container\">\n",
              "      <div>\n",
              "<style scoped>\n",
              "    .dataframe tbody tr th:only-of-type {\n",
              "        vertical-align: middle;\n",
              "    }\n",
              "\n",
              "    .dataframe tbody tr th {\n",
              "        vertical-align: top;\n",
              "    }\n",
              "\n",
              "    .dataframe thead th {\n",
              "        text-align: right;\n",
              "    }\n",
              "</style>\n",
              "<table border=\"1\" class=\"dataframe\">\n",
              "  <thead>\n",
              "    <tr style=\"text-align: right;\">\n",
              "      <th></th>\n",
              "      <th>Libro</th>\n",
              "      <th>Longitud frase</th>\n",
              "    </tr>\n",
              "  </thead>\n",
              "  <tbody>\n",
              "    <tr>\n",
              "      <th>0</th>\n",
              "      <td>Niebla</td>\n",
              "      <td>37</td>\n",
              "    </tr>\n",
              "    <tr>\n",
              "      <th>1</th>\n",
              "      <td>Niebla</td>\n",
              "      <td>14</td>\n",
              "    </tr>\n",
              "    <tr>\n",
              "      <th>2</th>\n",
              "      <td>Niebla</td>\n",
              "      <td>17</td>\n",
              "    </tr>\n",
              "    <tr>\n",
              "      <th>3</th>\n",
              "      <td>Niebla</td>\n",
              "      <td>16</td>\n",
              "    </tr>\n",
              "    <tr>\n",
              "      <th>4</th>\n",
              "      <td>Niebla</td>\n",
              "      <td>11</td>\n",
              "    </tr>\n",
              "    <tr>\n",
              "      <th>...</th>\n",
              "      <td>...</td>\n",
              "      <td>...</td>\n",
              "    </tr>\n",
              "    <tr>\n",
              "      <th>11857</th>\n",
              "      <td>Árbol ciencia</td>\n",
              "      <td>9</td>\n",
              "    </tr>\n",
              "    <tr>\n",
              "      <th>11858</th>\n",
              "      <td>Árbol ciencia</td>\n",
              "      <td>2</td>\n",
              "    </tr>\n",
              "    <tr>\n",
              "      <th>11859</th>\n",
              "      <td>Árbol ciencia</td>\n",
              "      <td>7</td>\n",
              "    </tr>\n",
              "    <tr>\n",
              "      <th>11860</th>\n",
              "      <td>Árbol ciencia</td>\n",
              "      <td>10</td>\n",
              "    </tr>\n",
              "    <tr>\n",
              "      <th>11861</th>\n",
              "      <td>Árbol ciencia</td>\n",
              "      <td>8</td>\n",
              "    </tr>\n",
              "  </tbody>\n",
              "</table>\n",
              "<p>11862 rows × 2 columns</p>\n",
              "</div>\n",
              "      <button class=\"colab-df-convert\" onclick=\"convertToInteractive('df-cde7e679-051f-4b86-aa12-5b0d2ad52593')\"\n",
              "              title=\"Convert this dataframe to an interactive table.\"\n",
              "              style=\"display:none;\">\n",
              "        \n",
              "  <svg xmlns=\"http://www.w3.org/2000/svg\" height=\"24px\"viewBox=\"0 0 24 24\"\n",
              "       width=\"24px\">\n",
              "    <path d=\"M0 0h24v24H0V0z\" fill=\"none\"/>\n",
              "    <path d=\"M18.56 5.44l.94 2.06.94-2.06 2.06-.94-2.06-.94-.94-2.06-.94 2.06-2.06.94zm-11 1L8.5 8.5l.94-2.06 2.06-.94-2.06-.94L8.5 2.5l-.94 2.06-2.06.94zm10 10l.94 2.06.94-2.06 2.06-.94-2.06-.94-.94-2.06-.94 2.06-2.06.94z\"/><path d=\"M17.41 7.96l-1.37-1.37c-.4-.4-.92-.59-1.43-.59-.52 0-1.04.2-1.43.59L10.3 9.45l-7.72 7.72c-.78.78-.78 2.05 0 2.83L4 21.41c.39.39.9.59 1.41.59.51 0 1.02-.2 1.41-.59l7.78-7.78 2.81-2.81c.8-.78.8-2.07 0-2.86zM5.41 20L4 18.59l7.72-7.72 1.47 1.35L5.41 20z\"/>\n",
              "  </svg>\n",
              "      </button>\n",
              "      \n",
              "  <style>\n",
              "    .colab-df-container {\n",
              "      display:flex;\n",
              "      flex-wrap:wrap;\n",
              "      gap: 12px;\n",
              "    }\n",
              "\n",
              "    .colab-df-convert {\n",
              "      background-color: #E8F0FE;\n",
              "      border: none;\n",
              "      border-radius: 50%;\n",
              "      cursor: pointer;\n",
              "      display: none;\n",
              "      fill: #1967D2;\n",
              "      height: 32px;\n",
              "      padding: 0 0 0 0;\n",
              "      width: 32px;\n",
              "    }\n",
              "\n",
              "    .colab-df-convert:hover {\n",
              "      background-color: #E2EBFA;\n",
              "      box-shadow: 0px 1px 2px rgba(60, 64, 67, 0.3), 0px 1px 3px 1px rgba(60, 64, 67, 0.15);\n",
              "      fill: #174EA6;\n",
              "    }\n",
              "\n",
              "    [theme=dark] .colab-df-convert {\n",
              "      background-color: #3B4455;\n",
              "      fill: #D2E3FC;\n",
              "    }\n",
              "\n",
              "    [theme=dark] .colab-df-convert:hover {\n",
              "      background-color: #434B5C;\n",
              "      box-shadow: 0px 1px 3px 1px rgba(0, 0, 0, 0.15);\n",
              "      filter: drop-shadow(0px 1px 2px rgba(0, 0, 0, 0.3));\n",
              "      fill: #FFFFFF;\n",
              "    }\n",
              "  </style>\n",
              "\n",
              "      <script>\n",
              "        const buttonEl =\n",
              "          document.querySelector('#df-cde7e679-051f-4b86-aa12-5b0d2ad52593 button.colab-df-convert');\n",
              "        buttonEl.style.display =\n",
              "          google.colab.kernel.accessAllowed ? 'block' : 'none';\n",
              "\n",
              "        async function convertToInteractive(key) {\n",
              "          const element = document.querySelector('#df-cde7e679-051f-4b86-aa12-5b0d2ad52593');\n",
              "          const dataTable =\n",
              "            await google.colab.kernel.invokeFunction('convertToInteractive',\n",
              "                                                     [key], {});\n",
              "          if (!dataTable) return;\n",
              "\n",
              "          const docLinkHtml = 'Like what you see? Visit the ' +\n",
              "            '<a target=\"_blank\" href=https://colab.research.google.com/notebooks/data_table.ipynb>data table notebook</a>'\n",
              "            + ' to learn more about interactive tables.';\n",
              "          element.innerHTML = '';\n",
              "          dataTable['output_type'] = 'display_data';\n",
              "          await google.colab.output.renderOutput(dataTable, element);\n",
              "          const docLink = document.createElement('div');\n",
              "          docLink.innerHTML = docLinkHtml;\n",
              "          element.appendChild(docLink);\n",
              "        }\n",
              "      </script>\n",
              "    </div>\n",
              "  </div>\n",
              "  "
            ]
          },
          "metadata": {},
          "execution_count": 31
        }
      ],
      "source": [
        "########################################################\n",
        "# Ejemplo adicional: strip plot de longitudes de frase #\n",
        "# de los 4 libros                                      #\n",
        "########################################################\n",
        "\n",
        "def extraer_longitudes_frases_etiquetado(doc, etiqueta):\n",
        "    return [(etiqueta, long) for long in extraer_longitudes_frases(doc)]\n",
        "\n",
        "frases_niebla = extraer_longitudes_frases_etiquetado(niebla, 'Niebla')\n",
        "frases_anacronopete = extraer_longitudes_frases_etiquetado(niebla, 'Anacronópete')\n",
        "frases_mil_noches = extraer_longitudes_frases_etiquetado(mil_noches, '1001 noches')\n",
        "frases_arbol_ciencia = extraer_longitudes_frases_etiquetado(arbol_ciencia, 'Árbol ciencia')\n",
        "\n",
        "df_long_frases = pd.DataFrame(frases_niebla + frases_anacronopete + frases_mil_noches + frases_arbol_ciencia, \n",
        "                            columns =['Libro', 'Longitud frase'])\n",
        "df_long_frases"
      ]
    },
    {
      "cell_type": "code",
      "execution_count": 32,
      "id": "3f5e9a23-c0f6-478c-8a50-5777eedc7348",
      "metadata": {
        "tags": [],
        "colab": {
          "base_uri": "https://localhost:8080/",
          "height": 499
        },
        "id": "3f5e9a23-c0f6-478c-8a50-5777eedc7348",
        "outputId": "93e725ab-3c94-493b-8ba3-12e0507ec4a0"
      },
      "outputs": [
        {
          "output_type": "execute_result",
          "data": {
            "text/plain": [
              "Text(0.5, 1.0, 'Distribución de longitud de frases por libros')"
            ]
          },
          "metadata": {},
          "execution_count": 32
        },
        {
          "output_type": "display_data",
          "data": {
            "text/plain": [
              "<Figure size 640x480 with 1 Axes>"
            ],
            "image/png": "[encoded data removed]"
          },
          "metadata": {}
        }
      ],
      "source": [
        "plot = sns.stripplot(data=df_long_frases, x=\"Libro\", y=\"Longitud frase\", jitter=0.4)\n",
        "plot.set_title('Distribución de longitud de frases por libros')\n",
        "\n",
        "# Además lo guardamos en un fichero\n",
        "# plot.get_figure().savefig(\"stripplot_long_frases.pdf\")"
      ]
    },
    {
      "cell_type": "markdown",
      "id": "0b48dfb6-113d-46ac-b9a5-d3cf5931f65e",
      "metadata": {
        "id": "0b48dfb6-113d-46ac-b9a5-d3cf5931f65e"
      },
      "source": [
        "### Diagrama de caja de longitudes de frase\n",
        "\n"
      ]
    },
    {
      "cell_type": "code",
      "execution_count": 33,
      "id": "ca6d2782-7d26-46f3-af99-d861fee47dd0",
      "metadata": {
        "tags": [],
        "colab": {
          "base_uri": "https://localhost:8080/"
        },
        "id": "ca6d2782-7d26-46f3-af99-d861fee47dd0",
        "outputId": "da71587b-2fb3-4443-c5e3-3b76bf9d547d"
      },
      "outputs": [
        {
          "output_type": "stream",
          "name": "stdout",
          "text": [
            "15\n"
          ]
        },
        {
          "output_type": "execute_result",
          "data": {
            "text/plain": [
              "0.25    2.0\n",
              "0.50    4.0\n",
              "0.75    4.0\n",
              "Name: Longitud frases, dtype: float64"
            ]
          },
          "metadata": {},
          "execution_count": 33
        }
      ],
      "source": [
        "# Ejemplo 6.7.9\n",
        "# Cuartiles\n",
        "\n",
        "# Cálculo de los cuartiles en una serie de valores pequeña\n",
        "columna = [1,4,4,1,4,3,4,2,1,5,4,6,3,2,6]\n",
        "\n",
        "print(len(columna))\n",
        "df_cuartiles = pd.DataFrame(columna, columns =['Longitud frases'])\n",
        "\n",
        "df_cuartiles['Longitud frases'].quantile([0.25, 0.5, 0.75])"
      ]
    },
    {
      "cell_type": "code",
      "execution_count": 34,
      "id": "85021206-3456-4840-985d-b82f70c095e0",
      "metadata": {
        "tags": [],
        "colab": {
          "base_uri": "https://localhost:8080/"
        },
        "id": "85021206-3456-4840-985d-b82f70c095e0",
        "outputId": "89bc9d39-aea2-4b45-ba22-afe32251af5a"
      },
      "outputs": [
        {
          "output_type": "execute_result",
          "data": {
            "text/plain": [
              "0.25     7.0\n",
              "0.50    14.0\n",
              "0.75    25.0\n",
              "Name: Longitud frases, dtype: float64"
            ]
          },
          "metadata": {},
          "execution_count": 34
        }
      ],
      "source": [
        "# Ejemplo 6.7.10\n",
        "# Diagrama de caja de las longitudes de frase en «Niebla»\n",
        "\n",
        "# Cálculo de los cuartiles en las longitudes de frases de \"Niebla\"\n",
        "df_niebla['Longitud frases'].quantile([0.25, 0.5, 0.75])"
      ]
    },
    {
      "cell_type": "code",
      "execution_count": 35,
      "id": "55800e0f-5d27-4d1f-a690-4a6cdbe99cb2",
      "metadata": {
        "tags": [],
        "colab": {
          "base_uri": "https://localhost:8080/",
          "height": 498
        },
        "id": "55800e0f-5d27-4d1f-a690-4a6cdbe99cb2",
        "outputId": "bde192d3-79e9-451d-b345-c273a0d4fb39"
      },
      "outputs": [
        {
          "output_type": "execute_result",
          "data": {
            "text/plain": [
              "Text(0.5, 1.0, 'Distribución de longitudes de frase en \"Niebla\"')"
            ]
          },
          "metadata": {},
          "execution_count": 35
        },
        {
          "output_type": "display_data",
          "data": {
            "text/plain": [
              "<Figure size 640x480 with 1 Axes>"
            ],
            "image/png": "[encoded data removed]"
          },
          "metadata": {}
        }
      ],
      "source": [
        "plot = sns.boxplot(data=df_niebla, x=\"Longitud frases\")\n",
        "plot.set_title('Distribución de longitudes de frase en \"Niebla\"')\n",
        "\n",
        "# Además lo guardamos en un fichero\n",
        "# plot.get_figure().savefig(\"boxplot_long_frases_niebla.pdf\")"
      ]
    },
    {
      "cell_type": "markdown",
      "id": "a1c950da-38a5-4236-a871-94bd0bd5d0ff",
      "metadata": {
        "tags": [],
        "id": "a1c950da-38a5-4236-a871-94bd0bd5d0ff"
      },
      "source": [
        "#### __Ejemplo adicional__: Diagrama de cajas de varios libros a la vez"
      ]
    },
    {
      "cell_type": "code",
      "execution_count": 36,
      "id": "9c446b33-81f7-4102-9157-8890fbc1d373",
      "metadata": {
        "tags": [],
        "colab": {
          "base_uri": "https://localhost:8080/",
          "height": 499
        },
        "id": "9c446b33-81f7-4102-9157-8890fbc1d373",
        "outputId": "b645714a-ef8e-431c-b60d-1330d4168e44"
      },
      "outputs": [
        {
          "output_type": "execute_result",
          "data": {
            "text/plain": [
              "Text(0.5, 1.0, 'Distribución de longitudes de frase')"
            ]
          },
          "metadata": {},
          "execution_count": 36
        },
        {
          "output_type": "display_data",
          "data": {
            "text/plain": [
              "<Figure size 640x480 with 1 Axes>"
            ],
            "image/png": "[encoded data removed]"
          },
          "metadata": {}
        }
      ],
      "source": [
        "# Cambiamos los ejes X e Y para mostrar las cajas en vertical\n",
        "plot = sns.boxplot(data=df_long_frases, x=\"Libro\", y=\"Longitud frase\")\n",
        "plot.set_title('Distribución de longitudes de frase')\n",
        "\n",
        "# Además lo guardamos en un fichero\n",
        "# plot.get_figure().savefig(\"boxplot_long_frases.pdf\")"
      ]
    },
    {
      "cell_type": "markdown",
      "id": "0f5dd569-d6cd-4d08-9058-6e56f89b2bac",
      "metadata": {
        "id": "0f5dd569-d6cd-4d08-9058-6e56f89b2bac"
      },
      "source": [
        "### Diagrama de barras apiladas de proporciones de categorías gramaticales"
      ]
    },
    {
      "cell_type": "code",
      "execution_count": 37,
      "id": "a65aa69b-b336-42f0-8f22-5967967c32bb",
      "metadata": {
        "tags": [],
        "colab": {
          "base_uri": "https://localhost:8080/",
          "height": 175
        },
        "id": "a65aa69b-b336-42f0-8f22-5967967c32bb",
        "outputId": "6d87ca07-267e-497b-f91a-e633e4ad7df7"
      },
      "outputs": [
        {
          "output_type": "execute_result",
          "data": {
            "text/plain": [
              "                      Nombres    Verbos  Adjetivos  Puntuación\n",
              "Niebla               0.109690  0.107764   0.036725    0.199529\n",
              "Anacronópete         0.181007  0.098698   0.054778    0.099045\n",
              "1001 noches          0.147312  0.119337   0.036572    0.161388\n",
              "Árbol de la ciencia  0.156404  0.100740   0.053958    0.130328"
            ],
            "text/html": [
              "\n",
              "  <div id=\"df-741b544e-7649-43f3-8939-6a86889f2b60\">\n",
              "    <div class=\"colab-df-container\">\n",
              "      <div>\n",
              "<style scoped>\n",
              "    .dataframe tbody tr th:only-of-type {\n",
              "        vertical-align: middle;\n",
              "    }\n",
              "\n",
              "    .dataframe tbody tr th {\n",
              "        vertical-align: top;\n",
              "    }\n",
              "\n",
              "    .dataframe thead th {\n",
              "        text-align: right;\n",
              "    }\n",
              "</style>\n",
              "<table border=\"1\" class=\"dataframe\">\n",
              "  <thead>\n",
              "    <tr style=\"text-align: right;\">\n",
              "      <th></th>\n",
              "      <th>Nombres</th>\n",
              "      <th>Verbos</th>\n",
              "      <th>Adjetivos</th>\n",
              "      <th>Puntuación</th>\n",
              "    </tr>\n",
              "  </thead>\n",
              "  <tbody>\n",
              "    <tr>\n",
              "      <th>Niebla</th>\n",
              "      <td>0.109690</td>\n",
              "      <td>0.107764</td>\n",
              "      <td>0.036725</td>\n",
              "      <td>0.199529</td>\n",
              "    </tr>\n",
              "    <tr>\n",
              "      <th>Anacronópete</th>\n",
              "      <td>0.181007</td>\n",
              "      <td>0.098698</td>\n",
              "      <td>0.054778</td>\n",
              "      <td>0.099045</td>\n",
              "    </tr>\n",
              "    <tr>\n",
              "      <th>1001 noches</th>\n",
              "      <td>0.147312</td>\n",
              "      <td>0.119337</td>\n",
              "      <td>0.036572</td>\n",
              "      <td>0.161388</td>\n",
              "    </tr>\n",
              "    <tr>\n",
              "      <th>Árbol de la ciencia</th>\n",
              "      <td>0.156404</td>\n",
              "      <td>0.100740</td>\n",
              "      <td>0.053958</td>\n",
              "      <td>0.130328</td>\n",
              "    </tr>\n",
              "  </tbody>\n",
              "</table>\n",
              "</div>\n",
              "      <button class=\"colab-df-convert\" onclick=\"convertToInteractive('df-741b544e-7649-43f3-8939-6a86889f2b60')\"\n",
              "              title=\"Convert this dataframe to an interactive table.\"\n",
              "              style=\"display:none;\">\n",
              "        \n",
              "  <svg xmlns=\"http://www.w3.org/2000/svg\" height=\"24px\"viewBox=\"0 0 24 24\"\n",
              "       width=\"24px\">\n",
              "    <path d=\"M0 0h24v24H0V0z\" fill=\"none\"/>\n",
              "    <path d=\"M18.56 5.44l.94 2.06.94-2.06 2.06-.94-2.06-.94-.94-2.06-.94 2.06-2.06.94zm-11 1L8.5 8.5l.94-2.06 2.06-.94-2.06-.94L8.5 2.5l-.94 2.06-2.06.94zm10 10l.94 2.06.94-2.06 2.06-.94-2.06-.94-.94-2.06-.94 2.06-2.06.94z\"/><path d=\"M17.41 7.96l-1.37-1.37c-.4-.4-.92-.59-1.43-.59-.52 0-1.04.2-1.43.59L10.3 9.45l-7.72 7.72c-.78.78-.78 2.05 0 2.83L4 21.41c.39.39.9.59 1.41.59.51 0 1.02-.2 1.41-.59l7.78-7.78 2.81-2.81c.8-.78.8-2.07 0-2.86zM5.41 20L4 18.59l7.72-7.72 1.47 1.35L5.41 20z\"/>\n",
              "  </svg>\n",
              "      </button>\n",
              "      \n",
              "  <style>\n",
              "    .colab-df-container {\n",
              "      display:flex;\n",
              "      flex-wrap:wrap;\n",
              "      gap: 12px;\n",
              "    }\n",
              "\n",
              "    .colab-df-convert {\n",
              "      background-color: #E8F0FE;\n",
              "      border: none;\n",
              "      border-radius: 50%;\n",
              "      cursor: pointer;\n",
              "      display: none;\n",
              "      fill: #1967D2;\n",
              "      height: 32px;\n",
              "      padding: 0 0 0 0;\n",
              "      width: 32px;\n",
              "    }\n",
              "\n",
              "    .colab-df-convert:hover {\n",
              "      background-color: #E2EBFA;\n",
              "      box-shadow: 0px 1px 2px rgba(60, 64, 67, 0.3), 0px 1px 3px 1px rgba(60, 64, 67, 0.15);\n",
              "      fill: #174EA6;\n",
              "    }\n",
              "\n",
              "    [theme=dark] .colab-df-convert {\n",
              "      background-color: #3B4455;\n",
              "      fill: #D2E3FC;\n",
              "    }\n",
              "\n",
              "    [theme=dark] .colab-df-convert:hover {\n",
              "      background-color: #434B5C;\n",
              "      box-shadow: 0px 1px 3px 1px rgba(0, 0, 0, 0.15);\n",
              "      filter: drop-shadow(0px 1px 2px rgba(0, 0, 0, 0.3));\n",
              "      fill: #FFFFFF;\n",
              "    }\n",
              "  </style>\n",
              "\n",
              "      <script>\n",
              "        const buttonEl =\n",
              "          document.querySelector('#df-741b544e-7649-43f3-8939-6a86889f2b60 button.colab-df-convert');\n",
              "        buttonEl.style.display =\n",
              "          google.colab.kernel.accessAllowed ? 'block' : 'none';\n",
              "\n",
              "        async function convertToInteractive(key) {\n",
              "          const element = document.querySelector('#df-741b544e-7649-43f3-8939-6a86889f2b60');\n",
              "          const dataTable =\n",
              "            await google.colab.kernel.invokeFunction('convertToInteractive',\n",
              "                                                     [key], {});\n",
              "          if (!dataTable) return;\n",
              "\n",
              "          const docLinkHtml = 'Like what you see? Visit the ' +\n",
              "            '<a target=\"_blank\" href=https://colab.research.google.com/notebooks/data_table.ipynb>data table notebook</a>'\n",
              "            + ' to learn more about interactive tables.';\n",
              "          element.innerHTML = '';\n",
              "          dataTable['output_type'] = 'display_data';\n",
              "          await google.colab.output.renderOutput(dataTable, element);\n",
              "          const docLink = document.createElement('div');\n",
              "          docLink.innerHTML = docLinkHtml;\n",
              "          element.appendChild(docLink);\n",
              "        }\n",
              "      </script>\n",
              "    </div>\n",
              "  </div>\n",
              "  "
            ]
          },
          "metadata": {},
          "execution_count": 37
        }
      ],
      "source": [
        "# Ejemplo 6.7.11\n",
        "# Diagrama de barras apiladas de proporciones de categorías gramaticales\n",
        "\n",
        "# Creamos una tabla con una fila por cada libro donde las columnas \n",
        "# almacenen los valores de proporción de algunas categorías gramaticales:\n",
        "# - pos_prop_NOUN\n",
        "# - pos_prop_VERB\n",
        "# - pos_prop_ADJ\n",
        "# - pos_prop_PUNCT\n",
        "\n",
        "datos = [[niebla._.pos_proportions['pos_prop_NOUN'],\n",
        "          niebla._.pos_proportions['pos_prop_VERB'],\n",
        "          niebla._.pos_proportions['pos_prop_ADJ'],\n",
        "          niebla._.pos_proportions['pos_prop_PUNCT']],\n",
        "         \n",
        "         [anacronopete._.pos_proportions['pos_prop_NOUN'],\n",
        "          anacronopete._.pos_proportions['pos_prop_VERB'],\n",
        "          anacronopete._.pos_proportions['pos_prop_ADJ'],\n",
        "          anacronopete._.pos_proportions['pos_prop_PUNCT']],\n",
        "         \n",
        "         [mil_noches._.pos_proportions['pos_prop_NOUN'],\n",
        "          mil_noches._.pos_proportions['pos_prop_VERB'],\n",
        "          mil_noches._.pos_proportions['pos_prop_ADJ'],\n",
        "          mil_noches._.pos_proportions['pos_prop_PUNCT']],\n",
        "         \n",
        "         [arbol_ciencia._.pos_proportions['pos_prop_NOUN'],\n",
        "          arbol_ciencia._.pos_proportions['pos_prop_VERB'],\n",
        "          arbol_ciencia._.pos_proportions['pos_prop_ADJ'],\n",
        "          arbol_ciencia._.pos_proportions['pos_prop_PUNCT']],\n",
        "        ]\n",
        "indices = ['Niebla', 'Anacronópete', '1001 noches', 'Árbol de la ciencia' ]\n",
        "df_proporciones = pd.DataFrame(datos, \n",
        "                    columns =['Nombres', 'Verbos', 'Adjetivos', 'Puntuación'],\n",
        "                    index=indices)\n",
        "df_proporciones\n",
        "\n",
        "# Para almacenar tabla como PNG\n",
        "# dfi.export(df_proporciones, \"df_proporciones.png\", dpi=300)"
      ]
    },
    {
      "cell_type": "code",
      "execution_count": 39,
      "id": "c44d2b7d-a0e7-4392-bd80-fdc1326f2c2d",
      "metadata": {
        "tags": [],
        "colab": {
          "base_uri": "https://localhost:8080/",
          "height": 624
        },
        "id": "c44d2b7d-a0e7-4392-bd80-fdc1326f2c2d",
        "outputId": "c5e32053-a032-4d65-be89-1198c9642c3c"
      },
      "outputs": [
        {
          "output_type": "execute_result",
          "data": {
            "text/plain": [
              "Text(0.5, 1.0, 'Proporción por categoría gramatical')"
            ]
          },
          "metadata": {},
          "execution_count": 39
        },
        {
          "output_type": "display_data",
          "data": {
            "text/plain": [
              "<Figure size 640x480 with 1 Axes>"
            ],
            "image/png": "[encoded data removed]"
          },
          "metadata": {}
        }
      ],
      "source": [
        "# Crear el gráfico de barras apiladas directamente a partir \n",
        "# del DataFrame (sin usar Seaborn)\n",
        "plot = df_proporciones.plot(kind='bar', stacked=True)\n",
        "\n",
        "# Configuramos etiquetas de ejes y título\n",
        "plot.set(xlabel = 'Libro')\n",
        "plot.set(ylabel = 'Proporción')\n",
        "plot.set_title('Proporción por categoría gramatical')\n",
        "\n",
        "# Además lo guardamos en un fichero\n",
        "# plot.get_figure().savefig(\"barras_apiladas_cat_gramaticales.pdf\",\n",
        "#                           bbox_inches='tight') # Para que no recorte"
      ]
    }
  ],
  "metadata": {
    "kernelspec": {
      "display_name": "Python 3 (ipykernel)",
      "language": "python",
      "name": "python3"
    },
    "language_info": {
      "codemirror_mode": {
        "name": "ipython",
        "version": 3
      },
      "file_extension": ".py",
      "mimetype": "text/x-python",
      "name": "python",
      "nbconvert_exporter": "python",
      "pygments_lexer": "ipython3",
      "version": "3.10.6"
    },
    "toc-showmarkdowntxt": false,
    "colab": {
      "provenance": []
    }
  },
  "nbformat": 4,
  "nbformat_minor": 5
}